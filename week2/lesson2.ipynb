{
 "cells": [
  {
   "cell_type": "code",
   "execution_count": 1,
   "metadata": {},
   "outputs": [],
   "source": [
    "import pandas as pd\n",
    "import sqlite3"
   ]
  },
  {
   "cell_type": "code",
   "execution_count": 7,
   "metadata": {},
   "outputs": [],
   "source": [
    "# Import CSV\n",
    "data = pd.read_csv(r'udemy_courses.csv')   # Read my csv file \n",
    "df = pd.DataFrame(data)                    # And converted it to Pandas DataFrame"
   ]
  },
  {
   "cell_type": "code",
   "execution_count": 3,
   "metadata": {},
   "outputs": [],
   "source": [
    "# create connection\n",
    "conn = sqlite3.connect(\"udemy_courses.db\") # created and connected to database called udemy_courses.db\n",
    "\n",
    "#create a cursor object\n",
    "cursor = conn.cursor()                      # created my cursor object called cursor"
   ]
  },
  {
   "cell_type": "code",
   "execution_count": 4,
   "metadata": {},
   "outputs": [
    {
     "data": {
      "text/plain": [
       "<sqlite3.Cursor at 0x177593a3440>"
      ]
     },
     "execution_count": 4,
     "metadata": {},
     "output_type": "execute_result"
    }
   ],
   "source": [
    "# create table called Udemy_courses\n",
    "cursor.execute('''\n",
    "\t\tCREATE TABLE udemy_courses (\n",
    "\t\t\tcourse_id                int64,\n",
    "\t\t\tcourse_title            object,\n",
    "\t\t\turl                     object,\n",
    "\t\t\tis_paid                   bool,\n",
    "\t\t\tprice                    int64,\n",
    "\t\t\tnum_subscribers          int64,\n",
    "\t\t\tnum_reviews              int64,\n",
    "\t\t\tnum_lectures             int64,\n",
    "\t\t\tlevel                   object,\n",
    "\t\t\tcontent_duration       float64,\n",
    "\t\t\tpublished_timestamp     object,\n",
    "\t\t\tsubject                 object\n",
    "\t\t\t)\n",
    "               ''')"
   ]
  },
  {
   "cell_type": "code",
   "execution_count": 5,
   "metadata": {},
   "outputs": [],
   "source": [
    "# Inserting the items into my Table\n",
    "for row in df.itertuples():\n",
    "    cursor.execute(\"\"\"\n",
    "                INSERT INTO udemy_courses (course_id, course_title, url, is_paid, price, num_subscribers, num_reviews, num_lectures, level, content_duration, published_timestamp, subject)\n",
    "                VALUES (?,?,?,?,?,?,?,?,?,?,?,?)\"\"\", (row.course_id, row.course_title, row.url, row.is_paid, row.price, row.num_subscribers, row.num_reviews, row.num_lectures, row.level, row.content_duration, row.published_timestamp, row.subject))\n",
    "\n",
    "conn.commit()\n",
    "conn.close()"
   ]
  }
 ],
 "metadata": {
  "kernelspec": {
   "display_name": "Python 3.10.5 ('myenv': venv)",
   "language": "python",
   "name": "python3"
  },
  "language_info": {
   "codemirror_mode": {
    "name": "ipython",
    "version": 3
   },
   "file_extension": ".py",
   "mimetype": "text/x-python",
   "name": "python",
   "nbconvert_exporter": "python",
   "pygments_lexer": "ipython3",
   "version": "3.10.5"
  },
  "orig_nbformat": 4,
  "vscode": {
   "interpreter": {
    "hash": "2244e0e6c93b35cacbb8d14bea9ce882d3660c2aa418326e24dc74d339b73733"
   }
  }
 },
 "nbformat": 4,
 "nbformat_minor": 2
}
