{
 "cells": [
  {
   "cell_type": "markdown",
   "id": "7849c686-5310-4a05-b246-d32eaa5c55d0",
   "metadata": {},
   "source": [
    "### EHR Price Prediction project ###"
   ]
  },
  {
   "cell_type": "markdown",
   "id": "c55e2c82-fbe1-4d6f-9896-4d4b7da7f4da",
   "metadata": {},
   "source": [
    "#### Objective of the Project\n",
    "The primary objective of this project is to develop a predictive machine learning model that estimates the price of Electronic Health Record (EHR) software based on customer preferences and system requirements. The model aims to assist healthcare providers and vendors in understanding pricing dynamics and optimizing budget allocation."
   ]
  },
  {
   "cell_type": "markdown",
   "id": "34bac1ff-9977-4e4c-99c0-27c4d61ac222",
   "metadata": {},
   "source": [
    "#### Problem Statement\n",
    "EHR software pricing is influenced by multiple factors, including deployment type, number of users, feature customization, integration requirements, security, compliance costs, and additional fees. The complexity of pricing makes it difficult for potential buyers to estimate costs accurately. A predictive pricing model will help stakeholders make informed decisions by providing accurate price estimates based on selected preferences."
   ]
  },
  {
   "cell_type": "markdown",
   "id": "f50cd9f5-ed4d-4809-8eac-80cde7473bae",
   "metadata": {},
   "source": [
    "#### Solution\n",
    "This project utilized two machine learning techniques (Random Forest and Gradient Boosting) to build a predictive model that estimated the total price of EHR software based on input features such as deployment type, number of users, customization level, integration needs, and associated costs. The model was trained on historical pricing data and provided reliable price predictions for new customer inquiries."
   ]
  },
  {
   "cell_type": "markdown",
   "id": "5ca45317-13b7-4f4d-9791-db834cb6fef2",
   "metadata": {},
   "source": [
    "#### Dataset Description\n",
    "The dataset consists of 50 entries with 13 features, including categorical and numerical variables. Key attributes in the dataset include:\n",
    "\n",
    "Pricing Model: Type of licensing (e.g., Subscription, Perpetual License). \n",
    "\n",
    "Deployment Type: Whether the software is cloud-based or on-premise.\n",
    "\n",
    "Number of Users: Number of users expected to use the software.\n",
    "\n",
    "Features & Customization: Level of customization (Basic, Advanced, Customized).\n",
    "\n",
    "Integration Requirements: Level of system integration needed (Standard, Full Interoperability).\n",
    "\n",
    "Training Cost: Cost associated with training users.\n",
    "\n",
    "Security & Compliance Cost: Expenses related to regulatory compliance and data security.\n",
    "\n",
    "Support & Maintenance: Ongoing support and maintenance costs.\n",
    "\n",
    "Scalability Cost: Expenses for scaling up the software.\n",
    "\n",
    "Contract Fees: Additional contract-based charges.\n",
    "\n",
    "Department Selected: The department or specialization using the software (e.g., Ophthalmology, ENT, Oral Surgery).\n",
    "\n",
    "Financial Management System: Type of financial management module integrated (Simple, Advanced).\n",
    "\n",
    "Total Price (Target Variable): The final price of the EHR software."
   ]
  },
  {
   "cell_type": "code",
   "execution_count": 6,
   "id": "a4d9cc34-ee00-41bd-8ed7-bf50030753ca",
   "metadata": {},
   "outputs": [],
   "source": [
    "#!pip install matplotlib"
   ]
  },
  {
   "cell_type": "markdown",
   "id": "d4dfd82b-46fd-4e02-ba36-8ad091b61cff",
   "metadata": {},
   "source": [
    "##### Loading Libraries"
   ]
  },
  {
   "cell_type": "code",
   "execution_count": 8,
   "id": "e777504b-b13e-4673-91d5-9e28cffc2fc0",
   "metadata": {},
   "outputs": [],
   "source": [
    "import numpy as np\n",
    "import pandas as pd\n",
    "import matplotlib\n",
    "from matplotlib import pyplot as plt"
   ]
  },
  {
   "cell_type": "markdown",
   "id": "de022a1b-eda9-4187-9e6e-6efedb2f877e",
   "metadata": {},
   "source": [
    "##### Viewing my dataset"
   ]
  },
  {
   "cell_type": "code",
   "execution_count": 15,
   "id": "7de79630-b16a-4b51-a995-371f7dae29e6",
   "metadata": {},
   "outputs": [
    {
     "data": {
      "text/html": [
       "<div>\n",
       "<style scoped>\n",
       "    .dataframe tbody tr th:only-of-type {\n",
       "        vertical-align: middle;\n",
       "    }\n",
       "\n",
       "    .dataframe tbody tr th {\n",
       "        vertical-align: top;\n",
       "    }\n",
       "\n",
       "    .dataframe thead th {\n",
       "        text-align: right;\n",
       "    }\n",
       "</style>\n",
       "<table border=\"1\" class=\"dataframe\">\n",
       "  <thead>\n",
       "    <tr style=\"text-align: right;\">\n",
       "      <th></th>\n",
       "      <th>Pricing Model</th>\n",
       "      <th>Deployment Type</th>\n",
       "      <th>Number of Users</th>\n",
       "      <th>Features &amp; Customization</th>\n",
       "      <th>Integration Requirements</th>\n",
       "      <th>Training Cost</th>\n",
       "      <th>Security &amp; Compliance Cost</th>\n",
       "      <th>Support &amp; Maintenance</th>\n",
       "      <th>Scalability Cost</th>\n",
       "      <th>Contract Fees</th>\n",
       "      <th>Department Selected</th>\n",
       "      <th>Financial Management System</th>\n",
       "      <th>Total Price</th>\n",
       "    </tr>\n",
       "  </thead>\n",
       "  <tbody>\n",
       "    <tr>\n",
       "      <th>0</th>\n",
       "      <td>Perpetual License</td>\n",
       "      <td>On-premise</td>\n",
       "      <td>83</td>\n",
       "      <td>Basic</td>\n",
       "      <td>Standard</td>\n",
       "      <td>595</td>\n",
       "      <td>793</td>\n",
       "      <td>1227</td>\n",
       "      <td>352</td>\n",
       "      <td>1614</td>\n",
       "      <td>HIS-PACs Basic</td>\n",
       "      <td>Advanced</td>\n",
       "      <td>21767</td>\n",
       "    </tr>\n",
       "    <tr>\n",
       "      <th>1</th>\n",
       "      <td>Perpetual License</td>\n",
       "      <td>Cloud-based</td>\n",
       "      <td>99</td>\n",
       "      <td>Advanced</td>\n",
       "      <td>Full Interoperability</td>\n",
       "      <td>881</td>\n",
       "      <td>2135</td>\n",
       "      <td>1599</td>\n",
       "      <td>2155</td>\n",
       "      <td>647</td>\n",
       "      <td>Ophthalmology</td>\n",
       "      <td>Advanced</td>\n",
       "      <td>29195</td>\n",
       "    </tr>\n",
       "    <tr>\n",
       "      <th>2</th>\n",
       "      <td>Perpetual License</td>\n",
       "      <td>Cloud-based</td>\n",
       "      <td>68</td>\n",
       "      <td>Customized</td>\n",
       "      <td>Full Interoperability</td>\n",
       "      <td>1361</td>\n",
       "      <td>1781</td>\n",
       "      <td>1717</td>\n",
       "      <td>1842</td>\n",
       "      <td>865</td>\n",
       "      <td>ENT</td>\n",
       "      <td>Simple</td>\n",
       "      <td>26568</td>\n",
       "    </tr>\n",
       "    <tr>\n",
       "      <th>3</th>\n",
       "      <td>Perpetual License</td>\n",
       "      <td>Cloud-based</td>\n",
       "      <td>67</td>\n",
       "      <td>Customized</td>\n",
       "      <td>Standard</td>\n",
       "      <td>312</td>\n",
       "      <td>2508</td>\n",
       "      <td>1139</td>\n",
       "      <td>1894</td>\n",
       "      <td>1621</td>\n",
       "      <td>Ophthalmology</td>\n",
       "      <td>Simple</td>\n",
       "      <td>22880</td>\n",
       "    </tr>\n",
       "    <tr>\n",
       "      <th>4</th>\n",
       "      <td>Subscription</td>\n",
       "      <td>Cloud-based</td>\n",
       "      <td>100</td>\n",
       "      <td>Customized</td>\n",
       "      <td>Full Interoperability</td>\n",
       "      <td>654</td>\n",
       "      <td>1110</td>\n",
       "      <td>823</td>\n",
       "      <td>2233</td>\n",
       "      <td>714</td>\n",
       "      <td>Oral Surgery</td>\n",
       "      <td>Simple</td>\n",
       "      <td>23746</td>\n",
       "    </tr>\n",
       "  </tbody>\n",
       "</table>\n",
       "</div>"
      ],
      "text/plain": [
       "       Pricing Model Deployment Type  Number of Users  \\\n",
       "0  Perpetual License      On-premise               83   \n",
       "1  Perpetual License     Cloud-based               99   \n",
       "2  Perpetual License     Cloud-based               68   \n",
       "3  Perpetual License     Cloud-based               67   \n",
       "4       Subscription     Cloud-based              100   \n",
       "\n",
       "  Features & Customization Integration Requirements  Training Cost  \\\n",
       "0                    Basic                 Standard            595   \n",
       "1                 Advanced    Full Interoperability            881   \n",
       "2               Customized    Full Interoperability           1361   \n",
       "3               Customized                 Standard            312   \n",
       "4               Customized    Full Interoperability            654   \n",
       "\n",
       "   Security & Compliance Cost  Support & Maintenance  Scalability Cost  \\\n",
       "0                         793                   1227               352   \n",
       "1                        2135                   1599              2155   \n",
       "2                        1781                   1717              1842   \n",
       "3                        2508                   1139              1894   \n",
       "4                        1110                    823              2233   \n",
       "\n",
       "   Contract Fees Department Selected Financial Management System  Total Price  \n",
       "0           1614      HIS-PACs Basic                    Advanced        21767  \n",
       "1            647       Ophthalmology                    Advanced        29195  \n",
       "2            865                 ENT                      Simple        26568  \n",
       "3           1621       Ophthalmology                      Simple        22880  \n",
       "4            714        Oral Surgery                      Simple        23746  "
      ]
     },
     "execution_count": 15,
     "metadata": {},
     "output_type": "execute_result"
    }
   ],
   "source": [
    "ehr = pd.read_csv(\"ehr_pricing_dataset.csv\")\n",
    "ehr.head()"
   ]
  },
  {
   "cell_type": "markdown",
   "id": "4b5d3128-28de-4f58-8297-caf2359d6bc9",
   "metadata": {},
   "source": [
    "#### Checking my columns"
   ]
  },
  {
   "cell_type": "code",
   "execution_count": 18,
   "id": "4aad767d-c0c6-44ba-829c-f2ebe35e595d",
   "metadata": {},
   "outputs": [
    {
     "data": {
      "text/plain": [
       "Index(['Pricing Model', 'Deployment Type', 'Number of Users',\n",
       "       'Features & Customization', 'Integration Requirements', 'Training Cost',\n",
       "       'Security & Compliance Cost', 'Support & Maintenance',\n",
       "       'Scalability Cost', 'Contract Fees', 'Department Selected',\n",
       "       'Financial Management System', 'Total Price'],\n",
       "      dtype='object')"
      ]
     },
     "execution_count": 18,
     "metadata": {},
     "output_type": "execute_result"
    }
   ],
   "source": [
    "ehr.columns"
   ]
  },
  {
   "cell_type": "markdown",
   "id": "f7f6185f-f330-4ee2-8676-7e7c49c15572",
   "metadata": {},
   "source": [
    "##### Renaming my columns appropriately"
   ]
  },
  {
   "cell_type": "code",
   "execution_count": 21,
   "id": "1c0e84da-006d-4db8-8f3a-ed6cef3c75ad",
   "metadata": {},
   "outputs": [],
   "source": [
    "#Rename Columns\n",
    "ehr.rename(columns={'Pricing Model': 'Pricing_Model',\n",
    "                   'Deployment Type': 'Deployment_Type',\n",
    "                  'Number of Users': 'Number_of_Users',\n",
    "                  'Features & Customization': 'Features_&_Customization',\n",
    "                  'Integration Requirements': 'Integration_Requirements',\n",
    "                  'Training Cost': 'Training_Cost',\n",
    "                  'Security & Compliance Cost': 'Security_&_Compliance Cost',\n",
    "                  'Support & Maintenance': 'Support_&_Maintenance',\n",
    "                  'Scalability Cost': 'Scalability_Cost',\n",
    "                  'Contract Fees': 'Contract_Fees',\n",
    "                  'Department Selected': 'Department_Selected',\n",
    "                  'Financial Management System': 'Financial_Management_System',\n",
    "                  'Total Price': 'Total_Price'},\n",
    "          inplace=True, errors='raise')"
   ]
  },
  {
   "cell_type": "code",
   "execution_count": 23,
   "id": "5120a01d-c658-4383-b661-60cb3b1da463",
   "metadata": {},
   "outputs": [
    {
     "data": {
      "text/html": [
       "<div>\n",
       "<style scoped>\n",
       "    .dataframe tbody tr th:only-of-type {\n",
       "        vertical-align: middle;\n",
       "    }\n",
       "\n",
       "    .dataframe tbody tr th {\n",
       "        vertical-align: top;\n",
       "    }\n",
       "\n",
       "    .dataframe thead th {\n",
       "        text-align: right;\n",
       "    }\n",
       "</style>\n",
       "<table border=\"1\" class=\"dataframe\">\n",
       "  <thead>\n",
       "    <tr style=\"text-align: right;\">\n",
       "      <th></th>\n",
       "      <th>Pricing_Model</th>\n",
       "      <th>Deployment_Type</th>\n",
       "      <th>Number_of_Users</th>\n",
       "      <th>Features_&amp;_Customization</th>\n",
       "      <th>Integration_Requirements</th>\n",
       "      <th>Training_Cost</th>\n",
       "      <th>Security_&amp;_Compliance Cost</th>\n",
       "      <th>Support_&amp;_Maintenance</th>\n",
       "      <th>Scalability_Cost</th>\n",
       "      <th>Contract_Fees</th>\n",
       "      <th>Department_Selected</th>\n",
       "      <th>Financial_Management_System</th>\n",
       "      <th>Total_Price</th>\n",
       "    </tr>\n",
       "  </thead>\n",
       "  <tbody>\n",
       "    <tr>\n",
       "      <th>0</th>\n",
       "      <td>Perpetual License</td>\n",
       "      <td>On-premise</td>\n",
       "      <td>83</td>\n",
       "      <td>Basic</td>\n",
       "      <td>Standard</td>\n",
       "      <td>595</td>\n",
       "      <td>793</td>\n",
       "      <td>1227</td>\n",
       "      <td>352</td>\n",
       "      <td>1614</td>\n",
       "      <td>HIS-PACs Basic</td>\n",
       "      <td>Advanced</td>\n",
       "      <td>21767</td>\n",
       "    </tr>\n",
       "    <tr>\n",
       "      <th>1</th>\n",
       "      <td>Perpetual License</td>\n",
       "      <td>Cloud-based</td>\n",
       "      <td>99</td>\n",
       "      <td>Advanced</td>\n",
       "      <td>Full Interoperability</td>\n",
       "      <td>881</td>\n",
       "      <td>2135</td>\n",
       "      <td>1599</td>\n",
       "      <td>2155</td>\n",
       "      <td>647</td>\n",
       "      <td>Ophthalmology</td>\n",
       "      <td>Advanced</td>\n",
       "      <td>29195</td>\n",
       "    </tr>\n",
       "    <tr>\n",
       "      <th>2</th>\n",
       "      <td>Perpetual License</td>\n",
       "      <td>Cloud-based</td>\n",
       "      <td>68</td>\n",
       "      <td>Customized</td>\n",
       "      <td>Full Interoperability</td>\n",
       "      <td>1361</td>\n",
       "      <td>1781</td>\n",
       "      <td>1717</td>\n",
       "      <td>1842</td>\n",
       "      <td>865</td>\n",
       "      <td>ENT</td>\n",
       "      <td>Simple</td>\n",
       "      <td>26568</td>\n",
       "    </tr>\n",
       "    <tr>\n",
       "      <th>3</th>\n",
       "      <td>Perpetual License</td>\n",
       "      <td>Cloud-based</td>\n",
       "      <td>67</td>\n",
       "      <td>Customized</td>\n",
       "      <td>Standard</td>\n",
       "      <td>312</td>\n",
       "      <td>2508</td>\n",
       "      <td>1139</td>\n",
       "      <td>1894</td>\n",
       "      <td>1621</td>\n",
       "      <td>Ophthalmology</td>\n",
       "      <td>Simple</td>\n",
       "      <td>22880</td>\n",
       "    </tr>\n",
       "    <tr>\n",
       "      <th>4</th>\n",
       "      <td>Subscription</td>\n",
       "      <td>Cloud-based</td>\n",
       "      <td>100</td>\n",
       "      <td>Customized</td>\n",
       "      <td>Full Interoperability</td>\n",
       "      <td>654</td>\n",
       "      <td>1110</td>\n",
       "      <td>823</td>\n",
       "      <td>2233</td>\n",
       "      <td>714</td>\n",
       "      <td>Oral Surgery</td>\n",
       "      <td>Simple</td>\n",
       "      <td>23746</td>\n",
       "    </tr>\n",
       "  </tbody>\n",
       "</table>\n",
       "</div>"
      ],
      "text/plain": [
       "       Pricing_Model Deployment_Type  Number_of_Users  \\\n",
       "0  Perpetual License      On-premise               83   \n",
       "1  Perpetual License     Cloud-based               99   \n",
       "2  Perpetual License     Cloud-based               68   \n",
       "3  Perpetual License     Cloud-based               67   \n",
       "4       Subscription     Cloud-based              100   \n",
       "\n",
       "  Features_&_Customization Integration_Requirements  Training_Cost  \\\n",
       "0                    Basic                 Standard            595   \n",
       "1                 Advanced    Full Interoperability            881   \n",
       "2               Customized    Full Interoperability           1361   \n",
       "3               Customized                 Standard            312   \n",
       "4               Customized    Full Interoperability            654   \n",
       "\n",
       "   Security_&_Compliance Cost  Support_&_Maintenance  Scalability_Cost  \\\n",
       "0                         793                   1227               352   \n",
       "1                        2135                   1599              2155   \n",
       "2                        1781                   1717              1842   \n",
       "3                        2508                   1139              1894   \n",
       "4                        1110                    823              2233   \n",
       "\n",
       "   Contract_Fees Department_Selected Financial_Management_System  Total_Price  \n",
       "0           1614      HIS-PACs Basic                    Advanced        21767  \n",
       "1            647       Ophthalmology                    Advanced        29195  \n",
       "2            865                 ENT                      Simple        26568  \n",
       "3           1621       Ophthalmology                      Simple        22880  \n",
       "4            714        Oral Surgery                      Simple        23746  "
      ]
     },
     "execution_count": 23,
     "metadata": {},
     "output_type": "execute_result"
    }
   ],
   "source": [
    "ehr.head(5)"
   ]
  },
  {
   "cell_type": "markdown",
   "id": "3bada9d0-9192-4e05-be32-272a0b5eff97",
   "metadata": {},
   "source": [
    "##### Checking if there are missing values"
   ]
  },
  {
   "cell_type": "code",
   "execution_count": 26,
   "id": "7575a33c-55e8-4d4a-933e-db6e2e8b897e",
   "metadata": {},
   "outputs": [
    {
     "data": {
      "text/plain": [
       "Pricing_Model                  0\n",
       "Deployment_Type                0\n",
       "Number_of_Users                0\n",
       "Features_&_Customization       0\n",
       "Integration_Requirements       0\n",
       "Training_Cost                  0\n",
       "Security_&_Compliance Cost     0\n",
       "Support_&_Maintenance          0\n",
       "Scalability_Cost               0\n",
       "Contract_Fees                  0\n",
       "Department_Selected            0\n",
       "Financial_Management_System    0\n",
       "Total_Price                    0\n",
       "dtype: int64"
      ]
     },
     "execution_count": 26,
     "metadata": {},
     "output_type": "execute_result"
    }
   ],
   "source": [
    "ehr.isnull().sum().sort_values(ascending=False)"
   ]
  },
  {
   "cell_type": "markdown",
   "id": "bd9f729c-9624-4749-a1c7-0582ce338940",
   "metadata": {},
   "source": [
    "##### checking for object and numerical columns for transformation"
   ]
  },
  {
   "cell_type": "code",
   "execution_count": 29,
   "id": "4549a25e-e2a3-440c-8005-adbeba355159",
   "metadata": {},
   "outputs": [
    {
     "data": {
      "text/plain": [
       "Index(['Number_of_Users', 'Training_Cost', 'Security_&_Compliance Cost',\n",
       "       'Support_&_Maintenance', 'Scalability_Cost', 'Contract_Fees',\n",
       "       'Total_Price'],\n",
       "      dtype='object')"
      ]
     },
     "execution_count": 29,
     "metadata": {},
     "output_type": "execute_result"
    }
   ],
   "source": [
    "ehr.select_dtypes(\"number\").columns"
   ]
  },
  {
   "cell_type": "code",
   "execution_count": 31,
   "id": "59e9fd91-9840-42f9-9e9e-04c375b9f9f4",
   "metadata": {},
   "outputs": [
    {
     "data": {
      "text/plain": [
       "Index(['Pricing_Model', 'Deployment_Type', 'Features_&_Customization',\n",
       "       'Integration_Requirements', 'Department_Selected',\n",
       "       'Financial_Management_System'],\n",
       "      dtype='object')"
      ]
     },
     "execution_count": 31,
     "metadata": {},
     "output_type": "execute_result"
    }
   ],
   "source": [
    "ehr.select_dtypes(\"object\").columns"
   ]
  },
  {
   "cell_type": "code",
   "execution_count": 33,
   "id": "87197666-c25b-4f13-8524-af9103e76c29",
   "metadata": {},
   "outputs": [],
   "source": [
    "selected_columns = ['Pricing_Model', 'Deployment_Type', 'Features_&_Customization',\n",
    "       'Integration_Requirements', 'Department_Selected',\n",
    "       'Financial_Management_System']"
   ]
  },
  {
   "cell_type": "code",
   "execution_count": 35,
   "id": "f35e37e4-918c-4d3d-a42f-88868dc8b72a",
   "metadata": {},
   "outputs": [
    {
     "data": {
      "text/html": [
       "<div>\n",
       "<style scoped>\n",
       "    .dataframe tbody tr th:only-of-type {\n",
       "        vertical-align: middle;\n",
       "    }\n",
       "\n",
       "    .dataframe tbody tr th {\n",
       "        vertical-align: top;\n",
       "    }\n",
       "\n",
       "    .dataframe thead th {\n",
       "        text-align: right;\n",
       "    }\n",
       "</style>\n",
       "<table border=\"1\" class=\"dataframe\">\n",
       "  <thead>\n",
       "    <tr style=\"text-align: right;\">\n",
       "      <th></th>\n",
       "      <th>Pricing_Model</th>\n",
       "      <th>Deployment_Type</th>\n",
       "      <th>Features_&amp;_Customization</th>\n",
       "      <th>Integration_Requirements</th>\n",
       "      <th>Department_Selected</th>\n",
       "      <th>Financial_Management_System</th>\n",
       "    </tr>\n",
       "  </thead>\n",
       "  <tbody>\n",
       "    <tr>\n",
       "      <th>0</th>\n",
       "      <td>Perpetual License</td>\n",
       "      <td>On-premise</td>\n",
       "      <td>Basic</td>\n",
       "      <td>Standard</td>\n",
       "      <td>HIS-PACs Basic</td>\n",
       "      <td>Advanced</td>\n",
       "    </tr>\n",
       "    <tr>\n",
       "      <th>1</th>\n",
       "      <td>Perpetual License</td>\n",
       "      <td>Cloud-based</td>\n",
       "      <td>Advanced</td>\n",
       "      <td>Full Interoperability</td>\n",
       "      <td>Ophthalmology</td>\n",
       "      <td>Advanced</td>\n",
       "    </tr>\n",
       "    <tr>\n",
       "      <th>2</th>\n",
       "      <td>Perpetual License</td>\n",
       "      <td>Cloud-based</td>\n",
       "      <td>Customized</td>\n",
       "      <td>Full Interoperability</td>\n",
       "      <td>ENT</td>\n",
       "      <td>Simple</td>\n",
       "    </tr>\n",
       "    <tr>\n",
       "      <th>3</th>\n",
       "      <td>Perpetual License</td>\n",
       "      <td>Cloud-based</td>\n",
       "      <td>Customized</td>\n",
       "      <td>Standard</td>\n",
       "      <td>Ophthalmology</td>\n",
       "      <td>Simple</td>\n",
       "    </tr>\n",
       "    <tr>\n",
       "      <th>4</th>\n",
       "      <td>Subscription</td>\n",
       "      <td>Cloud-based</td>\n",
       "      <td>Customized</td>\n",
       "      <td>Full Interoperability</td>\n",
       "      <td>Oral Surgery</td>\n",
       "      <td>Simple</td>\n",
       "    </tr>\n",
       "  </tbody>\n",
       "</table>\n",
       "</div>"
      ],
      "text/plain": [
       "       Pricing_Model Deployment_Type Features_&_Customization  \\\n",
       "0  Perpetual License      On-premise                    Basic   \n",
       "1  Perpetual License     Cloud-based                 Advanced   \n",
       "2  Perpetual License     Cloud-based               Customized   \n",
       "3  Perpetual License     Cloud-based               Customized   \n",
       "4       Subscription     Cloud-based               Customized   \n",
       "\n",
       "  Integration_Requirements Department_Selected Financial_Management_System  \n",
       "0                 Standard      HIS-PACs Basic                    Advanced  \n",
       "1    Full Interoperability       Ophthalmology                    Advanced  \n",
       "2    Full Interoperability                 ENT                      Simple  \n",
       "3                 Standard       Ophthalmology                      Simple  \n",
       "4    Full Interoperability        Oral Surgery                      Simple  "
      ]
     },
     "execution_count": 35,
     "metadata": {},
     "output_type": "execute_result"
    }
   ],
   "source": [
    "ehr_selected = ehr[selected_columns]\n",
    "ehr_selected.head()"
   ]
  },
  {
   "cell_type": "markdown",
   "id": "cda90882-e281-4aed-8c46-40778047c818",
   "metadata": {},
   "source": [
    "##### Importing ML Libraries for modeling "
   ]
  },
  {
   "cell_type": "code",
   "execution_count": 41,
   "id": "4deefeb7-0d2f-4091-b7f7-a282bc7bad4c",
   "metadata": {},
   "outputs": [],
   "source": [
    "from sklearn.ensemble import RandomForestRegressor\n",
    "from sklearn.ensemble import GradientBoostingRegressor\n",
    "from sklearn.preprocessing import StandardScaler, LabelEncoder\n",
    "from tensorflow.keras.layers import Dense\n",
    "from sklearn.model_selection import train_test_split"
   ]
  },
  {
   "cell_type": "markdown",
   "id": "0b46ccb4-2a2c-46cb-917e-963343f998b2",
   "metadata": {},
   "source": [
    "##### Transforming non numerical columns to numerical for fitting"
   ]
  },
  {
   "cell_type": "code",
   "execution_count": 44,
   "id": "51fea517-920f-4bd7-ae72-14e2d62fca07",
   "metadata": {},
   "outputs": [
    {
     "data": {
      "text/html": [
       "<div>\n",
       "<style scoped>\n",
       "    .dataframe tbody tr th:only-of-type {\n",
       "        vertical-align: middle;\n",
       "    }\n",
       "\n",
       "    .dataframe tbody tr th {\n",
       "        vertical-align: top;\n",
       "    }\n",
       "\n",
       "    .dataframe thead th {\n",
       "        text-align: right;\n",
       "    }\n",
       "</style>\n",
       "<table border=\"1\" class=\"dataframe\">\n",
       "  <thead>\n",
       "    <tr style=\"text-align: right;\">\n",
       "      <th></th>\n",
       "      <th>Pricing_Model</th>\n",
       "      <th>Deployment_Type</th>\n",
       "      <th>Features_&amp;_Customization</th>\n",
       "      <th>Integration_Requirements</th>\n",
       "      <th>Department_Selected</th>\n",
       "      <th>Financial_Management_System</th>\n",
       "    </tr>\n",
       "  </thead>\n",
       "  <tbody>\n",
       "    <tr>\n",
       "      <th>0</th>\n",
       "      <td>Perpetual License</td>\n",
       "      <td>On-premise</td>\n",
       "      <td>Basic</td>\n",
       "      <td>Standard</td>\n",
       "      <td>HIS-PACs Basic</td>\n",
       "      <td>Advanced</td>\n",
       "    </tr>\n",
       "    <tr>\n",
       "      <th>1</th>\n",
       "      <td>Perpetual License</td>\n",
       "      <td>Cloud-based</td>\n",
       "      <td>Advanced</td>\n",
       "      <td>Full Interoperability</td>\n",
       "      <td>Ophthalmology</td>\n",
       "      <td>Advanced</td>\n",
       "    </tr>\n",
       "    <tr>\n",
       "      <th>2</th>\n",
       "      <td>Perpetual License</td>\n",
       "      <td>Cloud-based</td>\n",
       "      <td>Customized</td>\n",
       "      <td>Full Interoperability</td>\n",
       "      <td>ENT</td>\n",
       "      <td>Simple</td>\n",
       "    </tr>\n",
       "    <tr>\n",
       "      <th>3</th>\n",
       "      <td>Perpetual License</td>\n",
       "      <td>Cloud-based</td>\n",
       "      <td>Customized</td>\n",
       "      <td>Standard</td>\n",
       "      <td>Ophthalmology</td>\n",
       "      <td>Simple</td>\n",
       "    </tr>\n",
       "    <tr>\n",
       "      <th>4</th>\n",
       "      <td>Subscription</td>\n",
       "      <td>Cloud-based</td>\n",
       "      <td>Customized</td>\n",
       "      <td>Full Interoperability</td>\n",
       "      <td>Oral Surgery</td>\n",
       "      <td>Simple</td>\n",
       "    </tr>\n",
       "  </tbody>\n",
       "</table>\n",
       "</div>"
      ],
      "text/plain": [
       "       Pricing_Model Deployment_Type Features_&_Customization  \\\n",
       "0  Perpetual License      On-premise                    Basic   \n",
       "1  Perpetual License     Cloud-based                 Advanced   \n",
       "2  Perpetual License     Cloud-based               Customized   \n",
       "3  Perpetual License     Cloud-based               Customized   \n",
       "4       Subscription     Cloud-based               Customized   \n",
       "\n",
       "  Integration_Requirements Department_Selected Financial_Management_System  \n",
       "0                 Standard      HIS-PACs Basic                    Advanced  \n",
       "1    Full Interoperability       Ophthalmology                    Advanced  \n",
       "2    Full Interoperability                 ENT                      Simple  \n",
       "3                 Standard       Ophthalmology                      Simple  \n",
       "4    Full Interoperability        Oral Surgery                      Simple  "
      ]
     },
     "execution_count": 44,
     "metadata": {},
     "output_type": "execute_result"
    }
   ],
   "source": [
    "# Apply LabelEncoder to each categorical column\n",
    "label_encoders = {}\n",
    "for col in ehr_selected:\n",
    "    le = LabelEncoder()\n",
    "    ehr[col] = le.fit_transform(ehr_selected[col])\n",
    "    label_encoders[col] = le  # Store encoders if needed for decoding later\n",
    "\n",
    "ehr_selected.head()"
   ]
  },
  {
   "cell_type": "code",
   "execution_count": 46,
   "id": "97ba630e-b238-4613-8660-9c06762246d3",
   "metadata": {},
   "outputs": [
    {
     "data": {
      "text/html": [
       "<div>\n",
       "<style scoped>\n",
       "    .dataframe tbody tr th:only-of-type {\n",
       "        vertical-align: middle;\n",
       "    }\n",
       "\n",
       "    .dataframe tbody tr th {\n",
       "        vertical-align: top;\n",
       "    }\n",
       "\n",
       "    .dataframe thead th {\n",
       "        text-align: right;\n",
       "    }\n",
       "</style>\n",
       "<table border=\"1\" class=\"dataframe\">\n",
       "  <thead>\n",
       "    <tr style=\"text-align: right;\">\n",
       "      <th></th>\n",
       "      <th>Pricing_Model</th>\n",
       "      <th>Deployment_Type</th>\n",
       "      <th>Number_of_Users</th>\n",
       "      <th>Features_&amp;_Customization</th>\n",
       "      <th>Integration_Requirements</th>\n",
       "      <th>Training_Cost</th>\n",
       "      <th>Security_&amp;_Compliance Cost</th>\n",
       "      <th>Support_&amp;_Maintenance</th>\n",
       "      <th>Scalability_Cost</th>\n",
       "      <th>Contract_Fees</th>\n",
       "      <th>Department_Selected</th>\n",
       "      <th>Financial_Management_System</th>\n",
       "      <th>Total_Price</th>\n",
       "    </tr>\n",
       "  </thead>\n",
       "  <tbody>\n",
       "    <tr>\n",
       "      <th>0</th>\n",
       "      <td>1</td>\n",
       "      <td>1</td>\n",
       "      <td>83</td>\n",
       "      <td>1</td>\n",
       "      <td>2</td>\n",
       "      <td>595</td>\n",
       "      <td>793</td>\n",
       "      <td>1227</td>\n",
       "      <td>352</td>\n",
       "      <td>1614</td>\n",
       "      <td>4</td>\n",
       "      <td>0</td>\n",
       "      <td>21767</td>\n",
       "    </tr>\n",
       "    <tr>\n",
       "      <th>1</th>\n",
       "      <td>1</td>\n",
       "      <td>0</td>\n",
       "      <td>99</td>\n",
       "      <td>0</td>\n",
       "      <td>0</td>\n",
       "      <td>881</td>\n",
       "      <td>2135</td>\n",
       "      <td>1599</td>\n",
       "      <td>2155</td>\n",
       "      <td>647</td>\n",
       "      <td>8</td>\n",
       "      <td>0</td>\n",
       "      <td>29195</td>\n",
       "    </tr>\n",
       "    <tr>\n",
       "      <th>2</th>\n",
       "      <td>1</td>\n",
       "      <td>0</td>\n",
       "      <td>68</td>\n",
       "      <td>2</td>\n",
       "      <td>0</td>\n",
       "      <td>1361</td>\n",
       "      <td>1781</td>\n",
       "      <td>1717</td>\n",
       "      <td>1842</td>\n",
       "      <td>865</td>\n",
       "      <td>2</td>\n",
       "      <td>1</td>\n",
       "      <td>26568</td>\n",
       "    </tr>\n",
       "    <tr>\n",
       "      <th>3</th>\n",
       "      <td>1</td>\n",
       "      <td>0</td>\n",
       "      <td>67</td>\n",
       "      <td>2</td>\n",
       "      <td>2</td>\n",
       "      <td>312</td>\n",
       "      <td>2508</td>\n",
       "      <td>1139</td>\n",
       "      <td>1894</td>\n",
       "      <td>1621</td>\n",
       "      <td>8</td>\n",
       "      <td>1</td>\n",
       "      <td>22880</td>\n",
       "    </tr>\n",
       "    <tr>\n",
       "      <th>4</th>\n",
       "      <td>2</td>\n",
       "      <td>0</td>\n",
       "      <td>100</td>\n",
       "      <td>2</td>\n",
       "      <td>0</td>\n",
       "      <td>654</td>\n",
       "      <td>1110</td>\n",
       "      <td>823</td>\n",
       "      <td>2233</td>\n",
       "      <td>714</td>\n",
       "      <td>9</td>\n",
       "      <td>1</td>\n",
       "      <td>23746</td>\n",
       "    </tr>\n",
       "  </tbody>\n",
       "</table>\n",
       "</div>"
      ],
      "text/plain": [
       "   Pricing_Model  Deployment_Type  Number_of_Users  Features_&_Customization  \\\n",
       "0              1                1               83                         1   \n",
       "1              1                0               99                         0   \n",
       "2              1                0               68                         2   \n",
       "3              1                0               67                         2   \n",
       "4              2                0              100                         2   \n",
       "\n",
       "   Integration_Requirements  Training_Cost  Security_&_Compliance Cost  \\\n",
       "0                         2            595                         793   \n",
       "1                         0            881                        2135   \n",
       "2                         0           1361                        1781   \n",
       "3                         2            312                        2508   \n",
       "4                         0            654                        1110   \n",
       "\n",
       "   Support_&_Maintenance  Scalability_Cost  Contract_Fees  \\\n",
       "0                   1227               352           1614   \n",
       "1                   1599              2155            647   \n",
       "2                   1717              1842            865   \n",
       "3                   1139              1894           1621   \n",
       "4                    823              2233            714   \n",
       "\n",
       "   Department_Selected  Financial_Management_System  Total_Price  \n",
       "0                    4                            0        21767  \n",
       "1                    8                            0        29195  \n",
       "2                    2                            1        26568  \n",
       "3                    8                            1        22880  \n",
       "4                    9                            1        23746  "
      ]
     },
     "execution_count": 46,
     "metadata": {},
     "output_type": "execute_result"
    }
   ],
   "source": [
    "ehr.head()"
   ]
  },
  {
   "cell_type": "code",
   "execution_count": 48,
   "id": "df0981d8-17ff-44a2-bcd9-9c4fa9244b04",
   "metadata": {},
   "outputs": [
    {
     "data": {
      "text/plain": [
       "Index(['Pricing_Model', 'Deployment_Type', 'Number_of_Users',\n",
       "       'Features_&_Customization', 'Integration_Requirements', 'Training_Cost',\n",
       "       'Security_&_Compliance Cost', 'Support_&_Maintenance',\n",
       "       'Scalability_Cost', 'Contract_Fees', 'Department_Selected',\n",
       "       'Financial_Management_System', 'Total_Price'],\n",
       "      dtype='object')"
      ]
     },
     "execution_count": 48,
     "metadata": {},
     "output_type": "execute_result"
    }
   ],
   "source": [
    "ehr.columns"
   ]
  },
  {
   "cell_type": "code",
   "execution_count": 50,
   "id": "e38407d8-a89d-4ba8-8f23-0be89d1462f0",
   "metadata": {},
   "outputs": [],
   "source": [
    "# Prepare features and target\n",
    "X = ehr[['Pricing_Model', 'Deployment_Type', 'Number_of_Users',\n",
    "       'Features_&_Customization', 'Integration_Requirements', 'Training_Cost',\n",
    "       'Security_&_Compliance Cost', 'Support_&_Maintenance',\n",
    "       'Scalability_Cost', 'Contract_Fees', 'Department_Selected',\n",
    "       'Financial_Management_System']]\n",
    "y = ehr['Total_Price']"
   ]
  },
  {
   "cell_type": "code",
   "execution_count": 52,
   "id": "36671fbd-fea0-442d-b423-707b66e251a2",
   "metadata": {},
   "outputs": [
    {
     "data": {
      "text/html": [
       "<div>\n",
       "<style scoped>\n",
       "    .dataframe tbody tr th:only-of-type {\n",
       "        vertical-align: middle;\n",
       "    }\n",
       "\n",
       "    .dataframe tbody tr th {\n",
       "        vertical-align: top;\n",
       "    }\n",
       "\n",
       "    .dataframe thead th {\n",
       "        text-align: right;\n",
       "    }\n",
       "</style>\n",
       "<table border=\"1\" class=\"dataframe\">\n",
       "  <thead>\n",
       "    <tr style=\"text-align: right;\">\n",
       "      <th></th>\n",
       "      <th>Pricing_Model</th>\n",
       "      <th>Deployment_Type</th>\n",
       "      <th>Number_of_Users</th>\n",
       "      <th>Features_&amp;_Customization</th>\n",
       "      <th>Integration_Requirements</th>\n",
       "      <th>Training_Cost</th>\n",
       "      <th>Security_&amp;_Compliance Cost</th>\n",
       "      <th>Support_&amp;_Maintenance</th>\n",
       "      <th>Scalability_Cost</th>\n",
       "      <th>Contract_Fees</th>\n",
       "      <th>Department_Selected</th>\n",
       "      <th>Financial_Management_System</th>\n",
       "    </tr>\n",
       "  </thead>\n",
       "  <tbody>\n",
       "    <tr>\n",
       "      <th>0</th>\n",
       "      <td>1</td>\n",
       "      <td>1</td>\n",
       "      <td>83</td>\n",
       "      <td>1</td>\n",
       "      <td>2</td>\n",
       "      <td>595</td>\n",
       "      <td>793</td>\n",
       "      <td>1227</td>\n",
       "      <td>352</td>\n",
       "      <td>1614</td>\n",
       "      <td>4</td>\n",
       "      <td>0</td>\n",
       "    </tr>\n",
       "    <tr>\n",
       "      <th>1</th>\n",
       "      <td>1</td>\n",
       "      <td>0</td>\n",
       "      <td>99</td>\n",
       "      <td>0</td>\n",
       "      <td>0</td>\n",
       "      <td>881</td>\n",
       "      <td>2135</td>\n",
       "      <td>1599</td>\n",
       "      <td>2155</td>\n",
       "      <td>647</td>\n",
       "      <td>8</td>\n",
       "      <td>0</td>\n",
       "    </tr>\n",
       "    <tr>\n",
       "      <th>2</th>\n",
       "      <td>1</td>\n",
       "      <td>0</td>\n",
       "      <td>68</td>\n",
       "      <td>2</td>\n",
       "      <td>0</td>\n",
       "      <td>1361</td>\n",
       "      <td>1781</td>\n",
       "      <td>1717</td>\n",
       "      <td>1842</td>\n",
       "      <td>865</td>\n",
       "      <td>2</td>\n",
       "      <td>1</td>\n",
       "    </tr>\n",
       "    <tr>\n",
       "      <th>3</th>\n",
       "      <td>1</td>\n",
       "      <td>0</td>\n",
       "      <td>67</td>\n",
       "      <td>2</td>\n",
       "      <td>2</td>\n",
       "      <td>312</td>\n",
       "      <td>2508</td>\n",
       "      <td>1139</td>\n",
       "      <td>1894</td>\n",
       "      <td>1621</td>\n",
       "      <td>8</td>\n",
       "      <td>1</td>\n",
       "    </tr>\n",
       "    <tr>\n",
       "      <th>4</th>\n",
       "      <td>2</td>\n",
       "      <td>0</td>\n",
       "      <td>100</td>\n",
       "      <td>2</td>\n",
       "      <td>0</td>\n",
       "      <td>654</td>\n",
       "      <td>1110</td>\n",
       "      <td>823</td>\n",
       "      <td>2233</td>\n",
       "      <td>714</td>\n",
       "      <td>9</td>\n",
       "      <td>1</td>\n",
       "    </tr>\n",
       "  </tbody>\n",
       "</table>\n",
       "</div>"
      ],
      "text/plain": [
       "   Pricing_Model  Deployment_Type  Number_of_Users  Features_&_Customization  \\\n",
       "0              1                1               83                         1   \n",
       "1              1                0               99                         0   \n",
       "2              1                0               68                         2   \n",
       "3              1                0               67                         2   \n",
       "4              2                0              100                         2   \n",
       "\n",
       "   Integration_Requirements  Training_Cost  Security_&_Compliance Cost  \\\n",
       "0                         2            595                         793   \n",
       "1                         0            881                        2135   \n",
       "2                         0           1361                        1781   \n",
       "3                         2            312                        2508   \n",
       "4                         0            654                        1110   \n",
       "\n",
       "   Support_&_Maintenance  Scalability_Cost  Contract_Fees  \\\n",
       "0                   1227               352           1614   \n",
       "1                   1599              2155            647   \n",
       "2                   1717              1842            865   \n",
       "3                   1139              1894           1621   \n",
       "4                    823              2233            714   \n",
       "\n",
       "   Department_Selected  Financial_Management_System  \n",
       "0                    4                            0  \n",
       "1                    8                            0  \n",
       "2                    2                            1  \n",
       "3                    8                            1  \n",
       "4                    9                            1  "
      ]
     },
     "execution_count": 52,
     "metadata": {},
     "output_type": "execute_result"
    }
   ],
   "source": [
    "X.head()"
   ]
  },
  {
   "cell_type": "code",
   "execution_count": 54,
   "id": "3c62322d-d2c6-450f-a5e9-67a9e3003348",
   "metadata": {},
   "outputs": [],
   "source": [
    "# Split the data into training and test sets\n",
    "X_train, X_test, y_train, y_test = train_test_split(X, y, test_size=0.2, random_state=42)\n",
    "\n",
    "# Standardize the features\n",
    "scaler = StandardScaler()\n",
    "X_train = scaler.fit_transform(X_train)\n",
    "X_test = scaler.transform(X_test)"
   ]
  },
  {
   "cell_type": "code",
   "execution_count": 56,
   "id": "9d708558-0770-4481-b13e-2f96cb7db363",
   "metadata": {},
   "outputs": [
    {
     "name": "stdout",
     "output_type": "stream",
     "text": [
      "Training set size: 40 samples\n",
      "Testing set size: 10 samples\n"
     ]
    }
   ],
   "source": [
    "# Print the number of samples in each set\n",
    "print(f\"Training set size: {X_train.shape[0]} samples\")\n",
    "print(f\"Testing set size: {X_test.shape[0]} samples\")"
   ]
  },
  {
   "cell_type": "markdown",
   "id": "8eb71015-d709-414b-aafe-dd816c704614",
   "metadata": {},
   "source": [
    "##### Model Training"
   ]
  },
  {
   "cell_type": "code",
   "execution_count": 59,
   "id": "63fb4abc-cf40-4101-9c21-f4fc0327bbe8",
   "metadata": {},
   "outputs": [
    {
     "name": "stdout",
     "output_type": "stream",
     "text": [
      "\n",
      "Random Forest Model\n",
      "Training Accuracy: 90.27%\n",
      "Testing Accuracy: -96.32%\n"
     ]
    },
    {
     "data": {
      "image/png": "[encoded data removed]",
      "text/plain": [
       "<Figure size 640x480 with 1 Axes>"
      ]
     },
     "metadata": {},
     "output_type": "display_data"
    }
   ],
   "source": [
    "# Train and evaluate Random Forest\n",
    "rf_model = RandomForestRegressor(random_state=42)\n",
    "rf_model.fit(X_train, y_train)\n",
    "y_pred_rf = rf_model.predict(X_test)\n",
    "\n",
    "# Compute metrics\n",
    "accuracy_train_rf = rf_model.score(X_train, y_train) * 100\n",
    "accuracy_test_rf = rf_model.score(X_test, y_test) * 100\n",
    "mse_rf = mean_squared_error(y_test, y_pred_rf)\n",
    "r2_rf = r2_score(y_test, y_pred_rf)\n",
    "\n",
    "# Print accuracy\n",
    "print(f\"\\nRandom Forest Model\")\n",
    "print(f\"Training Accuracy: {accuracy_train_rf:.2f}%\")\n",
    "print(f\"Testing Accuracy: {accuracy_test_rf:.2f}%\")\n",
    "\n",
    "# Scatter plot for actual vs predicted\n",
    "plt.scatter(y_test, y_pred_rf, s=10, color='#9B673C')\n",
    "plt.xlabel(\"Actual Values\")\n",
    "plt.ylabel(\"Predicted Values\")\n",
    "plt.plot([min(y_test), max(y_test)], [min(y_test), max(y_test)], color=\"green\", linewidth=4)\n",
    "plt.title(\"Actual vs Predicted - Random Forest\")\n",
    "plt.show()"
   ]
  },
  {
   "cell_type": "markdown",
   "id": "38acf59e-e6c7-4139-801e-f2479f1faf10",
   "metadata": {},
   "source": [
    "##### Saving models"
   ]
  },
  {
   "cell_type": "code",
   "execution_count": 62,
   "id": "22901589-4a6e-4030-b468-14ae8e7e69da",
   "metadata": {},
   "outputs": [],
   "source": [
    "import joblib"
   ]
  },
  {
   "cell_type": "code",
   "execution_count": 64,
   "id": "8a9d0684-2041-4753-8f76-a91b765c82a4",
   "metadata": {},
   "outputs": [
    {
     "name": "stdout",
     "output_type": "stream",
     "text": [
      "RandomForestRegressor(random_state=42) model saved successfully.\n"
     ]
    }
   ],
   "source": [
    "joblib.dump(rf_model, 'random_forest_model.pkl')\n",
    "print(f\"{rf_model} model saved successfully.\")"
   ]
  },
  {
   "cell_type": "code",
   "execution_count": 79,
   "id": "3d62709d-f391-4d7c-9b27-f061523ebc6e",
   "metadata": {},
   "outputs": [
    {
     "data": {
      "text/plain": [
       "['rm_scaler_object.joblib']"
      ]
     },
     "execution_count": 79,
     "metadata": {},
     "output_type": "execute_result"
    }
   ],
   "source": [
    "scaler_name = 'rm_scaler_object.joblib'\n",
    "joblib.dump(scaler, scaler_name)"
   ]
  },
  {
   "cell_type": "code",
   "execution_count": 66,
   "id": "8a5053e8-d65f-4935-85fe-a212c17203b5",
   "metadata": {},
   "outputs": [
    {
     "name": "stdout",
     "output_type": "stream",
     "text": [
      "\n",
      "Gradient Boosting Model\n",
      "Training Accuracy: 100.00%\n",
      "Testing Accuracy: -226.11%\n"
     ]
    },
    {
     "data": {
      "image/png": "[encoded data removed]",
      "text/plain": [
       "<Figure size 640x480 with 1 Axes>"
      ]
     },
     "metadata": {},
     "output_type": "display_data"
    }
   ],
   "source": [
    "# Train and evaluate Gradient Boosting\n",
    "gb_model = GradientBoostingRegressor(n_estimators=100, learning_rate=0.1, max_depth=3, random_state=42)\n",
    "gb_model.fit(X_train, y_train)\n",
    "y_pred_gb = gb_model.predict(X_test)\n",
    "\n",
    "# Compute metrics\n",
    "accuracy_train_gb = gb_model.score(X_train, y_train) * 100\n",
    "accuracy_test_gb = gb_model.score(X_test, y_test) * 100\n",
    "mse_gb = mean_squared_error(y_test, y_pred_gb)\n",
    "r2_gb = r2_score(y_test, y_pred_gb)\n",
    "\n",
    "# Print accuracy\n",
    "print(f\"\\nGradient Boosting Model\")\n",
    "print(f\"Training Accuracy: {accuracy_train_gb:.2f}%\")\n",
    "print(f\"Testing Accuracy: {accuracy_test_gb:.2f}%\")\n",
    "\n",
    "\n",
    "# Scatter plot for actual vs predicted\n",
    "plt.scatter(y_test, y_pred_gb, s=10, color='#9B673C')\n",
    "plt.xlabel(\"Actual Values\")\n",
    "plt.ylabel(\"Predicted Values\")\n",
    "plt.plot([min(y_test), max(y_test)], [min(y_test), max(y_test)], color=\"green\", linewidth=4)\n",
    "plt.title(\"Actual vs Predicted - Gradient Boosting\")\n",
    "plt.show()"
   ]
  },
  {
   "cell_type": "code",
   "execution_count": 68,
   "id": "f0c71e36-d25f-4756-9a5e-8b1830732b0c",
   "metadata": {},
   "outputs": [
    {
     "name": "stdout",
     "output_type": "stream",
     "text": [
      "GradientBoostingRegressor(random_state=42) model saved successfully.\n"
     ]
    }
   ],
   "source": [
    "joblib.dump(gb_model, 'gradient_boosting_model.pkl')\n",
    "print(f\"{gb_model} model saved successfully.\")"
   ]
  },
  {
   "cell_type": "markdown",
   "id": "a591122c-4ce9-4e2b-841e-3d825ef592c0",
   "metadata": {},
   "source": [
    "##### Loading models for prediction"
   ]
  },
  {
   "cell_type": "code",
   "execution_count": 71,
   "id": "e19e4233-17ef-4ccf-a156-8054b9b76de4",
   "metadata": {},
   "outputs": [
    {
     "name": "stdout",
     "output_type": "stream",
     "text": [
      "Models loaded successfully using joblib!\n"
     ]
    }
   ],
   "source": [
    "# Load Random Forest Model\n",
    "rf_model_loaded = joblib.load(\"random_forest_model.pkl\")\n",
    "gb_model_loaded = joblib.load(\"gradient_boosting_model.pkl\")\n",
    "print(\"Models loaded successfully using joblib!\")"
   ]
  },
  {
   "cell_type": "code",
   "execution_count": 73,
   "id": "cd963e98-4c47-43f1-a31d-3865a125ce23",
   "metadata": {},
   "outputs": [
    {
     "name": "stdout",
     "output_type": "stream",
     "text": [
      "Predictions completed!\n"
     ]
    }
   ],
   "source": [
    "y_pred_rf = rf_model_loaded.predict(X_test)\n",
    "y_pred_gb = gb_model_loaded.predict(X_test)\n",
    "print(\"Predictions completed!\")"
   ]
  },
  {
   "cell_type": "code",
   "execution_count": 75,
   "id": "029f9d13-1856-4c4e-95f4-7d72a7984e05",
   "metadata": {},
   "outputs": [
    {
     "name": "stdout",
     "output_type": "stream",
     "text": [
      "   Actual Values  Random Forest Predictions  Gradient Boosting Predictions\n",
      "0          22299                   18548.15                   16918.015149\n",
      "1          19335                   22808.60                   22234.579297\n",
      "2          19967                   22360.33                   22783.958860\n",
      "3          21089                   19509.09                   18634.559064\n",
      "4          21891                   20486.12                   22084.895578\n",
      "5          20571                   18883.71                   19813.582553\n",
      "6          21692                   21581.35                   19995.540506\n",
      "7          21697                   21065.64                   19979.972090\n",
      "8          22446                   23533.01                   24860.470443\n",
      "9          24831                   24407.89                   26937.455531\n"
     ]
    }
   ],
   "source": [
    "predictions_df = pd.DataFrame({\n",
    "    \"Actual Values\": y_test.values,\n",
    "    \"Random Forest Predictions\": y_pred_rf,\n",
    "    \"Gradient Boosting Predictions\": y_pred_gb\n",
    "    })\n",
    "\n",
    "# Display the first 10 predictions\n",
    "print(predictions_df.head(10))"
   ]
  },
  {
   "cell_type": "code",
   "execution_count": null,
   "id": "9440573b-903a-404d-8b08-e5a412fe84fe",
   "metadata": {},
   "outputs": [],
   "source": []
  },
  {
   "cell_type": "markdown",
   "id": "2d9500d8-f6e0-4632-b4f6-4fbf69aa2ee6",
   "metadata": {},
   "source": [
    "Random Forest is better but needs more inputs(rows of data) to learn and make better prediction"
   ]
  },
  {
   "cell_type": "code",
   "execution_count": null,
   "id": "15bc330e-7718-4a0b-9971-419880af6892",
   "metadata": {},
   "outputs": [],
   "source": []
  }
 ],
 "metadata": {
  "kernelspec": {
   "display_name": "Python 3 (ipykernel)",
   "language": "python",
   "name": "python3"
  },
  "language_info": {
   "codemirror_mode": {
    "name": "ipython",
    "version": 3
   },
   "file_extension": ".py",
   "mimetype": "text/x-python",
   "name": "python",
   "nbconvert_exporter": "python",
   "pygments_lexer": "ipython3",
   "version": "3.12.7"
  }
 },
 "nbformat": 4,
 "nbformat_minor": 5
}
