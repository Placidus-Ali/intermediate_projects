{
 "cells": [
  {
   "cell_type": "code",
   "execution_count": 1,
   "id": "bcdbf809-e21d-4a1e-a280-5aec94dc3f63",
   "metadata": {},
   "outputs": [],
   "source": [
    "import pandas as pd\n",
    "import numpy as np"
   ]
  },
  {
   "cell_type": "code",
   "execution_count": 2,
   "id": "7680edff-0a9d-4a89-86e0-6993cbdbe1c1",
   "metadata": {},
   "outputs": [
    {
     "data": {
      "text/html": [
       "<div>\n",
       "<style scoped>\n",
       "    .dataframe tbody tr th:only-of-type {\n",
       "        vertical-align: middle;\n",
       "    }\n",
       "\n",
       "    .dataframe tbody tr th {\n",
       "        vertical-align: top;\n",
       "    }\n",
       "\n",
       "    .dataframe thead th {\n",
       "        text-align: right;\n",
       "    }\n",
       "</style>\n",
       "<table border=\"1\" class=\"dataframe\">\n",
       "  <thead>\n",
       "    <tr style=\"text-align: right;\">\n",
       "      <th></th>\n",
       "      <th>First_name</th>\n",
       "      <th>Last_name</th>\n",
       "      <th>Business_Name_here</th>\n",
       "      <th>Employer_Address_Line1</th>\n",
       "      <th>Employer_City</th>\n",
       "      <th>Employer_Location</th>\n",
       "      <th>Employer_Postal_Code</th>\n",
       "      <th>Employer_Country</th>\n",
       "      <th>Last name</th>\n",
       "    </tr>\n",
       "  </thead>\n",
       "  <tbody>\n",
       "    <tr>\n",
       "      <th>0</th>\n",
       "      <td>Gary</td>\n",
       "      <td>Roush</td>\n",
       "      <td>Roush, Gary</td>\n",
       "      <td>176 Highview Rd</td>\n",
       "      <td>Traverse City</td>\n",
       "      <td>Michigan</td>\n",
       "      <td>49686</td>\n",
       "      <td>United States</td>\n",
       "      <td>NaN</td>\n",
       "    </tr>\n",
       "    <tr>\n",
       "      <th>1</th>\n",
       "      <td>Josh</td>\n",
       "      <td>Hollister</td>\n",
       "      <td>Hollister, Josh</td>\n",
       "      <td>NaN</td>\n",
       "      <td>Interlochen</td>\n",
       "      <td>Michigan</td>\n",
       "      <td>NaN</td>\n",
       "      <td>United States</td>\n",
       "      <td>NaN</td>\n",
       "    </tr>\n",
       "    <tr>\n",
       "      <th>2</th>\n",
       "      <td>Chris H</td>\n",
       "      <td>Christensen</td>\n",
       "      <td>Christensen, Chris H</td>\n",
       "      <td>534 E Front St</td>\n",
       "      <td>Traverse City</td>\n",
       "      <td>Michigan</td>\n",
       "      <td>49686</td>\n",
       "      <td>United States</td>\n",
       "      <td>NaN</td>\n",
       "    </tr>\n",
       "    <tr>\n",
       "      <th>3</th>\n",
       "      <td>Jerry</td>\n",
       "      <td>Niezgoda</td>\n",
       "      <td>Niezgoda, Jerry</td>\n",
       "      <td>966 N West Silver Lake Rd</td>\n",
       "      <td>Traverse City</td>\n",
       "      <td>Michigan</td>\n",
       "      <td>49685</td>\n",
       "      <td>United States</td>\n",
       "      <td>NaN</td>\n",
       "    </tr>\n",
       "    <tr>\n",
       "      <th>4</th>\n",
       "      <td>George</td>\n",
       "      <td>Geer</td>\n",
       "      <td>Geers, George W</td>\n",
       "      <td>1002 Rose St</td>\n",
       "      <td>Traverse City</td>\n",
       "      <td>Michigan</td>\n",
       "      <td>49686</td>\n",
       "      <td>United States</td>\n",
       "      <td>NaN</td>\n",
       "    </tr>\n",
       "  </tbody>\n",
       "</table>\n",
       "</div>"
      ],
      "text/plain": [
       "  First_name    Last_name    Business_Name_here     Employer_Address_Line1  \\\n",
       "0       Gary        Roush           Roush, Gary            176 Highview Rd   \n",
       "1       Josh    Hollister       Hollister, Josh                        NaN   \n",
       "2    Chris H  Christensen  Christensen, Chris H             534 E Front St   \n",
       "3      Jerry     Niezgoda       Niezgoda, Jerry  966 N West Silver Lake Rd   \n",
       "4     George         Geer       Geers, George W               1002 Rose St   \n",
       "\n",
       "   Employer_City Employer_Location Employer_Postal_Code Employer_Country  \\\n",
       "0  Traverse City          Michigan                49686    United States   \n",
       "1    Interlochen          Michigan                  NaN    United States   \n",
       "2  Traverse City          Michigan                49686    United States   \n",
       "3  Traverse City          Michigan                49685    United States   \n",
       "4  Traverse City          Michigan                49686    United States   \n",
       "\n",
       "   Last name  \n",
       "0        NaN  \n",
       "1        NaN  \n",
       "2        NaN  \n",
       "3        NaN  \n",
       "4        NaN  "
      ]
     },
     "execution_count": 2,
     "metadata": {},
     "output_type": "execute_result"
    }
   ],
   "source": [
    "df1 = pd.read_excel('All_members.xlsx')\n",
    "df1.head()"
   ]
  },
  {
   "cell_type": "code",
   "execution_count": 7,
   "id": "3a511408-66f2-4e2a-9a6e-11d037284331",
   "metadata": {},
   "outputs": [
    {
     "data": {
      "text/plain": [
       "(1123, 9)"
      ]
     },
     "execution_count": 7,
     "metadata": {},
     "output_type": "execute_result"
    }
   ],
   "source": [
    "df1.shape"
   ]
  },
  {
   "cell_type": "code",
   "execution_count": 15,
   "id": "9a5d8071-652d-4119-a9f9-15e0aca904db",
   "metadata": {},
   "outputs": [
    {
     "data": {
      "text/plain": [
       "1"
      ]
     },
     "execution_count": 15,
     "metadata": {},
     "output_type": "execute_result"
    }
   ],
   "source": [
    "df1.duplicated().sum()"
   ]
  },
  {
   "cell_type": "code",
   "execution_count": 3,
   "id": "96546038-e10b-477d-9fe9-610e58e987e3",
   "metadata": {},
   "outputs": [
    {
     "data": {
      "text/html": [
       "<div>\n",
       "<style scoped>\n",
       "    .dataframe tbody tr th:only-of-type {\n",
       "        vertical-align: middle;\n",
       "    }\n",
       "\n",
       "    .dataframe tbody tr th {\n",
       "        vertical-align: top;\n",
       "    }\n",
       "\n",
       "    .dataframe thead th {\n",
       "        text-align: right;\n",
       "    }\n",
       "</style>\n",
       "<table border=\"1\" class=\"dataframe\">\n",
       "  <thead>\n",
       "    <tr style=\"text-align: right;\">\n",
       "      <th></th>\n",
       "      <th>MemberName</th>\n",
       "      <th>First_name</th>\n",
       "      <th>Last_name</th>\n",
       "      <th>Street Address 1</th>\n",
       "      <th>City</th>\n",
       "      <th>State</th>\n",
       "      <th>Zip Code</th>\n",
       "      <th>Unnamed: 7</th>\n",
       "    </tr>\n",
       "  </thead>\n",
       "  <tbody>\n",
       "    <tr>\n",
       "      <th>0</th>\n",
       "      <td>1, 2, Tree LLC</td>\n",
       "      <td>Jacob</td>\n",
       "      <td>Anderson</td>\n",
       "      <td>672 Oakhurst Ave NW</td>\n",
       "      <td>Grand Rapids</td>\n",
       "      <td>MI</td>\n",
       "      <td>495044662</td>\n",
       "      <td>49504.0</td>\n",
       "    </tr>\n",
       "    <tr>\n",
       "      <th>1</th>\n",
       "      <td>1021-1023 Sheridan LLC</td>\n",
       "      <td>Jesse</td>\n",
       "      <td>Gibson</td>\n",
       "      <td>10705 Courtland Dr NE</td>\n",
       "      <td>Rockford</td>\n",
       "      <td>MI</td>\n",
       "      <td>49341-8435</td>\n",
       "      <td>49341.0</td>\n",
       "    </tr>\n",
       "    <tr>\n",
       "      <th>2</th>\n",
       "      <td>1498 Lake Dr LLC</td>\n",
       "      <td>Merribeth</td>\n",
       "      <td>Jammal</td>\n",
       "      <td>1169 Fallingbrook Dr SE</td>\n",
       "      <td>Kentwood</td>\n",
       "      <td>MI</td>\n",
       "      <td>49508-6246</td>\n",
       "      <td>49508.0</td>\n",
       "    </tr>\n",
       "    <tr>\n",
       "      <th>3</th>\n",
       "      <td>1lasteye llc</td>\n",
       "      <td>Melissa</td>\n",
       "      <td>King</td>\n",
       "      <td>184 Highland View Ct NE</td>\n",
       "      <td>Rockford</td>\n",
       "      <td>MI</td>\n",
       "      <td>49341-1171</td>\n",
       "      <td>49341.0</td>\n",
       "    </tr>\n",
       "    <tr>\n",
       "      <th>4</th>\n",
       "      <td>2027 Plainfield NE, LLC</td>\n",
       "      <td>Harold</td>\n",
       "      <td>Roundhouse</td>\n",
       "      <td>2011 Plainfield Ave NE #2</td>\n",
       "      <td>Grand Rapids</td>\n",
       "      <td>MI</td>\n",
       "      <td>495054201</td>\n",
       "      <td>49505.0</td>\n",
       "    </tr>\n",
       "  </tbody>\n",
       "</table>\n",
       "</div>"
      ],
      "text/plain": [
       "                MemberName First_name   Last_name           Street Address 1  \\\n",
       "0           1, 2, Tree LLC      Jacob    Anderson        672 Oakhurst Ave NW   \n",
       "1   1021-1023 Sheridan LLC      Jesse      Gibson      10705 Courtland Dr NE   \n",
       "2         1498 Lake Dr LLC  Merribeth      Jammal    1169 Fallingbrook Dr SE   \n",
       "3             1lasteye llc    Melissa        King    184 Highland View Ct NE   \n",
       "4  2027 Plainfield NE, LLC     Harold  Roundhouse  2011 Plainfield Ave NE #2   \n",
       "\n",
       "           City State    Zip Code  Unnamed: 7  \n",
       "0  Grand Rapids    MI   495044662     49504.0  \n",
       "1      Rockford    MI  49341-8435     49341.0  \n",
       "2      Kentwood    MI  49508-6246     49508.0  \n",
       "3      Rockford    MI  49341-1171     49341.0  \n",
       "4  Grand Rapids    MI   495054201     49505.0  "
      ]
     },
     "execution_count": 3,
     "metadata": {},
     "output_type": "execute_result"
    }
   ],
   "source": [
    "df2 = pd.read_excel('Active_members.xlsx')\n",
    "df2.head()"
   ]
  },
  {
   "cell_type": "code",
   "execution_count": 9,
   "id": "4e633a7f-1857-4b27-9aff-10848735d7f1",
   "metadata": {},
   "outputs": [
    {
     "data": {
      "text/plain": [
       "(1698, 8)"
      ]
     },
     "execution_count": 9,
     "metadata": {},
     "output_type": "execute_result"
    }
   ],
   "source": [
    "df2.shape"
   ]
  },
  {
   "cell_type": "code",
   "execution_count": 17,
   "id": "d324bc2b-39c8-4d4b-832d-0d3746275edf",
   "metadata": {},
   "outputs": [
    {
     "data": {
      "text/plain": [
       "6"
      ]
     },
     "execution_count": 17,
     "metadata": {},
     "output_type": "execute_result"
    }
   ],
   "source": [
    "df2.duplicated().sum()"
   ]
  },
  {
   "cell_type": "code",
   "execution_count": 21,
   "id": "29205e2a-d8f5-4b59-bbb7-c44e876eaccc",
   "metadata": {},
   "outputs": [],
   "source": [
    "Merge = df2.merge(df1, on=['First_name', 'Last_name'], how='left', indicator=True)"
   ]
  },
  {
   "cell_type": "code",
   "execution_count": 23,
   "id": "65288948-f276-4c81-bb1e-03e086805cdc",
   "metadata": {},
   "outputs": [
    {
     "data": {
      "text/plain": [
       "(1707, 16)"
      ]
     },
     "execution_count": 23,
     "metadata": {},
     "output_type": "execute_result"
    }
   ],
   "source": [
    "Merge.shape"
   ]
  },
  {
   "cell_type": "code",
   "execution_count": 27,
   "id": "4408d3b7-7f9c-46fb-bbd9-71158b72ffa8",
   "metadata": {},
   "outputs": [],
   "source": [
    "not_in_all_memeber= Merge[Merge['_merge'] == 'left_only']\n"
   ]
  },
  {
   "cell_type": "code",
   "execution_count": 33,
   "id": "a6bd8f3d-7b52-4e77-bbc9-5f882f1975c5",
   "metadata": {},
   "outputs": [
    {
     "data": {
      "text/plain": [
       "(820, 16)"
      ]
     },
     "execution_count": 33,
     "metadata": {},
     "output_type": "execute_result"
    }
   ],
   "source": [
    "not_in_all_memeber.shape"
   ]
  },
  {
   "cell_type": "code",
   "execution_count": 35,
   "id": "c7f2519e-2777-4369-b091-77cc306d9d1d",
   "metadata": {},
   "outputs": [
    {
     "data": {
      "text/plain": [
       "1"
      ]
     },
     "execution_count": 35,
     "metadata": {},
     "output_type": "execute_result"
    }
   ],
   "source": [
    "not_in_all_memeber.duplicated().sum()"
   ]
  },
  {
   "cell_type": "code",
   "execution_count": 37,
   "id": "dddb0616-9e4e-4162-aab5-a18bd5f2bbe3",
   "metadata": {},
   "outputs": [],
   "source": [
    "not_in_all_memeber = not_in_all_memeber.drop(columns='_merge')"
   ]
  },
  {
   "cell_type": "code",
   "execution_count": 39,
   "id": "7a2710a3-b7e7-4f0a-a9d9-ed7aa113babe",
   "metadata": {},
   "outputs": [
    {
     "data": {
      "text/html": [
       "<div>\n",
       "<style scoped>\n",
       "    .dataframe tbody tr th:only-of-type {\n",
       "        vertical-align: middle;\n",
       "    }\n",
       "\n",
       "    .dataframe tbody tr th {\n",
       "        vertical-align: top;\n",
       "    }\n",
       "\n",
       "    .dataframe thead th {\n",
       "        text-align: right;\n",
       "    }\n",
       "</style>\n",
       "<table border=\"1\" class=\"dataframe\">\n",
       "  <thead>\n",
       "    <tr style=\"text-align: right;\">\n",
       "      <th></th>\n",
       "      <th>MemberName</th>\n",
       "      <th>First_name</th>\n",
       "      <th>Last_name</th>\n",
       "      <th>Street Address 1</th>\n",
       "      <th>City</th>\n",
       "      <th>State</th>\n",
       "      <th>Zip Code</th>\n",
       "      <th>Unnamed: 7</th>\n",
       "      <th>Business_Name_here</th>\n",
       "      <th>Employer_Address_Line1</th>\n",
       "      <th>Employer_City</th>\n",
       "      <th>Employer_Location</th>\n",
       "      <th>Employer_Postal_Code</th>\n",
       "      <th>Employer_Country</th>\n",
       "      <th>Last name</th>\n",
       "    </tr>\n",
       "  </thead>\n",
       "  <tbody>\n",
       "    <tr>\n",
       "      <th>1</th>\n",
       "      <td>1021-1023 Sheridan LLC</td>\n",
       "      <td>Jesse</td>\n",
       "      <td>Gibson</td>\n",
       "      <td>10705 Courtland Dr NE</td>\n",
       "      <td>Rockford</td>\n",
       "      <td>MI</td>\n",
       "      <td>49341-8435</td>\n",
       "      <td>49341.0</td>\n",
       "      <td>NaN</td>\n",
       "      <td>NaN</td>\n",
       "      <td>NaN</td>\n",
       "      <td>NaN</td>\n",
       "      <td>NaN</td>\n",
       "      <td>NaN</td>\n",
       "      <td>NaN</td>\n",
       "    </tr>\n",
       "    <tr>\n",
       "      <th>3</th>\n",
       "      <td>1lasteye llc</td>\n",
       "      <td>Melissa</td>\n",
       "      <td>King</td>\n",
       "      <td>184 Highland View Ct NE</td>\n",
       "      <td>Rockford</td>\n",
       "      <td>MI</td>\n",
       "      <td>49341-1171</td>\n",
       "      <td>49341.0</td>\n",
       "      <td>NaN</td>\n",
       "      <td>NaN</td>\n",
       "      <td>NaN</td>\n",
       "      <td>NaN</td>\n",
       "      <td>NaN</td>\n",
       "      <td>NaN</td>\n",
       "      <td>NaN</td>\n",
       "    </tr>\n",
       "    <tr>\n",
       "      <th>9</th>\n",
       "      <td>541 Lovett LLC</td>\n",
       "      <td>Linda</td>\n",
       "      <td>Najar</td>\n",
       "      <td>530 Lovett Ave SE</td>\n",
       "      <td>Grand Rapids</td>\n",
       "      <td>MI</td>\n",
       "      <td>49506-2916</td>\n",
       "      <td>49506.0</td>\n",
       "      <td>NaN</td>\n",
       "      <td>NaN</td>\n",
       "      <td>NaN</td>\n",
       "      <td>NaN</td>\n",
       "      <td>NaN</td>\n",
       "      <td>NaN</td>\n",
       "      <td>NaN</td>\n",
       "    </tr>\n",
       "    <tr>\n",
       "      <th>10</th>\n",
       "      <td>616 Realty</td>\n",
       "      <td>Scot</td>\n",
       "      <td>Kellogg</td>\n",
       "      <td>1171 Plainfield NE</td>\n",
       "      <td>Grand Rapids</td>\n",
       "      <td>MI</td>\n",
       "      <td>495031035</td>\n",
       "      <td>49503.0</td>\n",
       "      <td>NaN</td>\n",
       "      <td>NaN</td>\n",
       "      <td>NaN</td>\n",
       "      <td>NaN</td>\n",
       "      <td>NaN</td>\n",
       "      <td>NaN</td>\n",
       "      <td>NaN</td>\n",
       "    </tr>\n",
       "    <tr>\n",
       "      <th>11</th>\n",
       "      <td>616 Remodeling</td>\n",
       "      <td>Nate</td>\n",
       "      <td>Bohlman</td>\n",
       "      <td>7476 Cherry Ave</td>\n",
       "      <td>Jenison</td>\n",
       "      <td>MI</td>\n",
       "      <td>49428</td>\n",
       "      <td>49428.0</td>\n",
       "      <td>NaN</td>\n",
       "      <td>NaN</td>\n",
       "      <td>NaN</td>\n",
       "      <td>NaN</td>\n",
       "      <td>NaN</td>\n",
       "      <td>NaN</td>\n",
       "      <td>NaN</td>\n",
       "    </tr>\n",
       "    <tr>\n",
       "      <th>...</th>\n",
       "      <td>...</td>\n",
       "      <td>...</td>\n",
       "      <td>...</td>\n",
       "      <td>...</td>\n",
       "      <td>...</td>\n",
       "      <td>...</td>\n",
       "      <td>...</td>\n",
       "      <td>...</td>\n",
       "      <td>...</td>\n",
       "      <td>...</td>\n",
       "      <td>...</td>\n",
       "      <td>...</td>\n",
       "      <td>...</td>\n",
       "      <td>...</td>\n",
       "      <td>...</td>\n",
       "    </tr>\n",
       "    <tr>\n",
       "      <th>1701</th>\n",
       "      <td>Zoejoe Holdings LLC</td>\n",
       "      <td>Brian</td>\n",
       "      <td>Todey</td>\n",
       "      <td>926 Dogwood Meadows</td>\n",
       "      <td>Ada</td>\n",
       "      <td>MI</td>\n",
       "      <td>49301-9438</td>\n",
       "      <td>49301.0</td>\n",
       "      <td>NaN</td>\n",
       "      <td>NaN</td>\n",
       "      <td>NaN</td>\n",
       "      <td>NaN</td>\n",
       "      <td>NaN</td>\n",
       "      <td>NaN</td>\n",
       "      <td>NaN</td>\n",
       "    </tr>\n",
       "    <tr>\n",
       "      <th>1702</th>\n",
       "      <td>Zokoe, Laurie</td>\n",
       "      <td>Laurie</td>\n",
       "      <td>Zokoe</td>\n",
       "      <td>12685 14th Ave NW</td>\n",
       "      <td>Grand Rapids</td>\n",
       "      <td>MI</td>\n",
       "      <td>49534-9711</td>\n",
       "      <td>49534.0</td>\n",
       "      <td>NaN</td>\n",
       "      <td>NaN</td>\n",
       "      <td>NaN</td>\n",
       "      <td>NaN</td>\n",
       "      <td>NaN</td>\n",
       "      <td>NaN</td>\n",
       "      <td>NaN</td>\n",
       "    </tr>\n",
       "    <tr>\n",
       "      <th>1703</th>\n",
       "      <td>Zsidi, Matt</td>\n",
       "      <td>Matt</td>\n",
       "      <td>Zsidi</td>\n",
       "      <td>1597 N 10th St</td>\n",
       "      <td>Kalamazoo</td>\n",
       "      <td>MI</td>\n",
       "      <td>490099181</td>\n",
       "      <td>49009.0</td>\n",
       "      <td>NaN</td>\n",
       "      <td>NaN</td>\n",
       "      <td>NaN</td>\n",
       "      <td>NaN</td>\n",
       "      <td>NaN</td>\n",
       "      <td>NaN</td>\n",
       "      <td>NaN</td>\n",
       "    </tr>\n",
       "    <tr>\n",
       "      <th>1704</th>\n",
       "      <td>Zuidema Hills LLC</td>\n",
       "      <td>Michele</td>\n",
       "      <td>Zuidema</td>\n",
       "      <td>9081 Conservation St NE</td>\n",
       "      <td>Ada</td>\n",
       "      <td>MI</td>\n",
       "      <td>49301-9797</td>\n",
       "      <td>49301.0</td>\n",
       "      <td>NaN</td>\n",
       "      <td>NaN</td>\n",
       "      <td>NaN</td>\n",
       "      <td>NaN</td>\n",
       "      <td>NaN</td>\n",
       "      <td>NaN</td>\n",
       "      <td>NaN</td>\n",
       "    </tr>\n",
       "    <tr>\n",
       "      <th>1705</th>\n",
       "      <td>Zylstra, Diane</td>\n",
       "      <td>Diane</td>\n",
       "      <td>Zylstra</td>\n",
       "      <td>126 N Lake St SE</td>\n",
       "      <td>Caledonia</td>\n",
       "      <td>MI</td>\n",
       "      <td>49316-9443</td>\n",
       "      <td>49316.0</td>\n",
       "      <td>NaN</td>\n",
       "      <td>NaN</td>\n",
       "      <td>NaN</td>\n",
       "      <td>NaN</td>\n",
       "      <td>NaN</td>\n",
       "      <td>NaN</td>\n",
       "      <td>NaN</td>\n",
       "    </tr>\n",
       "  </tbody>\n",
       "</table>\n",
       "<p>820 rows × 15 columns</p>\n",
       "</div>"
      ],
      "text/plain": [
       "                  MemberName First_name Last_name         Street Address 1  \\\n",
       "1     1021-1023 Sheridan LLC      Jesse    Gibson    10705 Courtland Dr NE   \n",
       "3               1lasteye llc    Melissa      King  184 Highland View Ct NE   \n",
       "9             541 Lovett LLC      Linda     Najar        530 Lovett Ave SE   \n",
       "10                616 Realty       Scot   Kellogg       1171 Plainfield NE   \n",
       "11            616 Remodeling       Nate   Bohlman          7476 Cherry Ave   \n",
       "...                      ...        ...       ...                      ...   \n",
       "1701     Zoejoe Holdings LLC      Brian     Todey      926 Dogwood Meadows   \n",
       "1702           Zokoe, Laurie     Laurie     Zokoe        12685 14th Ave NW   \n",
       "1703             Zsidi, Matt       Matt     Zsidi           1597 N 10th St   \n",
       "1704       Zuidema Hills LLC    Michele   Zuidema  9081 Conservation St NE   \n",
       "1705          Zylstra, Diane      Diane   Zylstra         126 N Lake St SE   \n",
       "\n",
       "              City State    Zip Code  Unnamed: 7 Business_Name_here  \\\n",
       "1         Rockford    MI  49341-8435     49341.0                NaN   \n",
       "3         Rockford    MI  49341-1171     49341.0                NaN   \n",
       "9     Grand Rapids    MI  49506-2916     49506.0                NaN   \n",
       "10    Grand Rapids    MI   495031035     49503.0                NaN   \n",
       "11         Jenison    MI       49428     49428.0                NaN   \n",
       "...            ...   ...         ...         ...                ...   \n",
       "1701           Ada    MI  49301-9438     49301.0                NaN   \n",
       "1702  Grand Rapids    MI  49534-9711     49534.0                NaN   \n",
       "1703     Kalamazoo    MI   490099181     49009.0                NaN   \n",
       "1704           Ada    MI  49301-9797     49301.0                NaN   \n",
       "1705     Caledonia    MI  49316-9443     49316.0                NaN   \n",
       "\n",
       "     Employer_Address_Line1 Employer_City Employer_Location  \\\n",
       "1                       NaN           NaN               NaN   \n",
       "3                       NaN           NaN               NaN   \n",
       "9                       NaN           NaN               NaN   \n",
       "10                      NaN           NaN               NaN   \n",
       "11                      NaN           NaN               NaN   \n",
       "...                     ...           ...               ...   \n",
       "1701                    NaN           NaN               NaN   \n",
       "1702                    NaN           NaN               NaN   \n",
       "1703                    NaN           NaN               NaN   \n",
       "1704                    NaN           NaN               NaN   \n",
       "1705                    NaN           NaN               NaN   \n",
       "\n",
       "     Employer_Postal_Code Employer_Country  Last name  \n",
       "1                     NaN              NaN        NaN  \n",
       "3                     NaN              NaN        NaN  \n",
       "9                     NaN              NaN        NaN  \n",
       "10                    NaN              NaN        NaN  \n",
       "11                    NaN              NaN        NaN  \n",
       "...                   ...              ...        ...  \n",
       "1701                  NaN              NaN        NaN  \n",
       "1702                  NaN              NaN        NaN  \n",
       "1703                  NaN              NaN        NaN  \n",
       "1704                  NaN              NaN        NaN  \n",
       "1705                  NaN              NaN        NaN  \n",
       "\n",
       "[820 rows x 15 columns]"
      ]
     },
     "execution_count": 39,
     "metadata": {},
     "output_type": "execute_result"
    }
   ],
   "source": [
    "not_in_all_memeber"
   ]
  },
  {
   "cell_type": "code",
   "execution_count": 43,
   "id": "4ba7a0a8-9f5b-4d07-ad39-6b766db56689",
   "metadata": {},
   "outputs": [],
   "source": [
    "not_in_all_memeber.to_csv('C:/Users/STUTERN/Downloads/Employees.csv', index=False)"
   ]
  },
  {
   "cell_type": "code",
   "execution_count": null,
   "id": "2782b844-a74d-48c6-b393-a6b28fd96d0f",
   "metadata": {},
   "outputs": [],
   "source": []
  }
 ],
 "metadata": {
  "kernelspec": {
   "display_name": "Python 3 (ipykernel)",
   "language": "python",
   "name": "python3"
  },
  "language_info": {
   "codemirror_mode": {
    "name": "ipython",
    "version": 3
   },
   "file_extension": ".py",
   "mimetype": "text/x-python",
   "name": "python",
   "nbconvert_exporter": "python",
   "pygments_lexer": "ipython3",
   "version": "3.12.7"
  }
 },
 "nbformat": 4,
 "nbformat_minor": 5
}
