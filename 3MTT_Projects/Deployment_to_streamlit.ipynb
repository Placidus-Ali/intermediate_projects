{
 "cells": [
  {
   "cell_type": "code",
   "execution_count": 11,
   "id": "878be3ba",
   "metadata": {},
   "outputs": [
    {
     "name": "stdout",
     "output_type": "stream",
     "text": [
      "Streamlit Installed Successfully\n"
     ]
    }
   ],
   "source": [
    "#!pip install streamlit\n",
    "print('Streamlit Installed Successfully')"
   ]
  },
  {
   "cell_type": "code",
   "execution_count": 7,
   "id": "b79d7e65",
   "metadata": {},
   "outputs": [],
   "source": [
    "import streamlit as st\n",
    "import joblib\n",
    "import numpy as np"
   ]
  },
  {
   "cell_type": "code",
   "execution_count": 8,
   "id": "f3fc751f",
   "metadata": {},
   "outputs": [],
   "source": [
    "# Load the pre-trained model and scaler\n",
    "model = joblib.load('random_forest_model.joblib')\n",
    "scaler = joblib.load('scaler_object.sav')"
   ]
  },
  {
   "cell_type": "code",
   "execution_count": 9,
   "id": "7650c9fc",
   "metadata": {},
   "outputs": [
    {
     "name": "stderr",
     "output_type": "stream",
     "text": [
      "2024-10-26 21:08:14.069 WARNING streamlit.runtime.scriptrunner_utils.script_run_context: Thread 'MainThread': missing ScriptRunContext! This warning can be ignored when running in bare mode.\n",
      "2024-10-26 21:08:15.029 \n",
      "  \u001b[33m\u001b[1mWarning:\u001b[0m to view this Streamlit app on a browser, run it with the following\n",
      "  command:\n",
      "\n",
      "    streamlit run C:\\ProgramData\\Anaconda3\\lib\\site-packages\\ipykernel_launcher.py [ARGUMENTS]\n",
      "2024-10-26 21:08:15.032 Thread 'MainThread': missing ScriptRunContext! This warning can be ignored when running in bare mode.\n",
      "2024-10-26 21:08:15.035 Thread 'MainThread': missing ScriptRunContext! This warning can be ignored when running in bare mode.\n",
      "2024-10-26 21:08:15.043 Thread 'MainThread': missing ScriptRunContext! This warning can be ignored when running in bare mode.\n",
      "2024-10-26 21:08:15.046 Thread 'MainThread': missing ScriptRunContext! This warning can be ignored when running in bare mode.\n",
      "2024-10-26 21:08:15.055 Thread 'MainThread': missing ScriptRunContext! This warning can be ignored when running in bare mode.\n",
      "2024-10-26 21:08:15.065 Thread 'MainThread': missing ScriptRunContext! This warning can be ignored when running in bare mode.\n",
      "2024-10-26 21:08:15.070 Thread 'MainThread': missing ScriptRunContext! This warning can be ignored when running in bare mode.\n",
      "2024-10-26 21:08:15.075 Thread 'MainThread': missing ScriptRunContext! This warning can be ignored when running in bare mode.\n",
      "2024-10-26 21:08:15.083 Thread 'MainThread': missing ScriptRunContext! This warning can be ignored when running in bare mode.\n",
      "2024-10-26 21:08:15.095 Thread 'MainThread': missing ScriptRunContext! This warning can be ignored when running in bare mode.\n",
      "2024-10-26 21:08:15.109 Thread 'MainThread': missing ScriptRunContext! This warning can be ignored when running in bare mode.\n",
      "2024-10-26 21:08:15.110 Session state does not function when running a script without `streamlit run`\n",
      "2024-10-26 21:08:15.113 Thread 'MainThread': missing ScriptRunContext! This warning can be ignored when running in bare mode.\n",
      "2024-10-26 21:08:15.118 Thread 'MainThread': missing ScriptRunContext! This warning can be ignored when running in bare mode.\n",
      "2024-10-26 21:08:15.122 Thread 'MainThread': missing ScriptRunContext! This warning can be ignored when running in bare mode.\n",
      "2024-10-26 21:08:15.124 Thread 'MainThread': missing ScriptRunContext! This warning can be ignored when running in bare mode.\n",
      "2024-10-26 21:08:15.126 Thread 'MainThread': missing ScriptRunContext! This warning can be ignored when running in bare mode.\n",
      "2024-10-26 21:08:15.131 Thread 'MainThread': missing ScriptRunContext! This warning can be ignored when running in bare mode.\n",
      "2024-10-26 21:08:15.135 Thread 'MainThread': missing ScriptRunContext! This warning can be ignored when running in bare mode.\n",
      "2024-10-26 21:08:15.139 Thread 'MainThread': missing ScriptRunContext! This warning can be ignored when running in bare mode.\n",
      "2024-10-26 21:08:15.141 Thread 'MainThread': missing ScriptRunContext! This warning can be ignored when running in bare mode.\n",
      "2024-10-26 21:08:15.143 Thread 'MainThread': missing ScriptRunContext! This warning can be ignored when running in bare mode.\n",
      "2024-10-26 21:08:15.145 Thread 'MainThread': missing ScriptRunContext! This warning can be ignored when running in bare mode.\n",
      "2024-10-26 21:08:15.149 Thread 'MainThread': missing ScriptRunContext! This warning can be ignored when running in bare mode.\n",
      "2024-10-26 21:08:15.152 Thread 'MainThread': missing ScriptRunContext! This warning can be ignored when running in bare mode.\n",
      "2024-10-26 21:08:15.154 Thread 'MainThread': missing ScriptRunContext! This warning can be ignored when running in bare mode.\n",
      "2024-10-26 21:08:15.157 Thread 'MainThread': missing ScriptRunContext! This warning can be ignored when running in bare mode.\n",
      "2024-10-26 21:08:15.159 Thread 'MainThread': missing ScriptRunContext! This warning can be ignored when running in bare mode.\n",
      "2024-10-26 21:08:15.162 Thread 'MainThread': missing ScriptRunContext! This warning can be ignored when running in bare mode.\n",
      "2024-10-26 21:08:15.164 Thread 'MainThread': missing ScriptRunContext! This warning can be ignored when running in bare mode.\n",
      "2024-10-26 21:08:15.166 Thread 'MainThread': missing ScriptRunContext! This warning can be ignored when running in bare mode.\n",
      "2024-10-26 21:08:15.170 Thread 'MainThread': missing ScriptRunContext! This warning can be ignored when running in bare mode.\n",
      "C:\\ProgramData\\Anaconda3\\lib\\site-packages\\sklearn\\base.py:450: UserWarning: X does not have valid feature names, but StandardScaler was fitted with feature names\n",
      "  warnings.warn(\n",
      "2024-10-26 21:08:15.209 Thread 'MainThread': missing ScriptRunContext! This warning can be ignored when running in bare mode.\n",
      "2024-10-26 21:08:15.214 Thread 'MainThread': missing ScriptRunContext! This warning can be ignored when running in bare mode.\n",
      "2024-10-26 21:08:15.215 Thread 'MainThread': missing ScriptRunContext! This warning can be ignored when running in bare mode.\n",
      "2024-10-26 21:08:15.220 Thread 'MainThread': missing ScriptRunContext! This warning can be ignored when running in bare mode.\n",
      "2024-10-26 21:08:15.222 Thread 'MainThread': missing ScriptRunContext! This warning can be ignored when running in bare mode.\n",
      "2024-10-26 21:08:15.226 Thread 'MainThread': missing ScriptRunContext! This warning can be ignored when running in bare mode.\n",
      "2024-10-26 21:08:15.229 Thread 'MainThread': missing ScriptRunContext! This warning can be ignored when running in bare mode.\n",
      "2024-10-26 21:08:15.231 Thread 'MainThread': missing ScriptRunContext! This warning can be ignored when running in bare mode.\n",
      "2024-10-26 21:08:15.235 Thread 'MainThread': missing ScriptRunContext! This warning can be ignored when running in bare mode.\n"
     ]
    }
   ],
   "source": [
    "# Streamlit App\n",
    "st.title(\"Crop Yield Prediction App\")\n",
    "st.write(\"This app uses a Random Forest model to predict crop yield based on crop type, year, rainfall, and temperature.\")\n",
    "\n",
    "# Mapping for crop selection\n",
    "crop_mapping = {1: \"Cassava\", 2: \"Rice\", 3: \"Yam\"}\n",
    "\n",
    "# User inputs for prediction\n",
    "st.header(\"Enter the input values:\")\n",
    "\n",
    "# Crop selection\n",
    "crop_type = st.selectbox(\"Crop Type\", options=[1, 2, 3], format_func=lambda x: crop_mapping[x])\n",
    "\n",
    "# Year input\n",
    "year = st.number_input(\"Year\", min_value=1960, max_value=2030, value=2020, step=1)\n",
    "\n",
    "# Average Rainfall input\n",
    "rainfall = st.number_input(\"Average Rainfall (mm)\", min_value=0.0, max_value=2000.0, value=1000.0)\n",
    "\n",
    "# Average Temperature input\n",
    "temperature = st.number_input(\"Average Temperature (°C)\", min_value=-10.0, max_value=50.0, value=25.0)\n",
    "\n",
    "# Prepare input data for prediction\n",
    "input_data = np.array([[crop_type, year, rainfall, temperature]])\n",
    "\n",
    "# Scale the input data (excluding Crop and Year if they weren't scaled during training)\n",
    "scaled_data = scaler.transform(input_data)\n",
    "\n",
    "# Prediction\n",
    "if st.button(\"Predict Yield\"):\n",
    "    prediction = model.predict(scaled_data)\n",
    "    st.success(f\"The predicted crop yield is: {prediction[0]:.2f} kg/ha\")\n",
    "\n",
    "# Additional Information\n",
    "st.write(\"Note: Ensure that the input values are within a realistic range for accurate predictions.\")\n"
   ]
  },
  {
   "cell_type": "code",
   "execution_count": null,
   "id": "7f9ed4e6",
   "metadata": {},
   "outputs": [],
   "source": []
  },
  {
   "cell_type": "code",
   "execution_count": null,
   "id": "9ee547b6",
   "metadata": {},
   "outputs": [],
   "source": []
  },
  {
   "cell_type": "code",
   "execution_count": 10,
   "id": "e8971af1",
   "metadata": {},
   "outputs": [
    {
     "name": "stderr",
     "output_type": "stream",
     "text": [
      "Usage: streamlit run [OPTIONS] TARGET [ARGS]...\n",
      "Try 'streamlit run --help' for help.\n",
      "\n",
      "Error: Invalid value: File does not exist: app.py\n"
     ]
    }
   ],
   "source": [
    "!streamlit run app.py"
   ]
  },
  {
   "cell_type": "code",
   "execution_count": null,
   "id": "20c712ed",
   "metadata": {},
   "outputs": [],
   "source": []
  }
 ],
 "metadata": {
  "kernelspec": {
   "display_name": "Python 3 (ipykernel)",
   "language": "python",
   "name": "python3"
  },
  "language_info": {
   "codemirror_mode": {
    "name": "ipython",
    "version": 3
   },
   "file_extension": ".py",
   "mimetype": "text/x-python",
   "name": "python",
   "nbconvert_exporter": "python",
   "pygments_lexer": "ipython3",
   "version": "3.9.12"
  }
 },
 "nbformat": 4,
 "nbformat_minor": 5
}
