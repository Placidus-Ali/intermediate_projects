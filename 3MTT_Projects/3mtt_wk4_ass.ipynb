{
 "cells": [
  {
   "cell_type": "markdown",
   "id": "12f2185e",
   "metadata": {},
   "source": [
    "#### Week 4 Assignment\n",
    "Write a Python script that takes two numbers as input and performs basic arithmetic operations (addition, subtraction, multiplication, division)."
   ]
  },
  {
   "cell_type": "code",
   "execution_count": 1,
   "id": "0013d79b",
   "metadata": {},
   "outputs": [
    {
     "name": "stdout",
     "output_type": "stream",
     "text": [
      "Enter Number: 2\n",
      "Enter Number: 3\n",
      "5.0\n"
     ]
    }
   ],
   "source": [
    "#### Simple Addition Python Code\n",
    "\n",
    "num_1 = float(input(\"Enter Number: \"))\n",
    "num_2 = float(input(\"Enter Number: \"))\n",
    "result = (num_1 + num_2)\n",
    "print(result)"
   ]
  },
  {
   "cell_type": "code",
   "execution_count": 10,
   "id": "bcefb8f8",
   "metadata": {},
   "outputs": [
    {
     "name": "stdout",
     "output_type": "stream",
     "text": [
      "Enter number: 10\n",
      "20\n"
     ]
    }
   ],
   "source": [
    "def Addition(*a):\n",
    "    result = 10\n",
    "    for i in a:\n",
    "        num = int(input(\"Enter number: \"))\n",
    "        result = result + num\n",
    "    return result\n",
    "    \n",
    "numbers = Addition(2)  \n",
    "print(numbers)"
   ]
  },
  {
   "cell_type": "markdown",
   "id": "6796499c",
   "metadata": {},
   "source": [
    "I have 2 separate scritps for the addition task that takes 2 number 10 and 10. So 10 plus 10 gives 20 in each script."
   ]
  },
  {
   "cell_type": "code",
   "execution_count": 2,
   "id": "6167e0fe",
   "metadata": {},
   "outputs": [
    {
     "name": "stdout",
     "output_type": "stream",
     "text": [
      "Enter Number: 20\n",
      "Enter Number: 15\n",
      "5.0\n"
     ]
    }
   ],
   "source": [
    "#### Simple Substraction Python Code\n",
    "\n",
    "num_1 = float(input(\"Enter Number: \"))\n",
    "num_2 = float(input(\"Enter Number: \"))\n",
    "result = (num_1 - num_2)\n",
    "print(result)"
   ]
  },
  {
   "cell_type": "code",
   "execution_count": 12,
   "id": "c3e3c9da",
   "metadata": {},
   "outputs": [
    {
     "name": "stdout",
     "output_type": "stream",
     "text": [
      "Enter number: 10\n",
      "20\n"
     ]
    }
   ],
   "source": [
    "def Substraction(*a):\n",
    "    result = 30\n",
    "    for i in a:\n",
    "        num = int(input(\"Enter number: \"))\n",
    "        result = result - num\n",
    "    return result\n",
    "    \n",
    "numbers = Substraction(2)  \n",
    "print(numbers)"
   ]
  },
  {
   "cell_type": "markdown",
   "id": "48a5a339",
   "metadata": {},
   "source": [
    "For substraction task, I also have 2 separate scritps that takes 2 number 30 and 10. So 30 minus 10 to give 20 in each script."
   ]
  },
  {
   "cell_type": "code",
   "execution_count": 3,
   "id": "5d884997",
   "metadata": {},
   "outputs": [
    {
     "name": "stdout",
     "output_type": "stream",
     "text": [
      "Enter Number: 10\n",
      "Enter Number: 20\n",
      "200.0\n"
     ]
    }
   ],
   "source": [
    "#### Simple Multiplication Python Code\n",
    "\n",
    "num_1 = float(input(\"Enter Number: \"))\n",
    "num_2 = float(input(\"Enter Number: \"))\n",
    "result = (num_1 * num_2)\n",
    "print(result)"
   ]
  },
  {
   "cell_type": "code",
   "execution_count": 14,
   "id": "b6ddf37d",
   "metadata": {},
   "outputs": [
    {
     "name": "stdout",
     "output_type": "stream",
     "text": [
      "Enter number: 5\n",
      "25\n"
     ]
    }
   ],
   "source": [
    "def multiplication(*a):\n",
    "    result = 5\n",
    "    for i in a:\n",
    "        num = int(input(\"Enter number: \"))\n",
    "        result = result * num\n",
    "    return result\n",
    "    \n",
    "numbers = multiplication(2)  \n",
    "print(numbers)"
   ]
  },
  {
   "cell_type": "markdown",
   "id": "694e7a0d",
   "metadata": {},
   "source": [
    "So here I have 2 separate scritps for the multiplication task that takes 2 number 5 and 5 and multiply to give 25 in each script."
   ]
  },
  {
   "cell_type": "code",
   "execution_count": 15,
   "id": "d7cb38b2",
   "metadata": {},
   "outputs": [
    {
     "name": "stdout",
     "output_type": "stream",
     "text": [
      "Enter Number: 100\n",
      "Enter Number: 2\n",
      "50.0\n"
     ]
    }
   ],
   "source": [
    "#### Simple Division Python Code\n",
    "\n",
    "num_1 = float(input(\"Enter Number: \"))\n",
    "num_2 = float(input(\"Enter Number: \"))\n",
    "result = (num_1 / num_2)\n",
    "print(result)"
   ]
  },
  {
   "cell_type": "code",
   "execution_count": 16,
   "id": "b6b7453b",
   "metadata": {},
   "outputs": [
    {
     "name": "stdout",
     "output_type": "stream",
     "text": [
      "Enter number: 2\n",
      "50.0\n"
     ]
    }
   ],
   "source": [
    "def Division(*a):\n",
    "    result = 100\n",
    "    for i in a:\n",
    "        num = int(input(\"Enter number: \"))\n",
    "        result = result / num\n",
    "    return result\n",
    "    \n",
    "numbers = Division(2)  \n",
    "print(numbers)"
   ]
  },
  {
   "cell_type": "markdown",
   "id": "9e0e5888",
   "metadata": {},
   "source": [
    "I have 2 separate scritps for the division task that takes 2 number 100 and 2. So 100 will be divided by 2 to give 50 in each script."
   ]
  },
  {
   "cell_type": "code",
   "execution_count": null,
   "id": "de8db311",
   "metadata": {},
   "outputs": [],
   "source": []
  }
 ],
 "metadata": {
  "kernelspec": {
   "display_name": "Python 3 (ipykernel)",
   "language": "python",
   "name": "python3"
  },
  "language_info": {
   "codemirror_mode": {
    "name": "ipython",
    "version": 3
   },
   "file_extension": ".py",
   "mimetype": "text/x-python",
   "name": "python",
   "nbconvert_exporter": "python",
   "pygments_lexer": "ipython3",
   "version": "3.9.12"
  }
 },
 "nbformat": 4,
 "nbformat_minor": 5
}
