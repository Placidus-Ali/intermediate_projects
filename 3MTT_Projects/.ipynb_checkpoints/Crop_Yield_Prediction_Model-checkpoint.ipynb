{
 "cells": [
  {
   "cell_type": "markdown",
   "id": "2348e3b4",
   "metadata": {},
   "source": [
    "### Crop Yield Prediction Model"
   ]
  },
  {
   "cell_type": "code",
   "execution_count": 1,
   "id": "2400d798",
   "metadata": {},
   "outputs": [],
   "source": [
    "import numpy as np\n",
    "import pandas as pd\n",
    "import matplotlib.pyplot as plt\n",
    "import seaborn as sns"
   ]
  },
  {
   "cell_type": "code",
   "execution_count": 3,
   "id": "1f4bce85",
   "metadata": {},
   "outputs": [
    {
     "data": {
      "text/html": [
       "<div>\n",
       "<style scoped>\n",
       "    .dataframe tbody tr th:only-of-type {\n",
       "        vertical-align: middle;\n",
       "    }\n",
       "\n",
       "    .dataframe tbody tr th {\n",
       "        vertical-align: top;\n",
       "    }\n",
       "\n",
       "    .dataframe thead th {\n",
       "        text-align: right;\n",
       "    }\n",
       "</style>\n",
       "<table border=\"1\" class=\"dataframe\">\n",
       "  <thead>\n",
       "    <tr style=\"text-align: right;\">\n",
       "      <th></th>\n",
       "      <th>Domain Code</th>\n",
       "      <th>Domain</th>\n",
       "      <th>Area Code (M49)</th>\n",
       "      <th>Area</th>\n",
       "      <th>Element Code</th>\n",
       "      <th>Element</th>\n",
       "      <th>Item Code (CPC)</th>\n",
       "      <th>Item</th>\n",
       "      <th>Year Code</th>\n",
       "      <th>Year</th>\n",
       "      <th>Unit</th>\n",
       "      <th>Value</th>\n",
       "      <th>Flag</th>\n",
       "      <th>Flag Description</th>\n",
       "      <th>Note</th>\n",
       "    </tr>\n",
       "  </thead>\n",
       "  <tbody>\n",
       "    <tr>\n",
       "      <th>0</th>\n",
       "      <td>QCL</td>\n",
       "      <td>Crops and livestock products</td>\n",
       "      <td>566</td>\n",
       "      <td>Nigeria</td>\n",
       "      <td>5412</td>\n",
       "      <td>Yield</td>\n",
       "      <td>1520.01</td>\n",
       "      <td>Cassava, fresh</td>\n",
       "      <td>1961</td>\n",
       "      <td>1961</td>\n",
       "      <td>kg/ha</td>\n",
       "      <td>9466.7</td>\n",
       "      <td>A</td>\n",
       "      <td>Official figure</td>\n",
       "      <td>NaN</td>\n",
       "    </tr>\n",
       "    <tr>\n",
       "      <th>1</th>\n",
       "      <td>QCL</td>\n",
       "      <td>Crops and livestock products</td>\n",
       "      <td>566</td>\n",
       "      <td>Nigeria</td>\n",
       "      <td>5412</td>\n",
       "      <td>Yield</td>\n",
       "      <td>1520.01</td>\n",
       "      <td>Cassava, fresh</td>\n",
       "      <td>1962</td>\n",
       "      <td>1962</td>\n",
       "      <td>kg/ha</td>\n",
       "      <td>8766.5</td>\n",
       "      <td>A</td>\n",
       "      <td>Official figure</td>\n",
       "      <td>NaN</td>\n",
       "    </tr>\n",
       "    <tr>\n",
       "      <th>2</th>\n",
       "      <td>QCL</td>\n",
       "      <td>Crops and livestock products</td>\n",
       "      <td>566</td>\n",
       "      <td>Nigeria</td>\n",
       "      <td>5412</td>\n",
       "      <td>Yield</td>\n",
       "      <td>1520.01</td>\n",
       "      <td>Cassava, fresh</td>\n",
       "      <td>1963</td>\n",
       "      <td>1963</td>\n",
       "      <td>kg/ha</td>\n",
       "      <td>9716.6</td>\n",
       "      <td>A</td>\n",
       "      <td>Official figure</td>\n",
       "      <td>NaN</td>\n",
       "    </tr>\n",
       "    <tr>\n",
       "      <th>3</th>\n",
       "      <td>QCL</td>\n",
       "      <td>Crops and livestock products</td>\n",
       "      <td>566</td>\n",
       "      <td>Nigeria</td>\n",
       "      <td>5412</td>\n",
       "      <td>Yield</td>\n",
       "      <td>1520.01</td>\n",
       "      <td>Cassava, fresh</td>\n",
       "      <td>1964</td>\n",
       "      <td>1964</td>\n",
       "      <td>kg/ha</td>\n",
       "      <td>9174.7</td>\n",
       "      <td>A</td>\n",
       "      <td>Official figure</td>\n",
       "      <td>NaN</td>\n",
       "    </tr>\n",
       "    <tr>\n",
       "      <th>4</th>\n",
       "      <td>QCL</td>\n",
       "      <td>Crops and livestock products</td>\n",
       "      <td>566</td>\n",
       "      <td>Nigeria</td>\n",
       "      <td>5412</td>\n",
       "      <td>Yield</td>\n",
       "      <td>1520.01</td>\n",
       "      <td>Cassava, fresh</td>\n",
       "      <td>1965</td>\n",
       "      <td>1965</td>\n",
       "      <td>kg/ha</td>\n",
       "      <td>9869.7</td>\n",
       "      <td>A</td>\n",
       "      <td>Official figure</td>\n",
       "      <td>NaN</td>\n",
       "    </tr>\n",
       "  </tbody>\n",
       "</table>\n",
       "</div>"
      ],
      "text/plain": [
       "  Domain Code                        Domain  Area Code (M49)     Area  \\\n",
       "0         QCL  Crops and livestock products              566  Nigeria   \n",
       "1         QCL  Crops and livestock products              566  Nigeria   \n",
       "2         QCL  Crops and livestock products              566  Nigeria   \n",
       "3         QCL  Crops and livestock products              566  Nigeria   \n",
       "4         QCL  Crops and livestock products              566  Nigeria   \n",
       "\n",
       "   Element Code Element  Item Code (CPC)            Item  Year Code  Year  \\\n",
       "0          5412   Yield          1520.01  Cassava, fresh       1961  1961   \n",
       "1          5412   Yield          1520.01  Cassava, fresh       1962  1962   \n",
       "2          5412   Yield          1520.01  Cassava, fresh       1963  1963   \n",
       "3          5412   Yield          1520.01  Cassava, fresh       1964  1964   \n",
       "4          5412   Yield          1520.01  Cassava, fresh       1965  1965   \n",
       "\n",
       "    Unit   Value Flag Flag Description  Note  \n",
       "0  kg/ha  9466.7    A  Official figure   NaN  \n",
       "1  kg/ha  8766.5    A  Official figure   NaN  \n",
       "2  kg/ha  9716.6    A  Official figure   NaN  \n",
       "3  kg/ha  9174.7    A  Official figure   NaN  \n",
       "4  kg/ha  9869.7    A  Official figure   NaN  "
      ]
     },
     "execution_count": 3,
     "metadata": {},
     "output_type": "execute_result"
    }
   ],
   "source": [
    "crop_yield = pd.read_csv(\"FAOSTAT_crop_yield_dataset.csv\")\n",
    "crop_yield.head()"
   ]
  },
  {
   "cell_type": "code",
   "execution_count": 4,
   "id": "c1fafe84",
   "metadata": {},
   "outputs": [
    {
     "data": {
      "text/html": [
       "<div>\n",
       "<style scoped>\n",
       "    .dataframe tbody tr th:only-of-type {\n",
       "        vertical-align: middle;\n",
       "    }\n",
       "\n",
       "    .dataframe tbody tr th {\n",
       "        vertical-align: top;\n",
       "    }\n",
       "\n",
       "    .dataframe thead th {\n",
       "        text-align: right;\n",
       "    }\n",
       "</style>\n",
       "<table border=\"1\" class=\"dataframe\">\n",
       "  <thead>\n",
       "    <tr style=\"text-align: right;\">\n",
       "      <th></th>\n",
       "      <th>Domain Code</th>\n",
       "      <th>Domain</th>\n",
       "      <th>Area Code (M49)</th>\n",
       "      <th>Area</th>\n",
       "      <th>Element Code</th>\n",
       "      <th>Element</th>\n",
       "      <th>Item Code (CPC)</th>\n",
       "      <th>Item</th>\n",
       "      <th>Year Code</th>\n",
       "      <th>Year</th>\n",
       "      <th>Unit</th>\n",
       "      <th>Value</th>\n",
       "      <th>Flag</th>\n",
       "      <th>Flag Description</th>\n",
       "      <th>Note</th>\n",
       "    </tr>\n",
       "  </thead>\n",
       "  <tbody>\n",
       "    <tr>\n",
       "      <th>181</th>\n",
       "      <td>QCL</td>\n",
       "      <td>Crops and livestock products</td>\n",
       "      <td>566</td>\n",
       "      <td>Nigeria</td>\n",
       "      <td>5412</td>\n",
       "      <td>Yield</td>\n",
       "      <td>1540.0</td>\n",
       "      <td>Yams</td>\n",
       "      <td>2018</td>\n",
       "      <td>2018</td>\n",
       "      <td>kg/ha</td>\n",
       "      <td>10199.9</td>\n",
       "      <td>A</td>\n",
       "      <td>Official figure</td>\n",
       "      <td>NaN</td>\n",
       "    </tr>\n",
       "    <tr>\n",
       "      <th>182</th>\n",
       "      <td>QCL</td>\n",
       "      <td>Crops and livestock products</td>\n",
       "      <td>566</td>\n",
       "      <td>Nigeria</td>\n",
       "      <td>5412</td>\n",
       "      <td>Yield</td>\n",
       "      <td>1540.0</td>\n",
       "      <td>Yams</td>\n",
       "      <td>2019</td>\n",
       "      <td>2019</td>\n",
       "      <td>kg/ha</td>\n",
       "      <td>7806.8</td>\n",
       "      <td>A</td>\n",
       "      <td>Official figure</td>\n",
       "      <td>NaN</td>\n",
       "    </tr>\n",
       "    <tr>\n",
       "      <th>183</th>\n",
       "      <td>QCL</td>\n",
       "      <td>Crops and livestock products</td>\n",
       "      <td>566</td>\n",
       "      <td>Nigeria</td>\n",
       "      <td>5412</td>\n",
       "      <td>Yield</td>\n",
       "      <td>1540.0</td>\n",
       "      <td>Yams</td>\n",
       "      <td>2020</td>\n",
       "      <td>2020</td>\n",
       "      <td>kg/ha</td>\n",
       "      <td>7904.7</td>\n",
       "      <td>A</td>\n",
       "      <td>Official figure</td>\n",
       "      <td>NaN</td>\n",
       "    </tr>\n",
       "    <tr>\n",
       "      <th>184</th>\n",
       "      <td>QCL</td>\n",
       "      <td>Crops and livestock products</td>\n",
       "      <td>566</td>\n",
       "      <td>Nigeria</td>\n",
       "      <td>5412</td>\n",
       "      <td>Yield</td>\n",
       "      <td>1540.0</td>\n",
       "      <td>Yams</td>\n",
       "      <td>2021</td>\n",
       "      <td>2021</td>\n",
       "      <td>kg/ha</td>\n",
       "      <td>7986.5</td>\n",
       "      <td>A</td>\n",
       "      <td>Official figure</td>\n",
       "      <td>NaN</td>\n",
       "    </tr>\n",
       "    <tr>\n",
       "      <th>185</th>\n",
       "      <td>QCL</td>\n",
       "      <td>Crops and livestock products</td>\n",
       "      <td>566</td>\n",
       "      <td>Nigeria</td>\n",
       "      <td>5412</td>\n",
       "      <td>Yield</td>\n",
       "      <td>1540.0</td>\n",
       "      <td>Yams</td>\n",
       "      <td>2022</td>\n",
       "      <td>2022</td>\n",
       "      <td>kg/ha</td>\n",
       "      <td>8175.9</td>\n",
       "      <td>E</td>\n",
       "      <td>Estimated value</td>\n",
       "      <td>NaN</td>\n",
       "    </tr>\n",
       "  </tbody>\n",
       "</table>\n",
       "</div>"
      ],
      "text/plain": [
       "    Domain Code                        Domain  Area Code (M49)     Area  \\\n",
       "181         QCL  Crops and livestock products              566  Nigeria   \n",
       "182         QCL  Crops and livestock products              566  Nigeria   \n",
       "183         QCL  Crops and livestock products              566  Nigeria   \n",
       "184         QCL  Crops and livestock products              566  Nigeria   \n",
       "185         QCL  Crops and livestock products              566  Nigeria   \n",
       "\n",
       "     Element Code Element  Item Code (CPC)  Item  Year Code  Year   Unit  \\\n",
       "181          5412   Yield           1540.0  Yams       2018  2018  kg/ha   \n",
       "182          5412   Yield           1540.0  Yams       2019  2019  kg/ha   \n",
       "183          5412   Yield           1540.0  Yams       2020  2020  kg/ha   \n",
       "184          5412   Yield           1540.0  Yams       2021  2021  kg/ha   \n",
       "185          5412   Yield           1540.0  Yams       2022  2022  kg/ha   \n",
       "\n",
       "       Value Flag Flag Description  Note  \n",
       "181  10199.9    A  Official figure   NaN  \n",
       "182   7806.8    A  Official figure   NaN  \n",
       "183   7904.7    A  Official figure   NaN  \n",
       "184   7986.5    A  Official figure   NaN  \n",
       "185   8175.9    E  Estimated value   NaN  "
      ]
     },
     "execution_count": 4,
     "metadata": {},
     "output_type": "execute_result"
    }
   ],
   "source": [
    "crop_yield.tail()"
   ]
  },
  {
   "cell_type": "code",
   "execution_count": 11,
   "id": "a3794384",
   "metadata": {},
   "outputs": [
    {
     "data": {
      "text/html": [
       "<div>\n",
       "<style scoped>\n",
       "    .dataframe tbody tr th:only-of-type {\n",
       "        vertical-align: middle;\n",
       "    }\n",
       "\n",
       "    .dataframe tbody tr th {\n",
       "        vertical-align: top;\n",
       "    }\n",
       "\n",
       "    .dataframe thead th {\n",
       "        text-align: right;\n",
       "    }\n",
       "</style>\n",
       "<table border=\"1\" class=\"dataframe\">\n",
       "  <thead>\n",
       "    <tr style=\"text-align: right;\">\n",
       "      <th></th>\n",
       "      <th>Year</th>\n",
       "      <th>Annual Mean</th>\n",
       "      <th>Annual Temperature</th>\n",
       "    </tr>\n",
       "  </thead>\n",
       "  <tbody>\n",
       "    <tr>\n",
       "      <th>0</th>\n",
       "      <td>1961</td>\n",
       "      <td>1137.82</td>\n",
       "      <td>26.28</td>\n",
       "    </tr>\n",
       "    <tr>\n",
       "      <th>1</th>\n",
       "      <td>1962</td>\n",
       "      <td>1356.45</td>\n",
       "      <td>26.68</td>\n",
       "    </tr>\n",
       "    <tr>\n",
       "      <th>2</th>\n",
       "      <td>1963</td>\n",
       "      <td>1354.66</td>\n",
       "      <td>27.02</td>\n",
       "    </tr>\n",
       "    <tr>\n",
       "      <th>3</th>\n",
       "      <td>1964</td>\n",
       "      <td>1241.07</td>\n",
       "      <td>26.66</td>\n",
       "    </tr>\n",
       "    <tr>\n",
       "      <th>4</th>\n",
       "      <td>1965</td>\n",
       "      <td>1201.45</td>\n",
       "      <td>26.56</td>\n",
       "    </tr>\n",
       "  </tbody>\n",
       "</table>\n",
       "</div>"
      ],
      "text/plain": [
       "   Year  Annual Mean  Annual Temperature\n",
       "0  1961      1137.82               26.28\n",
       "1  1962      1356.45               26.68\n",
       "2  1963      1354.66               27.02\n",
       "3  1964      1241.07               26.66\n",
       "4  1965      1201.45               26.56"
      ]
     },
     "execution_count": 11,
     "metadata": {},
     "output_type": "execute_result"
    }
   ],
   "source": [
    "rain_temp = pd.read_csv(\"Average_rainfal_temp_1961_2022.csv\")\n",
    "rain_temp.head()"
   ]
  },
  {
   "cell_type": "code",
   "execution_count": 12,
   "id": "d64357c8",
   "metadata": {},
   "outputs": [
    {
     "data": {
      "text/html": [
       "<div>\n",
       "<style scoped>\n",
       "    .dataframe tbody tr th:only-of-type {\n",
       "        vertical-align: middle;\n",
       "    }\n",
       "\n",
       "    .dataframe tbody tr th {\n",
       "        vertical-align: top;\n",
       "    }\n",
       "\n",
       "    .dataframe thead th {\n",
       "        text-align: right;\n",
       "    }\n",
       "</style>\n",
       "<table border=\"1\" class=\"dataframe\">\n",
       "  <thead>\n",
       "    <tr style=\"text-align: right;\">\n",
       "      <th></th>\n",
       "      <th>Year</th>\n",
       "      <th>Annual Mean</th>\n",
       "      <th>Annual Temperature</th>\n",
       "    </tr>\n",
       "  </thead>\n",
       "  <tbody>\n",
       "    <tr>\n",
       "      <th>57</th>\n",
       "      <td>2018</td>\n",
       "      <td>1233.04</td>\n",
       "      <td>27.41</td>\n",
       "    </tr>\n",
       "    <tr>\n",
       "      <th>58</th>\n",
       "      <td>2019</td>\n",
       "      <td>1296.78</td>\n",
       "      <td>27.29</td>\n",
       "    </tr>\n",
       "    <tr>\n",
       "      <th>59</th>\n",
       "      <td>2020</td>\n",
       "      <td>1254.97</td>\n",
       "      <td>27.43</td>\n",
       "    </tr>\n",
       "    <tr>\n",
       "      <th>60</th>\n",
       "      <td>2021</td>\n",
       "      <td>1114.97</td>\n",
       "      <td>27.67</td>\n",
       "    </tr>\n",
       "    <tr>\n",
       "      <th>61</th>\n",
       "      <td>2022</td>\n",
       "      <td>1228.76</td>\n",
       "      <td>27.15</td>\n",
       "    </tr>\n",
       "  </tbody>\n",
       "</table>\n",
       "</div>"
      ],
      "text/plain": [
       "    Year  Annual Mean  Annual Temperature\n",
       "57  2018      1233.04               27.41\n",
       "58  2019      1296.78               27.29\n",
       "59  2020      1254.97               27.43\n",
       "60  2021      1114.97               27.67\n",
       "61  2022      1228.76               27.15"
      ]
     },
     "execution_count": 12,
     "metadata": {},
     "output_type": "execute_result"
    }
   ],
   "source": [
    "rain_temp.tail()"
   ]
  },
  {
   "cell_type": "code",
   "execution_count": 16,
   "id": "83e99cdf",
   "metadata": {},
   "outputs": [
    {
     "data": {
      "text/html": [
       "<div>\n",
       "<style scoped>\n",
       "    .dataframe tbody tr th:only-of-type {\n",
       "        vertical-align: middle;\n",
       "    }\n",
       "\n",
       "    .dataframe tbody tr th {\n",
       "        vertical-align: top;\n",
       "    }\n",
       "\n",
       "    .dataframe thead th {\n",
       "        text-align: right;\n",
       "    }\n",
       "</style>\n",
       "<table border=\"1\" class=\"dataframe\">\n",
       "  <thead>\n",
       "    <tr style=\"text-align: right;\">\n",
       "      <th></th>\n",
       "      <th>Domain Code</th>\n",
       "      <th>Domain</th>\n",
       "      <th>Area Code (M49)</th>\n",
       "      <th>Area</th>\n",
       "      <th>Element Code</th>\n",
       "      <th>Element</th>\n",
       "      <th>Item Code (CPC)</th>\n",
       "      <th>Item</th>\n",
       "      <th>Year Code</th>\n",
       "      <th>Year</th>\n",
       "      <th>Unit</th>\n",
       "      <th>Value</th>\n",
       "      <th>Flag</th>\n",
       "      <th>Flag Description</th>\n",
       "      <th>Note</th>\n",
       "      <th>Annual Mean</th>\n",
       "      <th>Annual Temperature</th>\n",
       "    </tr>\n",
       "  </thead>\n",
       "  <tbody>\n",
       "    <tr>\n",
       "      <th>0</th>\n",
       "      <td>QCL</td>\n",
       "      <td>Crops and livestock products</td>\n",
       "      <td>566</td>\n",
       "      <td>Nigeria</td>\n",
       "      <td>5412</td>\n",
       "      <td>Yield</td>\n",
       "      <td>1520.01</td>\n",
       "      <td>Cassava, fresh</td>\n",
       "      <td>1961</td>\n",
       "      <td>1961</td>\n",
       "      <td>kg/ha</td>\n",
       "      <td>9466.7</td>\n",
       "      <td>A</td>\n",
       "      <td>Official figure</td>\n",
       "      <td>NaN</td>\n",
       "      <td>1137.82</td>\n",
       "      <td>26.28</td>\n",
       "    </tr>\n",
       "    <tr>\n",
       "      <th>1</th>\n",
       "      <td>QCL</td>\n",
       "      <td>Crops and livestock products</td>\n",
       "      <td>566</td>\n",
       "      <td>Nigeria</td>\n",
       "      <td>5412</td>\n",
       "      <td>Yield</td>\n",
       "      <td>113.00</td>\n",
       "      <td>Rice</td>\n",
       "      <td>1961</td>\n",
       "      <td>1961</td>\n",
       "      <td>kg/ha</td>\n",
       "      <td>892.6</td>\n",
       "      <td>A</td>\n",
       "      <td>Official figure</td>\n",
       "      <td>NaN</td>\n",
       "      <td>1137.82</td>\n",
       "      <td>26.28</td>\n",
       "    </tr>\n",
       "    <tr>\n",
       "      <th>2</th>\n",
       "      <td>QCL</td>\n",
       "      <td>Crops and livestock products</td>\n",
       "      <td>566</td>\n",
       "      <td>Nigeria</td>\n",
       "      <td>5412</td>\n",
       "      <td>Yield</td>\n",
       "      <td>1540.00</td>\n",
       "      <td>Yams</td>\n",
       "      <td>1961</td>\n",
       "      <td>1961</td>\n",
       "      <td>kg/ha</td>\n",
       "      <td>7777.8</td>\n",
       "      <td>E</td>\n",
       "      <td>Estimated value</td>\n",
       "      <td>NaN</td>\n",
       "      <td>1137.82</td>\n",
       "      <td>26.28</td>\n",
       "    </tr>\n",
       "    <tr>\n",
       "      <th>3</th>\n",
       "      <td>QCL</td>\n",
       "      <td>Crops and livestock products</td>\n",
       "      <td>566</td>\n",
       "      <td>Nigeria</td>\n",
       "      <td>5412</td>\n",
       "      <td>Yield</td>\n",
       "      <td>1520.01</td>\n",
       "      <td>Cassava, fresh</td>\n",
       "      <td>1962</td>\n",
       "      <td>1962</td>\n",
       "      <td>kg/ha</td>\n",
       "      <td>8766.5</td>\n",
       "      <td>A</td>\n",
       "      <td>Official figure</td>\n",
       "      <td>NaN</td>\n",
       "      <td>1356.45</td>\n",
       "      <td>26.68</td>\n",
       "    </tr>\n",
       "    <tr>\n",
       "      <th>4</th>\n",
       "      <td>QCL</td>\n",
       "      <td>Crops and livestock products</td>\n",
       "      <td>566</td>\n",
       "      <td>Nigeria</td>\n",
       "      <td>5412</td>\n",
       "      <td>Yield</td>\n",
       "      <td>113.00</td>\n",
       "      <td>Rice</td>\n",
       "      <td>1962</td>\n",
       "      <td>1962</td>\n",
       "      <td>kg/ha</td>\n",
       "      <td>1178.9</td>\n",
       "      <td>A</td>\n",
       "      <td>Official figure</td>\n",
       "      <td>NaN</td>\n",
       "      <td>1356.45</td>\n",
       "      <td>26.68</td>\n",
       "    </tr>\n",
       "  </tbody>\n",
       "</table>\n",
       "</div>"
      ],
      "text/plain": [
       "  Domain Code                        Domain  Area Code (M49)     Area  \\\n",
       "0         QCL  Crops and livestock products              566  Nigeria   \n",
       "1         QCL  Crops and livestock products              566  Nigeria   \n",
       "2         QCL  Crops and livestock products              566  Nigeria   \n",
       "3         QCL  Crops and livestock products              566  Nigeria   \n",
       "4         QCL  Crops and livestock products              566  Nigeria   \n",
       "\n",
       "   Element Code Element  Item Code (CPC)            Item  Year Code  Year  \\\n",
       "0          5412   Yield          1520.01  Cassava, fresh       1961  1961   \n",
       "1          5412   Yield           113.00            Rice       1961  1961   \n",
       "2          5412   Yield          1540.00            Yams       1961  1961   \n",
       "3          5412   Yield          1520.01  Cassava, fresh       1962  1962   \n",
       "4          5412   Yield           113.00            Rice       1962  1962   \n",
       "\n",
       "    Unit   Value Flag Flag Description  Note  Annual Mean  Annual Temperature  \n",
       "0  kg/ha  9466.7    A  Official figure   NaN      1137.82               26.28  \n",
       "1  kg/ha   892.6    A  Official figure   NaN      1137.82               26.28  \n",
       "2  kg/ha  7777.8    E  Estimated value   NaN      1137.82               26.28  \n",
       "3  kg/ha  8766.5    A  Official figure   NaN      1356.45               26.68  \n",
       "4  kg/ha  1178.9    A  Official figure   NaN      1356.45               26.68  "
      ]
     },
     "execution_count": 16,
     "metadata": {},
     "output_type": "execute_result"
    }
   ],
   "source": [
    "#merge the 2 datasets\n",
    "df = pd.merge(crop_yield, rain_temp, on=['Year'])\n",
    "#dataframe_main = pd.merge(dataframe_yield, draindataframe_rain, on=['Year','Area'])  \n",
    "df.head()  "
   ]
  },
  {
   "cell_type": "code",
   "execution_count": 17,
   "id": "0c1161ec",
   "metadata": {},
   "outputs": [],
   "source": [
    "#drop unwanted coulmns\n",
    "df.drop(['Domain Code', 'Domain', 'Area Code (M49)', 'Element Code', 'Element', 'Item Code (CPC)', 'Year Code', 'Flag', 'Flag Description', 'Note', 'Unit', 'Area'], axis = 1, inplace = True) \n"
   ]
  },
  {
   "cell_type": "code",
   "execution_count": 18,
   "id": "a4c5f1b3",
   "metadata": {},
   "outputs": [
    {
     "data": {
      "text/html": [
       "<div>\n",
       "<style scoped>\n",
       "    .dataframe tbody tr th:only-of-type {\n",
       "        vertical-align: middle;\n",
       "    }\n",
       "\n",
       "    .dataframe tbody tr th {\n",
       "        vertical-align: top;\n",
       "    }\n",
       "\n",
       "    .dataframe thead th {\n",
       "        text-align: right;\n",
       "    }\n",
       "</style>\n",
       "<table border=\"1\" class=\"dataframe\">\n",
       "  <thead>\n",
       "    <tr style=\"text-align: right;\">\n",
       "      <th></th>\n",
       "      <th>Item</th>\n",
       "      <th>Year</th>\n",
       "      <th>Value</th>\n",
       "      <th>Annual Mean</th>\n",
       "      <th>Annual Temperature</th>\n",
       "    </tr>\n",
       "  </thead>\n",
       "  <tbody>\n",
       "    <tr>\n",
       "      <th>0</th>\n",
       "      <td>Cassava, fresh</td>\n",
       "      <td>1961</td>\n",
       "      <td>9466.7</td>\n",
       "      <td>1137.82</td>\n",
       "      <td>26.28</td>\n",
       "    </tr>\n",
       "    <tr>\n",
       "      <th>1</th>\n",
       "      <td>Rice</td>\n",
       "      <td>1961</td>\n",
       "      <td>892.6</td>\n",
       "      <td>1137.82</td>\n",
       "      <td>26.28</td>\n",
       "    </tr>\n",
       "    <tr>\n",
       "      <th>2</th>\n",
       "      <td>Yams</td>\n",
       "      <td>1961</td>\n",
       "      <td>7777.8</td>\n",
       "      <td>1137.82</td>\n",
       "      <td>26.28</td>\n",
       "    </tr>\n",
       "    <tr>\n",
       "      <th>3</th>\n",
       "      <td>Cassava, fresh</td>\n",
       "      <td>1962</td>\n",
       "      <td>8766.5</td>\n",
       "      <td>1356.45</td>\n",
       "      <td>26.68</td>\n",
       "    </tr>\n",
       "    <tr>\n",
       "      <th>4</th>\n",
       "      <td>Rice</td>\n",
       "      <td>1962</td>\n",
       "      <td>1178.9</td>\n",
       "      <td>1356.45</td>\n",
       "      <td>26.68</td>\n",
       "    </tr>\n",
       "  </tbody>\n",
       "</table>\n",
       "</div>"
      ],
      "text/plain": [
       "             Item  Year   Value  Annual Mean  Annual Temperature\n",
       "0  Cassava, fresh  1961  9466.7      1137.82               26.28\n",
       "1            Rice  1961   892.6      1137.82               26.28\n",
       "2            Yams  1961  7777.8      1137.82               26.28\n",
       "3  Cassava, fresh  1962  8766.5      1356.45               26.68\n",
       "4            Rice  1962  1178.9      1356.45               26.68"
      ]
     },
     "execution_count": 18,
     "metadata": {},
     "output_type": "execute_result"
    }
   ],
   "source": [
    "df.head()"
   ]
  },
  {
   "cell_type": "code",
   "execution_count": 19,
   "id": "9eee60ea",
   "metadata": {},
   "outputs": [],
   "source": [
    "#Rename Columns\n",
    "df.rename(columns={'Value': 'Yield(kg/ha)',\n",
    "                   'Annual Mean': 'Av_rainfall(mm)',\n",
    "                  'Annual Temperature': 'Av_temp(0C)',\n",
    "                  'Item': 'Crop'},\n",
    "          inplace=True, errors='raise')\n"
   ]
  },
  {
   "cell_type": "code",
   "execution_count": 20,
   "id": "8298108a",
   "metadata": {
    "scrolled": true
   },
   "outputs": [
    {
     "data": {
      "text/html": [
       "<div>\n",
       "<style scoped>\n",
       "    .dataframe tbody tr th:only-of-type {\n",
       "        vertical-align: middle;\n",
       "    }\n",
       "\n",
       "    .dataframe tbody tr th {\n",
       "        vertical-align: top;\n",
       "    }\n",
       "\n",
       "    .dataframe thead th {\n",
       "        text-align: right;\n",
       "    }\n",
       "</style>\n",
       "<table border=\"1\" class=\"dataframe\">\n",
       "  <thead>\n",
       "    <tr style=\"text-align: right;\">\n",
       "      <th></th>\n",
       "      <th>Crop</th>\n",
       "      <th>Year</th>\n",
       "      <th>Yield(kg/ha)</th>\n",
       "      <th>Av_rainfall(mm)</th>\n",
       "      <th>Av_temp(0C)</th>\n",
       "    </tr>\n",
       "  </thead>\n",
       "  <tbody>\n",
       "    <tr>\n",
       "      <th>0</th>\n",
       "      <td>Cassava, fresh</td>\n",
       "      <td>1961</td>\n",
       "      <td>9466.7</td>\n",
       "      <td>1137.82</td>\n",
       "      <td>26.28</td>\n",
       "    </tr>\n",
       "    <tr>\n",
       "      <th>1</th>\n",
       "      <td>Rice</td>\n",
       "      <td>1961</td>\n",
       "      <td>892.6</td>\n",
       "      <td>1137.82</td>\n",
       "      <td>26.28</td>\n",
       "    </tr>\n",
       "    <tr>\n",
       "      <th>2</th>\n",
       "      <td>Yams</td>\n",
       "      <td>1961</td>\n",
       "      <td>7777.8</td>\n",
       "      <td>1137.82</td>\n",
       "      <td>26.28</td>\n",
       "    </tr>\n",
       "    <tr>\n",
       "      <th>3</th>\n",
       "      <td>Cassava, fresh</td>\n",
       "      <td>1962</td>\n",
       "      <td>8766.5</td>\n",
       "      <td>1356.45</td>\n",
       "      <td>26.68</td>\n",
       "    </tr>\n",
       "    <tr>\n",
       "      <th>4</th>\n",
       "      <td>Rice</td>\n",
       "      <td>1962</td>\n",
       "      <td>1178.9</td>\n",
       "      <td>1356.45</td>\n",
       "      <td>26.68</td>\n",
       "    </tr>\n",
       "  </tbody>\n",
       "</table>\n",
       "</div>"
      ],
      "text/plain": [
       "             Crop  Year  Yield(kg/ha)  Av_rainfall(mm)  Av_temp(0C)\n",
       "0  Cassava, fresh  1961        9466.7          1137.82        26.28\n",
       "1            Rice  1961         892.6          1137.82        26.28\n",
       "2            Yams  1961        7777.8          1137.82        26.28\n",
       "3  Cassava, fresh  1962        8766.5          1356.45        26.68\n",
       "4            Rice  1962        1178.9          1356.45        26.68"
      ]
     },
     "execution_count": 20,
     "metadata": {},
     "output_type": "execute_result"
    }
   ],
   "source": [
    "df.head()"
   ]
  },
  {
   "cell_type": "code",
   "execution_count": 21,
   "id": "aad70a65",
   "metadata": {},
   "outputs": [
    {
     "data": {
      "text/html": [
       "<div>\n",
       "<style scoped>\n",
       "    .dataframe tbody tr th:only-of-type {\n",
       "        vertical-align: middle;\n",
       "    }\n",
       "\n",
       "    .dataframe tbody tr th {\n",
       "        vertical-align: top;\n",
       "    }\n",
       "\n",
       "    .dataframe thead th {\n",
       "        text-align: right;\n",
       "    }\n",
       "</style>\n",
       "<table border=\"1\" class=\"dataframe\">\n",
       "  <thead>\n",
       "    <tr style=\"text-align: right;\">\n",
       "      <th></th>\n",
       "      <th>Crop</th>\n",
       "      <th>Year</th>\n",
       "      <th>Yield(kg/ha)</th>\n",
       "      <th>Av_rainfall(mm)</th>\n",
       "      <th>Av_temp(0C)</th>\n",
       "    </tr>\n",
       "  </thead>\n",
       "  <tbody>\n",
       "    <tr>\n",
       "      <th>181</th>\n",
       "      <td>Rice</td>\n",
       "      <td>2021</td>\n",
       "      <td>1931.0</td>\n",
       "      <td>1114.97</td>\n",
       "      <td>27.67</td>\n",
       "    </tr>\n",
       "    <tr>\n",
       "      <th>182</th>\n",
       "      <td>Yams</td>\n",
       "      <td>2021</td>\n",
       "      <td>7986.5</td>\n",
       "      <td>1114.97</td>\n",
       "      <td>27.67</td>\n",
       "    </tr>\n",
       "    <tr>\n",
       "      <th>183</th>\n",
       "      <td>Cassava, fresh</td>\n",
       "      <td>2022</td>\n",
       "      <td>6065.5</td>\n",
       "      <td>1228.76</td>\n",
       "      <td>27.15</td>\n",
       "    </tr>\n",
       "    <tr>\n",
       "      <th>184</th>\n",
       "      <td>Rice</td>\n",
       "      <td>2022</td>\n",
       "      <td>1856.3</td>\n",
       "      <td>1228.76</td>\n",
       "      <td>27.15</td>\n",
       "    </tr>\n",
       "    <tr>\n",
       "      <th>185</th>\n",
       "      <td>Yams</td>\n",
       "      <td>2022</td>\n",
       "      <td>8175.9</td>\n",
       "      <td>1228.76</td>\n",
       "      <td>27.15</td>\n",
       "    </tr>\n",
       "  </tbody>\n",
       "</table>\n",
       "</div>"
      ],
      "text/plain": [
       "               Crop  Year  Yield(kg/ha)  Av_rainfall(mm)  Av_temp(0C)\n",
       "181            Rice  2021        1931.0          1114.97        27.67\n",
       "182            Yams  2021        7986.5          1114.97        27.67\n",
       "183  Cassava, fresh  2022        6065.5          1228.76        27.15\n",
       "184            Rice  2022        1856.3          1228.76        27.15\n",
       "185            Yams  2022        8175.9          1228.76        27.15"
      ]
     },
     "execution_count": 21,
     "metadata": {},
     "output_type": "execute_result"
    }
   ],
   "source": [
    "df.tail()"
   ]
  },
  {
   "cell_type": "code",
   "execution_count": 23,
   "id": "b9b5ea65",
   "metadata": {},
   "outputs": [
    {
     "data": {
      "text/plain": [
       "array(['Cassava, fresh', 'Rice', 'Yams'], dtype=object)"
      ]
     },
     "execution_count": 23,
     "metadata": {},
     "output_type": "execute_result"
    }
   ],
   "source": [
    "df['Crop'].unique()"
   ]
  },
  {
   "cell_type": "code",
   "execution_count": 24,
   "id": "9eeb76ee",
   "metadata": {},
   "outputs": [],
   "source": [
    "df['Crop'] = df['Crop'].replace({'Cassava, fresh': 'Cassava'})\n"
   ]
  },
  {
   "cell_type": "code",
   "execution_count": 25,
   "id": "439d9aa1",
   "metadata": {},
   "outputs": [
    {
     "data": {
      "text/plain": [
       "array(['Cassava', 'Rice', 'Yams'], dtype=object)"
      ]
     },
     "execution_count": 25,
     "metadata": {},
     "output_type": "execute_result"
    }
   ],
   "source": [
    "df['Crop'].unique()"
   ]
  },
  {
   "cell_type": "code",
   "execution_count": 26,
   "id": "7c682897",
   "metadata": {},
   "outputs": [
    {
     "data": {
      "text/plain": [
       "(186, 5)"
      ]
     },
     "execution_count": 26,
     "metadata": {},
     "output_type": "execute_result"
    }
   ],
   "source": [
    "df.shape"
   ]
  },
  {
   "cell_type": "code",
   "execution_count": 27,
   "id": "702d9836",
   "metadata": {},
   "outputs": [
    {
     "data": {
      "text/plain": [
       "Index(['Crop', 'Year', 'Yield(kg/ha)', 'Av_rainfall(mm)', 'Av_temp(0C)'], dtype='object')"
      ]
     },
     "execution_count": 27,
     "metadata": {},
     "output_type": "execute_result"
    }
   ],
   "source": [
    "df.columns"
   ]
  },
  {
   "cell_type": "code",
   "execution_count": 37,
   "id": "e6ab1510",
   "metadata": {},
   "outputs": [
    {
     "name": "stdout",
     "output_type": "stream",
     "text": [
      "Rainfall/Temp Dataset Statistics:\n",
      "              Year  Annual Mean  Annual Temperature\n",
      "count    62.000000    62.000000           62.000000\n",
      "mean   1991.500000  1174.544516           27.064194\n",
      "std      18.041619    90.564505            0.395746\n",
      "min    1961.000000   888.060000           26.270000\n",
      "25%    1976.250000  1119.792500           26.817500\n",
      "50%    1991.500000  1184.070000           27.100000\n",
      "75%    2006.750000  1240.927500           27.380000\n",
      "max    2022.000000  1356.450000           27.860000\n"
     ]
    }
   ],
   "source": [
    "print(\"Rainfall/Temp Dataset Statistics:\")\n",
    "print(rain_temp.describe())"
   ]
  },
  {
   "cell_type": "code",
   "execution_count": 36,
   "id": "df93a774",
   "metadata": {},
   "outputs": [
    {
     "name": "stdout",
     "output_type": "stream",
     "text": [
      "\n",
      "Crop Yield Dataset Statistics:\n",
      "       Area Code (M49)  Element Code  Item Code (CPC)    Year Code  \\\n",
      "count            186.0         186.0       186.000000   186.000000   \n",
      "mean             566.0        5412.0      1057.670000  1991.500000   \n",
      "std                0.0           0.0       669.835472    17.943831   \n",
      "min              566.0        5412.0       113.000000  1961.000000   \n",
      "25%              566.0        5412.0       113.000000  1976.000000   \n",
      "50%              566.0        5412.0      1520.010000  1991.500000   \n",
      "75%              566.0        5412.0      1540.000000  2007.000000   \n",
      "max              566.0        5412.0      1540.000000  2022.000000   \n",
      "\n",
      "              Year         Value  Note  \n",
      "count   186.000000    186.000000   0.0  \n",
      "mean   1991.500000   6932.498925   NaN  \n",
      "std      17.943831   3951.739011   NaN  \n",
      "min    1961.000000    892.600000   NaN  \n",
      "25%    1976.000000   1999.550000   NaN  \n",
      "50%    1991.500000   8264.050000   NaN  \n",
      "75%    2007.000000  10308.950000   NaN  \n",
      "max    2022.000000  13010.900000   NaN  \n"
     ]
    }
   ],
   "source": [
    "print(\"\\nCrop Yield Dataset Statistics:\")\n",
    "print(crop_yield.describe())"
   ]
  },
  {
   "cell_type": "code",
   "execution_count": 28,
   "id": "6277076d",
   "metadata": {},
   "outputs": [
    {
     "data": {
      "text/html": [
       "<div>\n",
       "<style scoped>\n",
       "    .dataframe tbody tr th:only-of-type {\n",
       "        vertical-align: middle;\n",
       "    }\n",
       "\n",
       "    .dataframe tbody tr th {\n",
       "        vertical-align: top;\n",
       "    }\n",
       "\n",
       "    .dataframe thead th {\n",
       "        text-align: right;\n",
       "    }\n",
       "</style>\n",
       "<table border=\"1\" class=\"dataframe\">\n",
       "  <thead>\n",
       "    <tr style=\"text-align: right;\">\n",
       "      <th></th>\n",
       "      <th>Year</th>\n",
       "      <th>Yield(kg/ha)</th>\n",
       "      <th>Av_rainfall(mm)</th>\n",
       "      <th>Av_temp(0C)</th>\n",
       "    </tr>\n",
       "  </thead>\n",
       "  <tbody>\n",
       "    <tr>\n",
       "      <th>count</th>\n",
       "      <td>186.000000</td>\n",
       "      <td>186.000000</td>\n",
       "      <td>186.000000</td>\n",
       "      <td>186.000000</td>\n",
       "    </tr>\n",
       "    <tr>\n",
       "      <th>mean</th>\n",
       "      <td>1991.500000</td>\n",
       "      <td>6932.498925</td>\n",
       "      <td>1174.544516</td>\n",
       "      <td>27.064194</td>\n",
       "    </tr>\n",
       "    <tr>\n",
       "      <th>std</th>\n",
       "      <td>17.943831</td>\n",
       "      <td>3951.739011</td>\n",
       "      <td>90.073637</td>\n",
       "      <td>0.393601</td>\n",
       "    </tr>\n",
       "    <tr>\n",
       "      <th>min</th>\n",
       "      <td>1961.000000</td>\n",
       "      <td>892.600000</td>\n",
       "      <td>888.060000</td>\n",
       "      <td>26.270000</td>\n",
       "    </tr>\n",
       "    <tr>\n",
       "      <th>25%</th>\n",
       "      <td>1976.000000</td>\n",
       "      <td>1999.550000</td>\n",
       "      <td>1116.640000</td>\n",
       "      <td>26.810000</td>\n",
       "    </tr>\n",
       "    <tr>\n",
       "      <th>50%</th>\n",
       "      <td>1991.500000</td>\n",
       "      <td>8264.050000</td>\n",
       "      <td>1184.070000</td>\n",
       "      <td>27.100000</td>\n",
       "    </tr>\n",
       "    <tr>\n",
       "      <th>75%</th>\n",
       "      <td>2007.000000</td>\n",
       "      <td>10308.950000</td>\n",
       "      <td>1241.070000</td>\n",
       "      <td>27.380000</td>\n",
       "    </tr>\n",
       "    <tr>\n",
       "      <th>max</th>\n",
       "      <td>2022.000000</td>\n",
       "      <td>13010.900000</td>\n",
       "      <td>1356.450000</td>\n",
       "      <td>27.860000</td>\n",
       "    </tr>\n",
       "  </tbody>\n",
       "</table>\n",
       "</div>"
      ],
      "text/plain": [
       "              Year  Yield(kg/ha)  Av_rainfall(mm)  Av_temp(0C)\n",
       "count   186.000000    186.000000       186.000000   186.000000\n",
       "mean   1991.500000   6932.498925      1174.544516    27.064194\n",
       "std      17.943831   3951.739011        90.073637     0.393601\n",
       "min    1961.000000    892.600000       888.060000    26.270000\n",
       "25%    1976.000000   1999.550000      1116.640000    26.810000\n",
       "50%    1991.500000   8264.050000      1184.070000    27.100000\n",
       "75%    2007.000000  10308.950000      1241.070000    27.380000\n",
       "max    2022.000000  13010.900000      1356.450000    27.860000"
      ]
     },
     "execution_count": 28,
     "metadata": {},
     "output_type": "execute_result"
    }
   ],
   "source": [
    "df.describe()"
   ]
  },
  {
   "cell_type": "code",
   "execution_count": 29,
   "id": "850564fe",
   "metadata": {},
   "outputs": [
    {
     "data": {
      "text/plain": [
       "Crop               0\n",
       "Year               0\n",
       "Yield(kg/ha)       0\n",
       "Av_rainfall(mm)    0\n",
       "Av_temp(0C)        0\n",
       "dtype: int64"
      ]
     },
     "execution_count": 29,
     "metadata": {},
     "output_type": "execute_result"
    }
   ],
   "source": [
    "df.isnull().sum().sort_values(ascending=False)"
   ]
  },
  {
   "cell_type": "code",
   "execution_count": 30,
   "id": "80467e20",
   "metadata": {},
   "outputs": [
    {
     "data": {
      "text/plain": [
       "Index(['Year', 'Yield(kg/ha)', 'Av_rainfall(mm)', 'Av_temp(0C)'], dtype='object')"
      ]
     },
     "execution_count": 30,
     "metadata": {},
     "output_type": "execute_result"
    }
   ],
   "source": [
    "df.select_dtypes(\"number\").columns"
   ]
  },
  {
   "cell_type": "code",
   "execution_count": 31,
   "id": "e155344c",
   "metadata": {},
   "outputs": [
    {
     "data": {
      "text/plain": [
       "Index(['Crop'], dtype='object')"
      ]
     },
     "execution_count": 31,
     "metadata": {},
     "output_type": "execute_result"
    }
   ],
   "source": [
    "df.select_dtypes(\"object\").columns"
   ]
  },
  {
   "cell_type": "code",
   "execution_count": 42,
   "id": "532d3e7b",
   "metadata": {},
   "outputs": [
    {
     "data": {
      "image/png": "[encoded data removed]",
      "text/plain": [
       "<Figure size 1600x1000 with 4 Axes>"
      ]
     },
     "metadata": {},
     "output_type": "display_data"
    }
   ],
   "source": [
    "df.hist(figsize=[16,10]);"
   ]
  },
  {
   "cell_type": "code",
   "execution_count": null,
   "id": "88ad9ef9",
   "metadata": {},
   "outputs": [],
   "source": []
  },
  {
   "cell_type": "code",
   "execution_count": 42,
   "id": "0a55778f",
   "metadata": {},
   "outputs": [
    {
     "data": {
      "image/png": "[encoded data removed]",
      "text/plain": [
       "<Figure size 1000x600 with 1 Axes>"
      ]
     },
     "metadata": {},
     "output_type": "display_data"
    }
   ],
   "source": [
    "# Plot crop yield trends over the years\n",
    "plt.figure(figsize=(10, 6))\n",
    "plt.plot(crop_yield['Year'], crop_yield['Value'], marker='o', label='Crop Yield')\n",
    "plt.title('Crop Yield Over the Years')\n",
    "plt.xlabel('Year')\n",
    "plt.ylabel('Crop Yield')\n",
    "plt.grid(True)\n",
    "plt.legend()\n",
    "plt.show()"
   ]
  },
  {
   "cell_type": "code",
   "execution_count": 43,
   "id": "f7e6e055",
   "metadata": {},
   "outputs": [
    {
     "data": {
      "image/png": "[encoded data removed]",
      "text/plain": [
       "<Figure size 1000x600 with 1 Axes>"
      ]
     },
     "metadata": {},
     "output_type": "display_data"
    }
   ],
   "source": [
    "# Plot rainfall and temperature trends over the years\n",
    "plt.figure(figsize=(10, 6))\n",
    "plt.plot(rain_temp['Year'], rain_temp['Annual Mean'], color='blue', label='Average Rainfall')\n",
    "plt.plot(rain_temp['Year'], rain_temp['Annual Temperature'], color='red', label='Average Temperature')\n",
    "plt.title('Rainfall and Temperature Over the Years')\n",
    "plt.xlabel('Year')\n",
    "plt.ylabel('Rainfall/Temperature')\n",
    "plt.legend()\n",
    "plt.grid(True)\n",
    "plt.show()"
   ]
  },
  {
   "cell_type": "code",
   "execution_count": 45,
   "id": "5ed3bd13",
   "metadata": {},
   "outputs": [
    {
     "name": "stdout",
     "output_type": "stream",
     "text": [
      "Correlation Matrix:\n",
      "                 Yield(kg/ha)  Av_rainfall(mm)  Av_temp(0C)\n",
      "Yield(kg/ha)         1.000000         0.048277    -0.009890\n",
      "Av_rainfall(mm)      0.048277         1.000000    -0.062818\n",
      "Av_temp(0C)         -0.009890        -0.062818     1.000000\n"
     ]
    },
    {
     "data": {
      "image/png": "[encoded data removed]",
      "text/plain": [
       "<Figure size 800x600 with 2 Axes>"
      ]
     },
     "metadata": {},
     "output_type": "display_data"
    }
   ],
   "source": [
    "# Correlation matrix\n",
    "correlation_matrix = df[['Yield(kg/ha)', 'Av_rainfall(mm)', 'Av_temp(0C)']].corr()\n",
    "print(\"Correlation Matrix:\")\n",
    "print(correlation_matrix)\n",
    "\n",
    "# Heatmap of correlation matrix\n",
    "import seaborn as sns\n",
    "plt.figure(figsize=(8, 6))\n",
    "sns.heatmap(correlation_matrix, annot=True, cmap='coolwarm', center=0)\n",
    "plt.title('Correlation Between Crop Yield, Rainfall, and Temperature')\n",
    "plt.show()"
   ]
  },
  {
   "cell_type": "code",
   "execution_count": 46,
   "id": "b3c14734",
   "metadata": {},
   "outputs": [
    {
     "data": {
      "image/png": "[encoded data removed]",
      "text/plain": [
       "<Figure size 800x600 with 1 Axes>"
      ]
     },
     "metadata": {},
     "output_type": "display_data"
    }
   ],
   "source": [
    "# Scatter plot of crop yield vs rainfall\n",
    "plt.figure(figsize=(8, 6))\n",
    "plt.scatter(df['Av_rainfall(mm)'], df['Yield(kg/ha)'], color='blue')\n",
    "plt.title('Crop Yield vs Average Rainfall')\n",
    "plt.xlabel('Average Rainfall')\n",
    "plt.ylabel('Crop Yield')\n",
    "plt.grid(True)\n",
    "plt.show()"
   ]
  },
  {
   "cell_type": "code",
   "execution_count": 47,
   "id": "c9460d8f",
   "metadata": {},
   "outputs": [
    {
     "data": {
      "image/png": "[encoded data removed]",
      "text/plain": [
       "<Figure size 800x600 with 1 Axes>"
      ]
     },
     "metadata": {},
     "output_type": "display_data"
    }
   ],
   "source": [
    "# Scatter plot of crop yield vs temperature\n",
    "plt.figure(figsize=(8, 6))\n",
    "plt.scatter(df['Av_temp(0C)'], df['Yield(kg/ha)'], color='red')\n",
    "plt.title('Crop Yield vs Average Temperature')\n",
    "plt.xlabel('Average Temperature')\n",
    "plt.ylabel('Crop Yield')\n",
    "plt.grid(True)\n",
    "plt.show()"
   ]
  },
  {
   "cell_type": "code",
   "execution_count": 50,
   "id": "eee60402",
   "metadata": {},
   "outputs": [
    {
     "name": "stdout",
     "output_type": "stream",
     "text": [
      "\n",
      "Average Crop Yield by Year:\n",
      "Year\n",
      "1961    6045.700000\n",
      "1962    5907.733333\n",
      "1963    6367.366667\n",
      "1964    6245.700000\n",
      "1965    6556.600000\n",
      "           ...     \n",
      "2018    7424.866667\n",
      "2019    5226.000000\n",
      "2020    5210.700000\n",
      "2021    5251.100000\n",
      "2022    5365.900000\n",
      "Name: Yield(kg/ha), Length: 62, dtype: float64\n",
      "\n",
      "Average Crop Yield by Crop:\n",
      "Crop\n",
      "Cassava    9835.191935\n",
      "Rice       1738.706452\n",
      "Yams       9223.598387\n",
      "Name: Yield(kg/ha), dtype: float64\n"
     ]
    }
   ],
   "source": [
    "#Find the average crop yield by crop type or year\n",
    "\n",
    "# Group by year and crop, then calculate mean crop yield\n",
    "average_yield_by_year = df.groupby('Year')['Yield(kg/ha)'].mean()\n",
    "average_yield_by_crop = df.groupby('Crop')['Yield(kg/ha)'].mean()\n",
    "\n",
    "print(\"\\nAverage Crop Yield by Year:\")\n",
    "print(average_yield_by_year)\n",
    "\n",
    "print(\"\\nAverage Crop Yield by Crop:\")\n",
    "print(average_yield_by_crop)"
   ]
  },
  {
   "cell_type": "code",
   "execution_count": null,
   "id": "31f39075",
   "metadata": {},
   "outputs": [],
   "source": [
    "#build model\n",
    "#deploy model"
   ]
  },
  {
   "cell_type": "code",
   "execution_count": 81,
   "id": "e2cf0536",
   "metadata": {},
   "outputs": [],
   "source": [
    "from sklearn.linear_model import LinearRegression\n",
    "from sklearn.ensemble import RandomForestRegressor\n",
    "from sklearn.ensemble import GradientBoostingRegressor\n",
    "from tensorflow.keras.models import Sequential\n",
    "from tensorflow.keras.layers import Dense\n",
    "from sklearn.model_selection import train_test_split\n",
    "from sklearn.metrics import mean_squared_error, r2_score\n",
    "from sklearn.preprocessing import StandardScaler"
   ]
  },
  {
   "cell_type": "code",
   "execution_count": null,
   "id": "7f33718a",
   "metadata": {},
   "outputs": [],
   "source": []
  },
  {
   "cell_type": "code",
   "execution_count": 53,
   "id": "69471681",
   "metadata": {},
   "outputs": [],
   "source": [
    "to_numeric = {'Cassava': 1, 'Rice': 2, 'Yams': 3}\n"
   ]
  },
  {
   "cell_type": "code",
   "execution_count": 54,
   "id": "3aa1c55d",
   "metadata": {},
   "outputs": [],
   "source": [
    "df = df.applymap(lambda lable: to_numeric.get(lable) if lable in to_numeric else lable)"
   ]
  },
  {
   "cell_type": "code",
   "execution_count": 55,
   "id": "646c34f0",
   "metadata": {},
   "outputs": [
    {
     "data": {
      "text/html": [
       "<div>\n",
       "<style scoped>\n",
       "    .dataframe tbody tr th:only-of-type {\n",
       "        vertical-align: middle;\n",
       "    }\n",
       "\n",
       "    .dataframe tbody tr th {\n",
       "        vertical-align: top;\n",
       "    }\n",
       "\n",
       "    .dataframe thead th {\n",
       "        text-align: right;\n",
       "    }\n",
       "</style>\n",
       "<table border=\"1\" class=\"dataframe\">\n",
       "  <thead>\n",
       "    <tr style=\"text-align: right;\">\n",
       "      <th></th>\n",
       "      <th>Crop</th>\n",
       "      <th>Year</th>\n",
       "      <th>Yield(kg/ha)</th>\n",
       "      <th>Av_rainfall(mm)</th>\n",
       "      <th>Av_temp(0C)</th>\n",
       "    </tr>\n",
       "  </thead>\n",
       "  <tbody>\n",
       "    <tr>\n",
       "      <th>0</th>\n",
       "      <td>1</td>\n",
       "      <td>1961</td>\n",
       "      <td>9466.7</td>\n",
       "      <td>1137.82</td>\n",
       "      <td>26.28</td>\n",
       "    </tr>\n",
       "    <tr>\n",
       "      <th>1</th>\n",
       "      <td>2</td>\n",
       "      <td>1961</td>\n",
       "      <td>892.6</td>\n",
       "      <td>1137.82</td>\n",
       "      <td>26.28</td>\n",
       "    </tr>\n",
       "    <tr>\n",
       "      <th>2</th>\n",
       "      <td>3</td>\n",
       "      <td>1961</td>\n",
       "      <td>7777.8</td>\n",
       "      <td>1137.82</td>\n",
       "      <td>26.28</td>\n",
       "    </tr>\n",
       "    <tr>\n",
       "      <th>3</th>\n",
       "      <td>1</td>\n",
       "      <td>1962</td>\n",
       "      <td>8766.5</td>\n",
       "      <td>1356.45</td>\n",
       "      <td>26.68</td>\n",
       "    </tr>\n",
       "    <tr>\n",
       "      <th>4</th>\n",
       "      <td>2</td>\n",
       "      <td>1962</td>\n",
       "      <td>1178.9</td>\n",
       "      <td>1356.45</td>\n",
       "      <td>26.68</td>\n",
       "    </tr>\n",
       "  </tbody>\n",
       "</table>\n",
       "</div>"
      ],
      "text/plain": [
       "   Crop  Year  Yield(kg/ha)  Av_rainfall(mm)  Av_temp(0C)\n",
       "0     1  1961        9466.7          1137.82        26.28\n",
       "1     2  1961         892.6          1137.82        26.28\n",
       "2     3  1961        7777.8          1137.82        26.28\n",
       "3     1  1962        8766.5          1356.45        26.68\n",
       "4     2  1962        1178.9          1356.45        26.68"
      ]
     },
     "execution_count": 55,
     "metadata": {},
     "output_type": "execute_result"
    }
   ],
   "source": [
    "df.head()"
   ]
  },
  {
   "cell_type": "code",
   "execution_count": 56,
   "id": "ed8a03f9",
   "metadata": {},
   "outputs": [],
   "source": [
    "raw_df = df[\"Yield(kg/ha)\"]\n",
    "df1 = df.copy()\n",
    "df.drop(\"Yield(kg/ha)\" , axis = 1, inplace = True)"
   ]
  },
  {
   "cell_type": "code",
   "execution_count": 57,
   "id": "56c3a515",
   "metadata": {},
   "outputs": [
    {
     "data": {
      "text/html": [
       "<div>\n",
       "<style scoped>\n",
       "    .dataframe tbody tr th:only-of-type {\n",
       "        vertical-align: middle;\n",
       "    }\n",
       "\n",
       "    .dataframe tbody tr th {\n",
       "        vertical-align: top;\n",
       "    }\n",
       "\n",
       "    .dataframe thead th {\n",
       "        text-align: right;\n",
       "    }\n",
       "</style>\n",
       "<table border=\"1\" class=\"dataframe\">\n",
       "  <thead>\n",
       "    <tr style=\"text-align: right;\">\n",
       "      <th></th>\n",
       "      <th>Crop</th>\n",
       "      <th>Year</th>\n",
       "      <th>Av_rainfall(mm)</th>\n",
       "      <th>Av_temp(0C)</th>\n",
       "    </tr>\n",
       "  </thead>\n",
       "  <tbody>\n",
       "    <tr>\n",
       "      <th>0</th>\n",
       "      <td>1</td>\n",
       "      <td>1961</td>\n",
       "      <td>1137.82</td>\n",
       "      <td>26.28</td>\n",
       "    </tr>\n",
       "    <tr>\n",
       "      <th>1</th>\n",
       "      <td>2</td>\n",
       "      <td>1961</td>\n",
       "      <td>1137.82</td>\n",
       "      <td>26.28</td>\n",
       "    </tr>\n",
       "    <tr>\n",
       "      <th>2</th>\n",
       "      <td>3</td>\n",
       "      <td>1961</td>\n",
       "      <td>1137.82</td>\n",
       "      <td>26.28</td>\n",
       "    </tr>\n",
       "    <tr>\n",
       "      <th>3</th>\n",
       "      <td>1</td>\n",
       "      <td>1962</td>\n",
       "      <td>1356.45</td>\n",
       "      <td>26.68</td>\n",
       "    </tr>\n",
       "    <tr>\n",
       "      <th>4</th>\n",
       "      <td>2</td>\n",
       "      <td>1962</td>\n",
       "      <td>1356.45</td>\n",
       "      <td>26.68</td>\n",
       "    </tr>\n",
       "  </tbody>\n",
       "</table>\n",
       "</div>"
      ],
      "text/plain": [
       "   Crop  Year  Av_rainfall(mm)  Av_temp(0C)\n",
       "0     1  1961          1137.82        26.28\n",
       "1     2  1961          1137.82        26.28\n",
       "2     3  1961          1137.82        26.28\n",
       "3     1  1962          1356.45        26.68\n",
       "4     2  1962          1356.45        26.68"
      ]
     },
     "execution_count": 57,
     "metadata": {},
     "output_type": "execute_result"
    }
   ],
   "source": [
    "df.head()"
   ]
  },
  {
   "cell_type": "code",
   "execution_count": 59,
   "id": "fd9bd528",
   "metadata": {},
   "outputs": [],
   "source": [
    "# Split the data into training and testing sets\n",
    "x_train, x_test, y_train, y_test = train_test_split(df, raw_df, test_size=0.2, random_state=42)"
   ]
  },
  {
   "cell_type": "code",
   "execution_count": 60,
   "id": "bb00ae69",
   "metadata": {},
   "outputs": [
    {
     "data": {
      "text/plain": [
       "(148, 4)"
      ]
     },
     "execution_count": 60,
     "metadata": {},
     "output_type": "execute_result"
    }
   ],
   "source": [
    "x_train.shape"
   ]
  },
  {
   "cell_type": "code",
   "execution_count": 61,
   "id": "9ff3bded",
   "metadata": {},
   "outputs": [
    {
     "data": {
      "text/plain": [
       "(38, 4)"
      ]
     },
     "execution_count": 61,
     "metadata": {},
     "output_type": "execute_result"
    }
   ],
   "source": [
    "x_test.shape"
   ]
  },
  {
   "cell_type": "code",
   "execution_count": 82,
   "id": "307bb971",
   "metadata": {},
   "outputs": [],
   "source": [
    "scaler = StandardScaler()\n",
    "x_train_scaled = scaler.fit_transform(x_train)\n",
    "x_test_scaled = scaler.transform(x_test)"
   ]
  },
  {
   "cell_type": "markdown",
   "id": "11c30003",
   "metadata": {},
   "source": [
    "Linear Regression"
   ]
  },
  {
   "cell_type": "code",
   "execution_count": 85,
   "id": "95562716",
   "metadata": {},
   "outputs": [
    {
     "ename": "NameError",
     "evalue": "name 'r2_score' is not defined",
     "output_type": "error",
     "traceback": [
      "\u001b[1;31m---------------------------------------------------------------------------\u001b[0m",
      "\u001b[1;31mNameError\u001b[0m                                 Traceback (most recent call last)",
      "Cell \u001b[1;32mIn[85], line 9\u001b[0m\n\u001b[0;32m      6\u001b[0m LR_Model_predict_train \u001b[38;5;241m=\u001b[39m LR_Model\u001b[38;5;241m.\u001b[39mpredict(x_train)\n\u001b[0;32m      7\u001b[0m LR_Model_predict_test \u001b[38;5;241m=\u001b[39m LR_Model\u001b[38;5;241m.\u001b[39mpredict(x_test)\n\u001b[1;32m----> 9\u001b[0m r2_train \u001b[38;5;241m=\u001b[39m \u001b[43mr2_score\u001b[49m(y_train, LR_Model_predict_train)\n\u001b[0;32m     10\u001b[0m r2_test \u001b[38;5;241m=\u001b[39m r2_score(y_test, LR_Model_predict_test)\n",
      "\u001b[1;31mNameError\u001b[0m: name 'r2_score' is not defined"
     ]
    }
   ],
   "source": [
    "# Train the model\n",
    "LR_Model = LinearRegression()\n",
    "LR_Model.fit(x_train, y_train)\n",
    "\n",
    "# Make predictions\n",
    "LR_Model_predict_train = LR_Model.predict(x_train)\n",
    "LR_Model_predict_test = LR_Model.predict(x_test)\n",
    "\n",
    "r2_train = r2_score(y_train, LR_Model_predict_train)\n",
    "r2_test = r2_score(y_test, LR_Model_predict_test)\n"
   ]
  },
  {
   "cell_type": "code",
   "execution_count": 84,
   "id": "9708b376",
   "metadata": {},
   "outputs": [
    {
     "name": "stdout",
     "output_type": "stream",
     "text": [
      "Mean Squared Error: 13239180.319244161\n"
     ]
    }
   ],
   "source": [
    "# Evaluate the model\n",
    "mse = mean_squared_error(y_test, y_pred)\n",
    "print(f\"Mean Squared Error: {mse}\")\n",
    "print(f\"R-squared for training set: {r2_train}\")\n",
    "print(f\"R-squared for test set: {r2_test}\")"
   ]
  },
  {
   "cell_type": "markdown",
   "id": "5aa3c5a9",
   "metadata": {},
   "source": [
    "Random Forest"
   ]
  },
  {
   "cell_type": "code",
   "execution_count": 75,
   "id": "949d509c",
   "metadata": {},
   "outputs": [],
   "source": [
    "# Train the model\n",
    "RF_Model = RandomForestRegressor(n_estimators=100, random_state=42)\n",
    "RF_Model.fit(x_train, y_train)\n",
    "\n",
    "# Make predictions\n",
    "y_pred_RF = RF_Model.predict(x_test)"
   ]
  },
  {
   "cell_type": "code",
   "execution_count": 76,
   "id": "80d96176",
   "metadata": {},
   "outputs": [
    {
     "name": "stdout",
     "output_type": "stream",
     "text": [
      "Random Forest Mean Squared Error: 471121.0559686035\n"
     ]
    }
   ],
   "source": [
    "# Evaluate the model\n",
    "MSE_RF = mean_squared_error(y_test, y_pred_RF)\n",
    "print(f\"Random Forest Mean Squared Error: {MSE_RF}\")"
   ]
  },
  {
   "cell_type": "markdown",
   "id": "10309b80",
   "metadata": {},
   "source": [
    "Gradient Boosting"
   ]
  },
  {
   "cell_type": "code",
   "execution_count": 77,
   "id": "1c1ee45d",
   "metadata": {},
   "outputs": [],
   "source": [
    "# Train the model\n",
    "GB_Model = GradientBoostingRegressor(n_estimators=100, learning_rate=0.1, random_state=42)\n",
    "GB_Model.fit(x_train, y_train)\n",
    "\n",
    "# Make predictions\n",
    "y_pred_GB = GB_Model.predict(x_test)\n"
   ]
  },
  {
   "cell_type": "code",
   "execution_count": 78,
   "id": "c78d41e3",
   "metadata": {},
   "outputs": [
    {
     "name": "stdout",
     "output_type": "stream",
     "text": [
      "Gradient Boosting Mean Squared Error: 506343.61744049826\n"
     ]
    }
   ],
   "source": [
    "# Evaluate the model\n",
    "MSE_GB = mean_squared_error(y_test, y_pred_GB)\n",
    "print(f\"Gradient Boosting Mean Squared Error: {MSE_GB}\")"
   ]
  },
  {
   "cell_type": "code",
   "execution_count": null,
   "id": "a8215f2d",
   "metadata": {},
   "outputs": [],
   "source": []
  },
  {
   "cell_type": "code",
   "execution_count": 79,
   "id": "1b73f108",
   "metadata": {},
   "outputs": [
    {
     "name": "stdout",
     "output_type": "stream",
     "text": [
      "Epoch 1/100\n",
      "4/4 [==============================] - 4s 199ms/step - loss: 59279864.0000 - val_loss: 45776124.0000\n",
      "Epoch 2/100\n",
      "4/4 [==============================] - 0s 19ms/step - loss: 56754860.0000 - val_loss: 43933876.0000\n",
      "Epoch 3/100\n",
      "4/4 [==============================] - 0s 19ms/step - loss: 54567944.0000 - val_loss: 42151564.0000\n",
      "Epoch 4/100\n",
      "4/4 [==============================] - 0s 21ms/step - loss: 52416052.0000 - val_loss: 40323156.0000\n",
      "Epoch 5/100\n",
      "4/4 [==============================] - 0s 19ms/step - loss: 50100984.0000 - val_loss: 38445616.0000\n",
      "Epoch 6/100\n",
      "4/4 [==============================] - 0s 20ms/step - loss: 47811128.0000 - val_loss: 36495620.0000\n",
      "Epoch 7/100\n",
      "4/4 [==============================] - 0s 27ms/step - loss: 45251024.0000 - val_loss: 34507056.0000\n",
      "Epoch 8/100\n",
      "4/4 [==============================] - 0s 29ms/step - loss: 42760224.0000 - val_loss: 32449346.0000\n",
      "Epoch 9/100\n",
      "4/4 [==============================] - 0s 28ms/step - loss: 40112296.0000 - val_loss: 30364792.0000\n",
      "Epoch 10/100\n",
      "4/4 [==============================] - 0s 27ms/step - loss: 37411808.0000 - val_loss: 28273638.0000\n",
      "Epoch 11/100\n",
      "4/4 [==============================] - 0s 30ms/step - loss: 34709468.0000 - val_loss: 26218284.0000\n",
      "Epoch 12/100\n",
      "4/4 [==============================] - 0s 26ms/step - loss: 31838360.0000 - val_loss: 24266796.0000\n",
      "Epoch 13/100\n",
      "4/4 [==============================] - 0s 19ms/step - loss: 29053354.0000 - val_loss: 22443082.0000\n",
      "Epoch 14/100\n",
      "4/4 [==============================] - 0s 19ms/step - loss: 26699196.0000 - val_loss: 20776018.0000\n",
      "Epoch 15/100\n",
      "4/4 [==============================] - 0s 21ms/step - loss: 24119312.0000 - val_loss: 19395052.0000\n",
      "Epoch 16/100\n",
      "4/4 [==============================] - 0s 21ms/step - loss: 21827876.0000 - val_loss: 18324458.0000\n",
      "Epoch 17/100\n",
      "4/4 [==============================] - 0s 21ms/step - loss: 20068932.0000 - val_loss: 17575944.0000\n",
      "Epoch 18/100\n",
      "4/4 [==============================] - 0s 19ms/step - loss: 18549072.0000 - val_loss: 17188746.0000\n",
      "Epoch 19/100\n",
      "4/4 [==============================] - 0s 21ms/step - loss: 17174008.0000 - val_loss: 17135406.0000\n",
      "Epoch 20/100\n",
      "4/4 [==============================] - 0s 24ms/step - loss: 16549625.0000 - val_loss: 17346920.0000\n",
      "Epoch 21/100\n",
      "4/4 [==============================] - 0s 24ms/step - loss: 16037594.0000 - val_loss: 17721150.0000\n",
      "Epoch 22/100\n",
      "4/4 [==============================] - 0s 19ms/step - loss: 15758894.0000 - val_loss: 18122354.0000\n",
      "Epoch 23/100\n",
      "4/4 [==============================] - 0s 19ms/step - loss: 15644854.0000 - val_loss: 18461438.0000\n",
      "Epoch 24/100\n",
      "4/4 [==============================] - 0s 21ms/step - loss: 15702610.0000 - val_loss: 18771794.0000\n",
      "Epoch 25/100\n",
      "4/4 [==============================] - 0s 19ms/step - loss: 15720159.0000 - val_loss: 18950814.0000\n",
      "Epoch 26/100\n",
      "4/4 [==============================] - 0s 21ms/step - loss: 15739008.0000 - val_loss: 19025780.0000\n",
      "Epoch 27/100\n",
      "4/4 [==============================] - 0s 32ms/step - loss: 15747218.0000 - val_loss: 18926434.0000\n",
      "Epoch 28/100\n",
      "4/4 [==============================] - 0s 24ms/step - loss: 15723606.0000 - val_loss: 18851454.0000\n",
      "Epoch 29/100\n",
      "4/4 [==============================] - 0s 21ms/step - loss: 15712639.0000 - val_loss: 18760526.0000\n",
      "Epoch 30/100\n",
      "4/4 [==============================] - 0s 19ms/step - loss: 15695297.0000 - val_loss: 18695050.0000\n",
      "Epoch 31/100\n",
      "4/4 [==============================] - 0s 19ms/step - loss: 15686690.0000 - val_loss: 18631458.0000\n",
      "Epoch 32/100\n",
      "4/4 [==============================] - 0s 21ms/step - loss: 15682218.0000 - val_loss: 18520876.0000\n",
      "Epoch 33/100\n",
      "4/4 [==============================] - 0s 21ms/step - loss: 15674782.0000 - val_loss: 18399674.0000\n",
      "Epoch 34/100\n",
      "4/4 [==============================] - 0s 19ms/step - loss: 15675690.0000 - val_loss: 18343866.0000\n",
      "Epoch 35/100\n",
      "4/4 [==============================] - 0s 21ms/step - loss: 15680907.0000 - val_loss: 18266776.0000\n",
      "Epoch 36/100\n",
      "4/4 [==============================] - 0s 24ms/step - loss: 15682361.0000 - val_loss: 18230636.0000\n",
      "Epoch 37/100\n",
      "4/4 [==============================] - 0s 21ms/step - loss: 15690330.0000 - val_loss: 18199296.0000\n",
      "Epoch 38/100\n",
      "4/4 [==============================] - 0s 19ms/step - loss: 15701561.0000 - val_loss: 18186158.0000\n",
      "Epoch 39/100\n",
      "4/4 [==============================] - 0s 24ms/step - loss: 15679141.0000 - val_loss: 18258902.0000\n",
      "Epoch 40/100\n",
      "4/4 [==============================] - 0s 19ms/step - loss: 15679709.0000 - val_loss: 18356022.0000\n",
      "Epoch 41/100\n",
      "4/4 [==============================] - 0s 19ms/step - loss: 15676813.0000 - val_loss: 18420676.0000\n",
      "Epoch 42/100\n",
      "4/4 [==============================] - 0s 21ms/step - loss: 15680345.0000 - val_loss: 18475572.0000\n",
      "Epoch 43/100\n",
      "4/4 [==============================] - 0s 27ms/step - loss: 15682123.0000 - val_loss: 18468438.0000\n",
      "Epoch 44/100\n",
      "4/4 [==============================] - 0s 27ms/step - loss: 15679658.0000 - val_loss: 18459476.0000\n",
      "Epoch 45/100\n",
      "4/4 [==============================] - 0s 27ms/step - loss: 15676280.0000 - val_loss: 18479892.0000\n",
      "Epoch 46/100\n",
      "4/4 [==============================] - 0s 32ms/step - loss: 15676119.0000 - val_loss: 18509092.0000\n",
      "Epoch 47/100\n",
      "4/4 [==============================] - 0s 27ms/step - loss: 15690474.0000 - val_loss: 18557742.0000\n",
      "Epoch 48/100\n",
      "4/4 [==============================] - 0s 24ms/step - loss: 15683925.0000 - val_loss: 18543994.0000\n",
      "Epoch 49/100\n",
      "4/4 [==============================] - 0s 27ms/step - loss: 15696261.0000 - val_loss: 18406366.0000\n",
      "Epoch 50/100\n",
      "4/4 [==============================] - 0s 24ms/step - loss: 15679855.0000 - val_loss: 18353640.0000\n",
      "Epoch 51/100\n",
      "4/4 [==============================] - 0s 22ms/step - loss: 15675896.0000 - val_loss: 18343818.0000\n",
      "Epoch 52/100\n",
      "4/4 [==============================] - 0s 37ms/step - loss: 15683944.0000 - val_loss: 18286196.0000\n",
      "Epoch 53/100\n",
      "4/4 [==============================] - 0s 27ms/step - loss: 15678996.0000 - val_loss: 18290582.0000\n",
      "Epoch 54/100\n",
      "4/4 [==============================] - 0s 35ms/step - loss: 15676857.0000 - val_loss: 18310614.0000\n",
      "Epoch 55/100\n",
      "4/4 [==============================] - 0s 24ms/step - loss: 15679067.0000 - val_loss: 18323130.0000\n",
      "Epoch 56/100\n",
      "4/4 [==============================] - 0s 33ms/step - loss: 15680586.0000 - val_loss: 18388376.0000\n",
      "Epoch 57/100\n",
      "4/4 [==============================] - 0s 27ms/step - loss: 15674785.0000 - val_loss: 18461102.0000\n",
      "Epoch 58/100\n",
      "4/4 [==============================] - 0s 21ms/step - loss: 15680833.0000 - val_loss: 18514252.0000\n",
      "Epoch 59/100\n",
      "4/4 [==============================] - 0s 27ms/step - loss: 15690999.0000 - val_loss: 18556512.0000\n",
      "Epoch 60/100\n",
      "4/4 [==============================] - 0s 24ms/step - loss: 15678322.0000 - val_loss: 18480514.0000\n",
      "Epoch 61/100\n",
      "4/4 [==============================] - 0s 24ms/step - loss: 15695956.0000 - val_loss: 18361542.0000\n",
      "Epoch 62/100\n",
      "4/4 [==============================] - 0s 31ms/step - loss: 15675345.0000 - val_loss: 18351998.0000\n",
      "Epoch 63/100\n",
      "4/4 [==============================] - 0s 29ms/step - loss: 15676637.0000 - val_loss: 18340514.0000\n",
      "Epoch 64/100\n",
      "4/4 [==============================] - 0s 26ms/step - loss: 15679591.0000 - val_loss: 18342606.0000\n",
      "Epoch 65/100\n",
      "4/4 [==============================] - 0s 24ms/step - loss: 15677354.0000 - val_loss: 18330664.0000\n",
      "Epoch 66/100\n",
      "4/4 [==============================] - 0s 30ms/step - loss: 15691336.0000 - val_loss: 18381692.0000\n",
      "Epoch 67/100\n",
      "4/4 [==============================] - 0s 27ms/step - loss: 15678161.0000 - val_loss: 18383354.0000\n",
      "Epoch 68/100\n",
      "4/4 [==============================] - 0s 32ms/step - loss: 15692321.0000 - val_loss: 18357852.0000\n",
      "Epoch 69/100\n",
      "4/4 [==============================] - 0s 29ms/step - loss: 15670365.0000 - val_loss: 18444542.0000\n",
      "Epoch 70/100\n",
      "4/4 [==============================] - 0s 33ms/step - loss: 15672554.0000 - val_loss: 18534260.0000\n",
      "Epoch 71/100\n",
      "4/4 [==============================] - 0s 31ms/step - loss: 15683557.0000 - val_loss: 18571428.0000\n",
      "Epoch 72/100\n",
      "4/4 [==============================] - 0s 29ms/step - loss: 15687038.0000 - val_loss: 18525308.0000\n",
      "Epoch 73/100\n"
     ]
    },
    {
     "name": "stdout",
     "output_type": "stream",
     "text": [
      "4/4 [==============================] - 0s 41ms/step - loss: 15687273.0000 - val_loss: 18572714.0000\n",
      "Epoch 74/100\n",
      "4/4 [==============================] - 0s 29ms/step - loss: 15681486.0000 - val_loss: 18581098.0000\n",
      "Epoch 75/100\n",
      "4/4 [==============================] - 0s 19ms/step - loss: 15682449.0000 - val_loss: 18535078.0000\n",
      "Epoch 76/100\n",
      "4/4 [==============================] - 0s 24ms/step - loss: 15679113.0000 - val_loss: 18508990.0000\n",
      "Epoch 77/100\n",
      "4/4 [==============================] - 0s 22ms/step - loss: 15678901.0000 - val_loss: 18507202.0000\n",
      "Epoch 78/100\n",
      "4/4 [==============================] - 0s 32ms/step - loss: 15678495.0000 - val_loss: 18458714.0000\n",
      "Epoch 79/100\n",
      "4/4 [==============================] - 0s 29ms/step - loss: 15685980.0000 - val_loss: 18416914.0000\n",
      "Epoch 80/100\n",
      "4/4 [==============================] - 0s 21ms/step - loss: 15673547.0000 - val_loss: 18430564.0000\n",
      "Epoch 81/100\n",
      "4/4 [==============================] - 0s 24ms/step - loss: 15685125.0000 - val_loss: 18487328.0000\n",
      "Epoch 82/100\n",
      "4/4 [==============================] - 0s 21ms/step - loss: 15675179.0000 - val_loss: 18455832.0000\n",
      "Epoch 83/100\n",
      "4/4 [==============================] - 0s 22ms/step - loss: 15704053.0000 - val_loss: 18506976.0000\n",
      "Epoch 84/100\n",
      "4/4 [==============================] - 0s 21ms/step - loss: 15679083.0000 - val_loss: 18392058.0000\n",
      "Epoch 85/100\n",
      "4/4 [==============================] - 0s 24ms/step - loss: 15677610.0000 - val_loss: 18318618.0000\n",
      "Epoch 86/100\n",
      "4/4 [==============================] - 0s 24ms/step - loss: 15679066.0000 - val_loss: 18337358.0000\n",
      "Epoch 87/100\n",
      "4/4 [==============================] - 0s 24ms/step - loss: 15708180.0000 - val_loss: 18240600.0000\n",
      "Epoch 88/100\n",
      "4/4 [==============================] - 0s 21ms/step - loss: 15680385.0000 - val_loss: 18264740.0000\n",
      "Epoch 89/100\n",
      "4/4 [==============================] - 0s 24ms/step - loss: 15705244.0000 - val_loss: 18395928.0000\n",
      "Epoch 90/100\n",
      "4/4 [==============================] - 0s 24ms/step - loss: 15701272.0000 - val_loss: 18455090.0000\n",
      "Epoch 91/100\n",
      "4/4 [==============================] - 0s 27ms/step - loss: 15680074.0000 - val_loss: 18457256.0000\n",
      "Epoch 92/100\n",
      "4/4 [==============================] - 0s 24ms/step - loss: 15675173.0000 - val_loss: 18399014.0000\n",
      "Epoch 93/100\n",
      "4/4 [==============================] - 0s 24ms/step - loss: 15672065.0000 - val_loss: 18365558.0000\n",
      "Epoch 94/100\n",
      "4/4 [==============================] - 0s 24ms/step - loss: 15673945.0000 - val_loss: 18355090.0000\n",
      "Epoch 95/100\n",
      "4/4 [==============================] - 0s 24ms/step - loss: 15673982.0000 - val_loss: 18325322.0000\n",
      "Epoch 96/100\n",
      "4/4 [==============================] - 0s 24ms/step - loss: 15676637.0000 - val_loss: 18346958.0000\n",
      "Epoch 97/100\n",
      "4/4 [==============================] - 0s 24ms/step - loss: 15692075.0000 - val_loss: 18278180.0000\n",
      "Epoch 98/100\n",
      "4/4 [==============================] - 0s 24ms/step - loss: 15694640.0000 - val_loss: 18382594.0000\n",
      "Epoch 99/100\n",
      "4/4 [==============================] - 0s 24ms/step - loss: 15678755.0000 - val_loss: 18342538.0000\n",
      "Epoch 100/100\n",
      "4/4 [==============================] - 0s 24ms/step - loss: 15672650.0000 - val_loss: 18361708.0000\n",
      "2/2 [==============================] - 0s 8ms/step\n"
     ]
    }
   ],
   "source": [
    "# Build the neural network model\n",
    "nn_model = Sequential()\n",
    "nn_model.add(Dense(64, activation='relu', input_shape=(x_train.shape[1],)))\n",
    "nn_model.add(Dense(64, activation='relu'))\n",
    "nn_model.add(Dense(1))  # Single output for regression\n",
    "\n",
    "# Compile the model\n",
    "nn_model.compile(optimizer='adam', loss='mean_squared_error')\n",
    "\n",
    "# Train the model\n",
    "nn_model.fit(x_train, y_train, epochs=100, batch_size=32, validation_split=0.2, verbose=1)\n",
    "\n",
    "# Make predictions\n",
    "y_pred_nn = nn_model.predict(x_test)\n",
    "\n"
   ]
  },
  {
   "cell_type": "code",
   "execution_count": 80,
   "id": "104b3ca2",
   "metadata": {},
   "outputs": [
    {
     "name": "stdout",
     "output_type": "stream",
     "text": [
      "Neural Network Mean Squared Error: 12725817.342664279\n"
     ]
    }
   ],
   "source": [
    "# Evaluate the model\n",
    "mse_nn = mean_squared_error(y_test, y_pred_nn)\n",
    "print(f\"Neural Network Mean Squared Error: {mse_nn}\")"
   ]
  },
  {
   "cell_type": "code",
   "execution_count": null,
   "id": "d57acd11",
   "metadata": {},
   "outputs": [],
   "source": []
  }
 ],
 "metadata": {
  "kernelspec": {
   "display_name": "Python 3 (ipykernel)",
   "language": "python",
   "name": "python3"
  },
  "language_info": {
   "codemirror_mode": {
    "name": "ipython",
    "version": 3
   },
   "file_extension": ".py",
   "mimetype": "text/x-python",
   "name": "python",
   "nbconvert_exporter": "python",
   "pygments_lexer": "ipython3",
   "version": "3.9.12"
  }
 },
 "nbformat": 4,
 "nbformat_minor": 5
}
