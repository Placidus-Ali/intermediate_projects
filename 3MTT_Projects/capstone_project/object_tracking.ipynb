{
 "cells": [
  {
   "cell_type": "code",
   "execution_count": null,
   "id": "e1a2c068-5ee9-4fbd-a298-0970b9bb709d",
   "metadata": {},
   "outputs": [],
   "source": []
  }
 ],
 "metadata": {
  "kernelspec": {
   "display_name": "",
   "name": ""
  },
  "language_info": {
   "name": ""
  }
 },
 "nbformat": 4,
 "nbformat_minor": 5
}
