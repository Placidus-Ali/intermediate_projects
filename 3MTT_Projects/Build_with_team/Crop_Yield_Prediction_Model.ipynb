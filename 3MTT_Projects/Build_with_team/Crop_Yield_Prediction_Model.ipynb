{
 "cells": [
  {
   "cell_type": "markdown",
   "id": "2348e3b4",
   "metadata": {},
   "source": [
    "### Crop Yield Prediction Model"
   ]
  },
  {
   "cell_type": "markdown",
   "id": "36d04083-81ec-4be6-8282-09e007c05c49",
   "metadata": {},
   "source": [
    "In this project, we built a machine learning model to predict crop yield based on key agricultural and environmental factors. The crops considered are Yam, Cassava and Rice. The model was built using a dataset containing essential features influencing crop production, such as average rainfall, temperature, and soil quality metrics. \n",
    "\n",
    "After extensive data preprocessing and feature engineering, four models were evaluated to identify the best-performing algorithm: Linear Regression, Random Forest, Gradient Boosting, and Support Vector Regressor. \n",
    "\n",
    "The evaluation metrics used were Accuracy, Mean Squared Error (MSE), and R² Score Among the tested models, Random Forest achieved the best performance with an accuracy of 95.9% and a significantly low Mean Squared Error of 515,934. \n",
    "\n",
    "This model was selected for deployment due to its accuracy and stability. We finally deployed the model on Streamlit to provide an interactive and user-friendly interface, allowing users to input relevant crop data and receive real-time yield predictions. The deployment works effectively, providing farmers and stakeholders with valuable insights into expected crop yields, aiding in better decision-making for crop management and resource allocation."
   ]
  },
  {
   "cell_type": "code",
   "execution_count": 3,
   "id": "2400d798",
   "metadata": {},
   "outputs": [],
   "source": [
    "import numpy as np\n",
    "import pandas as pd\n",
    "import matplotlib.pyplot as plt\n",
    "import seaborn as sns"
   ]
  },
  {
   "cell_type": "code",
   "execution_count": 5,
   "id": "1f4bce85",
   "metadata": {},
   "outputs": [
    {
     "data": {
      "text/html": [
       "<div>\n",
       "<style scoped>\n",
       "    .dataframe tbody tr th:only-of-type {\n",
       "        vertical-align: middle;\n",
       "    }\n",
       "\n",
       "    .dataframe tbody tr th {\n",
       "        vertical-align: top;\n",
       "    }\n",
       "\n",
       "    .dataframe thead th {\n",
       "        text-align: right;\n",
       "    }\n",
       "</style>\n",
       "<table border=\"1\" class=\"dataframe\">\n",
       "  <thead>\n",
       "    <tr style=\"text-align: right;\">\n",
       "      <th></th>\n",
       "      <th>Domain Code</th>\n",
       "      <th>Domain</th>\n",
       "      <th>Area Code (M49)</th>\n",
       "      <th>Area</th>\n",
       "      <th>Element Code</th>\n",
       "      <th>Element</th>\n",
       "      <th>Item Code (CPC)</th>\n",
       "      <th>Item</th>\n",
       "      <th>Year Code</th>\n",
       "      <th>Year</th>\n",
       "      <th>Unit</th>\n",
       "      <th>Value</th>\n",
       "      <th>Flag</th>\n",
       "      <th>Flag Description</th>\n",
       "      <th>Note</th>\n",
       "    </tr>\n",
       "  </thead>\n",
       "  <tbody>\n",
       "    <tr>\n",
       "      <th>0</th>\n",
       "      <td>QCL</td>\n",
       "      <td>Crops and livestock products</td>\n",
       "      <td>566</td>\n",
       "      <td>Nigeria</td>\n",
       "      <td>5412</td>\n",
       "      <td>Yield</td>\n",
       "      <td>1520.01</td>\n",
       "      <td>Cassava, fresh</td>\n",
       "      <td>1961</td>\n",
       "      <td>1961</td>\n",
       "      <td>kg/ha</td>\n",
       "      <td>9466.7</td>\n",
       "      <td>A</td>\n",
       "      <td>Official figure</td>\n",
       "      <td>NaN</td>\n",
       "    </tr>\n",
       "    <tr>\n",
       "      <th>1</th>\n",
       "      <td>QCL</td>\n",
       "      <td>Crops and livestock products</td>\n",
       "      <td>566</td>\n",
       "      <td>Nigeria</td>\n",
       "      <td>5412</td>\n",
       "      <td>Yield</td>\n",
       "      <td>1520.01</td>\n",
       "      <td>Cassava, fresh</td>\n",
       "      <td>1962</td>\n",
       "      <td>1962</td>\n",
       "      <td>kg/ha</td>\n",
       "      <td>8766.5</td>\n",
       "      <td>A</td>\n",
       "      <td>Official figure</td>\n",
       "      <td>NaN</td>\n",
       "    </tr>\n",
       "    <tr>\n",
       "      <th>2</th>\n",
       "      <td>QCL</td>\n",
       "      <td>Crops and livestock products</td>\n",
       "      <td>566</td>\n",
       "      <td>Nigeria</td>\n",
       "      <td>5412</td>\n",
       "      <td>Yield</td>\n",
       "      <td>1520.01</td>\n",
       "      <td>Cassava, fresh</td>\n",
       "      <td>1963</td>\n",
       "      <td>1963</td>\n",
       "      <td>kg/ha</td>\n",
       "      <td>9716.6</td>\n",
       "      <td>A</td>\n",
       "      <td>Official figure</td>\n",
       "      <td>NaN</td>\n",
       "    </tr>\n",
       "    <tr>\n",
       "      <th>3</th>\n",
       "      <td>QCL</td>\n",
       "      <td>Crops and livestock products</td>\n",
       "      <td>566</td>\n",
       "      <td>Nigeria</td>\n",
       "      <td>5412</td>\n",
       "      <td>Yield</td>\n",
       "      <td>1520.01</td>\n",
       "      <td>Cassava, fresh</td>\n",
       "      <td>1964</td>\n",
       "      <td>1964</td>\n",
       "      <td>kg/ha</td>\n",
       "      <td>9174.7</td>\n",
       "      <td>A</td>\n",
       "      <td>Official figure</td>\n",
       "      <td>NaN</td>\n",
       "    </tr>\n",
       "    <tr>\n",
       "      <th>4</th>\n",
       "      <td>QCL</td>\n",
       "      <td>Crops and livestock products</td>\n",
       "      <td>566</td>\n",
       "      <td>Nigeria</td>\n",
       "      <td>5412</td>\n",
       "      <td>Yield</td>\n",
       "      <td>1520.01</td>\n",
       "      <td>Cassava, fresh</td>\n",
       "      <td>1965</td>\n",
       "      <td>1965</td>\n",
       "      <td>kg/ha</td>\n",
       "      <td>9869.7</td>\n",
       "      <td>A</td>\n",
       "      <td>Official figure</td>\n",
       "      <td>NaN</td>\n",
       "    </tr>\n",
       "  </tbody>\n",
       "</table>\n",
       "</div>"
      ],
      "text/plain": [
       "  Domain Code                        Domain  Area Code (M49)     Area  \\\n",
       "0         QCL  Crops and livestock products              566  Nigeria   \n",
       "1         QCL  Crops and livestock products              566  Nigeria   \n",
       "2         QCL  Crops and livestock products              566  Nigeria   \n",
       "3         QCL  Crops and livestock products              566  Nigeria   \n",
       "4         QCL  Crops and livestock products              566  Nigeria   \n",
       "\n",
       "   Element Code Element  Item Code (CPC)            Item  Year Code  Year  \\\n",
       "0          5412   Yield          1520.01  Cassava, fresh       1961  1961   \n",
       "1          5412   Yield          1520.01  Cassava, fresh       1962  1962   \n",
       "2          5412   Yield          1520.01  Cassava, fresh       1963  1963   \n",
       "3          5412   Yield          1520.01  Cassava, fresh       1964  1964   \n",
       "4          5412   Yield          1520.01  Cassava, fresh       1965  1965   \n",
       "\n",
       "    Unit   Value Flag Flag Description  Note  \n",
       "0  kg/ha  9466.7    A  Official figure   NaN  \n",
       "1  kg/ha  8766.5    A  Official figure   NaN  \n",
       "2  kg/ha  9716.6    A  Official figure   NaN  \n",
       "3  kg/ha  9174.7    A  Official figure   NaN  \n",
       "4  kg/ha  9869.7    A  Official figure   NaN  "
      ]
     },
     "execution_count": 5,
     "metadata": {},
     "output_type": "execute_result"
    }
   ],
   "source": [
    "crop_yield = pd.read_csv(\"FAOSTAT_crop_yield_dataset.csv\")\n",
    "crop_yield.head()"
   ]
  },
  {
   "cell_type": "code",
   "execution_count": 12,
   "id": "c1fafe84",
   "metadata": {},
   "outputs": [
    {
     "data": {
      "text/html": [
       "<div>\n",
       "<style scoped>\n",
       "    .dataframe tbody tr th:only-of-type {\n",
       "        vertical-align: middle;\n",
       "    }\n",
       "\n",
       "    .dataframe tbody tr th {\n",
       "        vertical-align: top;\n",
       "    }\n",
       "\n",
       "    .dataframe thead th {\n",
       "        text-align: right;\n",
       "    }\n",
       "</style>\n",
       "<table border=\"1\" class=\"dataframe\">\n",
       "  <thead>\n",
       "    <tr style=\"text-align: right;\">\n",
       "      <th></th>\n",
       "      <th>Domain Code</th>\n",
       "      <th>Domain</th>\n",
       "      <th>Area Code (M49)</th>\n",
       "      <th>Area</th>\n",
       "      <th>Element Code</th>\n",
       "      <th>Element</th>\n",
       "      <th>Item Code (CPC)</th>\n",
       "      <th>Item</th>\n",
       "      <th>Year Code</th>\n",
       "      <th>Year</th>\n",
       "      <th>Unit</th>\n",
       "      <th>Value</th>\n",
       "      <th>Flag</th>\n",
       "      <th>Flag Description</th>\n",
       "      <th>Note</th>\n",
       "    </tr>\n",
       "  </thead>\n",
       "  <tbody>\n",
       "    <tr>\n",
       "      <th>181</th>\n",
       "      <td>QCL</td>\n",
       "      <td>Crops and livestock products</td>\n",
       "      <td>566</td>\n",
       "      <td>Nigeria</td>\n",
       "      <td>5412</td>\n",
       "      <td>Yield</td>\n",
       "      <td>1540.0</td>\n",
       "      <td>Yams</td>\n",
       "      <td>2018</td>\n",
       "      <td>2018</td>\n",
       "      <td>kg/ha</td>\n",
       "      <td>10199.9</td>\n",
       "      <td>A</td>\n",
       "      <td>Official figure</td>\n",
       "      <td>NaN</td>\n",
       "    </tr>\n",
       "    <tr>\n",
       "      <th>182</th>\n",
       "      <td>QCL</td>\n",
       "      <td>Crops and livestock products</td>\n",
       "      <td>566</td>\n",
       "      <td>Nigeria</td>\n",
       "      <td>5412</td>\n",
       "      <td>Yield</td>\n",
       "      <td>1540.0</td>\n",
       "      <td>Yams</td>\n",
       "      <td>2019</td>\n",
       "      <td>2019</td>\n",
       "      <td>kg/ha</td>\n",
       "      <td>7806.8</td>\n",
       "      <td>A</td>\n",
       "      <td>Official figure</td>\n",
       "      <td>NaN</td>\n",
       "    </tr>\n",
       "    <tr>\n",
       "      <th>183</th>\n",
       "      <td>QCL</td>\n",
       "      <td>Crops and livestock products</td>\n",
       "      <td>566</td>\n",
       "      <td>Nigeria</td>\n",
       "      <td>5412</td>\n",
       "      <td>Yield</td>\n",
       "      <td>1540.0</td>\n",
       "      <td>Yams</td>\n",
       "      <td>2020</td>\n",
       "      <td>2020</td>\n",
       "      <td>kg/ha</td>\n",
       "      <td>7904.7</td>\n",
       "      <td>A</td>\n",
       "      <td>Official figure</td>\n",
       "      <td>NaN</td>\n",
       "    </tr>\n",
       "    <tr>\n",
       "      <th>184</th>\n",
       "      <td>QCL</td>\n",
       "      <td>Crops and livestock products</td>\n",
       "      <td>566</td>\n",
       "      <td>Nigeria</td>\n",
       "      <td>5412</td>\n",
       "      <td>Yield</td>\n",
       "      <td>1540.0</td>\n",
       "      <td>Yams</td>\n",
       "      <td>2021</td>\n",
       "      <td>2021</td>\n",
       "      <td>kg/ha</td>\n",
       "      <td>7986.5</td>\n",
       "      <td>A</td>\n",
       "      <td>Official figure</td>\n",
       "      <td>NaN</td>\n",
       "    </tr>\n",
       "    <tr>\n",
       "      <th>185</th>\n",
       "      <td>QCL</td>\n",
       "      <td>Crops and livestock products</td>\n",
       "      <td>566</td>\n",
       "      <td>Nigeria</td>\n",
       "      <td>5412</td>\n",
       "      <td>Yield</td>\n",
       "      <td>1540.0</td>\n",
       "      <td>Yams</td>\n",
       "      <td>2022</td>\n",
       "      <td>2022</td>\n",
       "      <td>kg/ha</td>\n",
       "      <td>8175.9</td>\n",
       "      <td>E</td>\n",
       "      <td>Estimated value</td>\n",
       "      <td>NaN</td>\n",
       "    </tr>\n",
       "  </tbody>\n",
       "</table>\n",
       "</div>"
      ],
      "text/plain": [
       "    Domain Code                        Domain  Area Code (M49)     Area  \\\n",
       "181         QCL  Crops and livestock products              566  Nigeria   \n",
       "182         QCL  Crops and livestock products              566  Nigeria   \n",
       "183         QCL  Crops and livestock products              566  Nigeria   \n",
       "184         QCL  Crops and livestock products              566  Nigeria   \n",
       "185         QCL  Crops and livestock products              566  Nigeria   \n",
       "\n",
       "     Element Code Element  Item Code (CPC)  Item  Year Code  Year   Unit  \\\n",
       "181          5412   Yield           1540.0  Yams       2018  2018  kg/ha   \n",
       "182          5412   Yield           1540.0  Yams       2019  2019  kg/ha   \n",
       "183          5412   Yield           1540.0  Yams       2020  2020  kg/ha   \n",
       "184          5412   Yield           1540.0  Yams       2021  2021  kg/ha   \n",
       "185          5412   Yield           1540.0  Yams       2022  2022  kg/ha   \n",
       "\n",
       "       Value Flag Flag Description  Note  \n",
       "181  10199.9    A  Official figure   NaN  \n",
       "182   7806.8    A  Official figure   NaN  \n",
       "183   7904.7    A  Official figure   NaN  \n",
       "184   7986.5    A  Official figure   NaN  \n",
       "185   8175.9    E  Estimated value   NaN  "
      ]
     },
     "execution_count": 12,
     "metadata": {},
     "output_type": "execute_result"
    }
   ],
   "source": [
    "crop_yield.tail()"
   ]
  },
  {
   "cell_type": "code",
   "execution_count": 14,
   "id": "a3794384",
   "metadata": {},
   "outputs": [
    {
     "data": {
      "text/html": [
       "<div>\n",
       "<style scoped>\n",
       "    .dataframe tbody tr th:only-of-type {\n",
       "        vertical-align: middle;\n",
       "    }\n",
       "\n",
       "    .dataframe tbody tr th {\n",
       "        vertical-align: top;\n",
       "    }\n",
       "\n",
       "    .dataframe thead th {\n",
       "        text-align: right;\n",
       "    }\n",
       "</style>\n",
       "<table border=\"1\" class=\"dataframe\">\n",
       "  <thead>\n",
       "    <tr style=\"text-align: right;\">\n",
       "      <th></th>\n",
       "      <th>Year</th>\n",
       "      <th>Annual Mean</th>\n",
       "      <th>Annual Temperature</th>\n",
       "    </tr>\n",
       "  </thead>\n",
       "  <tbody>\n",
       "    <tr>\n",
       "      <th>0</th>\n",
       "      <td>1961</td>\n",
       "      <td>1137.82</td>\n",
       "      <td>26.28</td>\n",
       "    </tr>\n",
       "    <tr>\n",
       "      <th>1</th>\n",
       "      <td>1962</td>\n",
       "      <td>1356.45</td>\n",
       "      <td>26.68</td>\n",
       "    </tr>\n",
       "    <tr>\n",
       "      <th>2</th>\n",
       "      <td>1963</td>\n",
       "      <td>1354.66</td>\n",
       "      <td>27.02</td>\n",
       "    </tr>\n",
       "    <tr>\n",
       "      <th>3</th>\n",
       "      <td>1964</td>\n",
       "      <td>1241.07</td>\n",
       "      <td>26.66</td>\n",
       "    </tr>\n",
       "    <tr>\n",
       "      <th>4</th>\n",
       "      <td>1965</td>\n",
       "      <td>1201.45</td>\n",
       "      <td>26.56</td>\n",
       "    </tr>\n",
       "  </tbody>\n",
       "</table>\n",
       "</div>"
      ],
      "text/plain": [
       "   Year  Annual Mean  Annual Temperature\n",
       "0  1961      1137.82               26.28\n",
       "1  1962      1356.45               26.68\n",
       "2  1963      1354.66               27.02\n",
       "3  1964      1241.07               26.66\n",
       "4  1965      1201.45               26.56"
      ]
     },
     "execution_count": 14,
     "metadata": {},
     "output_type": "execute_result"
    }
   ],
   "source": [
    "rain_temp = pd.read_csv(\"Average_rainfal_temp_1961_2022.csv\")\n",
    "rain_temp.head()"
   ]
  },
  {
   "cell_type": "code",
   "execution_count": 16,
   "id": "d64357c8",
   "metadata": {},
   "outputs": [
    {
     "data": {
      "text/html": [
       "<div>\n",
       "<style scoped>\n",
       "    .dataframe tbody tr th:only-of-type {\n",
       "        vertical-align: middle;\n",
       "    }\n",
       "\n",
       "    .dataframe tbody tr th {\n",
       "        vertical-align: top;\n",
       "    }\n",
       "\n",
       "    .dataframe thead th {\n",
       "        text-align: right;\n",
       "    }\n",
       "</style>\n",
       "<table border=\"1\" class=\"dataframe\">\n",
       "  <thead>\n",
       "    <tr style=\"text-align: right;\">\n",
       "      <th></th>\n",
       "      <th>Year</th>\n",
       "      <th>Annual Mean</th>\n",
       "      <th>Annual Temperature</th>\n",
       "    </tr>\n",
       "  </thead>\n",
       "  <tbody>\n",
       "    <tr>\n",
       "      <th>57</th>\n",
       "      <td>2018</td>\n",
       "      <td>1233.04</td>\n",
       "      <td>27.41</td>\n",
       "    </tr>\n",
       "    <tr>\n",
       "      <th>58</th>\n",
       "      <td>2019</td>\n",
       "      <td>1296.78</td>\n",
       "      <td>27.29</td>\n",
       "    </tr>\n",
       "    <tr>\n",
       "      <th>59</th>\n",
       "      <td>2020</td>\n",
       "      <td>1254.97</td>\n",
       "      <td>27.43</td>\n",
       "    </tr>\n",
       "    <tr>\n",
       "      <th>60</th>\n",
       "      <td>2021</td>\n",
       "      <td>1114.97</td>\n",
       "      <td>27.67</td>\n",
       "    </tr>\n",
       "    <tr>\n",
       "      <th>61</th>\n",
       "      <td>2022</td>\n",
       "      <td>1228.76</td>\n",
       "      <td>27.15</td>\n",
       "    </tr>\n",
       "  </tbody>\n",
       "</table>\n",
       "</div>"
      ],
      "text/plain": [
       "    Year  Annual Mean  Annual Temperature\n",
       "57  2018      1233.04               27.41\n",
       "58  2019      1296.78               27.29\n",
       "59  2020      1254.97               27.43\n",
       "60  2021      1114.97               27.67\n",
       "61  2022      1228.76               27.15"
      ]
     },
     "execution_count": 16,
     "metadata": {},
     "output_type": "execute_result"
    }
   ],
   "source": [
    "rain_temp.tail()"
   ]
  },
  {
   "cell_type": "code",
   "execution_count": 18,
   "id": "83e99cdf",
   "metadata": {},
   "outputs": [
    {
     "data": {
      "text/html": [
       "<div>\n",
       "<style scoped>\n",
       "    .dataframe tbody tr th:only-of-type {\n",
       "        vertical-align: middle;\n",
       "    }\n",
       "\n",
       "    .dataframe tbody tr th {\n",
       "        vertical-align: top;\n",
       "    }\n",
       "\n",
       "    .dataframe thead th {\n",
       "        text-align: right;\n",
       "    }\n",
       "</style>\n",
       "<table border=\"1\" class=\"dataframe\">\n",
       "  <thead>\n",
       "    <tr style=\"text-align: right;\">\n",
       "      <th></th>\n",
       "      <th>Domain Code</th>\n",
       "      <th>Domain</th>\n",
       "      <th>Area Code (M49)</th>\n",
       "      <th>Area</th>\n",
       "      <th>Element Code</th>\n",
       "      <th>Element</th>\n",
       "      <th>Item Code (CPC)</th>\n",
       "      <th>Item</th>\n",
       "      <th>Year Code</th>\n",
       "      <th>Year</th>\n",
       "      <th>Unit</th>\n",
       "      <th>Value</th>\n",
       "      <th>Flag</th>\n",
       "      <th>Flag Description</th>\n",
       "      <th>Note</th>\n",
       "      <th>Annual Mean</th>\n",
       "      <th>Annual Temperature</th>\n",
       "    </tr>\n",
       "  </thead>\n",
       "  <tbody>\n",
       "    <tr>\n",
       "      <th>0</th>\n",
       "      <td>QCL</td>\n",
       "      <td>Crops and livestock products</td>\n",
       "      <td>566</td>\n",
       "      <td>Nigeria</td>\n",
       "      <td>5412</td>\n",
       "      <td>Yield</td>\n",
       "      <td>1520.01</td>\n",
       "      <td>Cassava, fresh</td>\n",
       "      <td>1961</td>\n",
       "      <td>1961</td>\n",
       "      <td>kg/ha</td>\n",
       "      <td>9466.7</td>\n",
       "      <td>A</td>\n",
       "      <td>Official figure</td>\n",
       "      <td>NaN</td>\n",
       "      <td>1137.82</td>\n",
       "      <td>26.28</td>\n",
       "    </tr>\n",
       "    <tr>\n",
       "      <th>1</th>\n",
       "      <td>QCL</td>\n",
       "      <td>Crops and livestock products</td>\n",
       "      <td>566</td>\n",
       "      <td>Nigeria</td>\n",
       "      <td>5412</td>\n",
       "      <td>Yield</td>\n",
       "      <td>1520.01</td>\n",
       "      <td>Cassava, fresh</td>\n",
       "      <td>1962</td>\n",
       "      <td>1962</td>\n",
       "      <td>kg/ha</td>\n",
       "      <td>8766.5</td>\n",
       "      <td>A</td>\n",
       "      <td>Official figure</td>\n",
       "      <td>NaN</td>\n",
       "      <td>1356.45</td>\n",
       "      <td>26.68</td>\n",
       "    </tr>\n",
       "    <tr>\n",
       "      <th>2</th>\n",
       "      <td>QCL</td>\n",
       "      <td>Crops and livestock products</td>\n",
       "      <td>566</td>\n",
       "      <td>Nigeria</td>\n",
       "      <td>5412</td>\n",
       "      <td>Yield</td>\n",
       "      <td>1520.01</td>\n",
       "      <td>Cassava, fresh</td>\n",
       "      <td>1963</td>\n",
       "      <td>1963</td>\n",
       "      <td>kg/ha</td>\n",
       "      <td>9716.6</td>\n",
       "      <td>A</td>\n",
       "      <td>Official figure</td>\n",
       "      <td>NaN</td>\n",
       "      <td>1354.66</td>\n",
       "      <td>27.02</td>\n",
       "    </tr>\n",
       "    <tr>\n",
       "      <th>3</th>\n",
       "      <td>QCL</td>\n",
       "      <td>Crops and livestock products</td>\n",
       "      <td>566</td>\n",
       "      <td>Nigeria</td>\n",
       "      <td>5412</td>\n",
       "      <td>Yield</td>\n",
       "      <td>1520.01</td>\n",
       "      <td>Cassava, fresh</td>\n",
       "      <td>1964</td>\n",
       "      <td>1964</td>\n",
       "      <td>kg/ha</td>\n",
       "      <td>9174.7</td>\n",
       "      <td>A</td>\n",
       "      <td>Official figure</td>\n",
       "      <td>NaN</td>\n",
       "      <td>1241.07</td>\n",
       "      <td>26.66</td>\n",
       "    </tr>\n",
       "    <tr>\n",
       "      <th>4</th>\n",
       "      <td>QCL</td>\n",
       "      <td>Crops and livestock products</td>\n",
       "      <td>566</td>\n",
       "      <td>Nigeria</td>\n",
       "      <td>5412</td>\n",
       "      <td>Yield</td>\n",
       "      <td>1520.01</td>\n",
       "      <td>Cassava, fresh</td>\n",
       "      <td>1965</td>\n",
       "      <td>1965</td>\n",
       "      <td>kg/ha</td>\n",
       "      <td>9869.7</td>\n",
       "      <td>A</td>\n",
       "      <td>Official figure</td>\n",
       "      <td>NaN</td>\n",
       "      <td>1201.45</td>\n",
       "      <td>26.56</td>\n",
       "    </tr>\n",
       "  </tbody>\n",
       "</table>\n",
       "</div>"
      ],
      "text/plain": [
       "  Domain Code                        Domain  Area Code (M49)     Area  \\\n",
       "0         QCL  Crops and livestock products              566  Nigeria   \n",
       "1         QCL  Crops and livestock products              566  Nigeria   \n",
       "2         QCL  Crops and livestock products              566  Nigeria   \n",
       "3         QCL  Crops and livestock products              566  Nigeria   \n",
       "4         QCL  Crops and livestock products              566  Nigeria   \n",
       "\n",
       "   Element Code Element  Item Code (CPC)            Item  Year Code  Year  \\\n",
       "0          5412   Yield          1520.01  Cassava, fresh       1961  1961   \n",
       "1          5412   Yield          1520.01  Cassava, fresh       1962  1962   \n",
       "2          5412   Yield          1520.01  Cassava, fresh       1963  1963   \n",
       "3          5412   Yield          1520.01  Cassava, fresh       1964  1964   \n",
       "4          5412   Yield          1520.01  Cassava, fresh       1965  1965   \n",
       "\n",
       "    Unit   Value Flag Flag Description  Note  Annual Mean  Annual Temperature  \n",
       "0  kg/ha  9466.7    A  Official figure   NaN      1137.82               26.28  \n",
       "1  kg/ha  8766.5    A  Official figure   NaN      1356.45               26.68  \n",
       "2  kg/ha  9716.6    A  Official figure   NaN      1354.66               27.02  \n",
       "3  kg/ha  9174.7    A  Official figure   NaN      1241.07               26.66  \n",
       "4  kg/ha  9869.7    A  Official figure   NaN      1201.45               26.56  "
      ]
     },
     "execution_count": 18,
     "metadata": {},
     "output_type": "execute_result"
    }
   ],
   "source": [
    "#merge the 2 datasets\n",
    "df = pd.merge(crop_yield, rain_temp, on=['Year'])\n",
    "#dataframe_main = pd.merge(dataframe_yield, draindataframe_rain, on=['Year','Area'])  \n",
    "df.head()  "
   ]
  },
  {
   "cell_type": "code",
   "execution_count": 20,
   "id": "0c1161ec",
   "metadata": {},
   "outputs": [],
   "source": [
    "#drop unwanted coulmns\n",
    "df.drop(['Domain Code', 'Domain', 'Area Code (M49)', 'Element Code', 'Element', 'Item Code (CPC)', 'Year Code', 'Flag', 'Flag Description', 'Note', 'Unit', 'Area'], axis = 1, inplace = True) \n"
   ]
  },
  {
   "cell_type": "code",
   "execution_count": 22,
   "id": "a4c5f1b3",
   "metadata": {},
   "outputs": [
    {
     "data": {
      "text/html": [
       "<div>\n",
       "<style scoped>\n",
       "    .dataframe tbody tr th:only-of-type {\n",
       "        vertical-align: middle;\n",
       "    }\n",
       "\n",
       "    .dataframe tbody tr th {\n",
       "        vertical-align: top;\n",
       "    }\n",
       "\n",
       "    .dataframe thead th {\n",
       "        text-align: right;\n",
       "    }\n",
       "</style>\n",
       "<table border=\"1\" class=\"dataframe\">\n",
       "  <thead>\n",
       "    <tr style=\"text-align: right;\">\n",
       "      <th></th>\n",
       "      <th>Item</th>\n",
       "      <th>Year</th>\n",
       "      <th>Value</th>\n",
       "      <th>Annual Mean</th>\n",
       "      <th>Annual Temperature</th>\n",
       "    </tr>\n",
       "  </thead>\n",
       "  <tbody>\n",
       "    <tr>\n",
       "      <th>0</th>\n",
       "      <td>Cassava, fresh</td>\n",
       "      <td>1961</td>\n",
       "      <td>9466.7</td>\n",
       "      <td>1137.82</td>\n",
       "      <td>26.28</td>\n",
       "    </tr>\n",
       "    <tr>\n",
       "      <th>1</th>\n",
       "      <td>Cassava, fresh</td>\n",
       "      <td>1962</td>\n",
       "      <td>8766.5</td>\n",
       "      <td>1356.45</td>\n",
       "      <td>26.68</td>\n",
       "    </tr>\n",
       "    <tr>\n",
       "      <th>2</th>\n",
       "      <td>Cassava, fresh</td>\n",
       "      <td>1963</td>\n",
       "      <td>9716.6</td>\n",
       "      <td>1354.66</td>\n",
       "      <td>27.02</td>\n",
       "    </tr>\n",
       "    <tr>\n",
       "      <th>3</th>\n",
       "      <td>Cassava, fresh</td>\n",
       "      <td>1964</td>\n",
       "      <td>9174.7</td>\n",
       "      <td>1241.07</td>\n",
       "      <td>26.66</td>\n",
       "    </tr>\n",
       "    <tr>\n",
       "      <th>4</th>\n",
       "      <td>Cassava, fresh</td>\n",
       "      <td>1965</td>\n",
       "      <td>9869.7</td>\n",
       "      <td>1201.45</td>\n",
       "      <td>26.56</td>\n",
       "    </tr>\n",
       "  </tbody>\n",
       "</table>\n",
       "</div>"
      ],
      "text/plain": [
       "             Item  Year   Value  Annual Mean  Annual Temperature\n",
       "0  Cassava, fresh  1961  9466.7      1137.82               26.28\n",
       "1  Cassava, fresh  1962  8766.5      1356.45               26.68\n",
       "2  Cassava, fresh  1963  9716.6      1354.66               27.02\n",
       "3  Cassava, fresh  1964  9174.7      1241.07               26.66\n",
       "4  Cassava, fresh  1965  9869.7      1201.45               26.56"
      ]
     },
     "execution_count": 22,
     "metadata": {},
     "output_type": "execute_result"
    }
   ],
   "source": [
    "df.head()"
   ]
  },
  {
   "cell_type": "code",
   "execution_count": 24,
   "id": "9eee60ea",
   "metadata": {},
   "outputs": [],
   "source": [
    "#Rename Columns\n",
    "df.rename(columns={'Value': 'Yield(kg/ha)',\n",
    "                   'Annual Mean': 'Av_rainfall(mm)',\n",
    "                  'Annual Temperature': 'Av_temp(0C)',\n",
    "                  'Item': 'Crop'},\n",
    "          inplace=True, errors='raise')\n"
   ]
  },
  {
   "cell_type": "code",
   "execution_count": 26,
   "id": "8298108a",
   "metadata": {
    "scrolled": true
   },
   "outputs": [
    {
     "data": {
      "text/html": [
       "<div>\n",
       "<style scoped>\n",
       "    .dataframe tbody tr th:only-of-type {\n",
       "        vertical-align: middle;\n",
       "    }\n",
       "\n",
       "    .dataframe tbody tr th {\n",
       "        vertical-align: top;\n",
       "    }\n",
       "\n",
       "    .dataframe thead th {\n",
       "        text-align: right;\n",
       "    }\n",
       "</style>\n",
       "<table border=\"1\" class=\"dataframe\">\n",
       "  <thead>\n",
       "    <tr style=\"text-align: right;\">\n",
       "      <th></th>\n",
       "      <th>Crop</th>\n",
       "      <th>Year</th>\n",
       "      <th>Yield(kg/ha)</th>\n",
       "      <th>Av_rainfall(mm)</th>\n",
       "      <th>Av_temp(0C)</th>\n",
       "    </tr>\n",
       "  </thead>\n",
       "  <tbody>\n",
       "    <tr>\n",
       "      <th>0</th>\n",
       "      <td>Cassava, fresh</td>\n",
       "      <td>1961</td>\n",
       "      <td>9466.7</td>\n",
       "      <td>1137.82</td>\n",
       "      <td>26.28</td>\n",
       "    </tr>\n",
       "    <tr>\n",
       "      <th>1</th>\n",
       "      <td>Cassava, fresh</td>\n",
       "      <td>1962</td>\n",
       "      <td>8766.5</td>\n",
       "      <td>1356.45</td>\n",
       "      <td>26.68</td>\n",
       "    </tr>\n",
       "    <tr>\n",
       "      <th>2</th>\n",
       "      <td>Cassava, fresh</td>\n",
       "      <td>1963</td>\n",
       "      <td>9716.6</td>\n",
       "      <td>1354.66</td>\n",
       "      <td>27.02</td>\n",
       "    </tr>\n",
       "    <tr>\n",
       "      <th>3</th>\n",
       "      <td>Cassava, fresh</td>\n",
       "      <td>1964</td>\n",
       "      <td>9174.7</td>\n",
       "      <td>1241.07</td>\n",
       "      <td>26.66</td>\n",
       "    </tr>\n",
       "    <tr>\n",
       "      <th>4</th>\n",
       "      <td>Cassava, fresh</td>\n",
       "      <td>1965</td>\n",
       "      <td>9869.7</td>\n",
       "      <td>1201.45</td>\n",
       "      <td>26.56</td>\n",
       "    </tr>\n",
       "  </tbody>\n",
       "</table>\n",
       "</div>"
      ],
      "text/plain": [
       "             Crop  Year  Yield(kg/ha)  Av_rainfall(mm)  Av_temp(0C)\n",
       "0  Cassava, fresh  1961        9466.7          1137.82        26.28\n",
       "1  Cassava, fresh  1962        8766.5          1356.45        26.68\n",
       "2  Cassava, fresh  1963        9716.6          1354.66        27.02\n",
       "3  Cassava, fresh  1964        9174.7          1241.07        26.66\n",
       "4  Cassava, fresh  1965        9869.7          1201.45        26.56"
      ]
     },
     "execution_count": 26,
     "metadata": {},
     "output_type": "execute_result"
    }
   ],
   "source": [
    "df.head()"
   ]
  },
  {
   "cell_type": "code",
   "execution_count": 28,
   "id": "aad70a65",
   "metadata": {},
   "outputs": [
    {
     "data": {
      "text/html": [
       "<div>\n",
       "<style scoped>\n",
       "    .dataframe tbody tr th:only-of-type {\n",
       "        vertical-align: middle;\n",
       "    }\n",
       "\n",
       "    .dataframe tbody tr th {\n",
       "        vertical-align: top;\n",
       "    }\n",
       "\n",
       "    .dataframe thead th {\n",
       "        text-align: right;\n",
       "    }\n",
       "</style>\n",
       "<table border=\"1\" class=\"dataframe\">\n",
       "  <thead>\n",
       "    <tr style=\"text-align: right;\">\n",
       "      <th></th>\n",
       "      <th>Crop</th>\n",
       "      <th>Year</th>\n",
       "      <th>Yield(kg/ha)</th>\n",
       "      <th>Av_rainfall(mm)</th>\n",
       "      <th>Av_temp(0C)</th>\n",
       "    </tr>\n",
       "  </thead>\n",
       "  <tbody>\n",
       "    <tr>\n",
       "      <th>181</th>\n",
       "      <td>Yams</td>\n",
       "      <td>2018</td>\n",
       "      <td>10199.9</td>\n",
       "      <td>1233.04</td>\n",
       "      <td>27.41</td>\n",
       "    </tr>\n",
       "    <tr>\n",
       "      <th>182</th>\n",
       "      <td>Yams</td>\n",
       "      <td>2019</td>\n",
       "      <td>7806.8</td>\n",
       "      <td>1296.78</td>\n",
       "      <td>27.29</td>\n",
       "    </tr>\n",
       "    <tr>\n",
       "      <th>183</th>\n",
       "      <td>Yams</td>\n",
       "      <td>2020</td>\n",
       "      <td>7904.7</td>\n",
       "      <td>1254.97</td>\n",
       "      <td>27.43</td>\n",
       "    </tr>\n",
       "    <tr>\n",
       "      <th>184</th>\n",
       "      <td>Yams</td>\n",
       "      <td>2021</td>\n",
       "      <td>7986.5</td>\n",
       "      <td>1114.97</td>\n",
       "      <td>27.67</td>\n",
       "    </tr>\n",
       "    <tr>\n",
       "      <th>185</th>\n",
       "      <td>Yams</td>\n",
       "      <td>2022</td>\n",
       "      <td>8175.9</td>\n",
       "      <td>1228.76</td>\n",
       "      <td>27.15</td>\n",
       "    </tr>\n",
       "  </tbody>\n",
       "</table>\n",
       "</div>"
      ],
      "text/plain": [
       "     Crop  Year  Yield(kg/ha)  Av_rainfall(mm)  Av_temp(0C)\n",
       "181  Yams  2018       10199.9          1233.04        27.41\n",
       "182  Yams  2019        7806.8          1296.78        27.29\n",
       "183  Yams  2020        7904.7          1254.97        27.43\n",
       "184  Yams  2021        7986.5          1114.97        27.67\n",
       "185  Yams  2022        8175.9          1228.76        27.15"
      ]
     },
     "execution_count": 28,
     "metadata": {},
     "output_type": "execute_result"
    }
   ],
   "source": [
    "df.tail()"
   ]
  },
  {
   "cell_type": "code",
   "execution_count": 30,
   "id": "b9b5ea65",
   "metadata": {},
   "outputs": [
    {
     "data": {
      "text/plain": [
       "array(['Cassava, fresh', 'Rice', 'Yams'], dtype=object)"
      ]
     },
     "execution_count": 30,
     "metadata": {},
     "output_type": "execute_result"
    }
   ],
   "source": [
    "df['Crop'].unique()"
   ]
  },
  {
   "cell_type": "code",
   "execution_count": 32,
   "id": "9eeb76ee",
   "metadata": {},
   "outputs": [],
   "source": [
    "df['Crop'] = df['Crop'].replace({'Cassava, fresh': 'Cassava'})\n"
   ]
  },
  {
   "cell_type": "code",
   "execution_count": 34,
   "id": "439d9aa1",
   "metadata": {},
   "outputs": [
    {
     "data": {
      "text/plain": [
       "array(['Cassava', 'Rice', 'Yams'], dtype=object)"
      ]
     },
     "execution_count": 34,
     "metadata": {},
     "output_type": "execute_result"
    }
   ],
   "source": [
    "df['Crop'].unique()"
   ]
  },
  {
   "cell_type": "code",
   "execution_count": 36,
   "id": "7c682897",
   "metadata": {},
   "outputs": [
    {
     "data": {
      "text/plain": [
       "(186, 5)"
      ]
     },
     "execution_count": 36,
     "metadata": {},
     "output_type": "execute_result"
    }
   ],
   "source": [
    "df.shape"
   ]
  },
  {
   "cell_type": "code",
   "execution_count": 38,
   "id": "702d9836",
   "metadata": {},
   "outputs": [
    {
     "data": {
      "text/plain": [
       "Index(['Crop', 'Year', 'Yield(kg/ha)', 'Av_rainfall(mm)', 'Av_temp(0C)'], dtype='object')"
      ]
     },
     "execution_count": 38,
     "metadata": {},
     "output_type": "execute_result"
    }
   ],
   "source": [
    "df.columns"
   ]
  },
  {
   "cell_type": "code",
   "execution_count": 40,
   "id": "e6ab1510",
   "metadata": {},
   "outputs": [
    {
     "name": "stdout",
     "output_type": "stream",
     "text": [
      "Rainfall/Temp Dataset Statistics:\n",
      "              Year  Annual Mean  Annual Temperature\n",
      "count    62.000000    62.000000           62.000000\n",
      "mean   1991.500000  1174.544516           27.064194\n",
      "std      18.041619    90.564505            0.395746\n",
      "min    1961.000000   888.060000           26.270000\n",
      "25%    1976.250000  1119.792500           26.817500\n",
      "50%    1991.500000  1184.070000           27.100000\n",
      "75%    2006.750000  1240.927500           27.380000\n",
      "max    2022.000000  1356.450000           27.860000\n"
     ]
    }
   ],
   "source": [
    "print(\"Rainfall/Temp Dataset Statistics:\")\n",
    "print(rain_temp.describe())"
   ]
  },
  {
   "cell_type": "code",
   "execution_count": 42,
   "id": "df93a774",
   "metadata": {},
   "outputs": [
    {
     "name": "stdout",
     "output_type": "stream",
     "text": [
      "\n",
      "Crop Yield Dataset Statistics:\n",
      "       Area Code (M49)  Element Code  Item Code (CPC)    Year Code  \\\n",
      "count            186.0         186.0       186.000000   186.000000   \n",
      "mean             566.0        5412.0      1057.670000  1991.500000   \n",
      "std                0.0           0.0       669.835472    17.943831   \n",
      "min              566.0        5412.0       113.000000  1961.000000   \n",
      "25%              566.0        5412.0       113.000000  1976.000000   \n",
      "50%              566.0        5412.0      1520.010000  1991.500000   \n",
      "75%              566.0        5412.0      1540.000000  2007.000000   \n",
      "max              566.0        5412.0      1540.000000  2022.000000   \n",
      "\n",
      "              Year         Value  Note  \n",
      "count   186.000000    186.000000   0.0  \n",
      "mean   1991.500000   6932.498925   NaN  \n",
      "std      17.943831   3951.739011   NaN  \n",
      "min    1961.000000    892.600000   NaN  \n",
      "25%    1976.000000   1999.550000   NaN  \n",
      "50%    1991.500000   8264.050000   NaN  \n",
      "75%    2007.000000  10308.950000   NaN  \n",
      "max    2022.000000  13010.900000   NaN  \n"
     ]
    }
   ],
   "source": [
    "print(\"\\nCrop Yield Dataset Statistics:\")\n",
    "print(crop_yield.describe())"
   ]
  },
  {
   "cell_type": "code",
   "execution_count": 44,
   "id": "6277076d",
   "metadata": {},
   "outputs": [
    {
     "data": {
      "text/html": [
       "<div>\n",
       "<style scoped>\n",
       "    .dataframe tbody tr th:only-of-type {\n",
       "        vertical-align: middle;\n",
       "    }\n",
       "\n",
       "    .dataframe tbody tr th {\n",
       "        vertical-align: top;\n",
       "    }\n",
       "\n",
       "    .dataframe thead th {\n",
       "        text-align: right;\n",
       "    }\n",
       "</style>\n",
       "<table border=\"1\" class=\"dataframe\">\n",
       "  <thead>\n",
       "    <tr style=\"text-align: right;\">\n",
       "      <th></th>\n",
       "      <th>Year</th>\n",
       "      <th>Yield(kg/ha)</th>\n",
       "      <th>Av_rainfall(mm)</th>\n",
       "      <th>Av_temp(0C)</th>\n",
       "    </tr>\n",
       "  </thead>\n",
       "  <tbody>\n",
       "    <tr>\n",
       "      <th>count</th>\n",
       "      <td>186.000000</td>\n",
       "      <td>186.000000</td>\n",
       "      <td>186.000000</td>\n",
       "      <td>186.000000</td>\n",
       "    </tr>\n",
       "    <tr>\n",
       "      <th>mean</th>\n",
       "      <td>1991.500000</td>\n",
       "      <td>6932.498925</td>\n",
       "      <td>1174.544516</td>\n",
       "      <td>27.064194</td>\n",
       "    </tr>\n",
       "    <tr>\n",
       "      <th>std</th>\n",
       "      <td>17.943831</td>\n",
       "      <td>3951.739011</td>\n",
       "      <td>90.073637</td>\n",
       "      <td>0.393601</td>\n",
       "    </tr>\n",
       "    <tr>\n",
       "      <th>min</th>\n",
       "      <td>1961.000000</td>\n",
       "      <td>892.600000</td>\n",
       "      <td>888.060000</td>\n",
       "      <td>26.270000</td>\n",
       "    </tr>\n",
       "    <tr>\n",
       "      <th>25%</th>\n",
       "      <td>1976.000000</td>\n",
       "      <td>1999.550000</td>\n",
       "      <td>1116.640000</td>\n",
       "      <td>26.810000</td>\n",
       "    </tr>\n",
       "    <tr>\n",
       "      <th>50%</th>\n",
       "      <td>1991.500000</td>\n",
       "      <td>8264.050000</td>\n",
       "      <td>1184.070000</td>\n",
       "      <td>27.100000</td>\n",
       "    </tr>\n",
       "    <tr>\n",
       "      <th>75%</th>\n",
       "      <td>2007.000000</td>\n",
       "      <td>10308.950000</td>\n",
       "      <td>1241.070000</td>\n",
       "      <td>27.380000</td>\n",
       "    </tr>\n",
       "    <tr>\n",
       "      <th>max</th>\n",
       "      <td>2022.000000</td>\n",
       "      <td>13010.900000</td>\n",
       "      <td>1356.450000</td>\n",
       "      <td>27.860000</td>\n",
       "    </tr>\n",
       "  </tbody>\n",
       "</table>\n",
       "</div>"
      ],
      "text/plain": [
       "              Year  Yield(kg/ha)  Av_rainfall(mm)  Av_temp(0C)\n",
       "count   186.000000    186.000000       186.000000   186.000000\n",
       "mean   1991.500000   6932.498925      1174.544516    27.064194\n",
       "std      17.943831   3951.739011        90.073637     0.393601\n",
       "min    1961.000000    892.600000       888.060000    26.270000\n",
       "25%    1976.000000   1999.550000      1116.640000    26.810000\n",
       "50%    1991.500000   8264.050000      1184.070000    27.100000\n",
       "75%    2007.000000  10308.950000      1241.070000    27.380000\n",
       "max    2022.000000  13010.900000      1356.450000    27.860000"
      ]
     },
     "execution_count": 44,
     "metadata": {},
     "output_type": "execute_result"
    }
   ],
   "source": [
    "df.describe()"
   ]
  },
  {
   "cell_type": "code",
   "execution_count": 46,
   "id": "850564fe",
   "metadata": {},
   "outputs": [
    {
     "data": {
      "text/plain": [
       "Crop               0\n",
       "Year               0\n",
       "Yield(kg/ha)       0\n",
       "Av_rainfall(mm)    0\n",
       "Av_temp(0C)        0\n",
       "dtype: int64"
      ]
     },
     "execution_count": 46,
     "metadata": {},
     "output_type": "execute_result"
    }
   ],
   "source": [
    "df.isnull().sum().sort_values(ascending=False)"
   ]
  },
  {
   "cell_type": "code",
   "execution_count": 48,
   "id": "80467e20",
   "metadata": {},
   "outputs": [
    {
     "data": {
      "text/plain": [
       "Index(['Year', 'Yield(kg/ha)', 'Av_rainfall(mm)', 'Av_temp(0C)'], dtype='object')"
      ]
     },
     "execution_count": 48,
     "metadata": {},
     "output_type": "execute_result"
    }
   ],
   "source": [
    "df.select_dtypes(\"number\").columns"
   ]
  },
  {
   "cell_type": "code",
   "execution_count": 50,
   "id": "e155344c",
   "metadata": {},
   "outputs": [
    {
     "data": {
      "text/plain": [
       "Index(['Crop'], dtype='object')"
      ]
     },
     "execution_count": 50,
     "metadata": {},
     "output_type": "execute_result"
    }
   ],
   "source": [
    "df.select_dtypes(\"object\").columns"
   ]
  },
  {
   "cell_type": "code",
   "execution_count": 52,
   "id": "532d3e7b",
   "metadata": {},
   "outputs": [
    {
     "data": {
      "image/png": "[encoded data removed]",
      "text/plain": [
       "<Figure size 1600x1000 with 4 Axes>"
      ]
     },
     "metadata": {},
     "output_type": "display_data"
    }
   ],
   "source": [
    "df.hist(figsize=[16,10]);"
   ]
  },
  {
   "cell_type": "code",
   "execution_count": 53,
   "id": "24e62b7d-5647-464b-83bd-29f2c7dd91b3",
   "metadata": {},
   "outputs": [],
   "source": [
    "to_numeric = {'Cassava': 1, 'Rice': 2, 'Yams': 3}"
   ]
  },
  {
   "cell_type": "code",
   "execution_count": 56,
   "id": "bb202cf4-c1bb-41ca-82e2-d6d9a8fcff78",
   "metadata": {},
   "outputs": [
    {
     "name": "stderr",
     "output_type": "stream",
     "text": [
      "C:\\Users\\STUTERN\\AppData\\Local\\Temp\\ipykernel_19876\\2023625186.py:1: FutureWarning: DataFrame.applymap has been deprecated. Use DataFrame.map instead.\n",
      "  df = df.applymap(lambda lable: to_numeric.get(lable) if lable in to_numeric else lable)\n"
     ]
    }
   ],
   "source": [
    "df = df.applymap(lambda lable: to_numeric.get(lable) if lable in to_numeric else lable)"
   ]
  },
  {
   "cell_type": "code",
   "execution_count": 58,
   "id": "a29f41c3",
   "metadata": {},
   "outputs": [
    {
     "data": {
      "image/png": "[encoded data removed]",
      "text/plain": [
       "<Figure size 800x600 with 2 Axes>"
      ]
     },
     "metadata": {},
     "output_type": "display_data"
    }
   ],
   "source": [
    "plt.figure(figsize=(8,6))\n",
    "# using the upper triangle matrix as mask \n",
    "matrix = np.triu(df.corr())\n",
    "\n",
    "sns.heatmap(df.corr(), cmap =\"coolwarm\", annot=True, mask=matrix)\n",
    "plt.title('Correlation Between Crop Yield, Rainfall, and Temperature')\n",
    "plt.show();"
   ]
  },
  {
   "cell_type": "markdown",
   "id": "3dc8f066-95ad-45b0-8b4f-14431a59a64b",
   "metadata": {},
   "source": [
    "There is a strong corelation between the temperature and year, as well as the yield and the rain. This means that the more the rainfall, the more yield is expected."
   ]
  },
  {
   "cell_type": "code",
   "execution_count": 61,
   "id": "b3c14734",
   "metadata": {},
   "outputs": [
    {
     "data": {
      "image/png": "[encoded data removed]",
      "text/plain": [
       "<Figure size 800x600 with 1 Axes>"
      ]
     },
     "metadata": {},
     "output_type": "display_data"
    }
   ],
   "source": [
    "# Scatter plot of crop yield vs rainfall\n",
    "plt.figure(figsize=(8, 6))\n",
    "plt.scatter(df['Av_rainfall(mm)'], df['Yield(kg/ha)'], color='blue')\n",
    "plt.title('Crop Yield vs Average Rainfall')\n",
    "plt.xlabel('Average Rainfall')\n",
    "plt.ylabel('Crop Yield')\n",
    "plt.grid(True)\n",
    "plt.show()"
   ]
  },
  {
   "cell_type": "code",
   "execution_count": 63,
   "id": "c9460d8f",
   "metadata": {},
   "outputs": [
    {
     "data": {
      "image/png": "[encoded data removed]",
      "text/plain": [
       "<Figure size 800x600 with 1 Axes>"
      ]
     },
     "metadata": {},
     "output_type": "display_data"
    }
   ],
   "source": [
    "# Scatter plot of crop yield vs temperature\n",
    "plt.figure(figsize=(8, 6))\n",
    "plt.scatter(df['Av_temp(0C)'], df['Yield(kg/ha)'], color='red')\n",
    "plt.title('Crop Yield vs Average Temperature')\n",
    "plt.xlabel('Average Temperature')\n",
    "plt.ylabel('Crop Yield')\n",
    "plt.grid(True)\n",
    "plt.show()"
   ]
  },
  {
   "cell_type": "code",
   "execution_count": 65,
   "id": "eee60402",
   "metadata": {},
   "outputs": [
    {
     "name": "stdout",
     "output_type": "stream",
     "text": [
      "\n",
      "Average Crop Yield by Year:\n",
      "Year\n",
      "1961    6045.700000\n",
      "1962    5907.733333\n",
      "1963    6367.366667\n",
      "1964    6245.700000\n",
      "1965    6556.600000\n",
      "           ...     \n",
      "2018    7424.866667\n",
      "2019    5226.000000\n",
      "2020    5210.700000\n",
      "2021    5251.100000\n",
      "2022    5365.900000\n",
      "Name: Yield(kg/ha), Length: 62, dtype: float64\n",
      "\n",
      "Average Crop Yield by Crop:\n",
      "Crop\n",
      "1    9835.191935\n",
      "2    1738.706452\n",
      "3    9223.598387\n",
      "Name: Yield(kg/ha), dtype: float64\n"
     ]
    }
   ],
   "source": [
    "#Find the average crop yield by crop type or year\n",
    "\n",
    "# Group by year and crop, then calculate mean crop yield\n",
    "average_yield_by_year = df.groupby('Year')['Yield(kg/ha)'].mean()\n",
    "average_yield_by_crop = df.groupby('Crop')['Yield(kg/ha)'].mean()\n",
    "\n",
    "print(\"\\nAverage Crop Yield by Year:\")\n",
    "print(average_yield_by_year)\n",
    "\n",
    "print(\"\\nAverage Crop Yield by Crop:\")\n",
    "print(average_yield_by_crop)"
   ]
  },
  {
   "cell_type": "markdown",
   "id": "dcdbf7d3",
   "metadata": {},
   "source": [
    "### Model Building"
   ]
  },
  {
   "cell_type": "code",
   "execution_count": 68,
   "id": "e2cf0536",
   "metadata": {},
   "outputs": [],
   "source": [
    "from sklearn.linear_model import LinearRegression\n",
    "from sklearn.ensemble import RandomForestRegressor\n",
    "from sklearn.ensemble import GradientBoostingRegressor\n",
    "from sklearn.svm import SVR\n",
    "from sklearn.preprocessing import StandardScaler, LabelEncoder\n",
    "from sklearn.model_selection import train_test_split\n",
    "from sklearn.metrics import mean_squared_error, mean_absolute_error, r2_score"
   ]
  },
  {
   "cell_type": "code",
   "execution_count": 70,
   "id": "646c34f0",
   "metadata": {},
   "outputs": [
    {
     "data": {
      "text/html": [
       "<div>\n",
       "<style scoped>\n",
       "    .dataframe tbody tr th:only-of-type {\n",
       "        vertical-align: middle;\n",
       "    }\n",
       "\n",
       "    .dataframe tbody tr th {\n",
       "        vertical-align: top;\n",
       "    }\n",
       "\n",
       "    .dataframe thead th {\n",
       "        text-align: right;\n",
       "    }\n",
       "</style>\n",
       "<table border=\"1\" class=\"dataframe\">\n",
       "  <thead>\n",
       "    <tr style=\"text-align: right;\">\n",
       "      <th></th>\n",
       "      <th>Crop</th>\n",
       "      <th>Year</th>\n",
       "      <th>Yield(kg/ha)</th>\n",
       "      <th>Av_rainfall(mm)</th>\n",
       "      <th>Av_temp(0C)</th>\n",
       "    </tr>\n",
       "  </thead>\n",
       "  <tbody>\n",
       "    <tr>\n",
       "      <th>0</th>\n",
       "      <td>1</td>\n",
       "      <td>1961</td>\n",
       "      <td>9466.7</td>\n",
       "      <td>1137.82</td>\n",
       "      <td>26.28</td>\n",
       "    </tr>\n",
       "    <tr>\n",
       "      <th>1</th>\n",
       "      <td>1</td>\n",
       "      <td>1962</td>\n",
       "      <td>8766.5</td>\n",
       "      <td>1356.45</td>\n",
       "      <td>26.68</td>\n",
       "    </tr>\n",
       "    <tr>\n",
       "      <th>2</th>\n",
       "      <td>1</td>\n",
       "      <td>1963</td>\n",
       "      <td>9716.6</td>\n",
       "      <td>1354.66</td>\n",
       "      <td>27.02</td>\n",
       "    </tr>\n",
       "    <tr>\n",
       "      <th>3</th>\n",
       "      <td>1</td>\n",
       "      <td>1964</td>\n",
       "      <td>9174.7</td>\n",
       "      <td>1241.07</td>\n",
       "      <td>26.66</td>\n",
       "    </tr>\n",
       "    <tr>\n",
       "      <th>4</th>\n",
       "      <td>1</td>\n",
       "      <td>1965</td>\n",
       "      <td>9869.7</td>\n",
       "      <td>1201.45</td>\n",
       "      <td>26.56</td>\n",
       "    </tr>\n",
       "  </tbody>\n",
       "</table>\n",
       "</div>"
      ],
      "text/plain": [
       "   Crop  Year  Yield(kg/ha)  Av_rainfall(mm)  Av_temp(0C)\n",
       "0     1  1961        9466.7          1137.82        26.28\n",
       "1     1  1962        8766.5          1356.45        26.68\n",
       "2     1  1963        9716.6          1354.66        27.02\n",
       "3     1  1964        9174.7          1241.07        26.66\n",
       "4     1  1965        9869.7          1201.45        26.56"
      ]
     },
     "execution_count": 70,
     "metadata": {},
     "output_type": "execute_result"
    }
   ],
   "source": [
    "df.head()"
   ]
  },
  {
   "cell_type": "code",
   "execution_count": 72,
   "id": "56c3a515",
   "metadata": {},
   "outputs": [
    {
     "data": {
      "text/html": [
       "<div>\n",
       "<style scoped>\n",
       "    .dataframe tbody tr th:only-of-type {\n",
       "        vertical-align: middle;\n",
       "    }\n",
       "\n",
       "    .dataframe tbody tr th {\n",
       "        vertical-align: top;\n",
       "    }\n",
       "\n",
       "    .dataframe thead th {\n",
       "        text-align: right;\n",
       "    }\n",
       "</style>\n",
       "<table border=\"1\" class=\"dataframe\">\n",
       "  <thead>\n",
       "    <tr style=\"text-align: right;\">\n",
       "      <th></th>\n",
       "      <th>Crop</th>\n",
       "      <th>Year</th>\n",
       "      <th>Yield(kg/ha)</th>\n",
       "      <th>Av_rainfall(mm)</th>\n",
       "      <th>Av_temp(0C)</th>\n",
       "    </tr>\n",
       "  </thead>\n",
       "  <tbody>\n",
       "    <tr>\n",
       "      <th>0</th>\n",
       "      <td>1</td>\n",
       "      <td>1961</td>\n",
       "      <td>9466.7</td>\n",
       "      <td>1137.82</td>\n",
       "      <td>26.28</td>\n",
       "    </tr>\n",
       "    <tr>\n",
       "      <th>1</th>\n",
       "      <td>1</td>\n",
       "      <td>1962</td>\n",
       "      <td>8766.5</td>\n",
       "      <td>1356.45</td>\n",
       "      <td>26.68</td>\n",
       "    </tr>\n",
       "    <tr>\n",
       "      <th>2</th>\n",
       "      <td>1</td>\n",
       "      <td>1963</td>\n",
       "      <td>9716.6</td>\n",
       "      <td>1354.66</td>\n",
       "      <td>27.02</td>\n",
       "    </tr>\n",
       "    <tr>\n",
       "      <th>3</th>\n",
       "      <td>1</td>\n",
       "      <td>1964</td>\n",
       "      <td>9174.7</td>\n",
       "      <td>1241.07</td>\n",
       "      <td>26.66</td>\n",
       "    </tr>\n",
       "    <tr>\n",
       "      <th>4</th>\n",
       "      <td>1</td>\n",
       "      <td>1965</td>\n",
       "      <td>9869.7</td>\n",
       "      <td>1201.45</td>\n",
       "      <td>26.56</td>\n",
       "    </tr>\n",
       "  </tbody>\n",
       "</table>\n",
       "</div>"
      ],
      "text/plain": [
       "   Crop  Year  Yield(kg/ha)  Av_rainfall(mm)  Av_temp(0C)\n",
       "0     1  1961        9466.7          1137.82        26.28\n",
       "1     1  1962        8766.5          1356.45        26.68\n",
       "2     1  1963        9716.6          1354.66        27.02\n",
       "3     1  1964        9174.7          1241.07        26.66\n",
       "4     1  1965        9869.7          1201.45        26.56"
      ]
     },
     "execution_count": 72,
     "metadata": {},
     "output_type": "execute_result"
    }
   ],
   "source": [
    "df.head()"
   ]
  },
  {
   "cell_type": "markdown",
   "id": "a1e697ec",
   "metadata": {},
   "source": [
    "Building and Evaluating model"
   ]
  },
  {
   "cell_type": "code",
   "execution_count": 75,
   "id": "f5c31266",
   "metadata": {},
   "outputs": [],
   "source": [
    "# Encode 'Crop' as a categorical feature\n",
    "label_encoder = LabelEncoder()\n",
    "df['Crop'] = label_encoder.fit_transform(df['Crop'])"
   ]
  },
  {
   "cell_type": "code",
   "execution_count": 77,
   "id": "0eb7dcaf",
   "metadata": {},
   "outputs": [],
   "source": [
    "# Prepare features and target\n",
    "X = df[['Crop', 'Year', 'Av_rainfall(mm)', 'Av_temp(0C)']]\n",
    "y = df['Yield(kg/ha)']"
   ]
  },
  {
   "cell_type": "code",
   "execution_count": 79,
   "id": "c2346f05",
   "metadata": {},
   "outputs": [],
   "source": [
    "# Split the data into training and test sets\n",
    "X_train, X_test, y_train, y_test = train_test_split(X, y, test_size=0.2, random_state=42)\n",
    "\n",
    "# Standardize the features\n",
    "scaler = StandardScaler()\n",
    "X_train = scaler.fit_transform(X_train)\n",
    "X_test = scaler.transform(X_test)"
   ]
  },
  {
   "cell_type": "code",
   "execution_count": null,
   "id": "ff57d7ff-e0be-4caf-99d7-83249f47fd51",
   "metadata": {},
   "outputs": [],
   "source": []
  },
  {
   "cell_type": "code",
   "execution_count": 82,
   "id": "d7685802-3489-44d6-b30a-54db6966ccf9",
   "metadata": {},
   "outputs": [
    {
     "name": "stdout",
     "output_type": "stream",
     "text": [
      "Linear Regression Model (Train): 1.48%\n",
      "Linear Regression Model (Test): -4.05%\n"
     ]
    },
    {
     "data": {
      "image/png": "[encoded data removed]",
      "text/plain": [
       "<Figure size 640x480 with 1 Axes>"
      ]
     },
     "metadata": {},
     "output_type": "display_data"
    },
    {
     "name": "stdout",
     "output_type": "stream",
     "text": [
      "Random Forest Model (Train): 99.03%\n",
      "Random Forest Model (Test): 95.03%\n"
     ]
    },
    {
     "data": {
      "image/png": "[encoded data removed]",
      "text/plain": [
       "<Figure size 640x480 with 1 Axes>"
      ]
     },
     "metadata": {},
     "output_type": "display_data"
    },
    {
     "name": "stdout",
     "output_type": "stream",
     "text": [
      "Gradient Boost Model (Train): 98.79%\n",
      "Gradient Boost Model (Test): 93.62%\n"
     ]
    },
    {
     "data": {
      "image/png": "[encoded data removed]",
      "text/plain": [
       "<Figure size 640x480 with 1 Axes>"
      ]
     },
     "metadata": {},
     "output_type": "display_data"
    },
    {
     "name": "stdout",
     "output_type": "stream",
     "text": [
      "Support Vector Regressor Model (Train): -11.13%\n",
      "Support Vector Regressor Model (Test): -6.10%\n"
     ]
    },
    {
     "data": {
      "image/png": "[encoded data removed]",
      "text/plain": [
       "<Figure size 640x480 with 1 Axes>"
      ]
     },
     "metadata": {},
     "output_type": "display_data"
    },
    {
     "data": {
      "text/html": [
       "<style type=\"text/css\">\n",
       "#T_01b8d_row1_col2, #T_01b8d_row1_col3, #T_01b8d_row1_col4 {\n",
       "  background-color: green;\n",
       "}\n",
       "#T_01b8d_row3_col2, #T_01b8d_row3_col3, #T_01b8d_row3_col4 {\n",
       "  background-color: red;\n",
       "}\n",
       "</style>\n",
       "<table id=\"T_01b8d\">\n",
       "  <thead>\n",
       "    <tr>\n",
       "      <th class=\"blank level0\" >&nbsp;</th>\n",
       "      <th id=\"T_01b8d_level0_col0\" class=\"col_heading level0 col0\" >Model_ID</th>\n",
       "      <th id=\"T_01b8d_level0_col1\" class=\"col_heading level0 col1\" >Model</th>\n",
       "      <th id=\"T_01b8d_level0_col2\" class=\"col_heading level0 col2\" >Accuracy</th>\n",
       "      <th id=\"T_01b8d_level0_col3\" class=\"col_heading level0 col3\" >MSE</th>\n",
       "      <th id=\"T_01b8d_level0_col4\" class=\"col_heading level0 col4\" >R2_score</th>\n",
       "    </tr>\n",
       "  </thead>\n",
       "  <tbody>\n",
       "    <tr>\n",
       "      <th id=\"T_01b8d_level0_row0\" class=\"row_heading level0 row0\" >0</th>\n",
       "      <td id=\"T_01b8d_row0_col0\" class=\"data row0 col0\" >model_1</td>\n",
       "      <td id=\"T_01b8d_row0_col1\" class=\"data row0 col1\" >Linear Regression</td>\n",
       "      <td id=\"T_01b8d_row0_col2\" class=\"data row0 col2\" >-0.040517</td>\n",
       "      <td id=\"T_01b8d_row0_col3\" class=\"data row0 col3\" >17194143.884495</td>\n",
       "      <td id=\"T_01b8d_row0_col4\" class=\"data row0 col4\" >-0.040517</td>\n",
       "    </tr>\n",
       "    <tr>\n",
       "      <th id=\"T_01b8d_level0_row1\" class=\"row_heading level0 row1\" >1</th>\n",
       "      <td id=\"T_01b8d_row1_col0\" class=\"data row1 col0\" >model_2</td>\n",
       "      <td id=\"T_01b8d_row1_col1\" class=\"data row1 col1\" >Random Forest</td>\n",
       "      <td id=\"T_01b8d_row1_col2\" class=\"data row1 col2\" >0.950333</td>\n",
       "      <td id=\"T_01b8d_row1_col3\" class=\"data row1 col3\" >820721.827434</td>\n",
       "      <td id=\"T_01b8d_row1_col4\" class=\"data row1 col4\" >0.950333</td>\n",
       "    </tr>\n",
       "    <tr>\n",
       "      <th id=\"T_01b8d_level0_row2\" class=\"row_heading level0 row2\" >2</th>\n",
       "      <td id=\"T_01b8d_row2_col0\" class=\"data row2 col0\" >model_3</td>\n",
       "      <td id=\"T_01b8d_row2_col1\" class=\"data row2 col1\" >Gradient Boost</td>\n",
       "      <td id=\"T_01b8d_row2_col2\" class=\"data row2 col2\" >0.936244</td>\n",
       "      <td id=\"T_01b8d_row2_col3\" class=\"data row2 col3\" >1053548.464591</td>\n",
       "      <td id=\"T_01b8d_row2_col4\" class=\"data row2 col4\" >0.936244</td>\n",
       "    </tr>\n",
       "    <tr>\n",
       "      <th id=\"T_01b8d_level0_row3\" class=\"row_heading level0 row3\" >3</th>\n",
       "      <td id=\"T_01b8d_row3_col0\" class=\"data row3 col0\" >model_4</td>\n",
       "      <td id=\"T_01b8d_row3_col1\" class=\"data row3 col1\" >Support Vector Regressor</td>\n",
       "      <td id=\"T_01b8d_row3_col2\" class=\"data row3 col2\" >-0.060965</td>\n",
       "      <td id=\"T_01b8d_row3_col3\" class=\"data row3 col3\" >17532039.006234</td>\n",
       "      <td id=\"T_01b8d_row3_col4\" class=\"data row3 col4\" >-0.060965</td>\n",
       "    </tr>\n",
       "  </tbody>\n",
       "</table>\n"
      ],
      "text/plain": [
       "<pandas.io.formats.style.Styler at 0x231045f8da0>"
      ]
     },
     "metadata": {},
     "output_type": "display_data"
    }
   ],
   "source": [
    "results = []\n",
    "\n",
    "# Linear Regression Model\n",
    "model_1 = LinearRegression()\n",
    "model_1.fit(X_train, y_train)\n",
    "y_pred_1 = model_1.predict(X_test)\n",
    "accuracy_1 = model_1.score(X_test, y_test)\n",
    "MSE_1 = mean_squared_error(y_test, y_pred_1)\n",
    "R2_score_1 = r2_score(y_test, y_pred_1)\n",
    "results.append(('model_1', 'Linear Regression', accuracy_1, MSE_1, R2_score_1))\n",
    "\n",
    "# Display accuracy\n",
    "print(f'Linear Regression Model (Train): {model_1.score(X_train, y_train) * 100:.2f}%')\n",
    "print(f'Linear Regression Model (Test): {accuracy_1 * 100:.2f}%')\n",
    "\n",
    "# Plot predictions vs actual values\n",
    "plt.scatter(y_test, y_pred_1, s=10, color='#9B673C')\n",
    "plt.xlabel('Actual Values')\n",
    "plt.ylabel('Predicted Values')\n",
    "plt.plot([min(y_test), max(y_test)], [min(y_test), max(y_test)], color='green', linewidth=2)\n",
    "plt.title('Linear Regression - Actual vs Predicted')\n",
    "plt.show()\n",
    "\n",
    "\n",
    "# Random Forest Model\n",
    "model_2 = RandomForestRegressor(random_state=42)\n",
    "model_2.fit(X_train, y_train)\n",
    "y_pred_2 = model_2.predict(X_test)\n",
    "accuracy_2 = model_2.score(X_test, y_test)\n",
    "MSE_2 = mean_squared_error(y_test, y_pred_2)\n",
    "R2_score_2 = r2_score(y_test, y_pred_2)\n",
    "results.append(('model_2', 'Random Forest', accuracy_2, MSE_2, R2_score_2))\n",
    "\n",
    "# Display accuracy\n",
    "print(f'Random Forest Model (Train): {model_2.score(X_train, y_train) * 100:.2f}%')\n",
    "print(f'Random Forest Model (Test): {accuracy_2 * 100:.2f}%')\n",
    "\n",
    "# Plot predictions vs actual values\n",
    "plt.scatter(y_test, y_pred_2, s=10, color='#9B673C')\n",
    "plt.xlabel('Actual Values')\n",
    "plt.ylabel('Predicted Values')\n",
    "plt.plot([min(y_test), max(y_test)], [min(y_test), max(y_test)], color='green', linewidth=2)\n",
    "plt.title('Random Forest - Actual vs Predicted')\n",
    "plt.show()\n",
    "\n",
    "\n",
    "# Gradient Boosting Model\n",
    "model_3 = GradientBoostingRegressor(n_estimators=100, learning_rate=0.1, max_depth=3, random_state=42)\n",
    "model_3.fit(X_train, y_train)\n",
    "y_pred_3 = model_3.predict(X_test)\n",
    "accuracy_3 = model_3.score(X_test, y_test)\n",
    "MSE_3 = mean_squared_error(y_test, y_pred_3)\n",
    "R2_score_3 = r2_score(y_test, y_pred_3)\n",
    "results.append(('model_3', 'Gradient Boost', accuracy_3, MSE_3, R2_score_3))\n",
    "\n",
    "# Display accuracy\n",
    "print(f'Gradient Boost Model (Train): {model_3.score(X_train, y_train) * 100:.2f}%')\n",
    "print(f'Gradient Boost Model (Test): {accuracy_3 * 100:.2f}%')\n",
    "\n",
    "# Plot predictions vs actual values\n",
    "plt.scatter(y_test, y_pred_3, s=10, color='#9B673C')\n",
    "plt.xlabel('Actual Values')\n",
    "plt.ylabel('Predicted Values')\n",
    "plt.plot([min(y_test), max(y_test)], [min(y_test), max(y_test)], color='green', linewidth=2)\n",
    "plt.title('Gradient Boost - Actual vs Predicted')\n",
    "plt.show()\n",
    "\n",
    "\n",
    "# Support Vector Regressor Model\n",
    "model_4 = SVR()\n",
    "model_4.fit(X_train, y_train)\n",
    "y_pred_4 = model_4.predict(X_test)\n",
    "accuracy_4 = model_4.score(X_test, y_test)\n",
    "MSE_4 = mean_squared_error(y_test, y_pred_4)\n",
    "R2_score_4 = r2_score(y_test, y_pred_4)\n",
    "results.append(('model_4', 'Support Vector Regressor', accuracy_4, MSE_4, R2_score_4))\n",
    "\n",
    "# Display accuracy\n",
    "print(f'Support Vector Regressor Model (Train): {model_4.score(X_train, y_train) * 100:.2f}%')\n",
    "print(f'Support Vector Regressor Model (Test): {accuracy_4 * 100:.2f}%')\n",
    "\n",
    "# Plot predictions vs actual values\n",
    "plt.scatter(y_test, y_pred_4, s=10, color='#9B673C')\n",
    "plt.xlabel('Actual Values')\n",
    "plt.ylabel('Predicted Values')\n",
    "plt.plot([min(y_test), max(y_test)], [min(y_test), max(y_test)], color='green', linewidth=2)\n",
    "plt.title('Support Vector Regressor - Actual vs Predicted')\n",
    "plt.show()\n",
    "\n",
    "\n",
    "# Create DataFrame with results\n",
    "dff = pd.DataFrame(results, columns=['Model_ID', 'Model', 'Accuracy', 'MSE', 'R2_score'])\n",
    "\n",
    "# Style DataFrame to highlight the best models\n",
    "df_styled_best = (\n",
    "    dff.style\n",
    "    .highlight_max(subset=['Accuracy', 'R2_score'], color='green')\n",
    "    .highlight_min(subset=['MSE'], color='green')\n",
    "    .highlight_max(subset=['MSE'], color='red')\n",
    "    .highlight_min(subset=['Accuracy', 'R2_score'], color='red')\n",
    ")\n",
    "\n",
    "# Display styled DataFrame\n",
    "display(df_styled_best)\n"
   ]
  },
  {
   "cell_type": "markdown",
   "id": "4ea2f490",
   "metadata": {},
   "source": [
    "Saving the models for deployment"
   ]
  },
  {
   "cell_type": "code",
   "execution_count": 85,
   "id": "e3635395",
   "metadata": {},
   "outputs": [],
   "source": [
    "import joblib"
   ]
  },
  {
   "cell_type": "code",
   "execution_count": 87,
   "id": "89224484-4d31-4271-b03a-4d3c7c73357b",
   "metadata": {},
   "outputs": [
    {
     "name": "stdout",
     "output_type": "stream",
     "text": [
      "Random Forest model has been saved successfully as random_forest_model.joblib\n"
     ]
    }
   ],
   "source": [
    "joblib.dump(model_2, 'random_forest_model.joblib')\n",
    "print(\"Random Forest model has been saved successfully as random_forest_model.joblib\")"
   ]
  },
  {
   "cell_type": "code",
   "execution_count": 89,
   "id": "0dcecca5-bc9d-4486-910d-6d9e0aa2356c",
   "metadata": {},
   "outputs": [
    {
     "name": "stdout",
     "output_type": "stream",
     "text": [
      "Scaler has been saved successfully as scaler_object.joblib\n"
     ]
    }
   ],
   "source": [
    "scaler_name = 'scaler_object.joblib'\n",
    "joblib.dump(scaler, scaler_name)\n",
    "print(\"Scaler has been saved successfully as scaler_object.joblib\")"
   ]
  },
  {
   "cell_type": "code",
   "execution_count": null,
   "id": "eed345a6-a2f5-4b31-a159-a8dd82ca9bd5",
   "metadata": {},
   "outputs": [],
   "source": []
  },
  {
   "cell_type": "code",
   "execution_count": null,
   "id": "cc277801-9a21-4414-8dc6-f9221724ccb8",
   "metadata": {},
   "outputs": [],
   "source": []
  }
 ],
 "metadata": {
  "kernelspec": {
   "display_name": "Python 3 (ipykernel)",
   "language": "python",
   "name": "python3"
  },
  "language_info": {
   "codemirror_mode": {
    "name": "ipython",
    "version": 3
   },
   "file_extension": ".py",
   "mimetype": "text/x-python",
   "name": "python",
   "nbconvert_exporter": "python",
   "pygments_lexer": "ipython3",
   "version": "3.12.7"
  }
 },
 "nbformat": 4,
 "nbformat_minor": 5
}
