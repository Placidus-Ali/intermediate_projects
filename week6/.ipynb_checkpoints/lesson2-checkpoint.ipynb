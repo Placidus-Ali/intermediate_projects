{
 "cells": [
  {
   "cell_type": "markdown",
   "metadata": {},
   "source": [
    "### **Nigerian Car Price Dataset**\n",
    "\n",
    "#### In this Assignment, we're working with the Nigerian Car Price Dataset\n",
    "#### -*What is the most expensive Automatic car (show car name and model make) with a mileage of less than 50000*\n",
    "#### -*Write a function to bring out the average of each car, which car make has the highest average price? Write a code to show this*\n",
    "#### -*Select the row with a price at the 76th percentile score*"
   ]
  },
  {
   "cell_type": "code",
   "execution_count": 1,
   "metadata": {},
   "outputs": [],
   "source": [
    "#importing the needed modules\n",
    "import pandas as pd \n",
    "import numpy as np "
   ]
  },
  {
   "cell_type": "code",
   "execution_count": 2,
   "metadata": {},
   "outputs": [
    {
     "data": {
      "text/html": [
       "<div>\n",
       "<style scoped>\n",
       "    .dataframe tbody tr th:only-of-type {\n",
       "        vertical-align: middle;\n",
       "    }\n",
       "\n",
       "    .dataframe tbody tr th {\n",
       "        vertical-align: top;\n",
       "    }\n",
       "\n",
       "    .dataframe thead th {\n",
       "        text-align: right;\n",
       "    }\n",
       "</style>\n",
       "<table border=\"1\" class=\"dataframe\">\n",
       "  <thead>\n",
       "    <tr style=\"text-align: right;\">\n",
       "      <th></th>\n",
       "      <th>Make</th>\n",
       "      <th>Year of manufacture</th>\n",
       "      <th>Condition</th>\n",
       "      <th>Mileage</th>\n",
       "      <th>Engine Size</th>\n",
       "      <th>Fuel</th>\n",
       "      <th>Transmission</th>\n",
       "      <th>Price</th>\n",
       "      <th>Build</th>\n",
       "    </tr>\n",
       "  </thead>\n",
       "  <tbody>\n",
       "    <tr>\n",
       "      <th>0</th>\n",
       "      <td>Toyota</td>\n",
       "      <td>2007.0</td>\n",
       "      <td>Nigerian Used</td>\n",
       "      <td>166418.0</td>\n",
       "      <td>2400.0</td>\n",
       "      <td>Petrol</td>\n",
       "      <td>Automatic</td>\n",
       "      <td>3,120,000</td>\n",
       "      <td>NaN</td>\n",
       "    </tr>\n",
       "    <tr>\n",
       "      <th>1</th>\n",
       "      <td>Lexus</td>\n",
       "      <td>NaN</td>\n",
       "      <td>NaN</td>\n",
       "      <td>138024.0</td>\n",
       "      <td>NaN</td>\n",
       "      <td>NaN</td>\n",
       "      <td>Automatic</td>\n",
       "      <td>5,834,000</td>\n",
       "      <td>NaN</td>\n",
       "    </tr>\n",
       "    <tr>\n",
       "      <th>2</th>\n",
       "      <td>Mercedes-Benz</td>\n",
       "      <td>2008.0</td>\n",
       "      <td>Nigerian Used</td>\n",
       "      <td>376807.0</td>\n",
       "      <td>3000.0</td>\n",
       "      <td>Petrol</td>\n",
       "      <td>Automatic</td>\n",
       "      <td>3,640,000</td>\n",
       "      <td>NaN</td>\n",
       "    </tr>\n",
       "    <tr>\n",
       "      <th>3</th>\n",
       "      <td>Lexus</td>\n",
       "      <td>NaN</td>\n",
       "      <td>NaN</td>\n",
       "      <td>213362.0</td>\n",
       "      <td>NaN</td>\n",
       "      <td>NaN</td>\n",
       "      <td>Automatic</td>\n",
       "      <td>3,594,000</td>\n",
       "      <td>NaN</td>\n",
       "    </tr>\n",
       "    <tr>\n",
       "      <th>4</th>\n",
       "      <td>Mercedes-Benz</td>\n",
       "      <td>NaN</td>\n",
       "      <td>NaN</td>\n",
       "      <td>106199.0</td>\n",
       "      <td>NaN</td>\n",
       "      <td>NaN</td>\n",
       "      <td>Automatic</td>\n",
       "      <td>8,410,000</td>\n",
       "      <td>NaN</td>\n",
       "    </tr>\n",
       "  </tbody>\n",
       "</table>\n",
       "</div>"
      ],
      "text/plain": [
       "            Make  Year of manufacture      Condition   Mileage  Engine Size  \\\n",
       "0         Toyota               2007.0  Nigerian Used  166418.0       2400.0   \n",
       "1          Lexus                  NaN            NaN  138024.0          NaN   \n",
       "2  Mercedes-Benz               2008.0  Nigerian Used  376807.0       3000.0   \n",
       "3          Lexus                  NaN            NaN  213362.0          NaN   \n",
       "4  Mercedes-Benz                  NaN            NaN  106199.0          NaN   \n",
       "\n",
       "     Fuel Transmission      Price Build  \n",
       "0  Petrol    Automatic  3,120,000   NaN  \n",
       "1     NaN    Automatic  5,834,000   NaN  \n",
       "2  Petrol    Automatic  3,640,000   NaN  \n",
       "3     NaN    Automatic  3,594,000   NaN  \n",
       "4     NaN    Automatic  8,410,000   NaN  "
      ]
     },
     "execution_count": 2,
     "metadata": {},
     "output_type": "execute_result"
    }
   ],
   "source": [
    "# Reading the Nigerian_Car_Prices dataset\n",
    "car_prices = pd.read_csv(\"Nigerian_Car_Prices.csv\", index_col=0) # Index-_col=0 is used to remove the column called 'unnamed' \n",
    "car_prices.head() "
   ]
  },
  {
   "cell_type": "code",
   "execution_count": 3,
   "metadata": {},
   "outputs": [
    {
     "data": {
      "text/plain": [
       "(4095, 9)"
      ]
     },
     "execution_count": 3,
     "metadata": {},
     "output_type": "execute_result"
    }
   ],
   "source": [
    "# checking the shape of the dataset\n",
    "car_prices.shape "
   ]
  },
  {
   "cell_type": "code",
   "execution_count": 4,
   "metadata": {},
   "outputs": [
    {
     "data": {
      "text/plain": [
       "Index(['Make', 'Year of manufacture', 'Condition', 'Mileage', 'Engine Size',\n",
       "       'Fuel', 'Transmission', 'Price', 'Build'],\n",
       "      dtype='object')"
      ]
     },
     "execution_count": 4,
     "metadata": {},
     "output_type": "execute_result"
    }
   ],
   "source": [
    "# checking the column the label\n",
    "car_prices.columns"
   ]
  },
  {
   "cell_type": "code",
   "execution_count": 5,
   "metadata": {},
   "outputs": [
    {
     "data": {
      "text/plain": [
       "Make                    object\n",
       "Year of manufacture    float64\n",
       "Condition               object\n",
       "Mileage                float64\n",
       "Engine Size            float64\n",
       "Fuel                    object\n",
       "Transmission            object\n",
       "Price                   object\n",
       "Build                   object\n",
       "dtype: object"
      ]
     },
     "execution_count": 5,
     "metadata": {},
     "output_type": "execute_result"
    }
   ],
   "source": [
    "# checking the coulmns datatypes \n",
    "car_prices.dtypes"
   ]
  },
  {
   "cell_type": "code",
   "execution_count": 6,
   "metadata": {},
   "outputs": [
    {
     "data": {
      "text/plain": [
       "Make                      0\n",
       "Year of manufacture     478\n",
       "Condition               479\n",
       "Mileage                  71\n",
       "Engine Size             511\n",
       "Fuel                    488\n",
       "Transmission             20\n",
       "Price                     0\n",
       "Build                  2968\n",
       "dtype: int64"
      ]
     },
     "execution_count": 6,
     "metadata": {},
     "output_type": "execute_result"
    }
   ],
   "source": [
    "# checking if there are missing values. And there are indeed a lot of missing values, but for the sake of the question,\n",
    "# we're not going to fill them\n",
    "car_prices.isna().sum()"
   ]
  },
  {
   "cell_type": "code",
   "execution_count": 7,
   "metadata": {},
   "outputs": [
    {
     "data": {
      "text/plain": [
       "0    3120000\n",
       "1    5834000\n",
       "2    3640000\n",
       "3    3594000\n",
       "4    8410000\n",
       "Name: Price, dtype: object"
      ]
     },
     "execution_count": 7,
     "metadata": {},
     "output_type": "execute_result"
    }
   ],
   "source": [
    "# Removing comma from the values in the Price column\n",
    "car_prices['Price'] = car_prices['Price'].str.replace(',','')\n",
    "car_prices['Price'].head()"
   ]
  },
  {
   "cell_type": "code",
   "execution_count": 8,
   "metadata": {},
   "outputs": [],
   "source": [
    "# converting the dtype of Price column from object to float\n",
    "car_prices[\"Price\"] = car_prices[\"Price\"].astype(float)"
   ]
  },
  {
   "cell_type": "code",
   "execution_count": 9,
   "metadata": {},
   "outputs": [
    {
     "data": {
      "text/plain": [
       "Make                    object\n",
       "Year of manufacture    float64\n",
       "Condition               object\n",
       "Mileage                float64\n",
       "Engine Size            float64\n",
       "Fuel                    object\n",
       "Transmission            object\n",
       "Price                  float64\n",
       "Build                   object\n",
       "dtype: object"
      ]
     },
     "execution_count": 9,
     "metadata": {},
     "output_type": "execute_result"
    }
   ],
   "source": [
    "car_prices.dtypes"
   ]
  },
  {
   "cell_type": "code",
   "execution_count": 10,
   "metadata": {},
   "outputs": [
    {
     "data": {
      "text/html": [
       "<div>\n",
       "<style scoped>\n",
       "    .dataframe tbody tr th:only-of-type {\n",
       "        vertical-align: middle;\n",
       "    }\n",
       "\n",
       "    .dataframe tbody tr th {\n",
       "        vertical-align: top;\n",
       "    }\n",
       "\n",
       "    .dataframe thead th {\n",
       "        text-align: right;\n",
       "    }\n",
       "</style>\n",
       "<table border=\"1\" class=\"dataframe\">\n",
       "  <thead>\n",
       "    <tr style=\"text-align: right;\">\n",
       "      <th></th>\n",
       "      <th>Make</th>\n",
       "      <th>Year of manufacture</th>\n",
       "      <th>Condition</th>\n",
       "      <th>Mileage</th>\n",
       "      <th>Engine Size</th>\n",
       "      <th>Fuel</th>\n",
       "      <th>Transmission</th>\n",
       "      <th>Price</th>\n",
       "      <th>Build</th>\n",
       "    </tr>\n",
       "  </thead>\n",
       "  <tbody>\n",
       "    <tr>\n",
       "      <th>0</th>\n",
       "      <td>Toyota</td>\n",
       "      <td>2007.0</td>\n",
       "      <td>Nigerian Used</td>\n",
       "      <td>166418.0</td>\n",
       "      <td>2400.0</td>\n",
       "      <td>Petrol</td>\n",
       "      <td>Automatic</td>\n",
       "      <td>3120000.0</td>\n",
       "      <td>NaN</td>\n",
       "    </tr>\n",
       "    <tr>\n",
       "      <th>1</th>\n",
       "      <td>Lexus</td>\n",
       "      <td>NaN</td>\n",
       "      <td>NaN</td>\n",
       "      <td>138024.0</td>\n",
       "      <td>NaN</td>\n",
       "      <td>NaN</td>\n",
       "      <td>Automatic</td>\n",
       "      <td>5834000.0</td>\n",
       "      <td>NaN</td>\n",
       "    </tr>\n",
       "    <tr>\n",
       "      <th>2</th>\n",
       "      <td>Mercedes-Benz</td>\n",
       "      <td>2008.0</td>\n",
       "      <td>Nigerian Used</td>\n",
       "      <td>376807.0</td>\n",
       "      <td>3000.0</td>\n",
       "      <td>Petrol</td>\n",
       "      <td>Automatic</td>\n",
       "      <td>3640000.0</td>\n",
       "      <td>NaN</td>\n",
       "    </tr>\n",
       "    <tr>\n",
       "      <th>3</th>\n",
       "      <td>Lexus</td>\n",
       "      <td>NaN</td>\n",
       "      <td>NaN</td>\n",
       "      <td>213362.0</td>\n",
       "      <td>NaN</td>\n",
       "      <td>NaN</td>\n",
       "      <td>Automatic</td>\n",
       "      <td>3594000.0</td>\n",
       "      <td>NaN</td>\n",
       "    </tr>\n",
       "    <tr>\n",
       "      <th>4</th>\n",
       "      <td>Mercedes-Benz</td>\n",
       "      <td>NaN</td>\n",
       "      <td>NaN</td>\n",
       "      <td>106199.0</td>\n",
       "      <td>NaN</td>\n",
       "      <td>NaN</td>\n",
       "      <td>Automatic</td>\n",
       "      <td>8410000.0</td>\n",
       "      <td>NaN</td>\n",
       "    </tr>\n",
       "  </tbody>\n",
       "</table>\n",
       "</div>"
      ],
      "text/plain": [
       "            Make  Year of manufacture      Condition   Mileage  Engine Size  \\\n",
       "0         Toyota               2007.0  Nigerian Used  166418.0       2400.0   \n",
       "1          Lexus                  NaN            NaN  138024.0          NaN   \n",
       "2  Mercedes-Benz               2008.0  Nigerian Used  376807.0       3000.0   \n",
       "3          Lexus                  NaN            NaN  213362.0          NaN   \n",
       "4  Mercedes-Benz                  NaN            NaN  106199.0          NaN   \n",
       "\n",
       "     Fuel Transmission      Price Build  \n",
       "0  Petrol    Automatic  3120000.0   NaN  \n",
       "1     NaN    Automatic  5834000.0   NaN  \n",
       "2  Petrol    Automatic  3640000.0   NaN  \n",
       "3     NaN    Automatic  3594000.0   NaN  \n",
       "4     NaN    Automatic  8410000.0   NaN  "
      ]
     },
     "execution_count": 10,
     "metadata": {},
     "output_type": "execute_result"
    }
   ],
   "source": [
    "car_prices.head()"
   ]
  },
  {
   "cell_type": "code",
   "execution_count": 13,
   "metadata": {},
   "outputs": [
    {
     "data": {
      "text/plain": [
       "Toyota           1469\n",
       "Lexus             464\n",
       "Mercedes-Benz     436\n",
       "Honda             428\n",
       "Ford              197\n",
       "Hyundai           179\n",
       "Nissan            173\n",
       "Kia                90\n",
       "Land Rover         74\n",
       "Volkswagen         64\n",
       "Mazda              63\n",
       "BMW                63\n",
       "Acura              56\n",
       "Infiniti           41\n",
       "Chevrolet          40\n",
       "Peugeot            36\n",
       "Mitsubishi         23\n",
       "Pontiac            22\n",
       "Volvo              22\n",
       "Suzuki             21\n",
       "Dodge              17\n",
       "Audi               14\n",
       "Opel               12\n",
       "Jaguar             11\n",
       "Jeep               11\n",
       "Porsche             9\n",
       "Renault             8\n",
       "Chrysler            7\n",
       "Fiat                6\n",
       "GMC                 5\n",
       "Changan             4\n",
       "Lincoln             4\n",
       "Skoda               3\n",
       "Hummer              2\n",
       "Buick               2\n",
       "JAC                 2\n",
       "Citroen             2\n",
       "Isuzu               2\n",
       "Mini                2\n",
       "MG                  2\n",
       "Rover               1\n",
       "Bentley             1\n",
       "Seat                1\n",
       "SsangYong           1\n",
       "Cadillac            1\n",
       "Saturn              1\n",
       "Tata                1\n",
       "Foton               1\n",
       "Daihatsu            1\n",
       "Name: Make, dtype: int64"
      ]
     },
     "execution_count": 13,
     "metadata": {},
     "output_type": "execute_result"
    }
   ],
   "source": [
    "car_prices['Make'].value_counts()"
   ]
  },
  {
   "cell_type": "code",
   "execution_count": 15,
   "metadata": {},
   "outputs": [
    {
     "data": {
      "text/plain": [
       "2007.0    436\n",
       "2008.0    364\n",
       "2006.0    279\n",
       "2009.0    277\n",
       "2010.0    277\n",
       "2004.0    246\n",
       "2005.0    236\n",
       "2011.0    215\n",
       "2003.0    184\n",
       "2013.0    182\n",
       "2012.0    181\n",
       "2014.0    144\n",
       "2002.0    132\n",
       "2015.0     93\n",
       "2001.0     85\n",
       "2000.0     56\n",
       "2016.0     53\n",
       "1999.0     43\n",
       "2017.0     39\n",
       "2018.0     26\n",
       "1998.0     19\n",
       "1997.0     13\n",
       "2020.0     12\n",
       "2019.0     10\n",
       "1995.0      5\n",
       "1996.0      4\n",
       "2021.0      3\n",
       "1992.0      2\n",
       "1994.0      1\n",
       "Name: Year of manufacture, dtype: int64"
      ]
     },
     "execution_count": 15,
     "metadata": {},
     "output_type": "execute_result"
    }
   ],
   "source": [
    "car_prices['Year of manufacture'].value_counts()"
   ]
  },
  {
   "cell_type": "code",
   "execution_count": 17,
   "metadata": {},
   "outputs": [
    {
     "data": {
      "text/plain": [
       "Nigerian Used    2521\n",
       "Foreign Used     1090\n",
       "Brand New           5\n",
       "Name: Condition, dtype: int64"
      ]
     },
     "execution_count": 17,
     "metadata": {},
     "output_type": "execute_result"
    }
   ],
   "source": [
    "car_prices['Condition'].value_counts()"
   ]
  },
  {
   "cell_type": "code",
   "execution_count": 18,
   "metadata": {},
   "outputs": [
    {
     "data": {
      "text/plain": [
       "299999.0    10\n",
       "1.0          6\n",
       "95321.0      4\n",
       "482800.0     4\n",
       "126.0        3\n",
       "            ..\n",
       "340782.0     1\n",
       "392106.0     1\n",
       "232306.0     1\n",
       "155367.0     1\n",
       "235184.0     1\n",
       "Name: Mileage, Length: 3118, dtype: int64"
      ]
     },
     "execution_count": 18,
     "metadata": {},
     "output_type": "execute_result"
    }
   ],
   "source": [
    "car_prices['Mileage'].value_counts()"
   ]
  },
  {
   "cell_type": "code",
   "execution_count": 19,
   "metadata": {},
   "outputs": [
    {
     "data": {
      "text/plain": [
       "3500.0      820\n",
       "2400.0      520\n",
       "1800.0      437\n",
       "3000.0      306\n",
       "2500.0      256\n",
       "           ... \n",
       "42000.0       1\n",
       "371000.0      1\n",
       "36.0          1\n",
       "33000.0       1\n",
       "184421.0      1\n",
       "Name: Engine Size, Length: 81, dtype: int64"
      ]
     },
     "execution_count": 19,
     "metadata": {},
     "output_type": "execute_result"
    }
   ],
   "source": [
    "car_prices['Engine Size'].value_counts()"
   ]
  },
  {
   "cell_type": "code",
   "execution_count": 20,
   "metadata": {},
   "outputs": [
    {
     "data": {
      "text/plain": [
       "Petrol      3535\n",
       "Diesel        37\n",
       "Hybrid        30\n",
       "Electric       5\n",
       "Name: Fuel, dtype: int64"
      ]
     },
     "execution_count": 20,
     "metadata": {},
     "output_type": "execute_result"
    }
   ],
   "source": [
    "car_prices['Fuel'].value_counts()"
   ]
  },
  {
   "cell_type": "code",
   "execution_count": 21,
   "metadata": {},
   "outputs": [
    {
     "data": {
      "text/plain": [
       "Automatic    3810\n",
       "Manual        230\n",
       "CVT            22\n",
       "AMT            13\n",
       "Name: Transmission, dtype: int64"
      ]
     },
     "execution_count": 21,
     "metadata": {},
     "output_type": "execute_result"
    }
   ],
   "source": [
    "car_prices['Transmission'].value_counts()"
   ]
  },
  {
   "cell_type": "code",
   "execution_count": 22,
   "metadata": {},
   "outputs": [
    {
     "data": {
      "text/plain": [
       "2625000.0     113\n",
       "1575000.0     109\n",
       "2100000.0     108\n",
       "3150000.0      92\n",
       "3675000.0      69\n",
       "             ... \n",
       "1410000.0       1\n",
       "1938000.0       1\n",
       "3095000.0       1\n",
       "32550000.0      1\n",
       "2643750.0       1\n",
       "Name: Price, Length: 579, dtype: int64"
      ]
     },
     "execution_count": 22,
     "metadata": {},
     "output_type": "execute_result"
    }
   ],
   "source": [
    "car_prices['Price'].value_counts()"
   ]
  },
  {
   "cell_type": "code",
   "execution_count": 23,
   "metadata": {},
   "outputs": [
    {
     "data": {
      "text/plain": [
       "SUV    1127\n",
       "Name: Build, dtype: int64"
      ]
     },
     "execution_count": 23,
     "metadata": {},
     "output_type": "execute_result"
    }
   ],
   "source": [
    "car_prices['Build'].value_counts()\n"
   ]
  },
  {
   "cell_type": "markdown",
   "metadata": {},
   "source": [
    "Cleaning all the columns"
   ]
  },
  {
   "cell_type": "code",
   "execution_count": 24,
   "metadata": {},
   "outputs": [
    {
     "data": {
      "text/html": [
       "<div>\n",
       "<style scoped>\n",
       "    .dataframe tbody tr th:only-of-type {\n",
       "        vertical-align: middle;\n",
       "    }\n",
       "\n",
       "    .dataframe tbody tr th {\n",
       "        vertical-align: top;\n",
       "    }\n",
       "\n",
       "    .dataframe thead th {\n",
       "        text-align: right;\n",
       "    }\n",
       "</style>\n",
       "<table border=\"1\" class=\"dataframe\">\n",
       "  <thead>\n",
       "    <tr style=\"text-align: right;\">\n",
       "      <th></th>\n",
       "      <th>Make</th>\n",
       "      <th>Year of manufacture</th>\n",
       "      <th>Condition</th>\n",
       "      <th>Mileage</th>\n",
       "      <th>Engine Size</th>\n",
       "      <th>Fuel</th>\n",
       "      <th>Transmission</th>\n",
       "      <th>Price</th>\n",
       "      <th>Build</th>\n",
       "    </tr>\n",
       "  </thead>\n",
       "  <tbody>\n",
       "    <tr>\n",
       "      <th>0</th>\n",
       "      <td>Toyota</td>\n",
       "      <td>2007.0</td>\n",
       "      <td>Nigerian Used</td>\n",
       "      <td>166418.0</td>\n",
       "      <td>2400.0</td>\n",
       "      <td>Petrol</td>\n",
       "      <td>Automatic</td>\n",
       "      <td>3120000.0</td>\n",
       "      <td>NaN</td>\n",
       "    </tr>\n",
       "    <tr>\n",
       "      <th>1</th>\n",
       "      <td>Lexus</td>\n",
       "      <td>NaN</td>\n",
       "      <td>NaN</td>\n",
       "      <td>138024.0</td>\n",
       "      <td>NaN</td>\n",
       "      <td>NaN</td>\n",
       "      <td>Automatic</td>\n",
       "      <td>5834000.0</td>\n",
       "      <td>NaN</td>\n",
       "    </tr>\n",
       "    <tr>\n",
       "      <th>2</th>\n",
       "      <td>Mercedes-Benz</td>\n",
       "      <td>2008.0</td>\n",
       "      <td>Nigerian Used</td>\n",
       "      <td>376807.0</td>\n",
       "      <td>3000.0</td>\n",
       "      <td>Petrol</td>\n",
       "      <td>Automatic</td>\n",
       "      <td>3640000.0</td>\n",
       "      <td>NaN</td>\n",
       "    </tr>\n",
       "    <tr>\n",
       "      <th>3</th>\n",
       "      <td>Lexus</td>\n",
       "      <td>NaN</td>\n",
       "      <td>NaN</td>\n",
       "      <td>213362.0</td>\n",
       "      <td>NaN</td>\n",
       "      <td>NaN</td>\n",
       "      <td>Automatic</td>\n",
       "      <td>3594000.0</td>\n",
       "      <td>NaN</td>\n",
       "    </tr>\n",
       "    <tr>\n",
       "      <th>4</th>\n",
       "      <td>Mercedes-Benz</td>\n",
       "      <td>NaN</td>\n",
       "      <td>NaN</td>\n",
       "      <td>106199.0</td>\n",
       "      <td>NaN</td>\n",
       "      <td>NaN</td>\n",
       "      <td>Automatic</td>\n",
       "      <td>8410000.0</td>\n",
       "      <td>NaN</td>\n",
       "    </tr>\n",
       "  </tbody>\n",
       "</table>\n",
       "</div>"
      ],
      "text/plain": [
       "            Make  Year of manufacture      Condition   Mileage  Engine Size  \\\n",
       "0         Toyota               2007.0  Nigerian Used  166418.0       2400.0   \n",
       "1          Lexus                  NaN            NaN  138024.0          NaN   \n",
       "2  Mercedes-Benz               2008.0  Nigerian Used  376807.0       3000.0   \n",
       "3          Lexus                  NaN            NaN  213362.0          NaN   \n",
       "4  Mercedes-Benz                  NaN            NaN  106199.0          NaN   \n",
       "\n",
       "     Fuel Transmission      Price Build  \n",
       "0  Petrol    Automatic  3120000.0   NaN  \n",
       "1     NaN    Automatic  5834000.0   NaN  \n",
       "2  Petrol    Automatic  3640000.0   NaN  \n",
       "3     NaN    Automatic  3594000.0   NaN  \n",
       "4     NaN    Automatic  8410000.0   NaN  "
      ]
     },
     "execution_count": 24,
     "metadata": {},
     "output_type": "execute_result"
    }
   ],
   "source": [
    "car_prices.head()"
   ]
  },
  {
   "cell_type": "code",
   "execution_count": 26,
   "metadata": {},
   "outputs": [
    {
     "data": {
      "text/plain": [
       "0"
      ]
     },
     "execution_count": 26,
     "metadata": {},
     "output_type": "execute_result"
    }
   ],
   "source": [
    "car_prices['Make'].isnull().sum()"
   ]
  },
  {
   "cell_type": "code",
   "execution_count": 27,
   "metadata": {},
   "outputs": [
    {
     "data": {
      "text/plain": [
       "478"
      ]
     },
     "execution_count": 27,
     "metadata": {},
     "output_type": "execute_result"
    }
   ],
   "source": [
    "car_prices['Year of manufacture'].isnull().sum()"
   ]
  },
  {
   "cell_type": "code",
   "execution_count": 31,
   "metadata": {},
   "outputs": [
    {
     "data": {
      "text/plain": [
       "479"
      ]
     },
     "execution_count": 31,
     "metadata": {},
     "output_type": "execute_result"
    }
   ],
   "source": [
    "car_prices['Condition'].isnull().sum()"
   ]
  },
  {
   "cell_type": "code",
   "execution_count": 32,
   "metadata": {},
   "outputs": [
    {
     "data": {
      "text/plain": [
       "71"
      ]
     },
     "execution_count": 32,
     "metadata": {},
     "output_type": "execute_result"
    }
   ],
   "source": [
    "car_prices['Mileage'].isnull().sum()"
   ]
  },
  {
   "cell_type": "code",
   "execution_count": 33,
   "metadata": {},
   "outputs": [
    {
     "data": {
      "text/plain": [
       "511"
      ]
     },
     "execution_count": 33,
     "metadata": {},
     "output_type": "execute_result"
    }
   ],
   "source": [
    "car_prices['Engine Size'].isnull().sum()"
   ]
  },
  {
   "cell_type": "code",
   "execution_count": 34,
   "metadata": {},
   "outputs": [
    {
     "data": {
      "text/plain": [
       "488"
      ]
     },
     "execution_count": 34,
     "metadata": {},
     "output_type": "execute_result"
    }
   ],
   "source": [
    "car_prices['Fuel'].isnull().sum()"
   ]
  },
  {
   "cell_type": "code",
   "execution_count": 35,
   "metadata": {},
   "outputs": [
    {
     "data": {
      "text/plain": [
       "20"
      ]
     },
     "execution_count": 35,
     "metadata": {},
     "output_type": "execute_result"
    }
   ],
   "source": [
    "car_prices['Transmission'].isnull().sum()"
   ]
  },
  {
   "cell_type": "code",
   "execution_count": 36,
   "metadata": {},
   "outputs": [
    {
     "data": {
      "text/plain": [
       "0"
      ]
     },
     "execution_count": 36,
     "metadata": {},
     "output_type": "execute_result"
    }
   ],
   "source": [
    "car_prices['Price'].isnull().sum()"
   ]
  },
  {
   "cell_type": "code",
   "execution_count": 37,
   "metadata": {},
   "outputs": [
    {
     "data": {
      "text/plain": [
       "2968"
      ]
     },
     "execution_count": 37,
     "metadata": {},
     "output_type": "execute_result"
    }
   ],
   "source": [
    "car_prices['Build'].isnull().sum()"
   ]
  },
  {
   "cell_type": "code",
   "execution_count": 38,
   "metadata": {},
   "outputs": [],
   "source": [
    "car_prices['Year of manufacture'] = car_prices['Year of manufacture'].fillna('2007.0')\n",
    "car_prices['Condition'] = car_prices['Condition'].fillna('Nigerian Used')\n",
    "car_prices['Mileage'] = car_prices['Mileage'].fillna(car_prices['Mileage'].mean())\n",
    "car_prices['Engine Size'] = car_prices['Engine Size'].fillna(car_prices['Engine Size'].mean())\n",
    "car_prices['Fuel'] = car_prices['Fuel'].fillna(car_prices['Fuel'].mode()[0])\n",
    "car_prices['Transmission'] = car_prices['Transmission'].fillna(car_prices['Transmission'].mode()[0])\n",
    "car_prices['Build'] = car_prices['Build'].fillna('SUV')"
   ]
  },
  {
   "cell_type": "code",
   "execution_count": 41,
   "metadata": {
    "scrolled": true
   },
   "outputs": [
    {
     "data": {
      "text/plain": [
       "Make                   0\n",
       "Year of manufacture    0\n",
       "Condition              0\n",
       "Mileage                0\n",
       "Engine Size            0\n",
       "Fuel                   0\n",
       "Transmission           0\n",
       "Price                  0\n",
       "Build                  0\n",
       "dtype: int64"
      ]
     },
     "execution_count": 41,
     "metadata": {},
     "output_type": "execute_result"
    }
   ],
   "source": [
    "car_prices.isnull().sum()"
   ]
  },
  {
   "cell_type": "code",
   "execution_count": 42,
   "metadata": {},
   "outputs": [
    {
     "data": {
      "text/html": [
       "<div>\n",
       "<style scoped>\n",
       "    .dataframe tbody tr th:only-of-type {\n",
       "        vertical-align: middle;\n",
       "    }\n",
       "\n",
       "    .dataframe tbody tr th {\n",
       "        vertical-align: top;\n",
       "    }\n",
       "\n",
       "    .dataframe thead th {\n",
       "        text-align: right;\n",
       "    }\n",
       "</style>\n",
       "<table border=\"1\" class=\"dataframe\">\n",
       "  <thead>\n",
       "    <tr style=\"text-align: right;\">\n",
       "      <th></th>\n",
       "      <th>Mileage</th>\n",
       "      <th>Engine Size</th>\n",
       "      <th>Price</th>\n",
       "    </tr>\n",
       "  </thead>\n",
       "  <tbody>\n",
       "    <tr>\n",
       "      <th>count</th>\n",
       "      <td>4.095000e+03</td>\n",
       "      <td>4095.000000</td>\n",
       "      <td>4.095000e+03</td>\n",
       "    </tr>\n",
       "    <tr>\n",
       "      <th>mean</th>\n",
       "      <td>1.825337e+05</td>\n",
       "      <td>3274.976562</td>\n",
       "      <td>4.271288e+06</td>\n",
       "    </tr>\n",
       "    <tr>\n",
       "      <th>std</th>\n",
       "      <td>2.090863e+05</td>\n",
       "      <td>7197.353858</td>\n",
       "      <td>4.900064e+06</td>\n",
       "    </tr>\n",
       "    <tr>\n",
       "      <th>min</th>\n",
       "      <td>1.000000e+00</td>\n",
       "      <td>3.000000</td>\n",
       "      <td>4.580000e+05</td>\n",
       "    </tr>\n",
       "    <tr>\n",
       "      <th>25%</th>\n",
       "      <td>1.025985e+05</td>\n",
       "      <td>2400.000000</td>\n",
       "      <td>1.872000e+06</td>\n",
       "    </tr>\n",
       "    <tr>\n",
       "      <th>50%</th>\n",
       "      <td>1.637560e+05</td>\n",
       "      <td>3000.000000</td>\n",
       "      <td>2.940000e+06</td>\n",
       "    </tr>\n",
       "    <tr>\n",
       "      <th>75%</th>\n",
       "      <td>2.306370e+05</td>\n",
       "      <td>3500.000000</td>\n",
       "      <td>4.725000e+06</td>\n",
       "    </tr>\n",
       "    <tr>\n",
       "      <th>max</th>\n",
       "      <td>9.976050e+06</td>\n",
       "      <td>371000.000000</td>\n",
       "      <td>5.880000e+07</td>\n",
       "    </tr>\n",
       "  </tbody>\n",
       "</table>\n",
       "</div>"
      ],
      "text/plain": [
       "            Mileage    Engine Size         Price\n",
       "count  4.095000e+03    4095.000000  4.095000e+03\n",
       "mean   1.825337e+05    3274.976562  4.271288e+06\n",
       "std    2.090863e+05    7197.353858  4.900064e+06\n",
       "min    1.000000e+00       3.000000  4.580000e+05\n",
       "25%    1.025985e+05    2400.000000  1.872000e+06\n",
       "50%    1.637560e+05    3000.000000  2.940000e+06\n",
       "75%    2.306370e+05    3500.000000  4.725000e+06\n",
       "max    9.976050e+06  371000.000000  5.880000e+07"
      ]
     },
     "execution_count": 42,
     "metadata": {},
     "output_type": "execute_result"
    }
   ],
   "source": [
    "# Describing the dataset to have more insight\n",
    "car_prices.describe()"
   ]
  },
  {
   "cell_type": "markdown",
   "metadata": {},
   "source": [
    "**Q1: What is the most expensive Automatic car (show car name and model make) with a mileage of less than 50000**"
   ]
  },
  {
   "cell_type": "code",
   "execution_count": 72,
   "metadata": {},
   "outputs": [
    {
     "data": {
      "text/plain": [
       "Make          Volvo\n",
       "Build           SUV\n",
       "Price    58800000.0\n",
       "dtype: object"
      ]
     },
     "execution_count": 72,
     "metadata": {},
     "output_type": "execute_result"
    }
   ],
   "source": [
    "car_prices.groupby(['Make','Build'])[['Make','Build','Price']].max().max()"
   ]
  },
  {
   "cell_type": "markdown",
   "metadata": {},
   "source": [
    "**Q2: Write a function to bring out the average of each car, which car make has the highest average price? Write a code to show this**"
   ]
  },
  {
   "cell_type": "code",
   "execution_count": 74,
   "metadata": {},
   "outputs": [
    {
     "data": {
      "text/plain": [
       "Make\n",
       "Acura            3.414470e+06\n",
       "Audi             6.090536e+06\n",
       "BMW              3.785456e+06\n",
       "Bentley          1.689500e+07\n",
       "Buick            4.770000e+06\n",
       "Cadillac         6.730000e+06\n",
       "Changan          1.222500e+07\n",
       "Chevrolet        4.473020e+06\n",
       "Chrysler         2.797500e+06\n",
       "Citroen          1.260000e+06\n",
       "Daihatsu         9.450000e+05\n",
       "Dodge            4.898382e+06\n",
       "Fiat             6.945000e+06\n",
       "Ford             3.711745e+06\n",
       "Foton            4.938000e+06\n",
       "GMC              8.784600e+06\n",
       "Honda            2.527255e+06\n",
       "Hummer           6.300000e+06\n",
       "Hyundai          3.873316e+06\n",
       "Infiniti         2.997098e+06\n",
       "Isuzu            2.048400e+06\n",
       "JAC              7.290000e+06\n",
       "Jaguar           4.330682e+06\n",
       "Jeep             9.580545e+06\n",
       "Kia              3.511190e+06\n",
       "Land Rover       1.021207e+07\n",
       "Lexus            5.032669e+06\n",
       "Lincoln          7.601000e+06\n",
       "MG               1.575000e+06\n",
       "Mazda            2.760742e+06\n",
       "Mercedes-Benz    6.270841e+06\n",
       "Mini             6.300000e+06\n",
       "Mitsubishi       1.920609e+06\n",
       "Nissan           3.941813e+06\n",
       "Opel             1.462500e+06\n",
       "Peugeot          1.704417e+06\n",
       "Pontiac          2.536636e+06\n",
       "Porsche          7.655889e+06\n",
       "Renault          1.561562e+06\n",
       "Rover            1.018500e+07\n",
       "Saturn           3.150000e+06\n",
       "Seat             2.520000e+06\n",
       "Skoda            1.967500e+06\n",
       "SsangYong        2.625000e+06\n",
       "Suzuki           5.964286e+06\n",
       "Tata             1.785000e+07\n",
       "Toyota           4.077386e+06\n",
       "Volkswagen       3.004469e+06\n",
       "Volvo            2.365864e+06\n",
       "Name: Price, dtype: float64"
      ]
     },
     "execution_count": 74,
     "metadata": {},
     "output_type": "execute_result"
    }
   ],
   "source": [
    "# Average Of Each Car\n",
    "car_prices.groupby(['Make'])['Price'].mean()"
   ]
  },
  {
   "cell_type": "code",
   "execution_count": 87,
   "metadata": {},
   "outputs": [
    {
     "data": {
      "text/html": [
       "<div>\n",
       "<style scoped>\n",
       "    .dataframe tbody tr th:only-of-type {\n",
       "        vertical-align: middle;\n",
       "    }\n",
       "\n",
       "    .dataframe tbody tr th {\n",
       "        vertical-align: top;\n",
       "    }\n",
       "\n",
       "    .dataframe thead th {\n",
       "        text-align: right;\n",
       "    }\n",
       "</style>\n",
       "<table border=\"1\" class=\"dataframe\">\n",
       "  <thead>\n",
       "    <tr style=\"text-align: right;\">\n",
       "      <th></th>\n",
       "      <th>index</th>\n",
       "      <th>0</th>\n",
       "    </tr>\n",
       "  </thead>\n",
       "  <tbody>\n",
       "    <tr>\n",
       "      <th>0</th>\n",
       "      <td>Make</td>\n",
       "      <td>Volvo</td>\n",
       "    </tr>\n",
       "    <tr>\n",
       "      <th>1</th>\n",
       "      <td>Build</td>\n",
       "      <td>SUV</td>\n",
       "    </tr>\n",
       "    <tr>\n",
       "      <th>2</th>\n",
       "      <td>Price</td>\n",
       "      <td>17850000.0</td>\n",
       "    </tr>\n",
       "  </tbody>\n",
       "</table>\n",
       "</div>"
      ],
      "text/plain": [
       "   index           0\n",
       "0   Make       Volvo\n",
       "1  Build         SUV\n",
       "2  Price  17850000.0"
      ]
     },
     "execution_count": 87,
     "metadata": {},
     "output_type": "execute_result"
    }
   ],
   "source": [
    "#car with highest average price\n",
    "car_prices.groupby(['Make','Build'])['Price'].mean().reset_index().max().reset_index()"
   ]
  },
  {
   "cell_type": "markdown",
   "metadata": {},
   "source": [
    "**Q3: Select the row with a price at the 76th percentile score**"
   ]
  },
  {
   "cell_type": "code",
   "execution_count": 88,
   "metadata": {},
   "outputs": [
    {
     "data": {
      "text/html": [
       "<div>\n",
       "<style scoped>\n",
       "    .dataframe tbody tr th:only-of-type {\n",
       "        vertical-align: middle;\n",
       "    }\n",
       "\n",
       "    .dataframe tbody tr th {\n",
       "        vertical-align: top;\n",
       "    }\n",
       "\n",
       "    .dataframe thead th {\n",
       "        text-align: right;\n",
       "    }\n",
       "</style>\n",
       "<table border=\"1\" class=\"dataframe\">\n",
       "  <thead>\n",
       "    <tr style=\"text-align: right;\">\n",
       "      <th></th>\n",
       "      <th>Mileage</th>\n",
       "      <th>Engine Size</th>\n",
       "      <th>Price</th>\n",
       "    </tr>\n",
       "  </thead>\n",
       "  <tbody>\n",
       "    <tr>\n",
       "      <th>0.76</th>\n",
       "      <td>233935.56</td>\n",
       "      <td>3500.0</td>\n",
       "      <td>4770000.0</td>\n",
       "    </tr>\n",
       "  </tbody>\n",
       "</table>\n",
       "</div>"
      ],
      "text/plain": [
       "        Mileage  Engine Size      Price\n",
       "0.76  233935.56       3500.0  4770000.0"
      ]
     },
     "execution_count": 88,
     "metadata": {},
     "output_type": "execute_result"
    }
   ],
   "source": [
    "car_prices.quantile([0.76], axis=0)"
   ]
  },
  {
   "cell_type": "markdown",
   "metadata": {},
   "source": [
    "The 76th percentile falls at **Price of 4770,000.0**"
   ]
  }
 ],
 "metadata": {
  "kernelspec": {
   "display_name": "Python 3 (ipykernel)",
   "language": "python",
   "name": "python3"
  },
  "language_info": {
   "codemirror_mode": {
    "name": "ipython",
    "version": 3
   },
   "file_extension": ".py",
   "mimetype": "text/x-python",
   "name": "python",
   "nbconvert_exporter": "python",
   "pygments_lexer": "ipython3",
   "version": "3.9.12"
  },
  "vscode": {
   "interpreter": {
    "hash": "ad2bdc8ecc057115af97d19610ffacc2b4e99fae6737bb82f5d7fb13d2f2c186"
   }
  }
 },
 "nbformat": 4,
 "nbformat_minor": 2
}
