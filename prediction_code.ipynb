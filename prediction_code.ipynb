{
 "cells": [
  {
   "cell_type": "code",
   "execution_count": 60,
   "id": "dc462dec",
   "metadata": {},
   "outputs": [],
   "source": [
    "import joblib\n",
    "from joblib import load\n",
    "import pandas as pd\n",
    "import numpy as np"
   ]
  },
  {
   "cell_type": "code",
   "execution_count": 61,
   "id": "d88248f2",
   "metadata": {},
   "outputs": [
    {
     "data": {
      "text/html": [
       "<div>\n",
       "<style scoped>\n",
       "    .dataframe tbody tr th:only-of-type {\n",
       "        vertical-align: middle;\n",
       "    }\n",
       "\n",
       "    .dataframe tbody tr th {\n",
       "        vertical-align: top;\n",
       "    }\n",
       "\n",
       "    .dataframe thead th {\n",
       "        text-align: right;\n",
       "    }\n",
       "</style>\n",
       "<table border=\"1\" class=\"dataframe\">\n",
       "  <thead>\n",
       "    <tr style=\"text-align: right;\">\n",
       "      <th></th>\n",
       "      <th>id</th>\n",
       "      <th>first_name</th>\n",
       "      <th>last_name</th>\n",
       "      <th>email</th>\n",
       "      <th>quiz_summary</th>\n",
       "      <th>assignment_summary</th>\n",
       "      <th>grade_point</th>\n",
       "      <th>intermediate_class_eligibility</th>\n",
       "    </tr>\n",
       "  </thead>\n",
       "  <tbody>\n",
       "    <tr>\n",
       "      <th>0</th>\n",
       "      <td>1</td>\n",
       "      <td>Chase</td>\n",
       "      <td>Burtt</td>\n",
       "      <td>cburtt0@nyu.edu</td>\n",
       "      <td>100</td>\n",
       "      <td>0.0</td>\n",
       "      <td>80</td>\n",
       "      <td>False</td>\n",
       "    </tr>\n",
       "    <tr>\n",
       "      <th>1</th>\n",
       "      <td>2</td>\n",
       "      <td>Rusty</td>\n",
       "      <td>Boumphrey</td>\n",
       "      <td>rboumphrey1@google.cn</td>\n",
       "      <td>70</td>\n",
       "      <td>56.0</td>\n",
       "      <td>11</td>\n",
       "      <td>True</td>\n",
       "    </tr>\n",
       "    <tr>\n",
       "      <th>2</th>\n",
       "      <td>3</td>\n",
       "      <td>Ree</td>\n",
       "      <td>Birley</td>\n",
       "      <td>rbirley2@weather.com</td>\n",
       "      <td>90</td>\n",
       "      <td>76.0</td>\n",
       "      <td>98</td>\n",
       "      <td>False</td>\n",
       "    </tr>\n",
       "    <tr>\n",
       "      <th>3</th>\n",
       "      <td>4</td>\n",
       "      <td>Jere</td>\n",
       "      <td>Maydwell</td>\n",
       "      <td>jmaydwell3@ed.gov</td>\n",
       "      <td>100</td>\n",
       "      <td>78.4</td>\n",
       "      <td>49</td>\n",
       "      <td>False</td>\n",
       "    </tr>\n",
       "    <tr>\n",
       "      <th>4</th>\n",
       "      <td>5</td>\n",
       "      <td>Mandie</td>\n",
       "      <td>Finding</td>\n",
       "      <td>mfinding4@state.gov</td>\n",
       "      <td>100</td>\n",
       "      <td>20.0</td>\n",
       "      <td>29</td>\n",
       "      <td>True</td>\n",
       "    </tr>\n",
       "  </tbody>\n",
       "</table>\n",
       "</div>"
      ],
      "text/plain": [
       "   id first_name  last_name                  email  quiz_summary  \\\n",
       "0   1      Chase      Burtt        cburtt0@nyu.edu           100   \n",
       "1   2      Rusty  Boumphrey  rboumphrey1@google.cn            70   \n",
       "2   3        Ree     Birley   rbirley2@weather.com            90   \n",
       "3   4       Jere   Maydwell      jmaydwell3@ed.gov           100   \n",
       "4   5     Mandie    Finding    mfinding4@state.gov           100   \n",
       "\n",
       "   assignment_summary  grade_point  intermediate_class_eligibility  \n",
       "0                 0.0           80                           False  \n",
       "1                56.0           11                            True  \n",
       "2                76.0           98                           False  \n",
       "3                78.4           49                           False  \n",
       "4                20.0           29                            True  "
      ]
     },
     "execution_count": 61,
     "metadata": {},
     "output_type": "execute_result"
    }
   ],
   "source": [
    "new_data = pd.read_csv(\"C:/Users/STUTERN/Downloads/new_data.csv\")\n",
    "new_data.head()"
   ]
  },
  {
   "cell_type": "code",
   "execution_count": 62,
   "id": "6b4749d9",
   "metadata": {},
   "outputs": [
    {
     "data": {
      "text/plain": [
       "(1000, 8)"
      ]
     },
     "execution_count": 62,
     "metadata": {},
     "output_type": "execute_result"
    }
   ],
   "source": [
    "new_data.shape"
   ]
  },
  {
   "cell_type": "code",
   "execution_count": 63,
   "id": "204ab5fe",
   "metadata": {},
   "outputs": [
    {
     "data": {
      "text/plain": [
       "Index(['id', 'first_name', 'last_name', 'email', 'quiz_summary',\n",
       "       'assignment_summary', 'grade_point', 'intermediate_class_eligibility'],\n",
       "      dtype='object')"
      ]
     },
     "execution_count": 63,
     "metadata": {},
     "output_type": "execute_result"
    }
   ],
   "source": [
    "new_data.columns"
   ]
  },
  {
   "cell_type": "code",
   "execution_count": 64,
   "id": "4303a84c",
   "metadata": {},
   "outputs": [],
   "source": [
    "def student_cutoff(column):\n",
    "    if column >= 50:\n",
    "        return \"Yes\"\n",
    "    else:\n",
    "        return \"No\""
   ]
  },
  {
   "cell_type": "code",
   "execution_count": 65,
   "id": "2f685cc8",
   "metadata": {},
   "outputs": [],
   "source": [
    "new_data['intermediate_class_eligibility'] = new_data['grade_point'].apply(student_cutoff)"
   ]
  },
  {
   "cell_type": "code",
   "execution_count": 66,
   "id": "6c82703e",
   "metadata": {},
   "outputs": [
    {
     "data": {
      "text/html": [
       "<div>\n",
       "<style scoped>\n",
       "    .dataframe tbody tr th:only-of-type {\n",
       "        vertical-align: middle;\n",
       "    }\n",
       "\n",
       "    .dataframe tbody tr th {\n",
       "        vertical-align: top;\n",
       "    }\n",
       "\n",
       "    .dataframe thead th {\n",
       "        text-align: right;\n",
       "    }\n",
       "</style>\n",
       "<table border=\"1\" class=\"dataframe\">\n",
       "  <thead>\n",
       "    <tr style=\"text-align: right;\">\n",
       "      <th></th>\n",
       "      <th>id</th>\n",
       "      <th>first_name</th>\n",
       "      <th>last_name</th>\n",
       "      <th>email</th>\n",
       "      <th>quiz_summary</th>\n",
       "      <th>assignment_summary</th>\n",
       "      <th>grade_point</th>\n",
       "      <th>intermediate_class_eligibility</th>\n",
       "    </tr>\n",
       "  </thead>\n",
       "  <tbody>\n",
       "    <tr>\n",
       "      <th>0</th>\n",
       "      <td>1</td>\n",
       "      <td>Chase</td>\n",
       "      <td>Burtt</td>\n",
       "      <td>cburtt0@nyu.edu</td>\n",
       "      <td>100</td>\n",
       "      <td>0.0</td>\n",
       "      <td>80</td>\n",
       "      <td>Yes</td>\n",
       "    </tr>\n",
       "    <tr>\n",
       "      <th>1</th>\n",
       "      <td>2</td>\n",
       "      <td>Rusty</td>\n",
       "      <td>Boumphrey</td>\n",
       "      <td>rboumphrey1@google.cn</td>\n",
       "      <td>70</td>\n",
       "      <td>56.0</td>\n",
       "      <td>11</td>\n",
       "      <td>No</td>\n",
       "    </tr>\n",
       "    <tr>\n",
       "      <th>2</th>\n",
       "      <td>3</td>\n",
       "      <td>Ree</td>\n",
       "      <td>Birley</td>\n",
       "      <td>rbirley2@weather.com</td>\n",
       "      <td>90</td>\n",
       "      <td>76.0</td>\n",
       "      <td>98</td>\n",
       "      <td>Yes</td>\n",
       "    </tr>\n",
       "    <tr>\n",
       "      <th>3</th>\n",
       "      <td>4</td>\n",
       "      <td>Jere</td>\n",
       "      <td>Maydwell</td>\n",
       "      <td>jmaydwell3@ed.gov</td>\n",
       "      <td>100</td>\n",
       "      <td>78.4</td>\n",
       "      <td>49</td>\n",
       "      <td>No</td>\n",
       "    </tr>\n",
       "    <tr>\n",
       "      <th>4</th>\n",
       "      <td>5</td>\n",
       "      <td>Mandie</td>\n",
       "      <td>Finding</td>\n",
       "      <td>mfinding4@state.gov</td>\n",
       "      <td>100</td>\n",
       "      <td>20.0</td>\n",
       "      <td>29</td>\n",
       "      <td>No</td>\n",
       "    </tr>\n",
       "  </tbody>\n",
       "</table>\n",
       "</div>"
      ],
      "text/plain": [
       "   id first_name  last_name                  email  quiz_summary  \\\n",
       "0   1      Chase      Burtt        cburtt0@nyu.edu           100   \n",
       "1   2      Rusty  Boumphrey  rboumphrey1@google.cn            70   \n",
       "2   3        Ree     Birley   rbirley2@weather.com            90   \n",
       "3   4       Jere   Maydwell      jmaydwell3@ed.gov           100   \n",
       "4   5     Mandie    Finding    mfinding4@state.gov           100   \n",
       "\n",
       "   assignment_summary  grade_point intermediate_class_eligibility  \n",
       "0                 0.0           80                            Yes  \n",
       "1                56.0           11                             No  \n",
       "2                76.0           98                            Yes  \n",
       "3                78.4           49                             No  \n",
       "4                20.0           29                             No  "
      ]
     },
     "execution_count": 66,
     "metadata": {},
     "output_type": "execute_result"
    }
   ],
   "source": [
    "new_data.head()"
   ]
  },
  {
   "cell_type": "code",
   "execution_count": 67,
   "id": "71f4f481",
   "metadata": {},
   "outputs": [],
   "source": [
    "to_numeric = {'Yes': 1, 'No': 2}\n",
    "#to_numeric"
   ]
  },
  {
   "cell_type": "code",
   "execution_count": 68,
   "id": "a475c55d",
   "metadata": {},
   "outputs": [],
   "source": [
    "new_data = new_data.applymap(lambda lable: to_numeric.get(lable) if lable in to_numeric else lable)"
   ]
  },
  {
   "cell_type": "code",
   "execution_count": 69,
   "id": "2a344534",
   "metadata": {},
   "outputs": [
    {
     "data": {
      "text/html": [
       "<div>\n",
       "<style scoped>\n",
       "    .dataframe tbody tr th:only-of-type {\n",
       "        vertical-align: middle;\n",
       "    }\n",
       "\n",
       "    .dataframe tbody tr th {\n",
       "        vertical-align: top;\n",
       "    }\n",
       "\n",
       "    .dataframe thead th {\n",
       "        text-align: right;\n",
       "    }\n",
       "</style>\n",
       "<table border=\"1\" class=\"dataframe\">\n",
       "  <thead>\n",
       "    <tr style=\"text-align: right;\">\n",
       "      <th></th>\n",
       "      <th>id</th>\n",
       "      <th>first_name</th>\n",
       "      <th>last_name</th>\n",
       "      <th>email</th>\n",
       "      <th>quiz_summary</th>\n",
       "      <th>assignment_summary</th>\n",
       "      <th>grade_point</th>\n",
       "      <th>intermediate_class_eligibility</th>\n",
       "    </tr>\n",
       "  </thead>\n",
       "  <tbody>\n",
       "    <tr>\n",
       "      <th>0</th>\n",
       "      <td>1</td>\n",
       "      <td>Chase</td>\n",
       "      <td>Burtt</td>\n",
       "      <td>cburtt0@nyu.edu</td>\n",
       "      <td>100</td>\n",
       "      <td>0.0</td>\n",
       "      <td>80</td>\n",
       "      <td>1</td>\n",
       "    </tr>\n",
       "    <tr>\n",
       "      <th>1</th>\n",
       "      <td>2</td>\n",
       "      <td>Rusty</td>\n",
       "      <td>Boumphrey</td>\n",
       "      <td>rboumphrey1@google.cn</td>\n",
       "      <td>70</td>\n",
       "      <td>56.0</td>\n",
       "      <td>11</td>\n",
       "      <td>2</td>\n",
       "    </tr>\n",
       "    <tr>\n",
       "      <th>2</th>\n",
       "      <td>3</td>\n",
       "      <td>Ree</td>\n",
       "      <td>Birley</td>\n",
       "      <td>rbirley2@weather.com</td>\n",
       "      <td>90</td>\n",
       "      <td>76.0</td>\n",
       "      <td>98</td>\n",
       "      <td>1</td>\n",
       "    </tr>\n",
       "    <tr>\n",
       "      <th>3</th>\n",
       "      <td>4</td>\n",
       "      <td>Jere</td>\n",
       "      <td>Maydwell</td>\n",
       "      <td>jmaydwell3@ed.gov</td>\n",
       "      <td>100</td>\n",
       "      <td>78.4</td>\n",
       "      <td>49</td>\n",
       "      <td>2</td>\n",
       "    </tr>\n",
       "    <tr>\n",
       "      <th>4</th>\n",
       "      <td>5</td>\n",
       "      <td>Mandie</td>\n",
       "      <td>Finding</td>\n",
       "      <td>mfinding4@state.gov</td>\n",
       "      <td>100</td>\n",
       "      <td>20.0</td>\n",
       "      <td>29</td>\n",
       "      <td>2</td>\n",
       "    </tr>\n",
       "  </tbody>\n",
       "</table>\n",
       "</div>"
      ],
      "text/plain": [
       "   id first_name  last_name                  email  quiz_summary  \\\n",
       "0   1      Chase      Burtt        cburtt0@nyu.edu           100   \n",
       "1   2      Rusty  Boumphrey  rboumphrey1@google.cn            70   \n",
       "2   3        Ree     Birley   rbirley2@weather.com            90   \n",
       "3   4       Jere   Maydwell      jmaydwell3@ed.gov           100   \n",
       "4   5     Mandie    Finding    mfinding4@state.gov           100   \n",
       "\n",
       "   assignment_summary  grade_point  intermediate_class_eligibility  \n",
       "0                 0.0           80                               1  \n",
       "1                56.0           11                               2  \n",
       "2                76.0           98                               1  \n",
       "3                78.4           49                               2  \n",
       "4                20.0           29                               2  "
      ]
     },
     "execution_count": 69,
     "metadata": {},
     "output_type": "execute_result"
    }
   ],
   "source": [
    "new_data.head()"
   ]
  },
  {
   "cell_type": "code",
   "execution_count": 70,
   "id": "0072ff09",
   "metadata": {},
   "outputs": [
    {
     "data": {
      "text/html": [
       "<div>\n",
       "<style scoped>\n",
       "    .dataframe tbody tr th:only-of-type {\n",
       "        vertical-align: middle;\n",
       "    }\n",
       "\n",
       "    .dataframe tbody tr th {\n",
       "        vertical-align: top;\n",
       "    }\n",
       "\n",
       "    .dataframe thead th {\n",
       "        text-align: right;\n",
       "    }\n",
       "</style>\n",
       "<table border=\"1\" class=\"dataframe\">\n",
       "  <thead>\n",
       "    <tr style=\"text-align: right;\">\n",
       "      <th></th>\n",
       "      <th>id</th>\n",
       "      <th>first_name</th>\n",
       "      <th>last_name</th>\n",
       "      <th>email</th>\n",
       "      <th>quiz_summary</th>\n",
       "      <th>assignment_summary</th>\n",
       "      <th>grade_point</th>\n",
       "      <th>intermediate_class_eligibility</th>\n",
       "    </tr>\n",
       "  </thead>\n",
       "  <tbody>\n",
       "    <tr>\n",
       "      <th>0</th>\n",
       "      <td>1</td>\n",
       "      <td>Chase</td>\n",
       "      <td>Burtt</td>\n",
       "      <td>cburtt0@nyu.edu</td>\n",
       "      <td>100</td>\n",
       "      <td>0.0</td>\n",
       "      <td>80</td>\n",
       "      <td>1</td>\n",
       "    </tr>\n",
       "    <tr>\n",
       "      <th>1</th>\n",
       "      <td>2</td>\n",
       "      <td>Rusty</td>\n",
       "      <td>Boumphrey</td>\n",
       "      <td>rboumphrey1@google.cn</td>\n",
       "      <td>70</td>\n",
       "      <td>56.0</td>\n",
       "      <td>11</td>\n",
       "      <td>2</td>\n",
       "    </tr>\n",
       "    <tr>\n",
       "      <th>2</th>\n",
       "      <td>3</td>\n",
       "      <td>Ree</td>\n",
       "      <td>Birley</td>\n",
       "      <td>rbirley2@weather.com</td>\n",
       "      <td>90</td>\n",
       "      <td>76.0</td>\n",
       "      <td>98</td>\n",
       "      <td>1</td>\n",
       "    </tr>\n",
       "    <tr>\n",
       "      <th>3</th>\n",
       "      <td>4</td>\n",
       "      <td>Jere</td>\n",
       "      <td>Maydwell</td>\n",
       "      <td>jmaydwell3@ed.gov</td>\n",
       "      <td>100</td>\n",
       "      <td>78.4</td>\n",
       "      <td>49</td>\n",
       "      <td>2</td>\n",
       "    </tr>\n",
       "    <tr>\n",
       "      <th>4</th>\n",
       "      <td>5</td>\n",
       "      <td>Mandie</td>\n",
       "      <td>Finding</td>\n",
       "      <td>mfinding4@state.gov</td>\n",
       "      <td>100</td>\n",
       "      <td>20.0</td>\n",
       "      <td>29</td>\n",
       "      <td>2</td>\n",
       "    </tr>\n",
       "  </tbody>\n",
       "</table>\n",
       "</div>"
      ],
      "text/plain": [
       "   id first_name  last_name                  email  quiz_summary  \\\n",
       "0   1      Chase      Burtt        cburtt0@nyu.edu           100   \n",
       "1   2      Rusty  Boumphrey  rboumphrey1@google.cn            70   \n",
       "2   3        Ree     Birley   rbirley2@weather.com            90   \n",
       "3   4       Jere   Maydwell      jmaydwell3@ed.gov           100   \n",
       "4   5     Mandie    Finding    mfinding4@state.gov           100   \n",
       "\n",
       "   assignment_summary  grade_point  intermediate_class_eligibility  \n",
       "0                 0.0           80                               1  \n",
       "1                56.0           11                               2  \n",
       "2                76.0           98                               1  \n",
       "3                78.4           49                               2  \n",
       "4                20.0           29                               2  "
      ]
     },
     "execution_count": 70,
     "metadata": {},
     "output_type": "execute_result"
    }
   ],
   "source": [
    "main_data = new_data.copy()\n",
    "main_data.head()"
   ]
  },
  {
   "cell_type": "code",
   "execution_count": 71,
   "id": "726e788d",
   "metadata": {},
   "outputs": [],
   "source": [
    "new_data.drop(['id','first_name', 'last_name', 'email', 'intermediate_class_eligibility'], axis=1, inplace = True)"
   ]
  },
  {
   "cell_type": "code",
   "execution_count": 72,
   "id": "f8d6a8e6",
   "metadata": {},
   "outputs": [
    {
     "data": {
      "text/html": [
       "<div>\n",
       "<style scoped>\n",
       "    .dataframe tbody tr th:only-of-type {\n",
       "        vertical-align: middle;\n",
       "    }\n",
       "\n",
       "    .dataframe tbody tr th {\n",
       "        vertical-align: top;\n",
       "    }\n",
       "\n",
       "    .dataframe thead th {\n",
       "        text-align: right;\n",
       "    }\n",
       "</style>\n",
       "<table border=\"1\" class=\"dataframe\">\n",
       "  <thead>\n",
       "    <tr style=\"text-align: right;\">\n",
       "      <th></th>\n",
       "      <th>quiz_summary</th>\n",
       "      <th>assignment_summary</th>\n",
       "      <th>grade_point</th>\n",
       "    </tr>\n",
       "  </thead>\n",
       "  <tbody>\n",
       "    <tr>\n",
       "      <th>0</th>\n",
       "      <td>100</td>\n",
       "      <td>0.0</td>\n",
       "      <td>80</td>\n",
       "    </tr>\n",
       "    <tr>\n",
       "      <th>1</th>\n",
       "      <td>70</td>\n",
       "      <td>56.0</td>\n",
       "      <td>11</td>\n",
       "    </tr>\n",
       "    <tr>\n",
       "      <th>2</th>\n",
       "      <td>90</td>\n",
       "      <td>76.0</td>\n",
       "      <td>98</td>\n",
       "    </tr>\n",
       "    <tr>\n",
       "      <th>3</th>\n",
       "      <td>100</td>\n",
       "      <td>78.4</td>\n",
       "      <td>49</td>\n",
       "    </tr>\n",
       "    <tr>\n",
       "      <th>4</th>\n",
       "      <td>100</td>\n",
       "      <td>20.0</td>\n",
       "      <td>29</td>\n",
       "    </tr>\n",
       "  </tbody>\n",
       "</table>\n",
       "</div>"
      ],
      "text/plain": [
       "   quiz_summary  assignment_summary  grade_point\n",
       "0           100                 0.0           80\n",
       "1            70                56.0           11\n",
       "2            90                76.0           98\n",
       "3           100                78.4           49\n",
       "4           100                20.0           29"
      ]
     },
     "execution_count": 72,
     "metadata": {},
     "output_type": "execute_result"
    }
   ],
   "source": [
    "new_data.head()"
   ]
  },
  {
   "cell_type": "markdown",
   "id": "f4ba979c",
   "metadata": {},
   "source": [
    "I had an error saying that my column name did not match the one I used in training the model, so I have to rename it from grade_point to grade_point_average so that it will match."
   ]
  },
  {
   "cell_type": "code",
   "execution_count": 73,
   "id": "8b448424",
   "metadata": {},
   "outputs": [],
   "source": [
    "new_data.rename(columns={'grade_point': 'grade_point_average'}, inplace=True)"
   ]
  },
  {
   "cell_type": "code",
   "execution_count": 74,
   "id": "5ae81d1f",
   "metadata": {},
   "outputs": [
    {
     "data": {
      "text/html": [
       "<div>\n",
       "<style scoped>\n",
       "    .dataframe tbody tr th:only-of-type {\n",
       "        vertical-align: middle;\n",
       "    }\n",
       "\n",
       "    .dataframe tbody tr th {\n",
       "        vertical-align: top;\n",
       "    }\n",
       "\n",
       "    .dataframe thead th {\n",
       "        text-align: right;\n",
       "    }\n",
       "</style>\n",
       "<table border=\"1\" class=\"dataframe\">\n",
       "  <thead>\n",
       "    <tr style=\"text-align: right;\">\n",
       "      <th></th>\n",
       "      <th>quiz_summary</th>\n",
       "      <th>assignment_summary</th>\n",
       "      <th>grade_point_average</th>\n",
       "    </tr>\n",
       "  </thead>\n",
       "  <tbody>\n",
       "    <tr>\n",
       "      <th>0</th>\n",
       "      <td>100</td>\n",
       "      <td>0.0</td>\n",
       "      <td>80</td>\n",
       "    </tr>\n",
       "    <tr>\n",
       "      <th>1</th>\n",
       "      <td>70</td>\n",
       "      <td>56.0</td>\n",
       "      <td>11</td>\n",
       "    </tr>\n",
       "    <tr>\n",
       "      <th>2</th>\n",
       "      <td>90</td>\n",
       "      <td>76.0</td>\n",
       "      <td>98</td>\n",
       "    </tr>\n",
       "    <tr>\n",
       "      <th>3</th>\n",
       "      <td>100</td>\n",
       "      <td>78.4</td>\n",
       "      <td>49</td>\n",
       "    </tr>\n",
       "    <tr>\n",
       "      <th>4</th>\n",
       "      <td>100</td>\n",
       "      <td>20.0</td>\n",
       "      <td>29</td>\n",
       "    </tr>\n",
       "  </tbody>\n",
       "</table>\n",
       "</div>"
      ],
      "text/plain": [
       "   quiz_summary  assignment_summary  grade_point_average\n",
       "0           100                 0.0                   80\n",
       "1            70                56.0                   11\n",
       "2            90                76.0                   98\n",
       "3           100                78.4                   49\n",
       "4           100                20.0                   29"
      ]
     },
     "execution_count": 74,
     "metadata": {},
     "output_type": "execute_result"
    }
   ],
   "source": [
    "new_data.head()"
   ]
  },
  {
   "cell_type": "code",
   "execution_count": 75,
   "id": "82f30545",
   "metadata": {},
   "outputs": [],
   "source": [
    "# Load the saved model\n",
    "model = joblib.load('C:/Users/STUTERN/Desktop/Intermediate_project/DT_Model.joblib')\n",
    "\n",
    "# Make a prediction\n",
    "prediction = model.predict(new_data)"
   ]
  },
  {
   "cell_type": "code",
   "execution_count": 76,
   "id": "00fa724e",
   "metadata": {},
   "outputs": [
    {
     "name": "stdout",
     "output_type": "stream",
     "text": [
      "[1 2 1 2 2 1 2 1 1 1 1 1 1 2 1 2 2 1 1 1 1 1 1 2 1 1 2 2 2 1 1 2 1 2 1 1 2\n",
      " 1 1 2 1 1 1 2 2 1 1 1 1 1 2 1 1 1 1 1 2 2 1 1 1 1 2 1 1 1 1 2 1 2 1 1 1 2\n",
      " 2 1 2 2 1 1 2 1 1 1 2 1 1 1 2 2 2 2 2 2 1 1 1 1 2 2 2 1 1 2 1 1 2 2 1 1 2\n",
      " 1 1 1 1 2 1 2 1 1 1 1 1 1 1 1 1 1 1 2 1 2 2 1 1 1 1 2 2 1 2 2 1 1 1 1 1 1\n",
      " 1 1 2 1 2 1 1 1 1 2 1 1 1 1 1 2 1 1 1 1 1 1 1 1 2 1 1 2 1 2 1 2 2 2 1 2 2\n",
      " 2 1 1 1 1 2 1 2 2 1 2 1 2 2 1 2 1 2 1 1 1 2 2 2 1 2 1 1 1 1 2 1 2 2 1 2 1\n",
      " 2 1 2 2 1 1 1 1 1 1 1 1 1 1 1 1 1 1 2 1 1 2 1 2 2 2 1 1 2 1 2 1 2 1 1 2 1\n",
      " 2 2 1 1 2 1 1 1 1 1 1 2 1 2 2 1 1 2 1 1 1 2 1 1 2 2 2 2 2 1 2 2 2 1 1 1 1\n",
      " 1 2 1 1 1 1 1 2 1 2 1 2 1 1 1 2 1 1 1 1 1 1 1 2 2 1 2 1 2 2 2 1 2 2 2 1 1\n",
      " 2 1 1 1 1 2 2 2 1 1 2 1 1 1 1 2 2 1 1 1 1 1 2 1 1 2 2 1 1 2 1 1 1 1 2 2 1\n",
      " 2 1 2 1 1 1 1 1 2 1 2 1 1 1 1 1 1 2 1 1 1 2 2 1 2 1 1 1 1 2 2 1 2 1 1 1 1\n",
      " 1 2 1 2 1 1 1 1 1 1 1 2 1 2 1 1 1 1 1 2 1 1 1 1 1 2 1 2 1 1 1 1 1 1 2 1 2\n",
      " 2 1 1 1 1 1 1 2 1 2 2 2 1 1 2 1 1 1 2 2 1 1 2 2 1 1 1 2 2 1 1 1 2 1 1 1 2\n",
      " 1 2 2 1 2 2 1 1 1 2 1 1 1 1 1 2 1 2 2 1 2 2 2 1 1 2 2 1 1 2 2 1 1 2 2 2 1\n",
      " 2 2 1 2 1 1 1 1 2 1 1 1 2 1 1 2 1 1 2 2 2 1 1 1 1 2 1 2 1 1 1 1 2 1 1 1 1\n",
      " 1 2 1 1 1 1 2 1 2 1 2 1 2 1 1 2 1 2 2 1 2 2 2 2 1 2 1 1 1 1 1 1 1 1 2 1 2\n",
      " 1 1 2 1 2 1 1 1 1 1 1 1 2 1 2 2 1 1 1 1 2 1 2 1 2 2 1 2 1 2 2 1 1 2 2 1 1\n",
      " 1 2 1 1 1 2 2 2 1 2 1 1 1 2 2 1 1 1 2 1 1 1 2 1 1 2 2 2 2 2 2 1 1 2 2 1 1\n",
      " 2 1 1 2 2 1 2 1 2 1 2 2 1 1 1 1 1 1 2 2 1 1 1 1 1 1 2 1 1 1 1 1 1 2 2 1 1\n",
      " 1 1 2 2 1 1 1 2 2 2 1 1 1 2 2 2 1 1 2 2 1 1 1 2 1 1 1 1 2 2 2 1 1 1 1 2 1\n",
      " 1 2 1 1 2 1 1 2 1 1 1 2 1 1 1 2 1 2 1 1 1 1 2 1 1 2 2 1 1 1 1 1 1 1 2 2 2\n",
      " 1 2 2 2 2 1 1 1 2 2 1 1 2 2 2 2 1 1 1 1 1 1 2 1 2 1 2 1 1 1 2 2 2 1 2 1 1\n",
      " 1 1 2 2 2 1 2 1 2 1 1 1 1 2 1 1 2 1 1 2 2 1 2 1 1 1 1 1 2 1 1 1 1 1 1 2 1\n",
      " 1 1 2 1 1 2 1 2 1 1 2 1 2 1 1 2 1 1 1 1 1 1 1 1 2 1 1 1 1 1 1 2 2 1 2 1 1\n",
      " 2 1 1 1 2 2 1 1 2 1 1 2 2 1 2 1 1 1 2 1 1 1 1 1 1 1 2 1 1 1 2 2 1 1 1 2 2\n",
      " 2 2 2 1 1 1 1 1 1 1 1 1 2 2 2 1 1 1 2 1 2 1 2 2 1 2 2 1 1 1 1 1 1 1 2 1 1\n",
      " 1 1 1 1 2 1 2 1 1 1 2 1 1 1 1 1 1 2 2 1 1 1 1 2 1 1 2 2 1 1 1 1 2 2 1 1 2\n",
      " 2]\n"
     ]
    }
   ],
   "source": [
    "print(prediction)"
   ]
  },
  {
   "cell_type": "code",
   "execution_count": 79,
   "id": "8d8bf698",
   "metadata": {},
   "outputs": [
    {
     "name": "stdout",
     "output_type": "stream",
     "text": [
      "[1, 2, 1, 2, 2, 1, 2, 1, 1, 1, 1, 1, 1, 2, 1, 2, 2, 1, 1, 1, 1, 1, 1, 2, 1, 1, 2, 2, 2, 1, 1, 2, 1, 2, 1, 1, 2, 1, 1, 2, 1, 1, 1, 2, 2, 1, 1, 1, 1, 1, 2, 1, 1, 1, 1, 1, 2, 2, 1, 1, 1, 1, 2, 1, 1, 1, 1, 2, 1, 2, 1, 1, 1, 2, 2, 1, 2, 2, 1, 1, 2, 1, 1, 1, 2, 1, 1, 1, 2, 2, 2, 2, 2, 2, 1, 1, 1, 1, 2, 2, 2, 1, 1, 2, 1, 1, 2, 2, 1, 1, 2, 1, 1, 1, 1, 2, 1, 2, 1, 1, 1, 1, 1, 1, 1, 1, 1, 1, 1, 2, 1, 2, 2, 1, 1, 1, 1, 2, 2, 1, 2, 2, 1, 1, 1, 1, 1, 1, 1, 1, 2, 1, 2, 1, 1, 1, 1, 2, 1, 1, 1, 1, 1, 2, 1, 1, 1, 1, 1, 1, 1, 1, 2, 1, 1, 2, 1, 2, 1, 2, 2, 2, 1, 2, 2, 2, 1, 1, 1, 1, 2, 1, 2, 2, 1, 2, 1, 2, 2, 1, 2, 1, 2, 1, 1, 1, 2, 2, 2, 1, 2, 1, 1, 1, 1, 2, 1, 2, 2, 1, 2, 1, 2, 1, 2, 2, 1, 1, 1, 1, 1, 1, 1, 1, 1, 1, 1, 1, 1, 1, 2, 1, 1, 2, 1, 2, 2, 2, 1, 1, 2, 1, 2, 1, 2, 1, 1, 2, 1, 2, 2, 1, 1, 2, 1, 1, 1, 1, 1, 1, 2, 1, 2, 2, 1, 1, 2, 1, 1, 1, 2, 1, 1, 2, 2, 2, 2, 2, 1, 2, 2, 2, 1, 1, 1, 1, 1, 2, 1, 1, 1, 1, 1, 2, 1, 2, 1, 2, 1, 1, 1, 2, 1, 1, 1, 1, 1, 1, 1, 2, 2, 1, 2, 1, 2, 2, 2, 1, 2, 2, 2, 1, 1, 2, 1, 1, 1, 1, 2, 2, 2, 1, 1, 2, 1, 1, 1, 1, 2, 2, 1, 1, 1, 1, 1, 2, 1, 1, 2, 2, 1, 1, 2, 1, 1, 1, 1, 2, 2, 1, 2, 1, 2, 1, 1, 1, 1, 1, 2, 1, 2, 1, 1, 1, 1, 1, 1, 2, 1, 1, 1, 2, 2, 1, 2, 1, 1, 1, 1, 2, 2, 1, 2, 1, 1, 1, 1, 1, 2, 1, 2, 1, 1, 1, 1, 1, 1, 1, 2, 1, 2, 1, 1, 1, 1, 1, 2, 1, 1, 1, 1, 1, 2, 1, 2, 1, 1, 1, 1, 1, 1, 2, 1, 2, 2, 1, 1, 1, 1, 1, 1, 2, 1, 2, 2, 2, 1, 1, 2, 1, 1, 1, 2, 2, 1, 1, 2, 2, 1, 1, 1, 2, 2, 1, 1, 1, 2, 1, 1, 1, 2, 1, 2, 2, 1, 2, 2, 1, 1, 1, 2, 1, 1, 1, 1, 1, 2, 1, 2, 2, 1, 2, 2, 2, 1, 1, 2, 2, 1, 1, 2, 2, 1, 1, 2, 2, 2, 1, 2, 2, 1, 2, 1, 1, 1, 1, 2, 1, 1, 1, 2, 1, 1, 2, 1, 1, 2, 2, 2, 1, 1, 1, 1, 2, 1, 2, 1, 1, 1, 1, 2, 1, 1, 1, 1, 1, 2, 1, 1, 1, 1, 2, 1, 2, 1, 2, 1, 2, 1, 1, 2, 1, 2, 2, 1, 2, 2, 2, 2, 1, 2, 1, 1, 1, 1, 1, 1, 1, 1, 2, 1, 2, 1, 1, 2, 1, 2, 1, 1, 1, 1, 1, 1, 1, 2, 1, 2, 2, 1, 1, 1, 1, 2, 1, 2, 1, 2, 2, 1, 2, 1, 2, 2, 1, 1, 2, 2, 1, 1, 1, 2, 1, 1, 1, 2, 2, 2, 1, 2, 1, 1, 1, 2, 2, 1, 1, 1, 2, 1, 1, 1, 2, 1, 1, 2, 2, 2, 2, 2, 2, 1, 1, 2, 2, 1, 1, 2, 1, 1, 2, 2, 1, 2, 1, 2, 1, 2, 2, 1, 1, 1, 1, 1, 1, 2, 2, 1, 1, 1, 1, 1, 1, 2, 1, 1, 1, 1, 1, 1, 2, 2, 1, 1, 1, 1, 2, 2, 1, 1, 1, 2, 2, 2, 1, 1, 1, 2, 2, 2, 1, 1, 2, 2, 1, 1, 1, 2, 1, 1, 1, 1, 2, 2, 2, 1, 1, 1, 1, 2, 1, 1, 2, 1, 1, 2, 1, 1, 2, 1, 1, 1, 2, 1, 1, 1, 2, 1, 2, 1, 1, 1, 1, 2, 1, 1, 2, 2, 1, 1, 1, 1, 1, 1, 1, 2, 2, 2, 1, 2, 2, 2, 2, 1, 1, 1, 2, 2, 1, 1, 2, 2, 2, 2, 1, 1, 1, 1, 1, 1, 2, 1, 2, 1, 2, 1, 1, 1, 2, 2, 2, 1, 2, 1, 1, 1, 1, 2, 2, 2, 1, 2, 1, 2, 1, 1, 1, 1, 2, 1, 1, 2, 1, 1, 2, 2, 1, 2, 1, 1, 1, 1, 1, 2, 1, 1, 1, 1, 1, 1, 2, 1, 1, 1, 2, 1, 1, 2, 1, 2, 1, 1, 2, 1, 2, 1, 1, 2, 1, 1, 1, 1, 1, 1, 1, 1, 2, 1, 1, 1, 1, 1, 1, 2, 2, 1, 2, 1, 1, 2, 1, 1, 1, 2, 2, 1, 1, 2, 1, 1, 2, 2, 1, 2, 1, 1, 1, 2, 1, 1, 1, 1, 1, 1, 1, 2, 1, 1, 1, 2, 2, 1, 1, 1, 2, 2, 2, 2, 2, 1, 1, 1, 1, 1, 1, 1, 1, 1, 2, 2, 2, 1, 1, 1, 2, 1, 2, 1, 2, 2, 1, 2, 2, 1, 1, 1, 1, 1, 1, 1, 2, 1, 1, 1, 1, 1, 1, 2, 1, 2, 1, 1, 1, 2, 1, 1, 1, 1, 1, 1, 2, 2, 1, 1, 1, 1, 2, 1, 1, 2, 2, 1, 1, 1, 1, 2, 2, 1, 1, 2, 2]\n"
     ]
    }
   ],
   "source": [
    "# convert the 'intermediate_class_eligibility' column into a list so I can fully view and compare the result\n",
    "eligibility_list = main_data['intermediate_class_eligibility'].tolist()\n",
    "\n",
    "# print the list\n",
    "print(eligibility_list)"
   ]
  },
  {
   "cell_type": "code",
   "execution_count": 80,
   "id": "0add4a3d",
   "metadata": {},
   "outputs": [
    {
     "name": "stdout",
     "output_type": "stream",
     "text": [
      "[1 2 1 2 2 1 2 1 1 1 1 1 1 2 1 2 2 1 1 1 1 1 1 2 1 1 2 2 2 1 1 2 1 2 1 1 2\n",
      " 1 1 2 1 1 1 2 2 1 1 1 1 1 2 1 1 1 1 1 2 2 1 1 1 1 2 1 1 1 1 2 1 2 1 1 1 2\n",
      " 2 1 2 2 1 1 2 1 1 1 2 1 1 1 2 2 2 2 2 2 1 1 1 1 2 2 2 1 1 2 1 1 2 2 1 1 2\n",
      " 1 1 1 1 2 1 2 1 1 1 1 1 1 1 1 1 1 1 2 1 2 2 1 1 1 1 2 2 1 2 2 1 1 1 1 1 1\n",
      " 1 1 2 1 2 1 1 1 1 2 1 1 1 1 1 2 1 1 1 1 1 1 1 1 2 1 1 2 1 2 1 2 2 2 1 2 2\n",
      " 2 1 1 1 1 2 1 2 2 1 2 1 2 2 1 2 1 2 1 1 1 2 2 2 1 2 1 1 1 1 2 1 2 2 1 2 1\n",
      " 2 1 2 2 1 1 1 1 1 1 1 1 1 1 1 1 1 1 2 1 1 2 1 2 2 2 1 1 2 1 2 1 2 1 1 2 1\n",
      " 2 2 1 1 2 1 1 1 1 1 1 2 1 2 2 1 1 2 1 1 1 2 1 1 2 2 2 2 2 1 2 2 2 1 1 1 1\n",
      " 1 2 1 1 1 1 1 2 1 2 1 2 1 1 1 2 1 1 1 1 1 1 1 2 2 1 2 1 2 2 2 1 2 2 2 1 1\n",
      " 2 1 1 1 1 2 2 2 1 1 2 1 1 1 1 2 2 1 1 1 1 1 2 1 1 2 2 1 1 2 1 1 1 1 2 2 1\n",
      " 2 1 2 1 1 1 1 1 2 1 2 1 1 1 1 1 1 2 1 1 1 2 2 1 2 1 1 1 1 2 2 1 2 1 1 1 1\n",
      " 1 2 1 2 1 1 1 1 1 1 1 2 1 2 1 1 1 1 1 2 1 1 1 1 1 2 1 2 1 1 1 1 1 1 2 1 2\n",
      " 2 1 1 1 1 1 1 2 1 2 2 2 1 1 2 1 1 1 2 2 1 1 2 2 1 1 1 2 2 1 1 1 2 1 1 1 2\n",
      " 1 2 2 1 2 2 1 1 1 2 1 1 1 1 1 2 1 2 2 1 2 2 2 1 1 2 2 1 1 2 2 1 1 2 2 2 1\n",
      " 2 2 1 2 1 1 1 1 2 1 1 1 2 1 1 2 1 1 2 2 2 1 1 1 1 2 1 2 1 1 1 1 2 1 1 1 1\n",
      " 1 2 1 1 1 1 2 1 2 1 2 1 2 1 1 2 1 2 2 1 2 2 2 2 1 2 1 1 1 1 1 1 1 1 2 1 2\n",
      " 1 1 2 1 2 1 1 1 1 1 1 1 2 1 2 2 1 1 1 1 2 1 2 1 2 2 1 2 1 2 2 1 1 2 2 1 1\n",
      " 1 2 1 1 1 2 2 2 1 2 1 1 1 2 2 1 1 1 2 1 1 1 2 1 1 2 2 2 2 2 2 1 1 2 2 1 1\n",
      " 2 1 1 2 2 1 2 1 2 1 2 2 1 1 1 1 1 1 2 2 1 1 1 1 1 1 2 1 1 1 1 1 1 2 2 1 1\n",
      " 1 1 2 2 1 1 1 2 2 2 1 1 1 2 2 2 1 1 2 2 1 1 1 2 1 1 1 1 2 2 2 1 1 1 1 2 1\n",
      " 1 2 1 1 2 1 1 2 1 1 1 2 1 1 1 2 1 2 1 1 1 1 2 1 1 2 2 1 1 1 1 1 1 1 2 2 2\n",
      " 1 2 2 2 2 1 1 1 2 2 1 1 2 2 2 2 1 1 1 1 1 1 2 1 2 1 2 1 1 1 2 2 2 1 2 1 1\n",
      " 1 1 2 2 2 1 2 1 2 1 1 1 1 2 1 1 2 1 1 2 2 1 2 1 1 1 1 1 2 1 1 1 1 1 1 2 1\n",
      " 1 1 2 1 1 2 1 2 1 1 2 1 2 1 1 2 1 1 1 1 1 1 1 1 2 1 1 1 1 1 1 2 2 1 2 1 1\n",
      " 2 1 1 1 2 2 1 1 2 1 1 2 2 1 2 1 1 1 2 1 1 1 1 1 1 1 2 1 1 1 2 2 1 1 1 2 2\n",
      " 2 2 2 1 1 1 1 1 1 1 1 1 2 2 2 1 1 1 2 1 2 1 2 2 1 2 2 1 1 1 1 1 1 1 2 1 1\n",
      " 1 1 1 1 2 1 2 1 1 1 2 1 1 1 1 1 1 2 2 1 1 1 1 2 1 1 2 2 1 1 1 1 2 2 1 1 2\n",
      " 2]\n",
      "[1, 2, 1, 2, 2, 1, 2, 1, 1, 1, 1, 1, 1, 2, 1, 2, 2, 1, 1, 1, 1, 1, 1, 2, 1, 1, 2, 2, 2, 1, 1, 2, 1, 2, 1, 1, 2, 1, 1, 2, 1, 1, 1, 2, 2, 1, 1, 1, 1, 1, 2, 1, 1, 1, 1, 1, 2, 2, 1, 1, 1, 1, 2, 1, 1, 1, 1, 2, 1, 2, 1, 1, 1, 2, 2, 1, 2, 2, 1, 1, 2, 1, 1, 1, 2, 1, 1, 1, 2, 2, 2, 2, 2, 2, 1, 1, 1, 1, 2, 2, 2, 1, 1, 2, 1, 1, 2, 2, 1, 1, 2, 1, 1, 1, 1, 2, 1, 2, 1, 1, 1, 1, 1, 1, 1, 1, 1, 1, 1, 2, 1, 2, 2, 1, 1, 1, 1, 2, 2, 1, 2, 2, 1, 1, 1, 1, 1, 1, 1, 1, 2, 1, 2, 1, 1, 1, 1, 2, 1, 1, 1, 1, 1, 2, 1, 1, 1, 1, 1, 1, 1, 1, 2, 1, 1, 2, 1, 2, 1, 2, 2, 2, 1, 2, 2, 2, 1, 1, 1, 1, 2, 1, 2, 2, 1, 2, 1, 2, 2, 1, 2, 1, 2, 1, 1, 1, 2, 2, 2, 1, 2, 1, 1, 1, 1, 2, 1, 2, 2, 1, 2, 1, 2, 1, 2, 2, 1, 1, 1, 1, 1, 1, 1, 1, 1, 1, 1, 1, 1, 1, 2, 1, 1, 2, 1, 2, 2, 2, 1, 1, 2, 1, 2, 1, 2, 1, 1, 2, 1, 2, 2, 1, 1, 2, 1, 1, 1, 1, 1, 1, 2, 1, 2, 2, 1, 1, 2, 1, 1, 1, 2, 1, 1, 2, 2, 2, 2, 2, 1, 2, 2, 2, 1, 1, 1, 1, 1, 2, 1, 1, 1, 1, 1, 2, 1, 2, 1, 2, 1, 1, 1, 2, 1, 1, 1, 1, 1, 1, 1, 2, 2, 1, 2, 1, 2, 2, 2, 1, 2, 2, 2, 1, 1, 2, 1, 1, 1, 1, 2, 2, 2, 1, 1, 2, 1, 1, 1, 1, 2, 2, 1, 1, 1, 1, 1, 2, 1, 1, 2, 2, 1, 1, 2, 1, 1, 1, 1, 2, 2, 1, 2, 1, 2, 1, 1, 1, 1, 1, 2, 1, 2, 1, 1, 1, 1, 1, 1, 2, 1, 1, 1, 2, 2, 1, 2, 1, 1, 1, 1, 2, 2, 1, 2, 1, 1, 1, 1, 1, 2, 1, 2, 1, 1, 1, 1, 1, 1, 1, 2, 1, 2, 1, 1, 1, 1, 1, 2, 1, 1, 1, 1, 1, 2, 1, 2, 1, 1, 1, 1, 1, 1, 2, 1, 2, 2, 1, 1, 1, 1, 1, 1, 2, 1, 2, 2, 2, 1, 1, 2, 1, 1, 1, 2, 2, 1, 1, 2, 2, 1, 1, 1, 2, 2, 1, 1, 1, 2, 1, 1, 1, 2, 1, 2, 2, 1, 2, 2, 1, 1, 1, 2, 1, 1, 1, 1, 1, 2, 1, 2, 2, 1, 2, 2, 2, 1, 1, 2, 2, 1, 1, 2, 2, 1, 1, 2, 2, 2, 1, 2, 2, 1, 2, 1, 1, 1, 1, 2, 1, 1, 1, 2, 1, 1, 2, 1, 1, 2, 2, 2, 1, 1, 1, 1, 2, 1, 2, 1, 1, 1, 1, 2, 1, 1, 1, 1, 1, 2, 1, 1, 1, 1, 2, 1, 2, 1, 2, 1, 2, 1, 1, 2, 1, 2, 2, 1, 2, 2, 2, 2, 1, 2, 1, 1, 1, 1, 1, 1, 1, 1, 2, 1, 2, 1, 1, 2, 1, 2, 1, 1, 1, 1, 1, 1, 1, 2, 1, 2, 2, 1, 1, 1, 1, 2, 1, 2, 1, 2, 2, 1, 2, 1, 2, 2, 1, 1, 2, 2, 1, 1, 1, 2, 1, 1, 1, 2, 2, 2, 1, 2, 1, 1, 1, 2, 2, 1, 1, 1, 2, 1, 1, 1, 2, 1, 1, 2, 2, 2, 2, 2, 2, 1, 1, 2, 2, 1, 1, 2, 1, 1, 2, 2, 1, 2, 1, 2, 1, 2, 2, 1, 1, 1, 1, 1, 1, 2, 2, 1, 1, 1, 1, 1, 1, 2, 1, 1, 1, 1, 1, 1, 2, 2, 1, 1, 1, 1, 2, 2, 1, 1, 1, 2, 2, 2, 1, 1, 1, 2, 2, 2, 1, 1, 2, 2, 1, 1, 1, 2, 1, 1, 1, 1, 2, 2, 2, 1, 1, 1, 1, 2, 1, 1, 2, 1, 1, 2, 1, 1, 2, 1, 1, 1, 2, 1, 1, 1, 2, 1, 2, 1, 1, 1, 1, 2, 1, 1, 2, 2, 1, 1, 1, 1, 1, 1, 1, 2, 2, 2, 1, 2, 2, 2, 2, 1, 1, 1, 2, 2, 1, 1, 2, 2, 2, 2, 1, 1, 1, 1, 1, 1, 2, 1, 2, 1, 2, 1, 1, 1, 2, 2, 2, 1, 2, 1, 1, 1, 1, 2, 2, 2, 1, 2, 1, 2, 1, 1, 1, 1, 2, 1, 1, 2, 1, 1, 2, 2, 1, 2, 1, 1, 1, 1, 1, 2, 1, 1, 1, 1, 1, 1, 2, 1, 1, 1, 2, 1, 1, 2, 1, 2, 1, 1, 2, 1, 2, 1, 1, 2, 1, 1, 1, 1, 1, 1, 1, 1, 2, 1, 1, 1, 1, 1, 1, 2, 2, 1, 2, 1, 1, 2, 1, 1, 1, 2, 2, 1, 1, 2, 1, 1, 2, 2, 1, 2, 1, 1, 1, 2, 1, 1, 1, 1, 1, 1, 1, 2, 1, 1, 1, 2, 2, 1, 1, 1, 2, 2, 2, 2, 2, 1, 1, 1, 1, 1, 1, 1, 1, 1, 2, 2, 2, 1, 1, 1, 2, 1, 2, 1, 2, 2, 1, 2, 2, 1, 1, 1, 1, 1, 1, 1, 2, 1, 1, 1, 1, 1, 1, 2, 1, 2, 1, 1, 1, 2, 1, 1, 1, 1, 1, 1, 2, 2, 1, 1, 1, 1, 2, 1, 1, 2, 2, 1, 1, 1, 1, 2, 2, 1, 1, 2, 2]\n"
     ]
    },
    {
     "data": {
      "text/plain": [
       "(None, None)"
      ]
     },
     "execution_count": 80,
     "metadata": {},
     "output_type": "execute_result"
    }
   ],
   "source": [
    "print(prediction), print(eligibility_list)"
   ]
  },
  {
   "cell_type": "markdown",
   "id": "64a4c55c",
   "metadata": {},
   "source": [
    "checking for Neural Network Model"
   ]
  },
  {
   "cell_type": "code",
   "execution_count": 82,
   "id": "607c1492",
   "metadata": {},
   "outputs": [],
   "source": [
    "# Load the saved model\n",
    "model = joblib.load('C:/Users/STUTERN/Desktop/Intermediate_project/NN_Model.joblib')\n",
    "\n",
    "# Make a prediction\n",
    "prediction = model.predict(new_data)"
   ]
  },
  {
   "cell_type": "code",
   "execution_count": 84,
   "id": "77e9f8fe",
   "metadata": {},
   "outputs": [
    {
     "name": "stdout",
     "output_type": "stream",
     "text": [
      "[1 2 1 2 2 1 2 1 1 1 1 1 1 2 1 2 2 2 1 1 1 1 1 2 1 1 2 2 2 2 2 2 1 2 1 1 2\n",
      " 1 1 2 2 1 1 2 2 1 1 1 1 1 2 1 1 1 1 1 2 2 1 1 1 1 2 1 1 1 1 2 1 2 1 1 1 2\n",
      " 2 1 2 2 1 1 2 1 1 1 2 1 1 1 2 2 2 2 2 2 1 1 1 1 2 2 2 1 2 2 1 1 2 2 2 1 2\n",
      " 1 1 1 1 2 1 2 1 1 1 1 1 1 1 1 1 1 2 2 1 2 2 1 1 1 1 2 2 1 2 2 1 2 1 1 1 1\n",
      " 1 2 2 1 2 1 1 1 2 2 1 1 1 1 1 2 1 1 1 1 1 1 2 1 2 1 1 2 1 2 1 1 2 2 1 2 2\n",
      " 2 1 1 1 1 2 2 2 2 1 2 1 2 2 1 2 1 2 1 1 2 1 2 2 1 2 1 1 1 1 2 1 2 2 1 2 1\n",
      " 2 1 2 2 1 1 1 1 1 1 2 1 1 1 1 1 1 1 2 1 1 2 1 2 2 2 1 1 2 1 2 1 2 1 1 2 1\n",
      " 2 2 1 1 2 1 1 2 1 1 1 2 1 2 2 1 2 2 1 1 1 2 1 2 2 2 2 2 2 1 2 2 2 1 1 1 1\n",
      " 1 2 2 1 2 1 1 2 2 2 1 2 1 1 1 2 1 1 1 1 1 2 1 2 2 1 2 1 1 2 2 1 2 2 2 1 1\n",
      " 2 2 1 1 1 2 2 2 1 1 2 1 1 1 1 2 2 1 1 1 1 2 2 1 1 2 2 1 1 2 1 2 2 1 2 2 1\n",
      " 2 2 2 1 1 1 1 1 2 1 2 1 1 1 1 1 1 2 1 1 1 2 2 1 1 1 1 1 1 2 2 1 2 1 1 2 2\n",
      " 1 2 1 2 1 1 2 1 1 1 1 2 1 2 1 1 1 1 1 2 1 2 1 1 1 2 1 2 1 1 1 1 1 1 2 1 2\n",
      " 2 1 1 1 1 1 1 2 2 2 2 2 1 1 2 1 1 2 2 2 1 1 2 2 1 1 1 2 2 1 1 1 2 1 1 2 2\n",
      " 1 2 2 1 2 2 1 1 2 1 1 1 1 1 1 2 1 2 2 1 2 2 2 1 2 2 2 1 1 2 2 1 1 2 2 2 2\n",
      " 2 2 1 2 2 2 1 1 2 1 1 1 2 1 1 2 1 1 2 2 2 1 1 1 1 2 1 2 1 1 1 1 2 1 1 1 1\n",
      " 1 2 1 1 1 1 2 1 2 1 2 1 2 1 1 2 1 2 2 1 2 2 2 2 1 2 1 1 1 1 1 1 2 1 2 1 2\n",
      " 1 1 2 1 2 1 1 1 1 1 1 1 2 1 1 1 1 1 1 2 1 1 2 1 2 2 1 2 1 2 2 1 2 2 2 1 2\n",
      " 2 2 1 1 1 1 2 2 1 2 2 2 1 2 2 1 1 1 2 1 1 1 2 1 1 2 2 2 2 2 2 1 1 2 2 1 2\n",
      " 2 1 1 2 2 2 1 1 2 2 2 2 1 2 1 1 1 2 2 1 1 1 1 1 1 1 2 1 1 1 1 1 1 2 2 1 1\n",
      " 1 2 2 2 1 1 1 2 2 2 2 1 1 2 2 2 1 1 2 2 1 1 1 2 1 1 1 1 2 2 2 1 1 1 1 2 1\n",
      " 1 2 1 1 2 1 1 2 1 1 1 2 1 1 1 2 1 2 2 1 1 1 2 1 2 2 2 1 1 1 1 2 1 1 2 2 2\n",
      " 1 2 2 2 2 1 1 2 2 2 1 1 2 2 2 2 1 1 1 1 1 1 2 1 2 2 2 1 1 1 2 2 2 1 2 1 2\n",
      " 1 1 2 2 2 1 2 1 2 1 1 1 1 2 1 1 2 1 2 2 2 1 2 2 2 1 1 1 2 2 1 1 1 1 1 2 1\n",
      " 1 1 1 2 1 2 1 2 1 1 2 1 2 1 1 2 1 1 1 1 1 1 1 1 2 1 1 1 1 1 1 2 1 1 2 1 1\n",
      " 2 1 2 1 2 2 1 1 2 1 1 2 2 1 2 1 2 1 2 1 2 2 1 2 1 1 2 1 1 1 2 2 1 1 1 2 2\n",
      " 2 2 2 1 2 1 1 1 1 1 1 1 1 2 2 1 1 1 2 1 2 2 2 2 1 2 2 1 1 1 1 1 2 2 2 1 1\n",
      " 1 1 1 1 2 2 2 1 1 1 2 1 1 1 1 1 1 2 2 1 1 1 1 2 1 1 2 2 1 1 1 1 1 2 2 1 2\n",
      " 2]\n",
      "[1, 2, 1, 2, 2, 1, 2, 1, 1, 1, 1, 1, 1, 2, 1, 2, 2, 1, 1, 1, 1, 1, 1, 2, 1, 1, 2, 2, 2, 1, 1, 2, 1, 2, 1, 1, 2, 1, 1, 2, 1, 1, 1, 2, 2, 1, 1, 1, 1, 1, 2, 1, 1, 1, 1, 1, 2, 2, 1, 1, 1, 1, 2, 1, 1, 1, 1, 2, 1, 2, 1, 1, 1, 2, 2, 1, 2, 2, 1, 1, 2, 1, 1, 1, 2, 1, 1, 1, 2, 2, 2, 2, 2, 2, 1, 1, 1, 1, 2, 2, 2, 1, 1, 2, 1, 1, 2, 2, 1, 1, 2, 1, 1, 1, 1, 2, 1, 2, 1, 1, 1, 1, 1, 1, 1, 1, 1, 1, 1, 2, 1, 2, 2, 1, 1, 1, 1, 2, 2, 1, 2, 2, 1, 1, 1, 1, 1, 1, 1, 1, 2, 1, 2, 1, 1, 1, 1, 2, 1, 1, 1, 1, 1, 2, 1, 1, 1, 1, 1, 1, 1, 1, 2, 1, 1, 2, 1, 2, 1, 2, 2, 2, 1, 2, 2, 2, 1, 1, 1, 1, 2, 1, 2, 2, 1, 2, 1, 2, 2, 1, 2, 1, 2, 1, 1, 1, 2, 2, 2, 1, 2, 1, 1, 1, 1, 2, 1, 2, 2, 1, 2, 1, 2, 1, 2, 2, 1, 1, 1, 1, 1, 1, 1, 1, 1, 1, 1, 1, 1, 1, 2, 1, 1, 2, 1, 2, 2, 2, 1, 1, 2, 1, 2, 1, 2, 1, 1, 2, 1, 2, 2, 1, 1, 2, 1, 1, 1, 1, 1, 1, 2, 1, 2, 2, 1, 1, 2, 1, 1, 1, 2, 1, 1, 2, 2, 2, 2, 2, 1, 2, 2, 2, 1, 1, 1, 1, 1, 2, 1, 1, 1, 1, 1, 2, 1, 2, 1, 2, 1, 1, 1, 2, 1, 1, 1, 1, 1, 1, 1, 2, 2, 1, 2, 1, 2, 2, 2, 1, 2, 2, 2, 1, 1, 2, 1, 1, 1, 1, 2, 2, 2, 1, 1, 2, 1, 1, 1, 1, 2, 2, 1, 1, 1, 1, 1, 2, 1, 1, 2, 2, 1, 1, 2, 1, 1, 1, 1, 2, 2, 1, 2, 1, 2, 1, 1, 1, 1, 1, 2, 1, 2, 1, 1, 1, 1, 1, 1, 2, 1, 1, 1, 2, 2, 1, 2, 1, 1, 1, 1, 2, 2, 1, 2, 1, 1, 1, 1, 1, 2, 1, 2, 1, 1, 1, 1, 1, 1, 1, 2, 1, 2, 1, 1, 1, 1, 1, 2, 1, 1, 1, 1, 1, 2, 1, 2, 1, 1, 1, 1, 1, 1, 2, 1, 2, 2, 1, 1, 1, 1, 1, 1, 2, 1, 2, 2, 2, 1, 1, 2, 1, 1, 1, 2, 2, 1, 1, 2, 2, 1, 1, 1, 2, 2, 1, 1, 1, 2, 1, 1, 1, 2, 1, 2, 2, 1, 2, 2, 1, 1, 1, 2, 1, 1, 1, 1, 1, 2, 1, 2, 2, 1, 2, 2, 2, 1, 1, 2, 2, 1, 1, 2, 2, 1, 1, 2, 2, 2, 1, 2, 2, 1, 2, 1, 1, 1, 1, 2, 1, 1, 1, 2, 1, 1, 2, 1, 1, 2, 2, 2, 1, 1, 1, 1, 2, 1, 2, 1, 1, 1, 1, 2, 1, 1, 1, 1, 1, 2, 1, 1, 1, 1, 2, 1, 2, 1, 2, 1, 2, 1, 1, 2, 1, 2, 2, 1, 2, 2, 2, 2, 1, 2, 1, 1, 1, 1, 1, 1, 1, 1, 2, 1, 2, 1, 1, 2, 1, 2, 1, 1, 1, 1, 1, 1, 1, 2, 1, 2, 2, 1, 1, 1, 1, 2, 1, 2, 1, 2, 2, 1, 2, 1, 2, 2, 1, 1, 2, 2, 1, 1, 1, 2, 1, 1, 1, 2, 2, 2, 1, 2, 1, 1, 1, 2, 2, 1, 1, 1, 2, 1, 1, 1, 2, 1, 1, 2, 2, 2, 2, 2, 2, 1, 1, 2, 2, 1, 1, 2, 1, 1, 2, 2, 1, 2, 1, 2, 1, 2, 2, 1, 1, 1, 1, 1, 1, 2, 2, 1, 1, 1, 1, 1, 1, 2, 1, 1, 1, 1, 1, 1, 2, 2, 1, 1, 1, 1, 2, 2, 1, 1, 1, 2, 2, 2, 1, 1, 1, 2, 2, 2, 1, 1, 2, 2, 1, 1, 1, 2, 1, 1, 1, 1, 2, 2, 2, 1, 1, 1, 1, 2, 1, 1, 2, 1, 1, 2, 1, 1, 2, 1, 1, 1, 2, 1, 1, 1, 2, 1, 2, 1, 1, 1, 1, 2, 1, 1, 2, 2, 1, 1, 1, 1, 1, 1, 1, 2, 2, 2, 1, 2, 2, 2, 2, 1, 1, 1, 2, 2, 1, 1, 2, 2, 2, 2, 1, 1, 1, 1, 1, 1, 2, 1, 2, 1, 2, 1, 1, 1, 2, 2, 2, 1, 2, 1, 1, 1, 1, 2, 2, 2, 1, 2, 1, 2, 1, 1, 1, 1, 2, 1, 1, 2, 1, 1, 2, 2, 1, 2, 1, 1, 1, 1, 1, 2, 1, 1, 1, 1, 1, 1, 2, 1, 1, 1, 2, 1, 1, 2, 1, 2, 1, 1, 2, 1, 2, 1, 1, 2, 1, 1, 1, 1, 1, 1, 1, 1, 2, 1, 1, 1, 1, 1, 1, 2, 2, 1, 2, 1, 1, 2, 1, 1, 1, 2, 2, 1, 1, 2, 1, 1, 2, 2, 1, 2, 1, 1, 1, 2, 1, 1, 1, 1, 1, 1, 1, 2, 1, 1, 1, 2, 2, 1, 1, 1, 2, 2, 2, 2, 2, 1, 1, 1, 1, 1, 1, 1, 1, 1, 2, 2, 2, 1, 1, 1, 2, 1, 2, 1, 2, 2, 1, 2, 2, 1, 1, 1, 1, 1, 1, 1, 2, 1, 1, 1, 1, 1, 1, 2, 1, 2, 1, 1, 1, 2, 1, 1, 1, 1, 1, 1, 2, 2, 1, 1, 1, 1, 2, 1, 1, 2, 2, 1, 1, 1, 1, 2, 2, 1, 1, 2, 2]\n"
     ]
    },
    {
     "data": {
      "text/plain": [
       "(None, None)"
      ]
     },
     "execution_count": 84,
     "metadata": {},
     "output_type": "execute_result"
    }
   ],
   "source": [
    "print(prediction), print(eligibility_list)"
   ]
  },
  {
   "cell_type": "code",
   "execution_count": null,
   "id": "c346b2f9",
   "metadata": {},
   "outputs": [],
   "source": [
    "check for Standard Vector Machine Model"
   ]
  },
  {
   "cell_type": "code",
   "execution_count": 85,
   "id": "0f2c7d24",
   "metadata": {},
   "outputs": [],
   "source": [
    "# Load the saved model\n",
    "model = joblib.load('C:/Users/STUTERN/Desktop/Intermediate_project/SVM_Model.joblib')\n",
    "\n",
    "# Make a prediction\n",
    "prediction = model.predict(new_data)"
   ]
  },
  {
   "cell_type": "code",
   "execution_count": null,
   "id": "43c7194c",
   "metadata": {},
   "outputs": [],
   "source": [
    "print(prediction), "
   ]
  }
 ],
 "metadata": {
  "kernelspec": {
   "display_name": "Python 3 (ipykernel)",
   "language": "python",
   "name": "python3"
  },
  "language_info": {
   "codemirror_mode": {
    "name": "ipython",
    "version": 3
   },
   "file_extension": ".py",
   "mimetype": "text/x-python",
   "name": "python",
   "nbconvert_exporter": "python",
   "pygments_lexer": "ipython3",
   "version": "3.9.12"
  }
 },
 "nbformat": 4,
 "nbformat_minor": 5
}
