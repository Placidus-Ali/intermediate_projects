{
 "cells": [
  {
   "cell_type": "code",
   "execution_count": 2,
   "id": "681ec332",
   "metadata": {},
   "outputs": [],
   "source": [
    "# importing my modules\n",
    "import os\n",
    "import shutil"
   ]
  },
  {
   "cell_type": "code",
   "execution_count": 3,
   "id": "1956fdd5",
   "metadata": {},
   "outputs": [
    {
     "data": {
      "text/plain": [
       "'C:\\\\Users\\\\STUTERN\\\\Desktop\\\\Intermediate_project'"
      ]
     },
     "execution_count": 3,
     "metadata": {},
     "output_type": "execute_result"
    }
   ],
   "source": [
    "# checking my current working directory\n",
    "os.getcwd()"
   ]
  },
  {
   "cell_type": "code",
   "execution_count": 4,
   "id": "0277e332",
   "metadata": {},
   "outputs": [],
   "source": [
    "# creating a new folder\n",
    "os.mkdir('new_folder')"
   ]
  },
  {
   "cell_type": "code",
   "execution_count": 7,
   "id": "42d72659",
   "metadata": {},
   "outputs": [],
   "source": [
    "# moving into the new folder to create my file 'project_1'\n",
    "os.chdir('C:\\\\Users\\\\STUTERN\\\\Desktop\\\\Intermediate_project\\\\new_folder')"
   ]
  },
  {
   "cell_type": "code",
   "execution_count": null,
   "id": "d87dbf7d",
   "metadata": {},
   "outputs": [],
   "source": []
  }
 ],
 "metadata": {
  "kernelspec": {
   "display_name": "Python 3 (ipykernel)",
   "language": "python",
   "name": "python3"
  },
  "language_info": {
   "codemirror_mode": {
    "name": "ipython",
    "version": 3
   },
   "file_extension": ".py",
   "mimetype": "text/x-python",
   "name": "python",
   "nbconvert_exporter": "python",
   "pygments_lexer": "ipython3",
   "version": "3.9.12"
  }
 },
 "nbformat": 4,
 "nbformat_minor": 5
}
