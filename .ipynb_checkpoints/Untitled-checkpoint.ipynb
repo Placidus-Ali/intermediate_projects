{
 "cells": [
  {
   "cell_type": "code",
   "execution_count": 9,
   "id": "6a3ac6fb",
   "metadata": {},
   "outputs": [],
   "source": [
    "import numpy as np\n",
    "import pandas as pd\n",
    "import seaborn as sns\n",
    "from matplotlib import pyplot as plt"
   ]
  },
  {
   "cell_type": "code",
   "execution_count": 11,
   "id": "909b75b9",
   "metadata": {},
   "outputs": [],
   "source": [
    "#main_df= 'C:/Users/STUTERN/Desktop/Intermediate_project/main_df.csv'\n",
    "\n",
    "main_df = pd.read_csv('C:/Users/STUTERN/Desktop/Intermediate_project/main_df')"
   ]
  },
  {
   "cell_type": "code",
   "execution_count": 12,
   "id": "2ca4292f",
   "metadata": {},
   "outputs": [
    {
     "data": {
      "text/html": [
       "<div>\n",
       "<style scoped>\n",
       "    .dataframe tbody tr th:only-of-type {\n",
       "        vertical-align: middle;\n",
       "    }\n",
       "\n",
       "    .dataframe tbody tr th {\n",
       "        vertical-align: top;\n",
       "    }\n",
       "\n",
       "    .dataframe thead th {\n",
       "        text-align: right;\n",
       "    }\n",
       "</style>\n",
       "<table border=\"1\" class=\"dataframe\">\n",
       "  <thead>\n",
       "    <tr style=\"text-align: right;\">\n",
       "      <th></th>\n",
       "      <th>sn</th>\n",
       "      <th>name</th>\n",
       "      <th>email_address</th>\n",
       "      <th>lesson_summary</th>\n",
       "      <th>quiz_summary</th>\n",
       "      <th>assignment_summary</th>\n",
       "      <th>grade_point_average</th>\n",
       "      <th>intermediate_class_eligibility</th>\n",
       "    </tr>\n",
       "  </thead>\n",
       "  <tbody>\n",
       "    <tr>\n",
       "      <th>0</th>\n",
       "      <td>1</td>\n",
       "      <td>id_1</td>\n",
       "      <td>NaN</td>\n",
       "      <td>0/5</td>\n",
       "      <td>NaN</td>\n",
       "      <td>0</td>\n",
       "      <td>0.0</td>\n",
       "      <td>No</td>\n",
       "    </tr>\n",
       "    <tr>\n",
       "      <th>1</th>\n",
       "      <td>2</td>\n",
       "      <td>id_2</td>\n",
       "      <td>NaN</td>\n",
       "      <td>5-May</td>\n",
       "      <td>NaN</td>\n",
       "      <td>70</td>\n",
       "      <td>56.0</td>\n",
       "      <td>Yes</td>\n",
       "    </tr>\n",
       "    <tr>\n",
       "      <th>2</th>\n",
       "      <td>3</td>\n",
       "      <td>id_3</td>\n",
       "      <td>NaN</td>\n",
       "      <td>5-Feb</td>\n",
       "      <td>NaN</td>\n",
       "      <td>80</td>\n",
       "      <td>64.0</td>\n",
       "      <td>Yes</td>\n",
       "    </tr>\n",
       "    <tr>\n",
       "      <th>3</th>\n",
       "      <td>4</td>\n",
       "      <td>id_4</td>\n",
       "      <td>NaN</td>\n",
       "      <td>5-May</td>\n",
       "      <td>NaN</td>\n",
       "      <td>100</td>\n",
       "      <td>80.0</td>\n",
       "      <td>Yes</td>\n",
       "    </tr>\n",
       "    <tr>\n",
       "      <th>4</th>\n",
       "      <td>5</td>\n",
       "      <td>id_5</td>\n",
       "      <td>NaN</td>\n",
       "      <td>5-Jun</td>\n",
       "      <td>NaN</td>\n",
       "      <td>80</td>\n",
       "      <td>64.0</td>\n",
       "      <td>Yes</td>\n",
       "    </tr>\n",
       "  </tbody>\n",
       "</table>\n",
       "</div>"
      ],
      "text/plain": [
       "   sn  name email_address lesson_summary  quiz_summary  assignment_summary  \\\n",
       "0   1  id_1           NaN            0/5           NaN                   0   \n",
       "1   2  id_2           NaN          5-May           NaN                  70   \n",
       "2   3  id_3           NaN          5-Feb           NaN                  80   \n",
       "3   4  id_4           NaN          5-May           NaN                 100   \n",
       "4   5  id_5           NaN          5-Jun           NaN                  80   \n",
       "\n",
       "   grade_point_average intermediate_class_eligibility  \n",
       "0                  0.0                             No  \n",
       "1                 56.0                            Yes  \n",
       "2                 64.0                            Yes  \n",
       "3                 80.0                            Yes  \n",
       "4                 64.0                            Yes  "
      ]
     },
     "execution_count": 12,
     "metadata": {},
     "output_type": "execute_result"
    }
   ],
   "source": [
    "main_df.head()"
   ]
  },
  {
   "cell_type": "code",
   "execution_count": 21,
   "id": "fe153dc5",
   "metadata": {},
   "outputs": [
    {
     "name": "stdout",
     "output_type": "stream",
     "text": [
      "Lesson Completion Percentage:\n",
      "5-May    12.735849\n",
      "5-Mar    11.698113\n",
      "5-Jul    10.943396\n",
      "5-Feb    10.283019\n",
      "5-Sep     9.622642\n",
      "5-Apr     9.433962\n",
      "5-Jan     8.962264\n",
      "0/5       8.867925\n",
      "5-Jun     8.867925\n",
      "5-Aug     8.584906\n",
      "Name: lesson_summary, dtype: float64\n",
      "\n",
      "Most Completed Lesson: 5-May\n",
      "Least Completed Lesson: 5-Aug\n"
     ]
    }
   ],
   "source": [
    "import pandas as pd\n",
    "\n",
    "# Assuming your dataset is stored in a DataFrame called 'df'\n",
    "lesson_summary = main_df['lesson_summary']\n",
    "\n",
    "# Count the number of occurrences for each lesson\n",
    "lesson_counts = lesson_summary.value_counts()\n",
    "\n",
    "# Calculate the total number of students\n",
    "total_students = len(main_df)\n",
    "\n",
    "# Calculate the percentage of students who completed each lesson\n",
    "lesson_completion_percentage = (lesson_counts / total_students) * 100\n",
    "\n",
    "# Print the percentage of students who completed each lesson\n",
    "print(\"Lesson Completion Percentage:\")\n",
    "print(lesson_completion_percentage)\n",
    "\n",
    "# Identify the most completed lesson\n",
    "most_completed_lesson = lesson_completion_percentage.idxmax()\n",
    "print(\"\\nMost Completed Lesson:\", most_completed_lesson)\n",
    "\n",
    "# Identify the least completed lesson\n",
    "least_completed_lesson = lesson_completion_percentage.idxmin()\n",
    "print(\"Least Completed Lesson:\", least_completed_lesson)\n"
   ]
  },
  {
   "cell_type": "code",
   "execution_count": 23,
   "id": "a7d539f4",
   "metadata": {},
   "outputs": [
    {
     "data": {
      "image/png": "[encoded data removed]",
      "text/plain": [
       "<Figure size 1000x600 with 1 Axes>"
      ]
     },
     "metadata": {},
     "output_type": "display_data"
    }
   ],
   "source": [
    "lesson_completion_percentage = {\n",
    "    '5-May': 12.735849,\n",
    "    '5-Mar': 11.698113,\n",
    "    '5-Jul': 10.943396,\n",
    "    '5-Feb': 10.283019,\n",
    "    '5-Sep': 9.622642,\n",
    "    '5-Apr': 9.433962,\n",
    "    '5-Jan': 8.962264,\n",
    "    '0/5': 8.867925,\n",
    "    '5-Jun': 8.867925,\n",
    "    '5-Aug': 8.584906\n",
    "}\n",
    "\n",
    "# Convert the data into lists\n",
    "lessons = list(lesson_completion_percentage.keys())\n",
    "completion_percentages = list(lesson_completion_percentage.values())\n",
    "\n",
    "# Plotting the data\n",
    "plt.figure(figsize=(10, 6))\n",
    "plt.bar(lessons, completion_percentages)\n",
    "plt.xlabel('Lesson')\n",
    "plt.ylabel('Completion Percentage')\n",
    "plt.title('Lesson Completion Percentage')\n",
    "plt.xticks(rotation=45)\n",
    "plt.show()"
   ]
  },
  {
   "cell_type": "code",
   "execution_count": 24,
   "id": "e80ee082",
   "metadata": {},
   "outputs": [
    {
     "name": "stdout",
     "output_type": "stream",
     "text": [
      "Average Quiz Score: 51.241\n",
      "Highest Quiz Score: 100.0\n",
      "Lowest Quiz Score: 1.0\n",
      "\n",
      "Score Distribution:\n",
      "17.0    19\n",
      "24.0    19\n",
      "95.0    16\n",
      "98.0    16\n",
      "65.0    16\n",
      "        ..\n",
      "33.0     5\n",
      "45.0     4\n",
      "86.0     3\n",
      "7.0      3\n",
      "37.0     3\n",
      "Name: quiz_summary, Length: 100, dtype: int64\n"
     ]
    }
   ],
   "source": [
    "import pandas as pd\n",
    "\n",
    "# Assuming your dataset is stored in a DataFrame called 'df'\n",
    "quiz_summary = main_df['quiz_summary']\n",
    "\n",
    "# Filling NaN values in the quiz_summary column with the mean\n",
    "quiz_summary_mean = main_df['quiz_summary'].mean()\n",
    "main_df['quiz_summary'] = main_df['quiz_summary'].fillna(quiz_summary_mean)\n",
    "# Convert quiz scores to numeric values\n",
    "quiz_scores = pd.to_numeric(quiz_summary, errors='coerce')\n",
    "\n",
    "# Calculate the average quiz score\n",
    "average_score = quiz_scores.mean()\n",
    "\n",
    "# Identify the highest and lowest quiz scores\n",
    "highest_score = quiz_scores.max()\n",
    "lowest_score = quiz_scores.min()\n",
    "\n",
    "# Explore the distribution of quiz scores\n",
    "score_distribution = quiz_scores.value_counts()\n",
    "\n",
    "# Print the results\n",
    "print(\"Average Quiz Score:\", average_score)\n",
    "print(\"Highest Quiz Score:\", highest_score)\n",
    "print(\"Lowest Quiz Score:\", lowest_score)\n",
    "print(\"\\nScore Distribution:\")\n",
    "print(score_distribution)\n"
   ]
  },
  {
   "cell_type": "code",
   "execution_count": null,
   "id": "3219704d",
   "metadata": {},
   "outputs": [],
   "source": []
  }
 ],
 "metadata": {
  "kernelspec": {
   "display_name": "Python 3 (ipykernel)",
   "language": "python",
   "name": "python3"
  },
  "language_info": {
   "codemirror_mode": {
    "name": "ipython",
    "version": 3
   },
   "file_extension": ".py",
   "mimetype": "text/x-python",
   "name": "python",
   "nbconvert_exporter": "python",
   "pygments_lexer": "ipython3",
   "version": "3.9.12"
  }
 },
 "nbformat": 4,
 "nbformat_minor": 5
}
