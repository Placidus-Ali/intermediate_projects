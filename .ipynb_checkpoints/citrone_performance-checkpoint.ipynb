{
 "cells": [
  {
   "cell_type": "markdown",
   "id": "77e706e1",
   "metadata": {},
   "source": [
    "**Objective of the project**\n",
    "\n",
    "This project is aimed at building a classification model that will predict if a student will move to intermediate class based on their records.\n",
    "\n",
    "So, in this project, we will be using the Decision Tree, Neural Network,and Support Vector Machine Models respectively."
   ]
  },
  {
   "cell_type": "markdown",
   "id": "f55a7785",
   "metadata": {},
   "source": [
    "**Project Summary**"
   ]
  },
  {
   "cell_type": "markdown",
   "id": "3c8f6339",
   "metadata": {},
   "source": [
    "The project is aimed to build a classification model that predicts if a student will move to the intermediate class based on their records. We used the Decision Tree, Neural Network, and Support Vector Machine Models, respectively.\n",
    "\n",
    "So, we started by importing all necessary libraries and loading the datasets from two CSV files(one was given, while I generated the other from Mockaroo so as to have more data). We then merged the two datasets, performs EDA, and data preprocessing by checking for missing values, duplicates, and irrelevant columns. We created a function to convert values in the intermediate_class_eligibility column from the generated dataset to Yes or No based on their score in the grade point average column.\n",
    "\n",
    "After the EDA, we converted the 'intermediate_class_eligibility' column to numeric, did correlation analysis, checked for skewness and splitted the dataset into training and testing subsets. \n",
    "\n",
    "We trained the Decision Tree, Neural Network, and Standard Vector Machine Models, respectively and tested them. We then checked and printed out the accuracy score, F1 score, confusion matrix, and classification report for all the models.\n",
    "\n",
    "Finally, we saved all the models using the joblib libfor future predictions."
   ]
  },
  {
   "cell_type": "markdown",
   "id": "3c228403",
   "metadata": {},
   "source": [
    "#### Import Libraries"
   ]
  },
  {
   "cell_type": "code",
   "execution_count": 3,
   "id": "1f6e2bfc",
   "metadata": {},
   "outputs": [],
   "source": [
    "import numpy as np\n",
    "import pandas as pd\n",
    "import seaborn as sns\n",
    "from matplotlib import pyplot as plt"
   ]
  },
  {
   "cell_type": "markdown",
   "id": "ad4820a0",
   "metadata": {},
   "source": [
    "#### Load Dataset"
   ]
  },
  {
   "cell_type": "code",
   "execution_count": 4,
   "id": "1e771d2c",
   "metadata": {},
   "outputs": [],
   "source": [
    "df1 = pd.read_csv(\"C:/Users/STUTERN/Downloads/citrone_dataset.csv\")\n",
    "df2 = pd.read_csv(\"C:/Users/STUTERN/Downloads/mock_citrone_data.csv\")"
   ]
  },
  {
   "cell_type": "code",
   "execution_count": 5,
   "id": "2165aff3",
   "metadata": {},
   "outputs": [
    {
     "data": {
      "text/html": [
       "<div>\n",
       "<style scoped>\n",
       "    .dataframe tbody tr th:only-of-type {\n",
       "        vertical-align: middle;\n",
       "    }\n",
       "\n",
       "    .dataframe tbody tr th {\n",
       "        vertical-align: top;\n",
       "    }\n",
       "\n",
       "    .dataframe thead th {\n",
       "        text-align: right;\n",
       "    }\n",
       "</style>\n",
       "<table border=\"1\" class=\"dataframe\">\n",
       "  <thead>\n",
       "    <tr style=\"text-align: right;\">\n",
       "      <th></th>\n",
       "      <th>S/N</th>\n",
       "      <th>Name</th>\n",
       "      <th>Email Address</th>\n",
       "      <th>Lesson Summary</th>\n",
       "      <th>Quiz Summary</th>\n",
       "      <th>Assignment Summary</th>\n",
       "      <th>Grade Point Average</th>\n",
       "      <th>Intermediate class Eligibility</th>\n",
       "    </tr>\n",
       "  </thead>\n",
       "  <tbody>\n",
       "    <tr>\n",
       "      <th>0</th>\n",
       "      <td>1</td>\n",
       "      <td>id_1</td>\n",
       "      <td>NaN</td>\n",
       "      <td>0/5</td>\n",
       "      <td>NaN</td>\n",
       "      <td>0</td>\n",
       "      <td>0.0</td>\n",
       "      <td>No</td>\n",
       "    </tr>\n",
       "    <tr>\n",
       "      <th>1</th>\n",
       "      <td>2</td>\n",
       "      <td>id_2</td>\n",
       "      <td>NaN</td>\n",
       "      <td>5-May</td>\n",
       "      <td>NaN</td>\n",
       "      <td>70</td>\n",
       "      <td>56.0</td>\n",
       "      <td>Yes</td>\n",
       "    </tr>\n",
       "    <tr>\n",
       "      <th>2</th>\n",
       "      <td>3</td>\n",
       "      <td>id_3</td>\n",
       "      <td>NaN</td>\n",
       "      <td>5-Feb</td>\n",
       "      <td>NaN</td>\n",
       "      <td>80</td>\n",
       "      <td>64.0</td>\n",
       "      <td>Yes</td>\n",
       "    </tr>\n",
       "    <tr>\n",
       "      <th>3</th>\n",
       "      <td>4</td>\n",
       "      <td>id_4</td>\n",
       "      <td>NaN</td>\n",
       "      <td>5-May</td>\n",
       "      <td>NaN</td>\n",
       "      <td>100</td>\n",
       "      <td>80.0</td>\n",
       "      <td>Yes</td>\n",
       "    </tr>\n",
       "    <tr>\n",
       "      <th>4</th>\n",
       "      <td>5</td>\n",
       "      <td>id_5</td>\n",
       "      <td>NaN</td>\n",
       "      <td>5-Jun</td>\n",
       "      <td>NaN</td>\n",
       "      <td>80</td>\n",
       "      <td>64.0</td>\n",
       "      <td>Yes</td>\n",
       "    </tr>\n",
       "  </tbody>\n",
       "</table>\n",
       "</div>"
      ],
      "text/plain": [
       "   S/N  Name  Email Address Lesson Summary  Quiz Summary  Assignment Summary  \\\n",
       "0    1  id_1            NaN            0/5           NaN                   0   \n",
       "1    2  id_2            NaN          5-May           NaN                  70   \n",
       "2    3  id_3            NaN          5-Feb           NaN                  80   \n",
       "3    4  id_4            NaN          5-May           NaN                 100   \n",
       "4    5  id_5            NaN          5-Jun           NaN                  80   \n",
       "\n",
       "   Grade Point Average Intermediate class Eligibility  \n",
       "0                  0.0                             No  \n",
       "1                 56.0                            Yes  \n",
       "2                 64.0                            Yes  \n",
       "3                 80.0                            Yes  \n",
       "4                 64.0                            Yes  "
      ]
     },
     "execution_count": 5,
     "metadata": {},
     "output_type": "execute_result"
    }
   ],
   "source": [
    "df1.head()"
   ]
  },
  {
   "cell_type": "code",
   "execution_count": 6,
   "id": "59ab7938",
   "metadata": {},
   "outputs": [
    {
     "data": {
      "text/html": [
       "<div>\n",
       "<style scoped>\n",
       "    .dataframe tbody tr th:only-of-type {\n",
       "        vertical-align: middle;\n",
       "    }\n",
       "\n",
       "    .dataframe tbody tr th {\n",
       "        vertical-align: top;\n",
       "    }\n",
       "\n",
       "    .dataframe thead th {\n",
       "        text-align: right;\n",
       "    }\n",
       "</style>\n",
       "<table border=\"1\" class=\"dataframe\">\n",
       "  <thead>\n",
       "    <tr style=\"text-align: right;\">\n",
       "      <th></th>\n",
       "      <th>sn</th>\n",
       "      <th>name</th>\n",
       "      <th>email_address</th>\n",
       "      <th>lesson_summary</th>\n",
       "      <th>quiz_summary</th>\n",
       "      <th>assignment_summary</th>\n",
       "      <th>grade_point_average</th>\n",
       "      <th>intermediate_class_eligibility</th>\n",
       "    </tr>\n",
       "  </thead>\n",
       "  <tbody>\n",
       "    <tr>\n",
       "      <th>0</th>\n",
       "      <td>61</td>\n",
       "      <td>id_61</td>\n",
       "      <td>emacgow0@icio.us</td>\n",
       "      <td>0/5</td>\n",
       "      <td>11</td>\n",
       "      <td>54</td>\n",
       "      <td>81</td>\n",
       "      <td>True</td>\n",
       "    </tr>\n",
       "    <tr>\n",
       "      <th>1</th>\n",
       "      <td>62</td>\n",
       "      <td>id_62</td>\n",
       "      <td>ctrematick1@theatlantic.com</td>\n",
       "      <td>5-Sep</td>\n",
       "      <td>39</td>\n",
       "      <td>88</td>\n",
       "      <td>9</td>\n",
       "      <td>True</td>\n",
       "    </tr>\n",
       "    <tr>\n",
       "      <th>2</th>\n",
       "      <td>63</td>\n",
       "      <td>id_63</td>\n",
       "      <td>mloughton2@ed.gov</td>\n",
       "      <td>5-Sep</td>\n",
       "      <td>13</td>\n",
       "      <td>55</td>\n",
       "      <td>10</td>\n",
       "      <td>True</td>\n",
       "    </tr>\n",
       "    <tr>\n",
       "      <th>3</th>\n",
       "      <td>64</td>\n",
       "      <td>id_64</td>\n",
       "      <td>badkins3@blog.com</td>\n",
       "      <td>5-Jun</td>\n",
       "      <td>40</td>\n",
       "      <td>20</td>\n",
       "      <td>86</td>\n",
       "      <td>True</td>\n",
       "    </tr>\n",
       "    <tr>\n",
       "      <th>4</th>\n",
       "      <td>65</td>\n",
       "      <td>id_65</td>\n",
       "      <td>ihackly4@fda.gov</td>\n",
       "      <td>5-Jul</td>\n",
       "      <td>18</td>\n",
       "      <td>11</td>\n",
       "      <td>5</td>\n",
       "      <td>False</td>\n",
       "    </tr>\n",
       "  </tbody>\n",
       "</table>\n",
       "</div>"
      ],
      "text/plain": [
       "   sn   name                email_address lesson_summary  quiz_summary  \\\n",
       "0  61  id_61             emacgow0@icio.us            0/5            11   \n",
       "1  62  id_62  ctrematick1@theatlantic.com          5-Sep            39   \n",
       "2  63  id_63            mloughton2@ed.gov          5-Sep            13   \n",
       "3  64  id_64            badkins3@blog.com          5-Jun            40   \n",
       "4  65  id_65             ihackly4@fda.gov          5-Jul            18   \n",
       "\n",
       "   assignment_summary  grade_point_average  intermediate_class_eligibility  \n",
       "0                  54                   81                            True  \n",
       "1                  88                    9                            True  \n",
       "2                  55                   10                            True  \n",
       "3                  20                   86                            True  \n",
       "4                  11                    5                           False  "
      ]
     },
     "execution_count": 6,
     "metadata": {},
     "output_type": "execute_result"
    }
   ],
   "source": [
    "df2.head()"
   ]
  },
  {
   "cell_type": "markdown",
   "id": "4b746d61",
   "metadata": {},
   "source": [
    "### Data Wrangling"
   ]
  },
  {
   "cell_type": "markdown",
   "id": "33d66c3b",
   "metadata": {},
   "source": [
    "Shape of the Dataset"
   ]
  },
  {
   "cell_type": "code",
   "execution_count": 7,
   "id": "5e01c710",
   "metadata": {},
   "outputs": [
    {
     "data": {
      "text/plain": [
       "((60, 8), (1000, 8))"
      ]
     },
     "execution_count": 7,
     "metadata": {},
     "output_type": "execute_result"
    }
   ],
   "source": [
    "df1.shape, df2.shape"
   ]
  },
  {
   "cell_type": "markdown",
   "id": "3aa3c64b",
   "metadata": {},
   "source": [
    "Checking if the Columns are properly labelled"
   ]
  },
  {
   "cell_type": "code",
   "execution_count": 8,
   "id": "922241f4",
   "metadata": {},
   "outputs": [
    {
     "data": {
      "text/plain": [
       "(Index(['S/N', 'Name', 'Email Address', 'Lesson Summary', 'Quiz Summary',\n",
       "        'Assignment Summary', 'Grade Point Average',\n",
       "        'Intermediate class Eligibility'],\n",
       "       dtype='object'),\n",
       " Index(['sn', 'name', 'email_address', 'lesson_summary', 'quiz_summary',\n",
       "        'assignment_summary', 'grade_point_average',\n",
       "        'intermediate_class_eligibility'],\n",
       "       dtype='object'))"
      ]
     },
     "execution_count": 8,
     "metadata": {},
     "output_type": "execute_result"
    }
   ],
   "source": [
    "df1.columns, df2.columns"
   ]
  },
  {
   "cell_type": "markdown",
   "id": "88c93457",
   "metadata": {},
   "source": [
    "Renaming the df1 Columns to match df2 Columns"
   ]
  },
  {
   "cell_type": "code",
   "execution_count": 9,
   "id": "504fe565",
   "metadata": {},
   "outputs": [],
   "source": [
    "df1 = df1.rename(columns={'S/N': 'sn', 'Name': 'name', 'Email Address': 'email_address', \n",
    "                          'Lesson Summary': 'lesson_summary', 'Quiz Summary': 'quiz_summary',\n",
    "                          'Assignment Summary': 'assignment_summary', 'Grade Point Average': 'grade_point_average',\n",
    "                          'Intermediate class Eligibility': 'intermediate_class_eligibility'})"
   ]
  },
  {
   "cell_type": "code",
   "execution_count": 10,
   "id": "4af9f1b1",
   "metadata": {},
   "outputs": [
    {
     "data": {
      "text/html": [
       "<div>\n",
       "<style scoped>\n",
       "    .dataframe tbody tr th:only-of-type {\n",
       "        vertical-align: middle;\n",
       "    }\n",
       "\n",
       "    .dataframe tbody tr th {\n",
       "        vertical-align: top;\n",
       "    }\n",
       "\n",
       "    .dataframe thead th {\n",
       "        text-align: right;\n",
       "    }\n",
       "</style>\n",
       "<table border=\"1\" class=\"dataframe\">\n",
       "  <thead>\n",
       "    <tr style=\"text-align: right;\">\n",
       "      <th></th>\n",
       "      <th>sn</th>\n",
       "      <th>name</th>\n",
       "      <th>email_address</th>\n",
       "      <th>lesson_summary</th>\n",
       "      <th>quiz_summary</th>\n",
       "      <th>assignment_summary</th>\n",
       "      <th>grade_point_average</th>\n",
       "      <th>intermediate_class_eligibility</th>\n",
       "    </tr>\n",
       "  </thead>\n",
       "  <tbody>\n",
       "    <tr>\n",
       "      <th>0</th>\n",
       "      <td>1</td>\n",
       "      <td>id_1</td>\n",
       "      <td>NaN</td>\n",
       "      <td>0/5</td>\n",
       "      <td>NaN</td>\n",
       "      <td>0</td>\n",
       "      <td>0.0</td>\n",
       "      <td>No</td>\n",
       "    </tr>\n",
       "    <tr>\n",
       "      <th>1</th>\n",
       "      <td>2</td>\n",
       "      <td>id_2</td>\n",
       "      <td>NaN</td>\n",
       "      <td>5-May</td>\n",
       "      <td>NaN</td>\n",
       "      <td>70</td>\n",
       "      <td>56.0</td>\n",
       "      <td>Yes</td>\n",
       "    </tr>\n",
       "    <tr>\n",
       "      <th>2</th>\n",
       "      <td>3</td>\n",
       "      <td>id_3</td>\n",
       "      <td>NaN</td>\n",
       "      <td>5-Feb</td>\n",
       "      <td>NaN</td>\n",
       "      <td>80</td>\n",
       "      <td>64.0</td>\n",
       "      <td>Yes</td>\n",
       "    </tr>\n",
       "    <tr>\n",
       "      <th>3</th>\n",
       "      <td>4</td>\n",
       "      <td>id_4</td>\n",
       "      <td>NaN</td>\n",
       "      <td>5-May</td>\n",
       "      <td>NaN</td>\n",
       "      <td>100</td>\n",
       "      <td>80.0</td>\n",
       "      <td>Yes</td>\n",
       "    </tr>\n",
       "    <tr>\n",
       "      <th>4</th>\n",
       "      <td>5</td>\n",
       "      <td>id_5</td>\n",
       "      <td>NaN</td>\n",
       "      <td>5-Jun</td>\n",
       "      <td>NaN</td>\n",
       "      <td>80</td>\n",
       "      <td>64.0</td>\n",
       "      <td>Yes</td>\n",
       "    </tr>\n",
       "  </tbody>\n",
       "</table>\n",
       "</div>"
      ],
      "text/plain": [
       "   sn  name  email_address lesson_summary  quiz_summary  assignment_summary  \\\n",
       "0   1  id_1            NaN            0/5           NaN                   0   \n",
       "1   2  id_2            NaN          5-May           NaN                  70   \n",
       "2   3  id_3            NaN          5-Feb           NaN                  80   \n",
       "3   4  id_4            NaN          5-May           NaN                 100   \n",
       "4   5  id_5            NaN          5-Jun           NaN                  80   \n",
       "\n",
       "   grade_point_average intermediate_class_eligibility  \n",
       "0                  0.0                             No  \n",
       "1                 56.0                            Yes  \n",
       "2                 64.0                            Yes  \n",
       "3                 80.0                            Yes  \n",
       "4                 64.0                            Yes  "
      ]
     },
     "execution_count": 10,
     "metadata": {},
     "output_type": "execute_result"
    }
   ],
   "source": [
    "df1.head()"
   ]
  },
  {
   "cell_type": "code",
   "execution_count": 11,
   "id": "8e3c860d",
   "metadata": {},
   "outputs": [
    {
     "data": {
      "text/html": [
       "<div>\n",
       "<style scoped>\n",
       "    .dataframe tbody tr th:only-of-type {\n",
       "        vertical-align: middle;\n",
       "    }\n",
       "\n",
       "    .dataframe tbody tr th {\n",
       "        vertical-align: top;\n",
       "    }\n",
       "\n",
       "    .dataframe thead th {\n",
       "        text-align: right;\n",
       "    }\n",
       "</style>\n",
       "<table border=\"1\" class=\"dataframe\">\n",
       "  <thead>\n",
       "    <tr style=\"text-align: right;\">\n",
       "      <th></th>\n",
       "      <th>sn</th>\n",
       "      <th>name</th>\n",
       "      <th>email_address</th>\n",
       "      <th>lesson_summary</th>\n",
       "      <th>quiz_summary</th>\n",
       "      <th>assignment_summary</th>\n",
       "      <th>grade_point_average</th>\n",
       "      <th>intermediate_class_eligibility</th>\n",
       "    </tr>\n",
       "  </thead>\n",
       "  <tbody>\n",
       "    <tr>\n",
       "      <th>0</th>\n",
       "      <td>61</td>\n",
       "      <td>id_61</td>\n",
       "      <td>emacgow0@icio.us</td>\n",
       "      <td>0/5</td>\n",
       "      <td>11</td>\n",
       "      <td>54</td>\n",
       "      <td>81</td>\n",
       "      <td>True</td>\n",
       "    </tr>\n",
       "    <tr>\n",
       "      <th>1</th>\n",
       "      <td>62</td>\n",
       "      <td>id_62</td>\n",
       "      <td>ctrematick1@theatlantic.com</td>\n",
       "      <td>5-Sep</td>\n",
       "      <td>39</td>\n",
       "      <td>88</td>\n",
       "      <td>9</td>\n",
       "      <td>True</td>\n",
       "    </tr>\n",
       "    <tr>\n",
       "      <th>2</th>\n",
       "      <td>63</td>\n",
       "      <td>id_63</td>\n",
       "      <td>mloughton2@ed.gov</td>\n",
       "      <td>5-Sep</td>\n",
       "      <td>13</td>\n",
       "      <td>55</td>\n",
       "      <td>10</td>\n",
       "      <td>True</td>\n",
       "    </tr>\n",
       "    <tr>\n",
       "      <th>3</th>\n",
       "      <td>64</td>\n",
       "      <td>id_64</td>\n",
       "      <td>badkins3@blog.com</td>\n",
       "      <td>5-Jun</td>\n",
       "      <td>40</td>\n",
       "      <td>20</td>\n",
       "      <td>86</td>\n",
       "      <td>True</td>\n",
       "    </tr>\n",
       "    <tr>\n",
       "      <th>4</th>\n",
       "      <td>65</td>\n",
       "      <td>id_65</td>\n",
       "      <td>ihackly4@fda.gov</td>\n",
       "      <td>5-Jul</td>\n",
       "      <td>18</td>\n",
       "      <td>11</td>\n",
       "      <td>5</td>\n",
       "      <td>False</td>\n",
       "    </tr>\n",
       "  </tbody>\n",
       "</table>\n",
       "</div>"
      ],
      "text/plain": [
       "   sn   name                email_address lesson_summary  quiz_summary  \\\n",
       "0  61  id_61             emacgow0@icio.us            0/5            11   \n",
       "1  62  id_62  ctrematick1@theatlantic.com          5-Sep            39   \n",
       "2  63  id_63            mloughton2@ed.gov          5-Sep            13   \n",
       "3  64  id_64            badkins3@blog.com          5-Jun            40   \n",
       "4  65  id_65             ihackly4@fda.gov          5-Jul            18   \n",
       "\n",
       "   assignment_summary  grade_point_average  intermediate_class_eligibility  \n",
       "0                  54                   81                            True  \n",
       "1                  88                    9                            True  \n",
       "2                  55                   10                            True  \n",
       "3                  20                   86                            True  \n",
       "4                  11                    5                           False  "
      ]
     },
     "execution_count": 11,
     "metadata": {},
     "output_type": "execute_result"
    }
   ],
   "source": [
    "df2.head()"
   ]
  },
  {
   "cell_type": "markdown",
   "id": "374fb789",
   "metadata": {},
   "source": [
    "Checking the Datatypes"
   ]
  },
  {
   "cell_type": "code",
   "execution_count": 12,
   "id": "7471ab94",
   "metadata": {},
   "outputs": [
    {
     "data": {
      "text/plain": [
       "(sn                                  int64\n",
       " name                               object\n",
       " email_address                     float64\n",
       " lesson_summary                     object\n",
       " quiz_summary                      float64\n",
       " assignment_summary                  int64\n",
       " grade_point_average               float64\n",
       " intermediate_class_eligibility     object\n",
       " dtype: object,\n",
       " sn                                 int64\n",
       " name                              object\n",
       " email_address                     object\n",
       " lesson_summary                    object\n",
       " quiz_summary                       int64\n",
       " assignment_summary                 int64\n",
       " grade_point_average                int64\n",
       " intermediate_class_eligibility      bool\n",
       " dtype: object)"
      ]
     },
     "execution_count": 12,
     "metadata": {},
     "output_type": "execute_result"
    }
   ],
   "source": [
    "df1.dtypes, df2.dtypes"
   ]
  },
  {
   "cell_type": "markdown",
   "id": "f3b329a7",
   "metadata": {},
   "source": [
    "Concatenating the two Datasets to form one Dataset"
   ]
  },
  {
   "cell_type": "code",
   "execution_count": 13,
   "id": "064e54fc",
   "metadata": {},
   "outputs": [
    {
     "data": {
      "text/html": [
       "<div>\n",
       "<style scoped>\n",
       "    .dataframe tbody tr th:only-of-type {\n",
       "        vertical-align: middle;\n",
       "    }\n",
       "\n",
       "    .dataframe tbody tr th {\n",
       "        vertical-align: top;\n",
       "    }\n",
       "\n",
       "    .dataframe thead th {\n",
       "        text-align: right;\n",
       "    }\n",
       "</style>\n",
       "<table border=\"1\" class=\"dataframe\">\n",
       "  <thead>\n",
       "    <tr style=\"text-align: right;\">\n",
       "      <th></th>\n",
       "      <th>sn</th>\n",
       "      <th>name</th>\n",
       "      <th>email_address</th>\n",
       "      <th>lesson_summary</th>\n",
       "      <th>quiz_summary</th>\n",
       "      <th>assignment_summary</th>\n",
       "      <th>grade_point_average</th>\n",
       "      <th>intermediate_class_eligibility</th>\n",
       "    </tr>\n",
       "  </thead>\n",
       "  <tbody>\n",
       "    <tr>\n",
       "      <th>0</th>\n",
       "      <td>1</td>\n",
       "      <td>id_1</td>\n",
       "      <td>NaN</td>\n",
       "      <td>0/5</td>\n",
       "      <td>NaN</td>\n",
       "      <td>0</td>\n",
       "      <td>0.0</td>\n",
       "      <td>No</td>\n",
       "    </tr>\n",
       "    <tr>\n",
       "      <th>1</th>\n",
       "      <td>2</td>\n",
       "      <td>id_2</td>\n",
       "      <td>NaN</td>\n",
       "      <td>5-May</td>\n",
       "      <td>NaN</td>\n",
       "      <td>70</td>\n",
       "      <td>56.0</td>\n",
       "      <td>Yes</td>\n",
       "    </tr>\n",
       "    <tr>\n",
       "      <th>2</th>\n",
       "      <td>3</td>\n",
       "      <td>id_3</td>\n",
       "      <td>NaN</td>\n",
       "      <td>5-Feb</td>\n",
       "      <td>NaN</td>\n",
       "      <td>80</td>\n",
       "      <td>64.0</td>\n",
       "      <td>Yes</td>\n",
       "    </tr>\n",
       "    <tr>\n",
       "      <th>3</th>\n",
       "      <td>4</td>\n",
       "      <td>id_4</td>\n",
       "      <td>NaN</td>\n",
       "      <td>5-May</td>\n",
       "      <td>NaN</td>\n",
       "      <td>100</td>\n",
       "      <td>80.0</td>\n",
       "      <td>Yes</td>\n",
       "    </tr>\n",
       "    <tr>\n",
       "      <th>4</th>\n",
       "      <td>5</td>\n",
       "      <td>id_5</td>\n",
       "      <td>NaN</td>\n",
       "      <td>5-Jun</td>\n",
       "      <td>NaN</td>\n",
       "      <td>80</td>\n",
       "      <td>64.0</td>\n",
       "      <td>Yes</td>\n",
       "    </tr>\n",
       "  </tbody>\n",
       "</table>\n",
       "</div>"
      ],
      "text/plain": [
       "   sn  name email_address lesson_summary  quiz_summary  assignment_summary  \\\n",
       "0   1  id_1           NaN            0/5           NaN                   0   \n",
       "1   2  id_2           NaN          5-May           NaN                  70   \n",
       "2   3  id_3           NaN          5-Feb           NaN                  80   \n",
       "3   4  id_4           NaN          5-May           NaN                 100   \n",
       "4   5  id_5           NaN          5-Jun           NaN                  80   \n",
       "\n",
       "   grade_point_average intermediate_class_eligibility  \n",
       "0                  0.0                             No  \n",
       "1                 56.0                            Yes  \n",
       "2                 64.0                            Yes  \n",
       "3                 80.0                            Yes  \n",
       "4                 64.0                            Yes  "
      ]
     },
     "execution_count": 13,
     "metadata": {},
     "output_type": "execute_result"
    }
   ],
   "source": [
    "main_df = pd.concat([df1, df2])\n",
    "main_df.head()"
   ]
  },
  {
   "cell_type": "code",
   "execution_count": 14,
   "id": "57916192",
   "metadata": {},
   "outputs": [],
   "source": [
    "main_df.to_csv(\"C:/Users/STUTERN/Desktop/Intermediate_project/main_df\", index=False)"
   ]
  },
  {
   "cell_type": "markdown",
   "id": "80262752",
   "metadata": {},
   "source": [
    "Checking for Missing values in the new Dataset"
   ]
  },
  {
   "cell_type": "code",
   "execution_count": 15,
   "id": "90526b0b",
   "metadata": {},
   "outputs": [
    {
     "data": {
      "text/plain": [
       "sn                                 0\n",
       "name                               0\n",
       "email_address                     60\n",
       "lesson_summary                     0\n",
       "quiz_summary                      60\n",
       "assignment_summary                 0\n",
       "grade_point_average                0\n",
       "intermediate_class_eligibility     0\n",
       "dtype: int64"
      ]
     },
     "execution_count": 15,
     "metadata": {},
     "output_type": "execute_result"
    }
   ],
   "source": [
    "main_df.isnull().sum()"
   ]
  },
  {
   "cell_type": "markdown",
   "id": "45d80322",
   "metadata": {},
   "source": [
    "Filling the Missing values in Quiz Summary Column since I will be needing it "
   ]
  },
  {
   "cell_type": "code",
   "execution_count": 16,
   "id": "26aaaea6",
   "metadata": {},
   "outputs": [],
   "source": [
    "quiz_summary_mean = main_df['quiz_summary'].mean()\n",
    "main_df['quiz_summary'] = main_df['quiz_summary'].fillna(quiz_summary_mean)"
   ]
  },
  {
   "cell_type": "code",
   "execution_count": 17,
   "id": "1fdcf003",
   "metadata": {},
   "outputs": [
    {
     "data": {
      "text/html": [
       "<div>\n",
       "<style scoped>\n",
       "    .dataframe tbody tr th:only-of-type {\n",
       "        vertical-align: middle;\n",
       "    }\n",
       "\n",
       "    .dataframe tbody tr th {\n",
       "        vertical-align: top;\n",
       "    }\n",
       "\n",
       "    .dataframe thead th {\n",
       "        text-align: right;\n",
       "    }\n",
       "</style>\n",
       "<table border=\"1\" class=\"dataframe\">\n",
       "  <thead>\n",
       "    <tr style=\"text-align: right;\">\n",
       "      <th></th>\n",
       "      <th>sn</th>\n",
       "      <th>name</th>\n",
       "      <th>email_address</th>\n",
       "      <th>lesson_summary</th>\n",
       "      <th>quiz_summary</th>\n",
       "      <th>assignment_summary</th>\n",
       "      <th>grade_point_average</th>\n",
       "      <th>intermediate_class_eligibility</th>\n",
       "    </tr>\n",
       "  </thead>\n",
       "  <tbody>\n",
       "    <tr>\n",
       "      <th>0</th>\n",
       "      <td>1</td>\n",
       "      <td>id_1</td>\n",
       "      <td>NaN</td>\n",
       "      <td>0/5</td>\n",
       "      <td>51.241</td>\n",
       "      <td>0</td>\n",
       "      <td>0.0</td>\n",
       "      <td>No</td>\n",
       "    </tr>\n",
       "    <tr>\n",
       "      <th>1</th>\n",
       "      <td>2</td>\n",
       "      <td>id_2</td>\n",
       "      <td>NaN</td>\n",
       "      <td>5-May</td>\n",
       "      <td>51.241</td>\n",
       "      <td>70</td>\n",
       "      <td>56.0</td>\n",
       "      <td>Yes</td>\n",
       "    </tr>\n",
       "    <tr>\n",
       "      <th>2</th>\n",
       "      <td>3</td>\n",
       "      <td>id_3</td>\n",
       "      <td>NaN</td>\n",
       "      <td>5-Feb</td>\n",
       "      <td>51.241</td>\n",
       "      <td>80</td>\n",
       "      <td>64.0</td>\n",
       "      <td>Yes</td>\n",
       "    </tr>\n",
       "    <tr>\n",
       "      <th>3</th>\n",
       "      <td>4</td>\n",
       "      <td>id_4</td>\n",
       "      <td>NaN</td>\n",
       "      <td>5-May</td>\n",
       "      <td>51.241</td>\n",
       "      <td>100</td>\n",
       "      <td>80.0</td>\n",
       "      <td>Yes</td>\n",
       "    </tr>\n",
       "    <tr>\n",
       "      <th>4</th>\n",
       "      <td>5</td>\n",
       "      <td>id_5</td>\n",
       "      <td>NaN</td>\n",
       "      <td>5-Jun</td>\n",
       "      <td>51.241</td>\n",
       "      <td>80</td>\n",
       "      <td>64.0</td>\n",
       "      <td>Yes</td>\n",
       "    </tr>\n",
       "  </tbody>\n",
       "</table>\n",
       "</div>"
      ],
      "text/plain": [
       "   sn  name email_address lesson_summary  quiz_summary  assignment_summary  \\\n",
       "0   1  id_1           NaN            0/5        51.241                   0   \n",
       "1   2  id_2           NaN          5-May        51.241                  70   \n",
       "2   3  id_3           NaN          5-Feb        51.241                  80   \n",
       "3   4  id_4           NaN          5-May        51.241                 100   \n",
       "4   5  id_5           NaN          5-Jun        51.241                  80   \n",
       "\n",
       "   grade_point_average intermediate_class_eligibility  \n",
       "0                  0.0                             No  \n",
       "1                 56.0                            Yes  \n",
       "2                 64.0                            Yes  \n",
       "3                 80.0                            Yes  \n",
       "4                 64.0                            Yes  "
      ]
     },
     "execution_count": 17,
     "metadata": {},
     "output_type": "execute_result"
    }
   ],
   "source": [
    "main_df.head()"
   ]
  },
  {
   "cell_type": "markdown",
   "id": "514d0a7d",
   "metadata": {},
   "source": [
    "Checking if there are Duplicate Values"
   ]
  },
  {
   "cell_type": "code",
   "execution_count": 18,
   "id": "5c397e68",
   "metadata": {},
   "outputs": [
    {
     "data": {
      "text/plain": [
       "0"
      ]
     },
     "execution_count": 18,
     "metadata": {},
     "output_type": "execute_result"
    }
   ],
   "source": [
    "main_df.duplicated().sum()"
   ]
  },
  {
   "cell_type": "markdown",
   "id": "3834197e",
   "metadata": {},
   "source": [
    "Creating a grade-score function to convert all the **\"False\" to \"No\" and \"True\" to \"Yes\".** Again, making sure that **Yes** goes for students that scored **above 50** and **No** for those that scored **below 50**"
   ]
  },
  {
   "cell_type": "code",
   "execution_count": 19,
   "id": "24de2128",
   "metadata": {},
   "outputs": [],
   "source": [
    "def student_threshold(column):\n",
    "    if column >= 50:\n",
    "        return \"Yes\"\n",
    "    else:\n",
    "        return \"No\""
   ]
  },
  {
   "cell_type": "code",
   "execution_count": 20,
   "id": "9a1cc01c",
   "metadata": {},
   "outputs": [],
   "source": [
    "main_df['intermediate_class_eligibility'] = main_df['grade_point_average'].apply(student_threshold)"
   ]
  },
  {
   "cell_type": "code",
   "execution_count": 21,
   "id": "281449df",
   "metadata": {},
   "outputs": [
    {
     "data": {
      "text/html": [
       "<div>\n",
       "<style scoped>\n",
       "    .dataframe tbody tr th:only-of-type {\n",
       "        vertical-align: middle;\n",
       "    }\n",
       "\n",
       "    .dataframe tbody tr th {\n",
       "        vertical-align: top;\n",
       "    }\n",
       "\n",
       "    .dataframe thead th {\n",
       "        text-align: right;\n",
       "    }\n",
       "</style>\n",
       "<table border=\"1\" class=\"dataframe\">\n",
       "  <thead>\n",
       "    <tr style=\"text-align: right;\">\n",
       "      <th></th>\n",
       "      <th>sn</th>\n",
       "      <th>name</th>\n",
       "      <th>email_address</th>\n",
       "      <th>lesson_summary</th>\n",
       "      <th>quiz_summary</th>\n",
       "      <th>assignment_summary</th>\n",
       "      <th>grade_point_average</th>\n",
       "      <th>intermediate_class_eligibility</th>\n",
       "    </tr>\n",
       "  </thead>\n",
       "  <tbody>\n",
       "    <tr>\n",
       "      <th>995</th>\n",
       "      <td>1056</td>\n",
       "      <td>id_1056</td>\n",
       "      <td>smccaddenrn@blogger.com</td>\n",
       "      <td>5-Aug</td>\n",
       "      <td>13.0</td>\n",
       "      <td>34</td>\n",
       "      <td>14.0</td>\n",
       "      <td>No</td>\n",
       "    </tr>\n",
       "    <tr>\n",
       "      <th>996</th>\n",
       "      <td>1057</td>\n",
       "      <td>id_1057</td>\n",
       "      <td>ebowllerro@nhs.uk</td>\n",
       "      <td>5-Feb</td>\n",
       "      <td>98.0</td>\n",
       "      <td>56</td>\n",
       "      <td>36.0</td>\n",
       "      <td>No</td>\n",
       "    </tr>\n",
       "    <tr>\n",
       "      <th>997</th>\n",
       "      <td>1058</td>\n",
       "      <td>id_1058</td>\n",
       "      <td>mtomischrp@about.me</td>\n",
       "      <td>5-Jul</td>\n",
       "      <td>64.0</td>\n",
       "      <td>97</td>\n",
       "      <td>49.0</td>\n",
       "      <td>No</td>\n",
       "    </tr>\n",
       "    <tr>\n",
       "      <th>998</th>\n",
       "      <td>1059</td>\n",
       "      <td>id_1059</td>\n",
       "      <td>sbaudirq@amazon.com</td>\n",
       "      <td>5-May</td>\n",
       "      <td>100.0</td>\n",
       "      <td>71</td>\n",
       "      <td>21.0</td>\n",
       "      <td>No</td>\n",
       "    </tr>\n",
       "    <tr>\n",
       "      <th>999</th>\n",
       "      <td>1060</td>\n",
       "      <td>id_1060</td>\n",
       "      <td>hschulterrr@blinklist.com</td>\n",
       "      <td>5-Jan</td>\n",
       "      <td>66.0</td>\n",
       "      <td>21</td>\n",
       "      <td>33.0</td>\n",
       "      <td>No</td>\n",
       "    </tr>\n",
       "  </tbody>\n",
       "</table>\n",
       "</div>"
      ],
      "text/plain": [
       "       sn     name              email_address lesson_summary  quiz_summary  \\\n",
       "995  1056  id_1056    smccaddenrn@blogger.com          5-Aug          13.0   \n",
       "996  1057  id_1057          ebowllerro@nhs.uk          5-Feb          98.0   \n",
       "997  1058  id_1058        mtomischrp@about.me          5-Jul          64.0   \n",
       "998  1059  id_1059        sbaudirq@amazon.com          5-May         100.0   \n",
       "999  1060  id_1060  hschulterrr@blinklist.com          5-Jan          66.0   \n",
       "\n",
       "     assignment_summary  grade_point_average intermediate_class_eligibility  \n",
       "995                  34                 14.0                             No  \n",
       "996                  56                 36.0                             No  \n",
       "997                  97                 49.0                             No  \n",
       "998                  71                 21.0                             No  \n",
       "999                  21                 33.0                             No  "
      ]
     },
     "execution_count": 21,
     "metadata": {},
     "output_type": "execute_result"
    }
   ],
   "source": [
    "main_df.tail()"
   ]
  },
  {
   "cell_type": "markdown",
   "id": "53831c0a",
   "metadata": {},
   "source": [
    "### EDA"
   ]
  },
  {
   "cell_type": "markdown",
   "id": "d05f2cc1",
   "metadata": {},
   "source": [
    "**Checking the percentage at which student completed their lesson**"
   ]
  },
  {
   "cell_type": "code",
   "execution_count": 23,
   "id": "efb2313b",
   "metadata": {},
   "outputs": [
    {
     "name": "stdout",
     "output_type": "stream",
     "text": [
      "The total of students is: 1060\n",
      "\n",
      "Lesson Completion Percentage: 5-May    12.735849\n",
      "5-Mar    11.698113\n",
      "5-Jul    10.943396\n",
      "5-Feb    10.283019\n",
      "5-Sep     9.622642\n",
      "5-Apr     9.433962\n",
      "5-Jan     8.962264\n",
      "0/5       8.867925\n",
      "5-Jun     8.867925\n",
      "5-Aug     8.584906\n",
      "Name: lesson_summary, dtype: float64\n",
      "Most Completed Lesson: 5-May\n",
      "Least Completed Lesson: 5-Aug\n"
     ]
    },
    {
     "data": {
      "image/png": "[encoded data removed]",
      "text/plain": [
       "<Figure size 1000x600 with 1 Axes>"
      ]
     },
     "metadata": {},
     "output_type": "display_data"
    }
   ],
   "source": [
    "lesson_summary = main_df['lesson_summary']\n",
    "\n",
    "# Count the number of occurrences for each lesson\n",
    "lesson_counts = lesson_summary.value_counts()\n",
    "\n",
    "# Calculate the total number of students\n",
    "total_students = len(main_df)\n",
    "print(\"The total of students is:\", total_students)\n",
    "\n",
    "# Calculate the percentage of students who completed each lesson\n",
    "lesson_completion_percentage = (lesson_counts / total_students) * 100\n",
    "\n",
    "# Print the percentage of students who completed each lesson\n",
    "print(\"\\nLesson Completion Percentage:\", lesson_completion_percentage)\n",
    "\n",
    "# Identify the most completed lesson\n",
    "most_completed_lesson = lesson_completion_percentage.idxmax()\n",
    "print(f\"Most Completed Lesson:\", most_completed_lesson)\n",
    "\n",
    "# Identify the least completed lesson\n",
    "least_completed_lesson = lesson_completion_percentage.idxmin()\n",
    "print(\"Least Completed Lesson:\", least_completed_lesson)\n",
    "\n",
    "\n",
    "# Plotting the data as a pie chart\n",
    "plt.figure(figsize=(10, 6))\n",
    "plt.pie(lesson_completion_percentage, labels=lesson_completion_percentage.index, autopct='%1.1f%%')\n",
    "plt.title('Lesson Completion Percentage')\n",
    "plt.savefig('Lesson')\n",
    "plt.show()"
   ]
  },
  {
   "cell_type": "markdown",
   "id": "3be9edbb",
   "metadata": {},
   "source": [
    "Eploring the Quiz Summary Column"
   ]
  },
  {
   "cell_type": "code",
   "execution_count": 25,
   "id": "7fb2a8e8",
   "metadata": {},
   "outputs": [
    {
     "name": "stdout",
     "output_type": "stream",
     "text": [
      "Average Quiz Score: 51.241\n",
      "Highest Quiz Score: 100.0\n",
      "Lowest Quiz Score: 1.0\n",
      "Number of Students Scoring Above 50: 585\n",
      "Numbe of Student Scoring Below 50: 475\n"
     ]
    },
    {
     "data": {
      "image/png": "[encoded data removed]",
      "text/plain": [
       "<Figure size 640x480 with 1 Axes>"
      ]
     },
     "metadata": {},
     "output_type": "display_data"
    },
    {
     "data": {
      "image/png": "[encoded data removed]",
      "text/plain": [
       "<Figure size 1000x600 with 1 Axes>"
      ]
     },
     "metadata": {},
     "output_type": "display_data"
    }
   ],
   "source": [
    "quiz_summary = main_df['quiz_summary']\n",
    "\n",
    "# Calculate the average quiz score\n",
    "average_score = quiz_summary.mean()\n",
    "\n",
    "# Identify the highest and lowest quiz scores\n",
    "highest_score = quiz_summary.max()\n",
    "lowest_score = quiz_summary.min()\n",
    "\n",
    "# Count the number of students who scored above and below 50\n",
    "num_students_above_50 = (quiz_summary >= 50).sum()\n",
    "num_students_below_50 = (quiz_summary < 50).sum()\n",
    "\n",
    "# Print the results\n",
    "print(\"Average Quiz Score:\", average_score)\n",
    "print(\"Highest Quiz Score:\", highest_score)\n",
    "print(\"Lowest Quiz Score:\", lowest_score)\n",
    "print(\"Number of Students Scoring Above 50:\", num_students_above_50)\n",
    "print(\"Numbe of Student Scoring Below 50:\", num_students_below_50)\n",
    "\n",
    "# Plotting the data as a bar chart\n",
    "categories = ['Above 50', 'Below 50']\n",
    "values = [num_students_above_50, num_students_below_50]\n",
    "\n",
    "plt.bar(categories, values)\n",
    "plt.xlabel('Score Category')\n",
    "plt.ylabel('Number of Students')\n",
    "plt.title('Students Score in the Quiz')\n",
    "plt.savefig('Quiz1')\n",
    "plt.show()\n",
    "\n",
    "# Plotting the data as a pie chart\n",
    "plt.figure(figsize=(10, 6))\n",
    "plt.pie(values, labels=categories, autopct='%1.1f%%')\n",
    "plt.title('Percentage of Students Score in the Quiz')\n",
    "plt.savefig('Quiz')\n",
    "plt.show()"
   ]
  },
  {
   "cell_type": "markdown",
   "id": "52c20ec5",
   "metadata": {},
   "source": [
    "Exploring the Assignment Summary Column"
   ]
  },
  {
   "cell_type": "code",
   "execution_count": 26,
   "id": "713c0bf2",
   "metadata": {},
   "outputs": [
    {
     "name": "stdout",
     "output_type": "stream",
     "text": [
      "Average Assignment Score: 51.135849056603774\n",
      "Highest Assignment Score: 100\n",
      "Lowest Assignment Score: 0\n",
      "Number of Students Scoring Above 50: 565\n",
      "Number of Students Scoring Below 50: 495\n"
     ]
    },
    {
     "data": {
      "image/png": "[encoded data removed]",
      "text/plain": [
       "<Figure size 640x480 with 1 Axes>"
      ]
     },
     "metadata": {},
     "output_type": "display_data"
    },
    {
     "data": {
      "image/png": "[encoded data removed]",
      "text/plain": [
       "<Figure size 1000x600 with 1 Axes>"
      ]
     },
     "metadata": {},
     "output_type": "display_data"
    }
   ],
   "source": [
    "assignment_summary = main_df['assignment_summary']\n",
    "\n",
    "# Calculate the average quiz score\n",
    "average_score = assignment_summary.mean()\n",
    "\n",
    "# Identify the highest and lowest quiz scores\n",
    "highest_score = assignment_summary.max()\n",
    "lowest_score = assignment_summary.min()\n",
    "\n",
    "# Count the number of students who scored above and below 50\n",
    "num_students_above_50 = (assignment_summary >= 50).sum()\n",
    "num_students_below_50 = (assignment_summary < 50).sum()\n",
    "\n",
    "# Print the results\n",
    "print(\"Average Assignment Score:\", average_score)\n",
    "print(\"Highest Assignment Score:\", highest_score)\n",
    "print(\"Lowest Assignment Score:\", lowest_score)\n",
    "print(\"Number of Students Scoring Above 50:\", num_students_above_50)\n",
    "print(\"Number of Students Scoring Below 50:\", num_students_below_50)\n",
    "\n",
    "# Plotting the data as a bar chart\n",
    "categories = ['Above 50', 'Below 50']\n",
    "values = [num_students_above_50, num_students_below_50]\n",
    "\n",
    "plt.bar(categories, values)\n",
    "plt.xlabel('Score Category')\n",
    "plt.ylabel('Number of Students')\n",
    "plt.title('Students Score in the Assignment')\n",
    "plt.savefig('Assignment1')\n",
    "plt.show()\n",
    "\n",
    "# Plotting the data as a pie chart\n",
    "plt.figure(figsize=(10, 6))\n",
    "plt.pie(values, labels=categories, autopct='%1.1f%%')\n",
    "plt.title('Percentage of Students Score in the Assignment')\n",
    "plt.savefig('Assignment')\n",
    "plt.show()"
   ]
  },
  {
   "cell_type": "code",
   "execution_count": 32,
   "id": "ce49a740",
   "metadata": {},
   "outputs": [
    {
     "name": "stdout",
     "output_type": "stream",
     "text": [
      "Average GPA Score: 51.135849056603774\n",
      "Highest GPA Score: 100.0\n",
      "Lowest GPA Score: 0.0\n",
      "Number of Students Scoring Above 50: 550\n",
      "Number of Students Scoring Below 50: 510\n"
     ]
    },
    {
     "data": {
      "image/png": "[encoded data removed]",
      "text/plain": [
       "<Figure size 640x480 with 1 Axes>"
      ]
     },
     "metadata": {},
     "output_type": "display_data"
    },
    {
     "data": {
      "image/png": "[encoded data removed]",
      "text/plain": [
       "<Figure size 1000x600 with 1 Axes>"
      ]
     },
     "metadata": {},
     "output_type": "display_data"
    }
   ],
   "source": [
    "gpa_column = main_df['grade_point_average']\n",
    "\n",
    "# Calculate the average quiz score\n",
    "average_score = assignment_summary.mean()\n",
    "\n",
    "# Identify the highest and lowest quiz scores\n",
    "highest_score = gpa_column.max()\n",
    "lowest_score = gpa_column.min()\n",
    "\n",
    "# Count the number of students who scored above and below 50\n",
    "num_students_above_50 = (gpa_column >= 50).sum()\n",
    "num_students_below_50 = (gpa_column < 50).sum()\n",
    "\n",
    "# Print the results\n",
    "print(\"Average GPA Score:\", average_score)\n",
    "print(\"Highest GPA Score:\", highest_score)\n",
    "print(\"Lowest GPA Score:\", lowest_score)\n",
    "print(\"Number of Students Scoring Above 50:\", num_students_above_50)\n",
    "print(\"Number of Students Scoring Below 50:\", num_students_below_50)\n",
    "\n",
    "# Plotting the data as a bar chart\n",
    "categories = ['Above 50', 'Below 50']\n",
    "values = [num_students_above_50, num_students_below_50]\n",
    "\n",
    "plt.bar(categories, values)\n",
    "plt.xlabel('Score Category')\n",
    "plt.ylabel('Number of Students')\n",
    "plt.title('Students GPA')\n",
    "plt.savefig('gpa1')\n",
    "plt.show()\n",
    "\n",
    "# Plotting the data as a pie chart\n",
    "plt.figure(figsize=(10, 6))\n",
    "plt.pie(values, labels=categories, autopct='%1.1f%%')\n",
    "plt.title('Percentage of Students GPA')\n",
    "plt.savefig('gpa')\n",
    "plt.show()"
   ]
  },
  {
   "cell_type": "code",
   "execution_count": 49,
   "id": "fa2b0eaa",
   "metadata": {},
   "outputs": [
    {
     "name": "stdout",
     "output_type": "stream",
     "text": [
      "Number of eligible students: 550\n",
      "Percentage of eligible students: 51.89%\n",
      "Number of non-eligible students: 510\n",
      "Total Number of Students: 1060\n",
      "Percentage of non-eligible students: 48.11%\n",
      "\n",
      "Comparison of performance:\n",
      "Average GPA - Eligible students: 75.70763636363635\n",
      "Average GPA - Non-eligible students: 23.554901960784314\n",
      "Average Quiz Scores - Eligible students: 51.77294909090909\n",
      "Average Quiz Scores - Non-eligible students: 50.667329411764705\n",
      "Average Assignment Scores - Eligible students: 51.585454545454546\n",
      "Average Assignment Scores - Non-eligible students: 50.65098039215686\n"
     ]
    },
    {
     "data": {
      "image/png": "[encoded data removed]",
      "text/plain": [
       "<Figure size 800x600 with 1 Axes>"
      ]
     },
     "metadata": {},
     "output_type": "display_data"
    }
   ],
   "source": [
    "eligible_students = main_df[main_df['intermediate_class_eligibility'] == 'Yes']\n",
    "non_eligible_students = main_df[main_df['intermediate_class_eligibility'] == 'No']\n",
    "\n",
    "# Calculate the number and percentage of eligible students\n",
    "num_eligible_students = len(eligible_students)\n",
    "num_non_eligible_students = len(non_eligible_students)\n",
    "total_students = len(main_df)\n",
    "\n",
    "percentage_eligible_students = (num_eligible_students / total_students) * 100\n",
    "percentage_non_eligible_students = (num_non_eligible_students / total_students) * 100\n",
    "\n",
    "# Compare the performance of eligible and non-eligible students\n",
    "eligible_gpa = eligible_students['grade_point_average'].mean()\n",
    "non_eligible_gpa = non_eligible_students['grade_point_average'].mean()\n",
    "\n",
    "eligible_quiz_scores = eligible_students['quiz_summary'].mean()\n",
    "non_eligible_quiz_scores = non_eligible_students['quiz_summary'].mean()\n",
    "\n",
    "eligible_assignment_scores = eligible_students['assignment_summary'].mean()\n",
    "non_eligible_assignment_scores = non_eligible_students['assignment_summary'].mean()\n",
    "\n",
    "# Print the results\n",
    "print(\"Number of eligible students:\", num_eligible_students)\n",
    "print(\"Percentage of eligible students: {:.2f}%\".format(percentage_eligible_students))\n",
    "print(\"Number of non-eligible students:\", num_non_eligible_students)\n",
    "print(\"Total Number of Students:\", total_students)\n",
    "print(\"Percentage of non-eligible students: {:.2f}%\".format(percentage_non_eligible_students))\n",
    "print(\"\\nComparison of performance:\")\n",
    "print(\"Average GPA - Eligible students:\", eligible_gpa)\n",
    "print(\"Average GPA - Non-eligible students:\", non_eligible_gpa)\n",
    "print(\"Average Quiz Scores - Eligible students:\", eligible_quiz_scores)\n",
    "print(\"Average Quiz Scores - Non-eligible students:\", non_eligible_quiz_scores)\n",
    "print(\"Average Assignment Scores - Eligible students:\", eligible_assignment_scores)\n",
    "print(\"Average Assignment Scores - Non-eligible students:\", non_eligible_assignment_scores)\n",
    "\n",
    "\n",
    "labels = ['Eligible', 'Non-eligible']\n",
    "sizes = [51.89, 48.11]\n",
    "\n",
    "# Plotting the pie chart\n",
    "plt.figure(figsize=(8, 6))\n",
    "plt.pie(sizes, labels=labels, autopct='%1.1f%%', startangle=90)\n",
    "plt.title('Percentage of Eligible and Non-eligible Students\\n\\n'\n",
    "          f'Eligible: {num_eligible_students}\\n'\n",
    "          f'Non-eligible: {num_non_eligible_students}')\n",
    "plt.savefig('Eligible')\n",
    "plt.show()"
   ]
  },
  {
   "cell_type": "code",
   "execution_count": 50,
   "id": "39c63200",
   "metadata": {},
   "outputs": [
    {
     "data": {
      "image/png": "[encoded data removed]",
      "text/plain": [
       "<Figure size 800x800 with 1 Axes>"
      ]
     },
     "metadata": {},
     "output_type": "display_data"
    }
   ],
   "source": [
    "import matplotlib.pyplot as plt\n",
    "\n",
    "# Calculate the number of eligible and non-eligible students\n",
    "num_eligible_students = 550\n",
    "num_non_eligible_students = 510\n",
    "total_students = 1060\n",
    "\n",
    "# Create a list of labels for the pie chart\n",
    "labels = ['Eligible', 'Non-eligible']\n",
    "\n",
    "# Create a list of values for the pie chart\n",
    "values = [num_eligible_students, num_non_eligible_students]\n",
    "\n",
    "# Create the pie chart\n",
    "plt.figure(figsize=(8, 8))\n",
    "plt.pie(values, labels=labels, autopct='%1.1f%%', startangle=90)\n",
    "\n",
    "# Add the count as text inside each slice of the pie chart\n",
    "for i, value in enumerate(values):\n",
    "    plt.text(0.9 * i, 0.1, value, ha='right', va='bottom', fontsize=12, fontweight='bold')\n",
    "\n",
    "# Set aspect ratio to be equal so that pie is drawn as a circle\n",
    "plt.axis('equal')\n",
    "\n",
    "# Add a title\n",
    "plt.title('Eligible and Non-eligible Students')\n",
    "\n",
    "# Display the pie chart\n",
    "plt.show()\n"
   ]
  },
  {
   "cell_type": "markdown",
   "id": "90d3f2b8",
   "metadata": {},
   "source": [
    "check datatypes for numbers and objects"
   ]
  },
  {
   "cell_type": "code",
   "execution_count": 51,
   "id": "5d2a78cb",
   "metadata": {},
   "outputs": [
    {
     "data": {
      "text/plain": [
       "Index(['name', 'email_address', 'lesson_summary',\n",
       "       'intermediate_class_eligibility'],\n",
       "      dtype='object')"
      ]
     },
     "execution_count": 51,
     "metadata": {},
     "output_type": "execute_result"
    }
   ],
   "source": [
    "main_df.select_dtypes(\"object\").columns"
   ]
  },
  {
   "cell_type": "code",
   "execution_count": 52,
   "id": "6529fe20",
   "metadata": {},
   "outputs": [
    {
     "data": {
      "text/plain": [
       "Index(['sn', 'quiz_summary', 'assignment_summary', 'grade_point_average'], dtype='object')"
      ]
     },
     "execution_count": 52,
     "metadata": {},
     "output_type": "execute_result"
    }
   ],
   "source": [
    "main_df.select_dtypes(\"number\").columns"
   ]
  },
  {
   "cell_type": "markdown",
   "id": "d3cc8a98",
   "metadata": {},
   "source": [
    "check the histogram of the dataset"
   ]
  },
  {
   "cell_type": "code",
   "execution_count": 53,
   "id": "7e184ce1",
   "metadata": {},
   "outputs": [
    {
     "data": {
      "image/png": "[encoded data removed]",
      "text/plain": [
       "<Figure size 1600x1000 with 4 Axes>"
      ]
     },
     "metadata": {},
     "output_type": "display_data"
    }
   ],
   "source": [
    "main_df.hist(figsize=[16,10]);"
   ]
  },
  {
   "cell_type": "code",
   "execution_count": 54,
   "id": "b521216d",
   "metadata": {},
   "outputs": [
    {
     "data": {
      "text/html": [
       "<div>\n",
       "<style scoped>\n",
       "    .dataframe tbody tr th:only-of-type {\n",
       "        vertical-align: middle;\n",
       "    }\n",
       "\n",
       "    .dataframe tbody tr th {\n",
       "        vertical-align: top;\n",
       "    }\n",
       "\n",
       "    .dataframe thead th {\n",
       "        text-align: right;\n",
       "    }\n",
       "</style>\n",
       "<table border=\"1\" class=\"dataframe\">\n",
       "  <thead>\n",
       "    <tr style=\"text-align: right;\">\n",
       "      <th></th>\n",
       "      <th>sn</th>\n",
       "      <th>name</th>\n",
       "      <th>email_address</th>\n",
       "      <th>lesson_summary</th>\n",
       "      <th>quiz_summary</th>\n",
       "      <th>assignment_summary</th>\n",
       "      <th>grade_point_average</th>\n",
       "      <th>intermediate_class_eligibility</th>\n",
       "    </tr>\n",
       "  </thead>\n",
       "  <tbody>\n",
       "    <tr>\n",
       "      <th>995</th>\n",
       "      <td>1056</td>\n",
       "      <td>id_1056</td>\n",
       "      <td>smccaddenrn@blogger.com</td>\n",
       "      <td>5-Aug</td>\n",
       "      <td>13.0</td>\n",
       "      <td>34</td>\n",
       "      <td>14.0</td>\n",
       "      <td>No</td>\n",
       "    </tr>\n",
       "    <tr>\n",
       "      <th>996</th>\n",
       "      <td>1057</td>\n",
       "      <td>id_1057</td>\n",
       "      <td>ebowllerro@nhs.uk</td>\n",
       "      <td>5-Feb</td>\n",
       "      <td>98.0</td>\n",
       "      <td>56</td>\n",
       "      <td>36.0</td>\n",
       "      <td>No</td>\n",
       "    </tr>\n",
       "    <tr>\n",
       "      <th>997</th>\n",
       "      <td>1058</td>\n",
       "      <td>id_1058</td>\n",
       "      <td>mtomischrp@about.me</td>\n",
       "      <td>5-Jul</td>\n",
       "      <td>64.0</td>\n",
       "      <td>97</td>\n",
       "      <td>49.0</td>\n",
       "      <td>No</td>\n",
       "    </tr>\n",
       "    <tr>\n",
       "      <th>998</th>\n",
       "      <td>1059</td>\n",
       "      <td>id_1059</td>\n",
       "      <td>sbaudirq@amazon.com</td>\n",
       "      <td>5-May</td>\n",
       "      <td>100.0</td>\n",
       "      <td>71</td>\n",
       "      <td>21.0</td>\n",
       "      <td>No</td>\n",
       "    </tr>\n",
       "    <tr>\n",
       "      <th>999</th>\n",
       "      <td>1060</td>\n",
       "      <td>id_1060</td>\n",
       "      <td>hschulterrr@blinklist.com</td>\n",
       "      <td>5-Jan</td>\n",
       "      <td>66.0</td>\n",
       "      <td>21</td>\n",
       "      <td>33.0</td>\n",
       "      <td>No</td>\n",
       "    </tr>\n",
       "  </tbody>\n",
       "</table>\n",
       "</div>"
      ],
      "text/plain": [
       "       sn     name              email_address lesson_summary  quiz_summary  \\\n",
       "995  1056  id_1056    smccaddenrn@blogger.com          5-Aug          13.0   \n",
       "996  1057  id_1057          ebowllerro@nhs.uk          5-Feb          98.0   \n",
       "997  1058  id_1058        mtomischrp@about.me          5-Jul          64.0   \n",
       "998  1059  id_1059        sbaudirq@amazon.com          5-May         100.0   \n",
       "999  1060  id_1060  hschulterrr@blinklist.com          5-Jan          66.0   \n",
       "\n",
       "     assignment_summary  grade_point_average intermediate_class_eligibility  \n",
       "995                  34                 14.0                             No  \n",
       "996                  56                 36.0                             No  \n",
       "997                  97                 49.0                             No  \n",
       "998                  71                 21.0                             No  \n",
       "999                  21                 33.0                             No  "
      ]
     },
     "execution_count": 54,
     "metadata": {},
     "output_type": "execute_result"
    }
   ],
   "source": [
    "main_df.tail()"
   ]
  },
  {
   "cell_type": "markdown",
   "id": "670e6823",
   "metadata": {},
   "source": [
    "### Data Preprocessing"
   ]
  },
  {
   "cell_type": "markdown",
   "id": "e4b6cb5d",
   "metadata": {},
   "source": [
    "Dropping irrelevant columns in the dataset"
   ]
  },
  {
   "cell_type": "code",
   "execution_count": 55,
   "id": "e2834891",
   "metadata": {},
   "outputs": [],
   "source": [
    "main_df.drop([\"sn\",\"name\", \"email_address\", \"lesson_summary\"], axis=1, inplace = True)"
   ]
  },
  {
   "cell_type": "code",
   "execution_count": 56,
   "id": "6b1a368e",
   "metadata": {},
   "outputs": [
    {
     "data": {
      "text/html": [
       "<div>\n",
       "<style scoped>\n",
       "    .dataframe tbody tr th:only-of-type {\n",
       "        vertical-align: middle;\n",
       "    }\n",
       "\n",
       "    .dataframe tbody tr th {\n",
       "        vertical-align: top;\n",
       "    }\n",
       "\n",
       "    .dataframe thead th {\n",
       "        text-align: right;\n",
       "    }\n",
       "</style>\n",
       "<table border=\"1\" class=\"dataframe\">\n",
       "  <thead>\n",
       "    <tr style=\"text-align: right;\">\n",
       "      <th></th>\n",
       "      <th>quiz_summary</th>\n",
       "      <th>assignment_summary</th>\n",
       "      <th>grade_point_average</th>\n",
       "      <th>intermediate_class_eligibility</th>\n",
       "    </tr>\n",
       "  </thead>\n",
       "  <tbody>\n",
       "    <tr>\n",
       "      <th>0</th>\n",
       "      <td>51.241</td>\n",
       "      <td>0</td>\n",
       "      <td>0.0</td>\n",
       "      <td>No</td>\n",
       "    </tr>\n",
       "    <tr>\n",
       "      <th>1</th>\n",
       "      <td>51.241</td>\n",
       "      <td>70</td>\n",
       "      <td>56.0</td>\n",
       "      <td>Yes</td>\n",
       "    </tr>\n",
       "    <tr>\n",
       "      <th>2</th>\n",
       "      <td>51.241</td>\n",
       "      <td>80</td>\n",
       "      <td>64.0</td>\n",
       "      <td>Yes</td>\n",
       "    </tr>\n",
       "    <tr>\n",
       "      <th>3</th>\n",
       "      <td>51.241</td>\n",
       "      <td>100</td>\n",
       "      <td>80.0</td>\n",
       "      <td>Yes</td>\n",
       "    </tr>\n",
       "    <tr>\n",
       "      <th>4</th>\n",
       "      <td>51.241</td>\n",
       "      <td>80</td>\n",
       "      <td>64.0</td>\n",
       "      <td>Yes</td>\n",
       "    </tr>\n",
       "  </tbody>\n",
       "</table>\n",
       "</div>"
      ],
      "text/plain": [
       "   quiz_summary  assignment_summary  grade_point_average  \\\n",
       "0        51.241                   0                  0.0   \n",
       "1        51.241                  70                 56.0   \n",
       "2        51.241                  80                 64.0   \n",
       "3        51.241                 100                 80.0   \n",
       "4        51.241                  80                 64.0   \n",
       "\n",
       "  intermediate_class_eligibility  \n",
       "0                             No  \n",
       "1                            Yes  \n",
       "2                            Yes  \n",
       "3                            Yes  \n",
       "4                            Yes  "
      ]
     },
     "execution_count": 56,
     "metadata": {},
     "output_type": "execute_result"
    }
   ],
   "source": [
    "main_df.head()"
   ]
  },
  {
   "cell_type": "code",
   "execution_count": 57,
   "id": "579c733c",
   "metadata": {},
   "outputs": [],
   "source": [
    "df = main_df.copy()"
   ]
  },
  {
   "cell_type": "markdown",
   "id": "11986064",
   "metadata": {},
   "source": [
    "Converting the \"intermediate_class_eligibility\" column to_numeric "
   ]
  },
  {
   "cell_type": "code",
   "execution_count": 58,
   "id": "a70b5e67",
   "metadata": {},
   "outputs": [],
   "source": [
    "to_numeric = {'Yes': 1, 'No': 2}\n",
    "#to_numeric"
   ]
  },
  {
   "cell_type": "code",
   "execution_count": 59,
   "id": "e19a5d20",
   "metadata": {},
   "outputs": [],
   "source": [
    "main_df = main_df.applymap(lambda lable: to_numeric.get(lable) if lable in to_numeric else lable)"
   ]
  },
  {
   "cell_type": "code",
   "execution_count": 60,
   "id": "34f32347",
   "metadata": {},
   "outputs": [
    {
     "data": {
      "text/html": [
       "<div>\n",
       "<style scoped>\n",
       "    .dataframe tbody tr th:only-of-type {\n",
       "        vertical-align: middle;\n",
       "    }\n",
       "\n",
       "    .dataframe tbody tr th {\n",
       "        vertical-align: top;\n",
       "    }\n",
       "\n",
       "    .dataframe thead th {\n",
       "        text-align: right;\n",
       "    }\n",
       "</style>\n",
       "<table border=\"1\" class=\"dataframe\">\n",
       "  <thead>\n",
       "    <tr style=\"text-align: right;\">\n",
       "      <th></th>\n",
       "      <th>quiz_summary</th>\n",
       "      <th>assignment_summary</th>\n",
       "      <th>grade_point_average</th>\n",
       "      <th>intermediate_class_eligibility</th>\n",
       "    </tr>\n",
       "  </thead>\n",
       "  <tbody>\n",
       "    <tr>\n",
       "      <th>0</th>\n",
       "      <td>51.241</td>\n",
       "      <td>0</td>\n",
       "      <td>0.0</td>\n",
       "      <td>2</td>\n",
       "    </tr>\n",
       "    <tr>\n",
       "      <th>1</th>\n",
       "      <td>51.241</td>\n",
       "      <td>70</td>\n",
       "      <td>56.0</td>\n",
       "      <td>1</td>\n",
       "    </tr>\n",
       "    <tr>\n",
       "      <th>2</th>\n",
       "      <td>51.241</td>\n",
       "      <td>80</td>\n",
       "      <td>64.0</td>\n",
       "      <td>1</td>\n",
       "    </tr>\n",
       "    <tr>\n",
       "      <th>3</th>\n",
       "      <td>51.241</td>\n",
       "      <td>100</td>\n",
       "      <td>80.0</td>\n",
       "      <td>1</td>\n",
       "    </tr>\n",
       "    <tr>\n",
       "      <th>4</th>\n",
       "      <td>51.241</td>\n",
       "      <td>80</td>\n",
       "      <td>64.0</td>\n",
       "      <td>1</td>\n",
       "    </tr>\n",
       "  </tbody>\n",
       "</table>\n",
       "</div>"
      ],
      "text/plain": [
       "   quiz_summary  assignment_summary  grade_point_average  \\\n",
       "0        51.241                   0                  0.0   \n",
       "1        51.241                  70                 56.0   \n",
       "2        51.241                  80                 64.0   \n",
       "3        51.241                 100                 80.0   \n",
       "4        51.241                  80                 64.0   \n",
       "\n",
       "   intermediate_class_eligibility  \n",
       "0                               2  \n",
       "1                               1  \n",
       "2                               1  \n",
       "3                               1  \n",
       "4                               1  "
      ]
     },
     "execution_count": 60,
     "metadata": {},
     "output_type": "execute_result"
    }
   ],
   "source": [
    "main_df.head()"
   ]
  },
  {
   "cell_type": "markdown",
   "id": "b963d71d",
   "metadata": {},
   "source": [
    "Dataset corr()"
   ]
  },
  {
   "cell_type": "code",
   "execution_count": 61,
   "id": "76b8f30a",
   "metadata": {},
   "outputs": [
    {
     "data": {
      "text/html": [
       "<div>\n",
       "<style scoped>\n",
       "    .dataframe tbody tr th:only-of-type {\n",
       "        vertical-align: middle;\n",
       "    }\n",
       "\n",
       "    .dataframe tbody tr th {\n",
       "        vertical-align: top;\n",
       "    }\n",
       "\n",
       "    .dataframe thead th {\n",
       "        text-align: right;\n",
       "    }\n",
       "</style>\n",
       "<table border=\"1\" class=\"dataframe\">\n",
       "  <thead>\n",
       "    <tr style=\"text-align: right;\">\n",
       "      <th></th>\n",
       "      <th>quiz_summary</th>\n",
       "      <th>assignment_summary</th>\n",
       "      <th>grade_point_average</th>\n",
       "      <th>intermediate_class_eligibility</th>\n",
       "    </tr>\n",
       "  </thead>\n",
       "  <tbody>\n",
       "    <tr>\n",
       "      <th>quiz_summary</th>\n",
       "      <td>1.000000</td>\n",
       "      <td>-0.025264</td>\n",
       "      <td>0.010990</td>\n",
       "      <td>-0.019720</td>\n",
       "    </tr>\n",
       "    <tr>\n",
       "      <th>assignment_summary</th>\n",
       "      <td>-0.025264</td>\n",
       "      <td>1.000000</td>\n",
       "      <td>0.064638</td>\n",
       "      <td>-0.015304</td>\n",
       "    </tr>\n",
       "    <tr>\n",
       "      <th>grade_point_average</th>\n",
       "      <td>0.010990</td>\n",
       "      <td>0.064638</td>\n",
       "      <td>1.000000</td>\n",
       "      <td>-0.873419</td>\n",
       "    </tr>\n",
       "    <tr>\n",
       "      <th>intermediate_class_eligibility</th>\n",
       "      <td>-0.019720</td>\n",
       "      <td>-0.015304</td>\n",
       "      <td>-0.873419</td>\n",
       "      <td>1.000000</td>\n",
       "    </tr>\n",
       "  </tbody>\n",
       "</table>\n",
       "</div>"
      ],
      "text/plain": [
       "                                quiz_summary  assignment_summary  \\\n",
       "quiz_summary                        1.000000           -0.025264   \n",
       "assignment_summary                 -0.025264            1.000000   \n",
       "grade_point_average                 0.010990            0.064638   \n",
       "intermediate_class_eligibility     -0.019720           -0.015304   \n",
       "\n",
       "                                grade_point_average  \\\n",
       "quiz_summary                               0.010990   \n",
       "assignment_summary                         0.064638   \n",
       "grade_point_average                        1.000000   \n",
       "intermediate_class_eligibility            -0.873419   \n",
       "\n",
       "                                intermediate_class_eligibility  \n",
       "quiz_summary                                         -0.019720  \n",
       "assignment_summary                                   -0.015304  \n",
       "grade_point_average                                  -0.873419  \n",
       "intermediate_class_eligibility                        1.000000  "
      ]
     },
     "execution_count": 61,
     "metadata": {},
     "output_type": "execute_result"
    }
   ],
   "source": [
    "main_df.corr()"
   ]
  },
  {
   "cell_type": "markdown",
   "id": "6b7a119b",
   "metadata": {},
   "source": [
    "Checking Correlation in the Dataset using Heatmap"
   ]
  },
  {
   "cell_type": "code",
   "execution_count": 71,
   "id": "3d3443e7",
   "metadata": {},
   "outputs": [
    {
     "data": {
      "image/png": "[encoded data removed]",
      "text/plain": [
       "<Figure size 800x600 with 2 Axes>"
      ]
     },
     "metadata": {},
     "output_type": "display_data"
    }
   ],
   "source": [
    "plt.figure(figsize=(8,6))\n",
    "# using the upper triangle matrix as mask \n",
    "#matrix = np.triu(main_df.corr())\n",
    "\n",
    "sns.heatmap(main_df.corr(), cmap =\"coolwarm\", annot=True); #mask=matrix\n",
    "plt.tight_layout() # used to ensure that the entire graph is visible when I save it.\n",
    "plt.savefig('heatmap')\n",
    "plt.show()"
   ]
  },
  {
   "cell_type": "code",
   "execution_count": 72,
   "id": "3f57c97d",
   "metadata": {},
   "outputs": [
    {
     "data": {
      "text/plain": [
       "Index(['intermediate_class_eligibility', 'assignment_summary', 'quiz_summary',\n",
       "       'grade_point_average'],\n",
       "      dtype='object')"
      ]
     },
     "execution_count": 72,
     "metadata": {},
     "output_type": "execute_result"
    }
   ],
   "source": [
    "main_df.corr()[\"intermediate_class_eligibility\"].sort_values(ascending = False).index"
   ]
  },
  {
   "cell_type": "markdown",
   "id": "f3d35c35",
   "metadata": {},
   "source": [
    "Checking the skewness of the Dataset"
   ]
  },
  {
   "cell_type": "code",
   "execution_count": 73,
   "id": "5f59ba3f",
   "metadata": {},
   "outputs": [
    {
     "data": {
      "text/plain": [
       "quiz_summary                     -0.029624\n",
       "assignment_summary               -0.060709\n",
       "grade_point_average              -0.088528\n",
       "intermediate_class_eligibility    0.075633\n",
       "dtype: float64"
      ]
     },
     "execution_count": 73,
     "metadata": {},
     "output_type": "execute_result"
    }
   ],
   "source": [
    "main_df.skew(axis = 0, skipna = True)"
   ]
  },
  {
   "cell_type": "markdown",
   "id": "68c42682",
   "metadata": {},
   "source": [
    "Dropping the Target Variable "
   ]
  },
  {
   "cell_type": "code",
   "execution_count": 74,
   "id": "d4ef9dd8",
   "metadata": {},
   "outputs": [],
   "source": [
    "raw_citrone_df = main_df['intermediate_class_eligibility']\n",
    "copied_df = main_df.copy()\n",
    "main_df.drop('intermediate_class_eligibility' , axis = 1, inplace = True)"
   ]
  },
  {
   "cell_type": "code",
   "execution_count": 75,
   "id": "c6e937d3",
   "metadata": {},
   "outputs": [
    {
     "data": {
      "text/html": [
       "<div>\n",
       "<style scoped>\n",
       "    .dataframe tbody tr th:only-of-type {\n",
       "        vertical-align: middle;\n",
       "    }\n",
       "\n",
       "    .dataframe tbody tr th {\n",
       "        vertical-align: top;\n",
       "    }\n",
       "\n",
       "    .dataframe thead th {\n",
       "        text-align: right;\n",
       "    }\n",
       "</style>\n",
       "<table border=\"1\" class=\"dataframe\">\n",
       "  <thead>\n",
       "    <tr style=\"text-align: right;\">\n",
       "      <th></th>\n",
       "      <th>quiz_summary</th>\n",
       "      <th>assignment_summary</th>\n",
       "      <th>grade_point_average</th>\n",
       "    </tr>\n",
       "  </thead>\n",
       "  <tbody>\n",
       "    <tr>\n",
       "      <th>0</th>\n",
       "      <td>51.241</td>\n",
       "      <td>0</td>\n",
       "      <td>0.0</td>\n",
       "    </tr>\n",
       "    <tr>\n",
       "      <th>1</th>\n",
       "      <td>51.241</td>\n",
       "      <td>70</td>\n",
       "      <td>56.0</td>\n",
       "    </tr>\n",
       "    <tr>\n",
       "      <th>2</th>\n",
       "      <td>51.241</td>\n",
       "      <td>80</td>\n",
       "      <td>64.0</td>\n",
       "    </tr>\n",
       "    <tr>\n",
       "      <th>3</th>\n",
       "      <td>51.241</td>\n",
       "      <td>100</td>\n",
       "      <td>80.0</td>\n",
       "    </tr>\n",
       "    <tr>\n",
       "      <th>4</th>\n",
       "      <td>51.241</td>\n",
       "      <td>80</td>\n",
       "      <td>64.0</td>\n",
       "    </tr>\n",
       "  </tbody>\n",
       "</table>\n",
       "</div>"
      ],
      "text/plain": [
       "   quiz_summary  assignment_summary  grade_point_average\n",
       "0        51.241                   0                  0.0\n",
       "1        51.241                  70                 56.0\n",
       "2        51.241                  80                 64.0\n",
       "3        51.241                 100                 80.0\n",
       "4        51.241                  80                 64.0"
      ]
     },
     "execution_count": 75,
     "metadata": {},
     "output_type": "execute_result"
    }
   ],
   "source": [
    "main_df.head()"
   ]
  },
  {
   "cell_type": "markdown",
   "id": "72012425",
   "metadata": {},
   "source": [
    "Importing Libraries I will use for Modelling "
   ]
  },
  {
   "cell_type": "code",
   "execution_count": 76,
   "id": "cb06fcdc",
   "metadata": {},
   "outputs": [],
   "source": [
    "from sklearn import tree\n",
    "from sklearn.tree import DecisionTreeClassifier\n",
    "from sklearn.neural_network import MLPClassifier\n",
    "from sklearn.model_selection import train_test_split, GridSearchCV\n",
    "import sklearn.metrics as metrics\n",
    "from sklearn.metrics import accuracy_score, f1_score, confusion_matrix, recall_score, precision_score, classification_report\n",
    "from sklearn.svm import SVC"
   ]
  },
  {
   "cell_type": "markdown",
   "id": "d5b6150c",
   "metadata": {},
   "source": [
    "Splitting the Dataset into Training and Testing"
   ]
  },
  {
   "cell_type": "code",
   "execution_count": 77,
   "id": "0d43c85e",
   "metadata": {},
   "outputs": [],
   "source": [
    "x_train, x_test, y_train, y_test = train_test_split(main_df, raw_citrone_df, test_size = .2, random_state=42)"
   ]
  },
  {
   "cell_type": "code",
   "execution_count": 78,
   "id": "1f5d2732",
   "metadata": {},
   "outputs": [
    {
     "data": {
      "text/plain": [
       "((848, 3), (212, 3))"
      ]
     },
     "execution_count": 78,
     "metadata": {},
     "output_type": "execute_result"
    }
   ],
   "source": [
    "x_train.shape, x_test.shape"
   ]
  },
  {
   "cell_type": "markdown",
   "id": "edafd163",
   "metadata": {},
   "source": [
    "#### Training the Models"
   ]
  },
  {
   "cell_type": "markdown",
   "id": "080ee8d6",
   "metadata": {},
   "source": [
    "*Decision Tree Model*"
   ]
  },
  {
   "cell_type": "code",
   "execution_count": 79,
   "id": "cdff5eb3",
   "metadata": {},
   "outputs": [
    {
     "name": "stdout",
     "output_type": "stream",
     "text": [
      "Decision Tree Model has an accuracy score  of 1.0 on training and 1.0 on testing \n",
      "Precision Score for this Model is: 1.000000\n",
      "Recall score for this Model is: 1.000000\n",
      "F1 score for this Model is: 1.000000\n",
      "[[119   0]\n",
      " [  0  93]]\n"
     ]
    }
   ],
   "source": [
    "DT_Model = DecisionTreeClassifier()\n",
    "DT_Model.fit(x_train, y_train)\n",
    "\n",
    "predict_train = DT_Model.predict(x_train)\n",
    "predict_test = DT_Model.predict(x_test)\n",
    "\n",
    "accuracy_score_train = accuracy_score(predict_train, y_train)\n",
    "accuracy_score_test = accuracy_score(predict_test, y_test)\n",
    "\n",
    "\"\"\"checking for accuracy_score\"\"\"\n",
    "print (f\"Decision Tree Model has an accuracy score  of {accuracy_score_train} on training and {accuracy_score_test} on testing \")\n",
    "\n",
    "\"\"\"Checking for precision_score\"\"\"\n",
    "# precision tp / (tp + fp)\n",
    "precision = precision_score(y_test, predict_test)\n",
    "print('Precision Score for this Model is: %f' % precision)\n",
    "\n",
    "\"\"\"checking for recall score\"\"\"\n",
    "# recall: tp / (tp + fn)\n",
    "recall = recall_score(y_test, predict_test)\n",
    "print('Recall score for this Model is: %f' % recall)\n",
    "\n",
    "\"\"\"Checking for f1_score\"\"\"\n",
    "# f1: 2 tp / (2 tp + fp + fn)\n",
    "f1 = f1_score(y_test, predict_test)\n",
    "print('F1 score for this Model is: %f' % f1)\n",
    "\n",
    "\"\"\"Checking for confusion_matrix\"\"\"\n",
    "# confusion matrix\n",
    "matrix = confusion_matrix(y_test, predict_test)\n",
    "print(matrix)"
   ]
  },
  {
   "cell_type": "markdown",
   "id": "687829b4",
   "metadata": {},
   "source": [
    "**For Decision Tree Model**\n",
    "\n",
    "The **accuracy score is 1.0** on both training and testing, indicating that the model has made correct predictions for all the instances in the dataset it was trained on and the dataset it was tested on.\n",
    "\n",
    "The **precision score is 1.0**, indicating that the model's predictions for positive instances are completely accurate. In other words, when the model predicts an instance as positive, it is always correct.\n",
    "\n",
    "The **recall score is 1.0**, indicating that the model has identified all the positive instances in the dataset correctly. In other words, the model has not missed any positive instances.\n",
    "\n",
    "The **F1 score of 1.0** is the harmonic mean of precision and recall scores, indicating an overall excellent performance of the model.\n",
    "\n",
    "Finally, the confusion matrix indicates that the model has correctly classified 119 instances as negative and 93 instances as positive. There were no false positives or false negatives."
   ]
  },
  {
   "cell_type": "markdown",
   "id": "ee05b269",
   "metadata": {},
   "source": [
    "**Saving my model so I can use it for prediction in the future**"
   ]
  },
  {
   "cell_type": "code",
   "execution_count": 80,
   "id": "7e0eb4f0",
   "metadata": {},
   "outputs": [],
   "source": [
    "#importing a library called dump\n",
    "import joblib\n",
    "from joblib import dump"
   ]
  },
  {
   "cell_type": "code",
   "execution_count": 81,
   "id": "e3345ee0",
   "metadata": {},
   "outputs": [
    {
     "data": {
      "text/plain": [
       "['C:/Users/STUTERN/Desktop/Intermediate_project/DT_Model.joblib']"
      ]
     },
     "execution_count": 81,
     "metadata": {},
     "output_type": "execute_result"
    }
   ],
   "source": [
    "# saving my model in this path\n",
    "model_path = 'C:/Users/STUTERN/Desktop/Intermediate_project/DT_Model.joblib'\n",
    "\n",
    "# Save the model with DT_Model\n",
    "joblib.dump(DT_Model, model_path)"
   ]
  },
  {
   "cell_type": "markdown",
   "id": "452c2f30",
   "metadata": {},
   "source": [
    "*Neural Network Model*"
   ]
  },
  {
   "cell_type": "code",
   "execution_count": 82,
   "id": "f9848c40",
   "metadata": {},
   "outputs": [
    {
     "name": "stdout",
     "output_type": "stream",
     "text": [
      "Neural Network Model has an accuracy score  of 0.9516509433962265 on training and 0.9622641509433962 on testing \n",
      "Precision Score for this Model is: 0.958678\n",
      "Recall score for this Model is: 0.974790\n",
      "F1 score for this Model is: 0.966667\n",
      "[[116   3]\n",
      " [  5  88]]\n"
     ]
    },
    {
     "name": "stderr",
     "output_type": "stream",
     "text": [
      "C:\\ProgramData\\Anaconda3\\lib\\site-packages\\sklearn\\neural_network\\_multilayer_perceptron.py:692: ConvergenceWarning: Stochastic Optimizer: Maximum iterations (200) reached and the optimization hasn't converged yet.\n",
      "  warnings.warn(\n"
     ]
    }
   ],
   "source": [
    "NN_Model = MLPClassifier()\n",
    "NN_Model.fit(x_train, y_train)\n",
    "\n",
    "predict_train = NN_Model.predict(x_train)\n",
    "predict_test = NN_Model.predict(x_test)\n",
    "\n",
    "accuracy_score_train = accuracy_score(predict_train, y_train)\n",
    "accuracy_score_test = accuracy_score(predict_test, y_test)\n",
    "\n",
    "\"\"\"checking for accuracy_score\"\"\"\n",
    "print (f\"Neural Network Model has an accuracy score  of {accuracy_score_train} on training and {accuracy_score_test} on testing \")\n",
    "\n",
    "\"\"\"Checking for precision_score\"\"\"\n",
    "# precision tp / (tp + fp)\n",
    "precision = precision_score(y_test, predict_test)\n",
    "print('Precision Score for this Model is: %f' % precision)\n",
    "\n",
    "\"\"\"checking for recall score\"\"\"\n",
    "# recall: tp / (tp + fn)\n",
    "recall = recall_score(y_test, predict_test)\n",
    "print('Recall score for this Model is: %f' % recall)\n",
    "\n",
    "\"\"\"Checking for f1_score\"\"\"\n",
    "# f1: 2 tp / (2 tp + fp + fn)\n",
    "f1 = f1_score(y_test, predict_test)\n",
    "print('F1 score for this Model is: %f' % f1)\n",
    "\n",
    "\"\"\"Checking for confusion_matrix\"\"\"\n",
    "# confusion matrix\n",
    "matrix = confusion_matrix(y_test, predict_test)\n",
    "print(matrix)"
   ]
  },
  {
   "cell_type": "markdown",
   "id": "f7914a95",
   "metadata": {},
   "source": [
    "**For Neural Network Model**\n",
    "\n",
    "The **accuracy score of 0.951** on training and **0.962** on testing, indicating that the model is predicting the correct class with high accuracy.\n",
    "\n",
    "The **Precision score of 0.958678**, indicating that out of all the samples that the model predicted as positive, 95.8% were actually positive.\n",
    "\n",
    "The **Recall score of 0.974790**, indicating that out of all the positive samples in the dataset, the model was able to correctly identify 97.4% of them.\n",
    "\n",
    "The **F1 score of 0.966667** is a measure of the model's balance between Precision and Recall. It is the harmonic mean of Precision and Recall and is a good measure of the overall performance of the model.\n",
    "\n",
    "The confusion matrix shows the number of true positives (116), true negatives (88), false positives (3) and false negatives (5) predicted by the model."
   ]
  },
  {
   "cell_type": "code",
   "execution_count": 83,
   "id": "219514c0",
   "metadata": {},
   "outputs": [
    {
     "data": {
      "text/plain": [
       "['C:/Users/STUTERN/Desktop/Intermediate_project/NN_Model.joblib']"
      ]
     },
     "execution_count": 83,
     "metadata": {},
     "output_type": "execute_result"
    }
   ],
   "source": [
    "# saving my model in this path\n",
    "model_path = 'C:/Users/STUTERN/Desktop/Intermediate_project/NN_Model.joblib'\n",
    "\n",
    "# Save the model with NN_Model\n",
    "joblib.dump(NN_Model, model_path)"
   ]
  },
  {
   "cell_type": "markdown",
   "id": "5771594c",
   "metadata": {},
   "source": [
    "*Support vector Machine*"
   ]
  },
  {
   "cell_type": "code",
   "execution_count": 84,
   "id": "cf342931",
   "metadata": {},
   "outputs": [
    {
     "name": "stdout",
     "output_type": "stream",
     "text": [
      "Support vector Machine Model has an accuracy score  of 0.9882075471698113 on training and 0.9858490566037735 on testing \n",
      "Precision Score for this Model is: 1.000000\n",
      "Recall score for this Model is: 0.974790\n",
      "F1 score for this Model is: 0.987234\n",
      "[[116   3]\n",
      " [  0  93]]\n"
     ]
    }
   ],
   "source": [
    "SVM_Model = SVC()\n",
    "SVM_Model.fit(x_train, y_train)\n",
    "\n",
    "predict_train = SVM_Model.predict(x_train)\n",
    "predict_test = SVM_Model.predict(x_test)\n",
    "\n",
    "accuracy_score_train = accuracy_score(predict_train, y_train)\n",
    "accuracy_score_test = accuracy_score(predict_test, y_test)\n",
    "\n",
    "\"\"\"checking for accuracy_score\"\"\"\n",
    "print (f\"Support vector Machine Model has an accuracy score  of {accuracy_score_train} on training and {accuracy_score_test} on testing \")\n",
    "\n",
    "\"\"\"Checking for precision_score\"\"\"\n",
    "# precision tp / (tp + fp)\n",
    "precision = precision_score(y_test, predict_test)\n",
    "print('Precision Score for this Model is: %f' % precision)\n",
    "\n",
    "\"\"\"checking for recall score\"\"\"\n",
    "# recall: tp / (tp + fn)\n",
    "recall = recall_score(y_test, predict_test)\n",
    "print('Recall score for this Model is: %f' % recall)\n",
    "\n",
    "\"\"\"Checking for f1_score\"\"\"\n",
    "# f1: 2 tp / (2 tp + fp + fn)\n",
    "f1 = f1_score(y_test, predict_test)\n",
    "print('F1 score for this Model is: %f' % f1)\n",
    "\n",
    "\"\"\"Checking for confusion_matrix\"\"\"\n",
    "# confusion matrix\n",
    "matrix = confusion_matrix(y_test, predict_test)\n",
    "print(matrix)"
   ]
  },
  {
   "cell_type": "markdown",
   "id": "bf1c4889",
   "metadata": {},
   "source": [
    "**For Support Vector Machine (SVM) model**\n",
    "\n",
    "The **accuracy score is 0.988** on training and **0.985** on testing, indicating that the model was able to predict the class label of the majority of the instances in the datasets correctly.\n",
    "\n",
    "The **precision score is 1.0**, indicating that the model's predictions for positive instances are completely accurate. In other words, when the model predicts an instance as positive, it is always correct.\n",
    "\n",
    "The **recall score is 0.974790**, indicating that out of all the actual positive instances in the dataset, 97.5% were correctly identified by the model as positive.\n",
    "\n",
    "The **F1 score is 0.987234**, it's the harmonic mean of precision and recall scores. It is a measure of the model's accuracy, and this is equally a good measure.\n",
    "\n",
    "Finally, the confusion matrix, which shows the number of true positives, false positives, false negatives, and true negatives. In this case, the model predicted 116 true positives and 3 false positive, while it got no false negative and 93 true negatives.\n",
    "\n",
    "It's actually my first time of using this model, and I will say it performed very well on both the training and testing."
   ]
  },
  {
   "cell_type": "code",
   "execution_count": 85,
   "id": "8c91cbc1",
   "metadata": {},
   "outputs": [
    {
     "data": {
      "text/plain": [
       "['C:/Users/STUTERN/Desktop/Intermediate_project/SVM_Model.joblib']"
      ]
     },
     "execution_count": 85,
     "metadata": {},
     "output_type": "execute_result"
    }
   ],
   "source": [
    "# saving my model in this path\n",
    "model_path = 'C:/Users/STUTERN/Desktop/Intermediate_project/SVM_Model.joblib'\n",
    "\n",
    "# Save the model with SVM_Model\n",
    "joblib.dump(SVM_Model, model_path)"
   ]
  },
  {
   "cell_type": "code",
   "execution_count": 86,
   "id": "6f51ea1f",
   "metadata": {},
   "outputs": [
    {
     "name": "stdout",
     "output_type": "stream",
     "text": [
      "              precision    recall  f1-score   support\n",
      "\n",
      "           1       1.00      0.97      0.99       119\n",
      "           2       0.97      1.00      0.98        93\n",
      "\n",
      "    accuracy                           0.99       212\n",
      "   macro avg       0.98      0.99      0.99       212\n",
      "weighted avg       0.99      0.99      0.99       212\n",
      "\n"
     ]
    }
   ],
   "source": [
    "print(classification_report(y_test, predict_test))"
   ]
  },
  {
   "cell_type": "markdown",
   "id": "7a4c0043",
   "metadata": {},
   "source": [
    "The report of performance of the various metrics including precision, recall, and F1-score, for each class as well as for the overall model.\n",
    "\n",
    "**Precision**: Precision is the ratio of true positives (the number of correct predictions) to the total number of predicted positives. A precision of 1.00 means that all the predicted positive cases were correct. For class 1, the precision is 1.00, which means that all the predictions for class 1 were correct. For class 2, the precision is 0.97, which means that 97% of the predicted class 2 cases were correct.\n",
    "\n",
    "**Recall**: Recall is the ratio of true positives to the total number of actual positives. A recall of 1.00 means that all the actual positive cases were correctly identified. For class 1, the recall is 0.97, which means that 97% of the actual class 1 cases were correctly identified. For class 2, the recall is 1.00, which means that all the actual class 2 cases were correctly identified.\n",
    "\n",
    "**F1-score**: F1-score is the harmonic mean of precision and recall, and provides a single number that summarizes the overall performance of the model. The F1-score ranges from 0 to 1, with a higher score indicating better performance. For class 1, the F1-score is 0.99, and for class 2, the F1-score is 0.98.\n",
    "\n",
    "**Support**: The support is the number of samples in each class. There are 119 samples in class 1 and 93 samples in class 2.\n",
    "\n",
    "**Accuracy**: The accuracy is the proportion of correct predictions out of all predictions made by the model. In this case, the model achieved an overall accuracy of 0.99, which is the proportion of correct predictions out of the total number of samples (212)"
   ]
  },
  {
   "cell_type": "markdown",
   "id": "e45dc46d",
   "metadata": {},
   "source": [
    "#### Conclusion"
   ]
  },
  {
   "cell_type": "markdown",
   "id": "661a19cd",
   "metadata": {},
   "source": [
    "It was so interesting to know that all the Models performed very well, however, the Decision Tree Model performed better than others, and hence, it's the best model for this project."
   ]
  },
  {
   "cell_type": "code",
   "execution_count": null,
   "id": "61e73e6f",
   "metadata": {},
   "outputs": [],
   "source": []
  }
 ],
 "metadata": {
  "kernelspec": {
   "display_name": "Python 3 (ipykernel)",
   "language": "python",
   "name": "python3"
  },
  "language_info": {
   "codemirror_mode": {
    "name": "ipython",
    "version": 3
   },
   "file_extension": ".py",
   "mimetype": "text/x-python",
   "name": "python",
   "nbconvert_exporter": "python",
   "pygments_lexer": "ipython3",
   "version": "3.9.12"
  }
 },
 "nbformat": 4,
 "nbformat_minor": 5
}
