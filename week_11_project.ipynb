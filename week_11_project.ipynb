{
 "cells": [
  {
   "cell_type": "code",
   "execution_count": 1,
   "id": "4d6a1cb8",
   "metadata": {},
   "outputs": [],
   "source": [
    "import twint\n",
    "import pandas as pd\n",
    "import numpy as np\n",
    "import seaborn as sns\n",
    "import re\n",
    "from matplotlib import pyplot as plt\n",
    "from datetime import datetime\n",
    "from textblob import TextBlob\n",
    "from sqlalchemy import create_engine\n",
    "\n",
    "\n",
    "import nest_asyncio\n",
    "nest_asyncio.apply() "
   ]
  },
  {
   "cell_type": "code",
   "execution_count": 6,
   "id": "6032e5f1",
   "metadata": {},
   "outputs": [],
   "source": [
    "def twintConfig(search_string):\n",
    "    c = twint.Config()\n",
    "#     c.Search = search_string[1]\n",
    "    c.Limit=20000\n",
    "    c.Lang = 'en'\n",
    "    c.Pandas = True\n",
    "    c.Pandas_au = True          \n",
    "    c.Pandas_clean=True\n",
    "    c.Since='2022-12-01'\n",
    "    c.Until='2022-12-08'\n",
    "#     c.Hide_output = True \n",
    "    twint.run.Search(c)"
   ]
  },
  {
   "cell_type": "code",
   "execution_count": 7,
   "id": "a87b3e40",
   "metadata": {},
   "outputs": [],
   "source": [
    "def Run_Twint(search_vals):\n",
    "    \n",
    "    #set empty dataframe for join\n",
    "    out_df= pd.DataFrame()\n",
    "    \n",
    "    for tweets in search_vals.items():\n",
    "        print (\"running for search item: \"+tweets[0]+\"\\n\")\n",
    "        print (\"Search string: \"+tweets[1]+\"\\n\")\n",
    "        \n",
    "        #run twint\n",
    "        twintConfig(tweets)\n",
    "        \n",
    "        #get dataframe\n",
    "        tweets_1week = twint.storage.panda.Tweets_df\n",
    "        \n",
    "        #join Dataframes and create 'candidates' column\n",
    "        tweets_1week[\"candidates\"]= tweets[0]\n",
    "        out_df = pd.concat([out_df,tweets_1week])\n",
    "        \n",
    "    return out_df"
   ]
  },
  {
   "cell_type": "code",
   "execution_count": 9,
   "id": "c47a852a",
   "metadata": {},
   "outputs": [
    {
     "ename": "NameError",
     "evalue": "name 'tweets' is not defined",
     "output_type": "error",
     "traceback": [
      "\u001b[1;31m---------------------------------------------------------------------------\u001b[0m",
      "\u001b[1;31mNameError\u001b[0m                                 Traceback (most recent call last)",
      "Input \u001b[1;32mIn [9]\u001b[0m, in \u001b[0;36m<cell line: 3>\u001b[1;34m()\u001b[0m\n\u001b[0;32m      1\u001b[0m \u001b[38;5;66;03m# Extracting the tweets of the candidates from Jan 1st, 2022 till Nov 8th, 2022.\u001b[39;00m\n\u001b[0;32m      2\u001b[0m nest_asyncio\u001b[38;5;241m.\u001b[39mapply()\n\u001b[1;32m----> 3\u001b[0m tweets_1week \u001b[38;5;241m=\u001b[39m Run_Twint(\u001b[43mtweets\u001b[49m)\n",
      "\u001b[1;31mNameError\u001b[0m: name 'tweets' is not defined"
     ]
    }
   ],
   "source": [
    "# Extracting the tweets of the candidates from Jan 1st, 2022 till Nov 8th, 2022.\n",
    "nest_asyncio.apply()\n",
    "tweets_1week = Run_Twint(tweets)"
   ]
  },
  {
   "cell_type": "code",
   "execution_count": null,
   "id": "7ecf3191",
   "metadata": {},
   "outputs": [],
   "source": []
  }
 ],
 "metadata": {
  "kernelspec": {
   "display_name": "Python 3 (ipykernel)",
   "language": "python",
   "name": "python3"
  },
  "language_info": {
   "codemirror_mode": {
    "name": "ipython",
    "version": 3
   },
   "file_extension": ".py",
   "mimetype": "text/x-python",
   "name": "python",
   "nbconvert_exporter": "python",
   "pygments_lexer": "ipython3",
   "version": "3.9.12"
  }
 },
 "nbformat": 4,
 "nbformat_minor": 5
}
