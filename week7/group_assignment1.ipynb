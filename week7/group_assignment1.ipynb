{
 "cells": [
  {
   "cell_type": "markdown",
   "id": "7c670fef",
   "metadata": {},
   "source": [
    "In this assigment, we going to scrap a site and draw insights from it \n",
    "\n",
    "* using the url above webscrap the financial website and load it in a pandas Dataframe \n",
    "* load it in df and draw out 3  insights from the data "
   ]
  },
  {
   "cell_type": "code",
   "execution_count": 155,
   "id": "e3edc950",
   "metadata": {},
   "outputs": [],
   "source": [
    "import pandas as pd\n",
    "import numpy as np\n",
    "from matplotlib import pyplot as plt\n",
    "import seaborn as sns\n",
    "import requests\n",
    "from bs4 import BeautifulSoup"
   ]
  },
  {
   "cell_type": "code",
   "execution_count": 156,
   "id": "b2cfa4bc",
   "metadata": {},
   "outputs": [],
   "source": [
    "url = \"https://www.worlddata.info/africa/nigeria/inflation-rates.php\"\n",
    "r = requests.get(url)\n",
    "content = BeautifulSoup(r.content, 'html.parser')\n",
    "#content"
   ]
  },
  {
   "cell_type": "code",
   "execution_count": 157,
   "id": "a29cedc2",
   "metadata": {},
   "outputs": [
    {
     "name": "stdout",
     "output_type": "stream",
     "text": [
      "Year\n",
      "Nigeria\n",
      "Ø EU\n",
      "Ø USA\n",
      "Ø World\n"
     ]
    }
   ],
   "source": [
    "for rows in content.find_all('tr')[0]:\n",
    "    print(rows.text)"
   ]
  },
  {
   "cell_type": "code",
   "execution_count": 158,
   "id": "75d504c1",
   "metadata": {},
   "outputs": [],
   "source": [
    "header = []\n",
    "for rows in content.find_all('tr')[0]:\n",
    "    header.append(rows.text)\n",
    "df = pd.DataFrame(columns = header)\n",
    "\n",
    "table_rows = content.find_all('tr')[:1]\n",
    "list_row = []\n",
    "for i in range(3,len(table_rows)):\n",
    "    row_level = table_rows[i]\n",
    "    row_level_list = []\n",
    "    for rows in row_level:\n",
    "        row_level_list.append(rows.text)\n",
    "    list_row.append(row_level_list)\n",
    "for final_row in list_row:\n",
    "    df.loc[:, -1] = final_row\n",
    "    df.iloc[df.shape[0:]] = final_row"
   ]
  },
  {
   "cell_type": "code",
   "execution_count": 159,
   "id": "327f2f36",
   "metadata": {},
   "outputs": [
    {
     "data": {
      "text/html": [
       "<div>\n",
       "<style scoped>\n",
       "    .dataframe tbody tr th:only-of-type {\n",
       "        vertical-align: middle;\n",
       "    }\n",
       "\n",
       "    .dataframe tbody tr th {\n",
       "        vertical-align: top;\n",
       "    }\n",
       "\n",
       "    .dataframe thead th {\n",
       "        text-align: right;\n",
       "    }\n",
       "</style>\n",
       "<table border=\"1\" class=\"dataframe\">\n",
       "  <thead>\n",
       "    <tr style=\"text-align: right;\">\n",
       "      <th></th>\n",
       "      <th>Year</th>\n",
       "      <th>Nigeria</th>\n",
       "      <th>Ø EU</th>\n",
       "      <th>Ø USA</th>\n",
       "      <th>Ø World</th>\n",
       "    </tr>\n",
       "  </thead>\n",
       "  <tbody>\n",
       "  </tbody>\n",
       "</table>\n",
       "</div>"
      ],
      "text/plain": [
       "Empty DataFrame\n",
       "Columns: [Year, Nigeria, Ø EU, Ø USA, Ø World]\n",
       "Index: []"
      ]
     },
     "execution_count": 159,
     "metadata": {},
     "output_type": "execute_result"
    }
   ],
   "source": [
    "df"
   ]
  },
  {
   "cell_type": "code",
   "execution_count": 160,
   "id": "399d797b",
   "metadata": {},
   "outputs": [],
   "source": [
    "list_row = []\n",
    "for header in content.find_all('th'):\n",
    "    list_row.append(header.text)\n",
    "    \n",
    "df = pd.DataFrame(columns= list_row)\n",
    "row_team = []\n",
    "tr = content.find_all('tr')\n",
    "list_of_rows = []\n",
    "for table_row in range(1,len(tr)):\n",
    "    list_for_each_row = []\n",
    "    tr_small = tr[table_row]\n",
    "    for row in tr_small:\n",
    "        list_for_each_row.append(row.text)\n",
    "        list_of_rows.append(list_for_each_row)\n",
    "        \n",
    "for i in list_of_rows:\n",
    "    df.loc[len(df)] = i"
   ]
  },
  {
   "cell_type": "code",
   "execution_count": 161,
   "id": "3598767a",
   "metadata": {},
   "outputs": [
    {
     "data": {
      "text/html": [
       "<div>\n",
       "<style scoped>\n",
       "    .dataframe tbody tr th:only-of-type {\n",
       "        vertical-align: middle;\n",
       "    }\n",
       "\n",
       "    .dataframe tbody tr th {\n",
       "        vertical-align: top;\n",
       "    }\n",
       "\n",
       "    .dataframe thead th {\n",
       "        text-align: right;\n",
       "    }\n",
       "</style>\n",
       "<table border=\"1\" class=\"dataframe\">\n",
       "  <thead>\n",
       "    <tr style=\"text-align: right;\">\n",
       "      <th></th>\n",
       "      <th>Year</th>\n",
       "      <th>Nigeria</th>\n",
       "      <th>Ø EU</th>\n",
       "      <th>Ø USA</th>\n",
       "      <th>Ø World</th>\n",
       "    </tr>\n",
       "  </thead>\n",
       "  <tbody>\n",
       "    <tr>\n",
       "      <th>0</th>\n",
       "      <td>2021</td>\n",
       "      <td>16.95 %</td>\n",
       "      <td>2.55 %</td>\n",
       "      <td>4.70 %</td>\n",
       "      <td>3.42 %</td>\n",
       "    </tr>\n",
       "    <tr>\n",
       "      <th>1</th>\n",
       "      <td>2021</td>\n",
       "      <td>16.95 %</td>\n",
       "      <td>2.55 %</td>\n",
       "      <td>4.70 %</td>\n",
       "      <td>3.42 %</td>\n",
       "    </tr>\n",
       "    <tr>\n",
       "      <th>2</th>\n",
       "      <td>2021</td>\n",
       "      <td>16.95 %</td>\n",
       "      <td>2.55 %</td>\n",
       "      <td>4.70 %</td>\n",
       "      <td>3.42 %</td>\n",
       "    </tr>\n",
       "    <tr>\n",
       "      <th>3</th>\n",
       "      <td>2021</td>\n",
       "      <td>16.95 %</td>\n",
       "      <td>2.55 %</td>\n",
       "      <td>4.70 %</td>\n",
       "      <td>3.42 %</td>\n",
       "    </tr>\n",
       "    <tr>\n",
       "      <th>4</th>\n",
       "      <td>2021</td>\n",
       "      <td>16.95 %</td>\n",
       "      <td>2.55 %</td>\n",
       "      <td>4.70 %</td>\n",
       "      <td>3.42 %</td>\n",
       "    </tr>\n",
       "  </tbody>\n",
       "</table>\n",
       "</div>"
      ],
      "text/plain": [
       "   Year  Nigeria    Ø EU   Ø USA Ø World\n",
       "0  2021  16.95 %  2.55 %  4.70 %  3.42 %\n",
       "1  2021  16.95 %  2.55 %  4.70 %  3.42 %\n",
       "2  2021  16.95 %  2.55 %  4.70 %  3.42 %\n",
       "3  2021  16.95 %  2.55 %  4.70 %  3.42 %\n",
       "4  2021  16.95 %  2.55 %  4.70 %  3.42 %"
      ]
     },
     "execution_count": 161,
     "metadata": {},
     "output_type": "execute_result"
    }
   ],
   "source": [
    "df.head()"
   ]
  },
  {
   "cell_type": "code",
   "execution_count": 162,
   "id": "804e9b94",
   "metadata": {},
   "outputs": [
    {
     "data": {
      "text/plain": [
       "(310, 5)"
      ]
     },
     "execution_count": 162,
     "metadata": {},
     "output_type": "execute_result"
    }
   ],
   "source": [
    "# checking for the shape of my data\n",
    "df.shape"
   ]
  },
  {
   "cell_type": "code",
   "execution_count": 163,
   "id": "73989dec",
   "metadata": {},
   "outputs": [
    {
     "data": {
      "text/plain": [
       "Year       object\n",
       "Nigeria    object\n",
       "Ø EU       object\n",
       "Ø USA      object\n",
       "Ø World    object\n",
       "dtype: object"
      ]
     },
     "execution_count": 163,
     "metadata": {},
     "output_type": "execute_result"
    }
   ],
   "source": [
    "# checking for datatypes\n",
    "df.dtypes"
   ]
  },
  {
   "cell_type": "code",
   "execution_count": 164,
   "id": "a911e233",
   "metadata": {},
   "outputs": [
    {
     "data": {
      "text/plain": [
       "Index(['Year', 'Nigeria', 'Ø EU', 'Ø USA', 'Ø World'], dtype='object')"
      ]
     },
     "execution_count": 164,
     "metadata": {},
     "output_type": "execute_result"
    }
   ],
   "source": [
    "# checking the column\n",
    "df.columns"
   ]
  },
  {
   "cell_type": "code",
   "execution_count": 165,
   "id": "6f7d47c4",
   "metadata": {},
   "outputs": [],
   "source": [
    "# renaming the column name to remove Ø sign\n",
    "df.rename(columns= {'Ø EU': 'EU',\n",
    "                   'Ø USA': 'USA',\n",
    "                  'Ø World': 'World'}, inplace=True)"
   ]
  },
  {
   "cell_type": "code",
   "execution_count": 166,
   "id": "dc5f2fa5",
   "metadata": {
    "scrolled": false
   },
   "outputs": [
    {
     "data": {
      "text/html": [
       "<div>\n",
       "<style scoped>\n",
       "    .dataframe tbody tr th:only-of-type {\n",
       "        vertical-align: middle;\n",
       "    }\n",
       "\n",
       "    .dataframe tbody tr th {\n",
       "        vertical-align: top;\n",
       "    }\n",
       "\n",
       "    .dataframe thead th {\n",
       "        text-align: right;\n",
       "    }\n",
       "</style>\n",
       "<table border=\"1\" class=\"dataframe\">\n",
       "  <thead>\n",
       "    <tr style=\"text-align: right;\">\n",
       "      <th></th>\n",
       "      <th>Year</th>\n",
       "      <th>Nigeria</th>\n",
       "      <th>EU</th>\n",
       "      <th>USA</th>\n",
       "      <th>World</th>\n",
       "    </tr>\n",
       "  </thead>\n",
       "  <tbody>\n",
       "    <tr>\n",
       "      <th>0</th>\n",
       "      <td>2021</td>\n",
       "      <td>16.95 %</td>\n",
       "      <td>2.55 %</td>\n",
       "      <td>4.70 %</td>\n",
       "      <td>3.42 %</td>\n",
       "    </tr>\n",
       "    <tr>\n",
       "      <th>1</th>\n",
       "      <td>2021</td>\n",
       "      <td>16.95 %</td>\n",
       "      <td>2.55 %</td>\n",
       "      <td>4.70 %</td>\n",
       "      <td>3.42 %</td>\n",
       "    </tr>\n",
       "    <tr>\n",
       "      <th>2</th>\n",
       "      <td>2021</td>\n",
       "      <td>16.95 %</td>\n",
       "      <td>2.55 %</td>\n",
       "      <td>4.70 %</td>\n",
       "      <td>3.42 %</td>\n",
       "    </tr>\n",
       "    <tr>\n",
       "      <th>3</th>\n",
       "      <td>2021</td>\n",
       "      <td>16.95 %</td>\n",
       "      <td>2.55 %</td>\n",
       "      <td>4.70 %</td>\n",
       "      <td>3.42 %</td>\n",
       "    </tr>\n",
       "    <tr>\n",
       "      <th>4</th>\n",
       "      <td>2021</td>\n",
       "      <td>16.95 %</td>\n",
       "      <td>2.55 %</td>\n",
       "      <td>4.70 %</td>\n",
       "      <td>3.42 %</td>\n",
       "    </tr>\n",
       "  </tbody>\n",
       "</table>\n",
       "</div>"
      ],
      "text/plain": [
       "   Year  Nigeria      EU     USA   World\n",
       "0  2021  16.95 %  2.55 %  4.70 %  3.42 %\n",
       "1  2021  16.95 %  2.55 %  4.70 %  3.42 %\n",
       "2  2021  16.95 %  2.55 %  4.70 %  3.42 %\n",
       "3  2021  16.95 %  2.55 %  4.70 %  3.42 %\n",
       "4  2021  16.95 %  2.55 %  4.70 %  3.42 %"
      ]
     },
     "execution_count": 166,
     "metadata": {},
     "output_type": "execute_result"
    }
   ],
   "source": [
    "pd.set_option('display.max_rows', None) \n",
    "df.head(5)"
   ]
  },
  {
   "cell_type": "code",
   "execution_count": 167,
   "id": "f0ab0f28",
   "metadata": {},
   "outputs": [
    {
     "data": {
      "text/html": [
       "<div>\n",
       "<style scoped>\n",
       "    .dataframe tbody tr th:only-of-type {\n",
       "        vertical-align: middle;\n",
       "    }\n",
       "\n",
       "    .dataframe tbody tr th {\n",
       "        vertical-align: top;\n",
       "    }\n",
       "\n",
       "    .dataframe thead th {\n",
       "        text-align: right;\n",
       "    }\n",
       "</style>\n",
       "<table border=\"1\" class=\"dataframe\">\n",
       "  <thead>\n",
       "    <tr style=\"text-align: right;\">\n",
       "      <th></th>\n",
       "      <th>Year</th>\n",
       "      <th>Nigeria</th>\n",
       "      <th>EU</th>\n",
       "      <th>USA</th>\n",
       "      <th>World</th>\n",
       "    </tr>\n",
       "  </thead>\n",
       "  <tbody>\n",
       "    <tr>\n",
       "      <th>305</th>\n",
       "      <td>1960</td>\n",
       "      <td>5.44 %</td>\n",
       "      <td>1.74 %</td>\n",
       "      <td>1.46 %</td>\n",
       "      <td>n/a</td>\n",
       "    </tr>\n",
       "    <tr>\n",
       "      <th>306</th>\n",
       "      <td>1960</td>\n",
       "      <td>5.44 %</td>\n",
       "      <td>1.74 %</td>\n",
       "      <td>1.46 %</td>\n",
       "      <td>n/a</td>\n",
       "    </tr>\n",
       "    <tr>\n",
       "      <th>307</th>\n",
       "      <td>1960</td>\n",
       "      <td>5.44 %</td>\n",
       "      <td>1.74 %</td>\n",
       "      <td>1.46 %</td>\n",
       "      <td>n/a</td>\n",
       "    </tr>\n",
       "    <tr>\n",
       "      <th>308</th>\n",
       "      <td>1960</td>\n",
       "      <td>5.44 %</td>\n",
       "      <td>1.74 %</td>\n",
       "      <td>1.46 %</td>\n",
       "      <td>n/a</td>\n",
       "    </tr>\n",
       "    <tr>\n",
       "      <th>309</th>\n",
       "      <td>1960</td>\n",
       "      <td>5.44 %</td>\n",
       "      <td>1.74 %</td>\n",
       "      <td>1.46 %</td>\n",
       "      <td>n/a</td>\n",
       "    </tr>\n",
       "  </tbody>\n",
       "</table>\n",
       "</div>"
      ],
      "text/plain": [
       "     Year Nigeria      EU     USA World\n",
       "305  1960  5.44 %  1.74 %  1.46 %   n/a\n",
       "306  1960  5.44 %  1.74 %  1.46 %   n/a\n",
       "307  1960  5.44 %  1.74 %  1.46 %   n/a\n",
       "308  1960  5.44 %  1.74 %  1.46 %   n/a\n",
       "309  1960  5.44 %  1.74 %  1.46 %   n/a"
      ]
     },
     "execution_count": 167,
     "metadata": {},
     "output_type": "execute_result"
    }
   ],
   "source": [
    "df.tail(5) # there are NA values in the 'World' column"
   ]
  },
  {
   "cell_type": "code",
   "execution_count": 169,
   "id": "5b3af1ac",
   "metadata": {},
   "outputs": [],
   "source": [
    "# saving my dataset \n",
    "df.to_csv(\"C:/Users/STUTERN/Desktop/Intermediate_project/week7/nigeria_inflation_rate.csv\") "
   ]
  },
  {
   "cell_type": "code",
   "execution_count": 170,
   "id": "2d4d7db5",
   "metadata": {},
   "outputs": [
    {
     "data": {
      "text/plain": [
       "n/a       100\n",
       "2.19 %     10\n",
       "4.82 %     10\n",
       "7.15 %      5\n",
       "9.15 %      5\n",
       "Name: World, dtype: int64"
      ]
     },
     "execution_count": 170,
     "metadata": {},
     "output_type": "execute_result"
    }
   ],
   "source": [
    "df.World.value_counts().head()"
   ]
  },
  {
   "cell_type": "code",
   "execution_count": 171,
   "id": "aa7ebc8a",
   "metadata": {},
   "outputs": [],
   "source": [
    "df1 = pd.read_csv(\"C:/Users/STUTERN/Desktop/Intermediate_project/week7/nigeria_inflation_rate.csv\", index_col=0)"
   ]
  },
  {
   "cell_type": "code",
   "execution_count": 172,
   "id": "bade59df",
   "metadata": {},
   "outputs": [
    {
     "data": {
      "text/html": [
       "<div>\n",
       "<style scoped>\n",
       "    .dataframe tbody tr th:only-of-type {\n",
       "        vertical-align: middle;\n",
       "    }\n",
       "\n",
       "    .dataframe tbody tr th {\n",
       "        vertical-align: top;\n",
       "    }\n",
       "\n",
       "    .dataframe thead th {\n",
       "        text-align: right;\n",
       "    }\n",
       "</style>\n",
       "<table border=\"1\" class=\"dataframe\">\n",
       "  <thead>\n",
       "    <tr style=\"text-align: right;\">\n",
       "      <th></th>\n",
       "      <th>Year</th>\n",
       "      <th>Nigeria</th>\n",
       "      <th>EU</th>\n",
       "      <th>USA</th>\n",
       "      <th>World</th>\n",
       "    </tr>\n",
       "  </thead>\n",
       "  <tbody>\n",
       "    <tr>\n",
       "      <th>305</th>\n",
       "      <td>1960</td>\n",
       "      <td>5.44 %</td>\n",
       "      <td>1.74 %</td>\n",
       "      <td>1.46 %</td>\n",
       "      <td>NaN</td>\n",
       "    </tr>\n",
       "    <tr>\n",
       "      <th>306</th>\n",
       "      <td>1960</td>\n",
       "      <td>5.44 %</td>\n",
       "      <td>1.74 %</td>\n",
       "      <td>1.46 %</td>\n",
       "      <td>NaN</td>\n",
       "    </tr>\n",
       "    <tr>\n",
       "      <th>307</th>\n",
       "      <td>1960</td>\n",
       "      <td>5.44 %</td>\n",
       "      <td>1.74 %</td>\n",
       "      <td>1.46 %</td>\n",
       "      <td>NaN</td>\n",
       "    </tr>\n",
       "    <tr>\n",
       "      <th>308</th>\n",
       "      <td>1960</td>\n",
       "      <td>5.44 %</td>\n",
       "      <td>1.74 %</td>\n",
       "      <td>1.46 %</td>\n",
       "      <td>NaN</td>\n",
       "    </tr>\n",
       "    <tr>\n",
       "      <th>309</th>\n",
       "      <td>1960</td>\n",
       "      <td>5.44 %</td>\n",
       "      <td>1.74 %</td>\n",
       "      <td>1.46 %</td>\n",
       "      <td>NaN</td>\n",
       "    </tr>\n",
       "  </tbody>\n",
       "</table>\n",
       "</div>"
      ],
      "text/plain": [
       "     Year Nigeria      EU     USA World\n",
       "305  1960  5.44 %  1.74 %  1.46 %   NaN\n",
       "306  1960  5.44 %  1.74 %  1.46 %   NaN\n",
       "307  1960  5.44 %  1.74 %  1.46 %   NaN\n",
       "308  1960  5.44 %  1.74 %  1.46 %   NaN\n",
       "309  1960  5.44 %  1.74 %  1.46 %   NaN"
      ]
     },
     "execution_count": 172,
     "metadata": {},
     "output_type": "execute_result"
    }
   ],
   "source": [
    "df1.tail(5)"
   ]
  },
  {
   "cell_type": "code",
   "execution_count": 175,
   "id": "9de19289",
   "metadata": {},
   "outputs": [],
   "source": [
    "df1[\"World\"].fillna(\"2.19 %\", inplace = True)"
   ]
  },
  {
   "cell_type": "code",
   "execution_count": 176,
   "id": "f146ad64",
   "metadata": {},
   "outputs": [
    {
     "data": {
      "text/html": [
       "<div>\n",
       "<style scoped>\n",
       "    .dataframe tbody tr th:only-of-type {\n",
       "        vertical-align: middle;\n",
       "    }\n",
       "\n",
       "    .dataframe tbody tr th {\n",
       "        vertical-align: top;\n",
       "    }\n",
       "\n",
       "    .dataframe thead th {\n",
       "        text-align: right;\n",
       "    }\n",
       "</style>\n",
       "<table border=\"1\" class=\"dataframe\">\n",
       "  <thead>\n",
       "    <tr style=\"text-align: right;\">\n",
       "      <th></th>\n",
       "      <th>Year</th>\n",
       "      <th>Nigeria</th>\n",
       "      <th>EU</th>\n",
       "      <th>USA</th>\n",
       "      <th>World</th>\n",
       "    </tr>\n",
       "  </thead>\n",
       "  <tbody>\n",
       "    <tr>\n",
       "      <th>305</th>\n",
       "      <td>1960</td>\n",
       "      <td>5.44 %</td>\n",
       "      <td>1.74 %</td>\n",
       "      <td>1.46 %</td>\n",
       "      <td>2.19 %</td>\n",
       "    </tr>\n",
       "    <tr>\n",
       "      <th>306</th>\n",
       "      <td>1960</td>\n",
       "      <td>5.44 %</td>\n",
       "      <td>1.74 %</td>\n",
       "      <td>1.46 %</td>\n",
       "      <td>2.19 %</td>\n",
       "    </tr>\n",
       "    <tr>\n",
       "      <th>307</th>\n",
       "      <td>1960</td>\n",
       "      <td>5.44 %</td>\n",
       "      <td>1.74 %</td>\n",
       "      <td>1.46 %</td>\n",
       "      <td>2.19 %</td>\n",
       "    </tr>\n",
       "    <tr>\n",
       "      <th>308</th>\n",
       "      <td>1960</td>\n",
       "      <td>5.44 %</td>\n",
       "      <td>1.74 %</td>\n",
       "      <td>1.46 %</td>\n",
       "      <td>2.19 %</td>\n",
       "    </tr>\n",
       "    <tr>\n",
       "      <th>309</th>\n",
       "      <td>1960</td>\n",
       "      <td>5.44 %</td>\n",
       "      <td>1.74 %</td>\n",
       "      <td>1.46 %</td>\n",
       "      <td>2.19 %</td>\n",
       "    </tr>\n",
       "  </tbody>\n",
       "</table>\n",
       "</div>"
      ],
      "text/plain": [
       "     Year Nigeria      EU     USA   World\n",
       "305  1960  5.44 %  1.74 %  1.46 %  2.19 %\n",
       "306  1960  5.44 %  1.74 %  1.46 %  2.19 %\n",
       "307  1960  5.44 %  1.74 %  1.46 %  2.19 %\n",
       "308  1960  5.44 %  1.74 %  1.46 %  2.19 %\n",
       "309  1960  5.44 %  1.74 %  1.46 %  2.19 %"
      ]
     },
     "execution_count": 176,
     "metadata": {},
     "output_type": "execute_result"
    }
   ],
   "source": [
    "df1.tail()"
   ]
  },
  {
   "cell_type": "code",
   "execution_count": 177,
   "id": "80d854ad",
   "metadata": {},
   "outputs": [],
   "source": [
    "#Removing the % sign from the values\n",
    "cols = ['Nigeria','EU','USA','World']\n",
    "df1[cols] = df1[cols].replace({'%': '',}, regex=True)"
   ]
  },
  {
   "cell_type": "code",
   "execution_count": 181,
   "id": "daff2d6f",
   "metadata": {},
   "outputs": [
    {
     "data": {
      "text/html": [
       "<div>\n",
       "<style scoped>\n",
       "    .dataframe tbody tr th:only-of-type {\n",
       "        vertical-align: middle;\n",
       "    }\n",
       "\n",
       "    .dataframe tbody tr th {\n",
       "        vertical-align: top;\n",
       "    }\n",
       "\n",
       "    .dataframe thead th {\n",
       "        text-align: right;\n",
       "    }\n",
       "</style>\n",
       "<table border=\"1\" class=\"dataframe\">\n",
       "  <thead>\n",
       "    <tr style=\"text-align: right;\">\n",
       "      <th></th>\n",
       "      <th>Year</th>\n",
       "      <th>Nigeria</th>\n",
       "      <th>EU</th>\n",
       "      <th>USA</th>\n",
       "      <th>World</th>\n",
       "    </tr>\n",
       "  </thead>\n",
       "  <tbody>\n",
       "    <tr>\n",
       "      <th>0</th>\n",
       "      <td>2021</td>\n",
       "      <td>16.95</td>\n",
       "      <td>2.55</td>\n",
       "      <td>4.70</td>\n",
       "      <td>3.42</td>\n",
       "    </tr>\n",
       "    <tr>\n",
       "      <th>1</th>\n",
       "      <td>2021</td>\n",
       "      <td>16.95</td>\n",
       "      <td>2.55</td>\n",
       "      <td>4.70</td>\n",
       "      <td>3.42</td>\n",
       "    </tr>\n",
       "    <tr>\n",
       "      <th>2</th>\n",
       "      <td>2021</td>\n",
       "      <td>16.95</td>\n",
       "      <td>2.55</td>\n",
       "      <td>4.70</td>\n",
       "      <td>3.42</td>\n",
       "    </tr>\n",
       "    <tr>\n",
       "      <th>3</th>\n",
       "      <td>2021</td>\n",
       "      <td>16.95</td>\n",
       "      <td>2.55</td>\n",
       "      <td>4.70</td>\n",
       "      <td>3.42</td>\n",
       "    </tr>\n",
       "    <tr>\n",
       "      <th>4</th>\n",
       "      <td>2021</td>\n",
       "      <td>16.95</td>\n",
       "      <td>2.55</td>\n",
       "      <td>4.70</td>\n",
       "      <td>3.42</td>\n",
       "    </tr>\n",
       "  </tbody>\n",
       "</table>\n",
       "</div>"
      ],
      "text/plain": [
       "   Year Nigeria     EU    USA  World\n",
       "0  2021  16.95   2.55   4.70   3.42 \n",
       "1  2021  16.95   2.55   4.70   3.42 \n",
       "2  2021  16.95   2.55   4.70   3.42 \n",
       "3  2021  16.95   2.55   4.70   3.42 \n",
       "4  2021  16.95   2.55   4.70   3.42 "
      ]
     },
     "execution_count": 181,
     "metadata": {},
     "output_type": "execute_result"
    }
   ],
   "source": [
    "df1.head()"
   ]
  },
  {
   "cell_type": "markdown",
   "id": "0984ba99",
   "metadata": {},
   "source": [
    "Data Exploration\n",
    "Draw out five insights from the data\n",
    "1. Which year has the highest and lowest inflation rate in Nigeria\n",
    "2. Compare the inflation rate between Nigeria and EU\n",
    "3. Compare the inflation rate between Nigeria and USA\n",
    "4. Compare the inflation rate between Nigeria and World\n",
    "5. How does historical inflation compare to recent inflation rates?"
   ]
  }
 ],
 "metadata": {
  "kernelspec": {
   "display_name": "Python 3 (ipykernel)",
   "language": "python",
   "name": "python3"
  },
  "language_info": {
   "codemirror_mode": {
    "name": "ipython",
    "version": 3
   },
   "file_extension": ".py",
   "mimetype": "text/x-python",
   "name": "python",
   "nbconvert_exporter": "python",
   "pygments_lexer": "ipython3",
   "version": "3.9.12"
  }
 },
 "nbformat": 4,
 "nbformat_minor": 5
}
