{
 "cells": [
  {
   "cell_type": "code",
   "execution_count": 6,
   "id": "0c570186",
   "metadata": {},
   "outputs": [],
   "source": [
    "import twint\n",
    "import pandas as pd\n",
    "import numpy as np\n",
    "from matplotlib import pyplot as plt\n",
    "import seaborn as sns\n",
    "import re\n",
    "from datetime import datetime\n",
    "from textblob import TextBlob\n",
    "from sqlalchemy import create_engine\n",
    "\n",
    "\n",
    "import nest_asyncio\n",
    "nest_asyncio.apply() "
   ]
  },
  {
   "cell_type": "code",
   "execution_count": 7,
   "id": "00fd203a",
   "metadata": {},
   "outputs": [],
   "source": [
    "# creating a search string \n",
    "candidates={\"Bola Ahmed Tinubu\": \"Asiwaju\\Tinubu\\Jagaban\", \n",
    "           \"Peter Obi\": \"Obidient\\Peter Obi\\ObiDatti\", \n",
    "           \"Atiku\": \"Atiku\\Atiku Abubakar\"}"
   ]
  },
  {
   "cell_type": "code",
   "execution_count": 17,
   "id": "f5cb678f",
   "metadata": {},
   "outputs": [],
   "source": [
    "def twintConfig(search_string):\n",
    "    c = twint.Config()\n",
    "    c.Search = search_string[1]\n",
    "    c.Limit=1000\n",
    "    c.Lang = 'en'\n",
    "    c.Pandas = True\n",
    "    c.Pandas_au = True          \n",
    "    c.Pandas_clean=True\n",
    "    c.Since='2022-01-01'\n",
    "    c.Until='2022-12-01'\n",
    "    c.Hide_output = True\n",
    "    twint.run.Search(c)"
   ]
  },
  {
   "cell_type": "code",
   "execution_count": 18,
   "id": "30debb03",
   "metadata": {},
   "outputs": [],
   "source": [
    "def Run_Twint(search_vals):\n",
    "    \n",
    "    #set empty dataframe for join\n",
    "    out_df= pd.DataFrame()\n",
    "    \n",
    "    for candidate in search_vals.items():\n",
    "        print (\"running for search item: \"+candidate[0]+\"\\n\")\n",
    "        print (\"Search string: \"+candidate[1]+\"\\n\")\n",
    "        \n",
    "        #run twint\n",
    "        twintConfig(candidate)\n",
    "        \n",
    "        #get dataframe\n",
    "        candidates_23 = twint.storage.panda.Tweets_df\n",
    "        \n",
    "        #join Dataframes and create 'candidates' column\n",
    "        candidates_23[\"candidates\"]= candidate[0]\n",
    "        out_df = pd.concat([out_df,candidates_23])\n",
    "        \n",
    "    return out_df"
   ]
  },
  {
   "cell_type": "code",
   "execution_count": 19,
   "id": "0a650f53",
   "metadata": {
    "scrolled": true
   },
   "outputs": [
    {
     "name": "stdout",
     "output_type": "stream",
     "text": [
      "running for search item: Bola Ahmed Tinubu\n",
      "\n",
      "Search string: Asiwaju\\Tinubu\\Jagaban\n",
      "\n",
      "[!] No more data! Scraping will stop now.\n",
      "found 0 deleted tweets in this search.\n",
      "running for search item: Peter Obi\n",
      "\n",
      "Search string: Obidient\\Peter Obi\\ObiDatti\n",
      "\n",
      "[!] No more data! Scraping will stop now.\n",
      "found 0 deleted tweets in this search.\n",
      "running for search item: Atiku\n",
      "\n",
      "Search string: Atiku\\Atiku Abubakar\n",
      "\n"
     ]
    }
   ],
   "source": [
    "# Extracting the tweets of the candidates from Jan 1st, 2022 till Nov 8th, 2022.\n",
    "nest_asyncio.apply()\n",
    "candidates_23 = Run_Twint(candidates)"
   ]
  },
  {
   "cell_type": "code",
   "execution_count": 26,
   "id": "1468cc10",
   "metadata": {},
   "outputs": [
    {
     "data": {
      "text/html": [
       "<div>\n",
       "<style scoped>\n",
       "    .dataframe tbody tr th:only-of-type {\n",
       "        vertical-align: middle;\n",
       "    }\n",
       "\n",
       "    .dataframe tbody tr th {\n",
       "        vertical-align: top;\n",
       "    }\n",
       "\n",
       "    .dataframe thead th {\n",
       "        text-align: right;\n",
       "    }\n",
       "</style>\n",
       "<table border=\"1\" class=\"dataframe\">\n",
       "  <thead>\n",
       "    <tr style=\"text-align: right;\">\n",
       "      <th></th>\n",
       "      <th>id</th>\n",
       "      <th>conversation_id</th>\n",
       "      <th>created_at</th>\n",
       "      <th>date</th>\n",
       "      <th>timezone</th>\n",
       "      <th>place</th>\n",
       "      <th>tweet</th>\n",
       "      <th>language</th>\n",
       "      <th>hashtags</th>\n",
       "      <th>cashtags</th>\n",
       "      <th>...</th>\n",
       "      <th>source</th>\n",
       "      <th>user_rt_id</th>\n",
       "      <th>user_rt</th>\n",
       "      <th>retweet_id</th>\n",
       "      <th>reply_to</th>\n",
       "      <th>retweet_date</th>\n",
       "      <th>translate</th>\n",
       "      <th>trans_src</th>\n",
       "      <th>trans_dest</th>\n",
       "      <th>candidates</th>\n",
       "    </tr>\n",
       "  </thead>\n",
       "  <tbody>\n",
       "    <tr>\n",
       "      <th>0</th>\n",
       "      <td>1598080846644547584</td>\n",
       "      <td>1598080846644547584</td>\n",
       "      <td>1.669847e+12</td>\n",
       "      <td>2022-11-30 23:25:39</td>\n",
       "      <td>+0100</td>\n",
       "      <td></td>\n",
       "      <td>Nigerians are adorable. 🇳🇬 They know who is wo...</td>\n",
       "      <td>en</td>\n",
       "      <td>[renewedhope]</td>\n",
       "      <td>[]</td>\n",
       "      <td>...</td>\n",
       "      <td></td>\n",
       "      <td></td>\n",
       "      <td></td>\n",
       "      <td></td>\n",
       "      <td>[]</td>\n",
       "      <td></td>\n",
       "      <td></td>\n",
       "      <td></td>\n",
       "      <td></td>\n",
       "      <td>Bola Ahmed Tinubu</td>\n",
       "    </tr>\n",
       "    <tr>\n",
       "      <th>1</th>\n",
       "      <td>1598065873105096704</td>\n",
       "      <td>1598063843158417408</td>\n",
       "      <td>1.669844e+12</td>\n",
       "      <td>2022-11-30 22:26:09</td>\n",
       "      <td>+0100</td>\n",
       "      <td></td>\n",
       "      <td>@dipoaina1 @OfficialAPCNg gave SW d chance 2 a...</td>\n",
       "      <td>en</td>\n",
       "      <td>[]</td>\n",
       "      <td>[]</td>\n",
       "      <td>...</td>\n",
       "      <td></td>\n",
       "      <td></td>\n",
       "      <td></td>\n",
       "      <td></td>\n",
       "      <td>[{'screen_name': 'dipoaina1', 'name': 'Ainà Di...</td>\n",
       "      <td></td>\n",
       "      <td></td>\n",
       "      <td></td>\n",
       "      <td></td>\n",
       "      <td>Bola Ahmed Tinubu</td>\n",
       "    </tr>\n",
       "    <tr>\n",
       "      <th>2</th>\n",
       "      <td>1598055733685555202</td>\n",
       "      <td>1598055733685555202</td>\n",
       "      <td>1.669841e+12</td>\n",
       "      <td>2022-11-30 21:45:52</td>\n",
       "      <td>+0100</td>\n",
       "      <td></td>\n",
       "      <td>That is JAGABAN for you. Even his co-contestan...</td>\n",
       "      <td>en</td>\n",
       "      <td>[]</td>\n",
       "      <td>[]</td>\n",
       "      <td>...</td>\n",
       "      <td></td>\n",
       "      <td></td>\n",
       "      <td></td>\n",
       "      <td></td>\n",
       "      <td>[]</td>\n",
       "      <td></td>\n",
       "      <td></td>\n",
       "      <td></td>\n",
       "      <td></td>\n",
       "      <td>Bola Ahmed Tinubu</td>\n",
       "    </tr>\n",
       "    <tr>\n",
       "      <th>3</th>\n",
       "      <td>1598054835206914049</td>\n",
       "      <td>1597855388996898816</td>\n",
       "      <td>1.669841e+12</td>\n",
       "      <td>2022-11-30 21:42:17</td>\n",
       "      <td>+0100</td>\n",
       "      <td></td>\n",
       "      <td>@btmusaesq @FredrickNwabufo I'm very Proud to ...</td>\n",
       "      <td>en</td>\n",
       "      <td>[]</td>\n",
       "      <td>[]</td>\n",
       "      <td>...</td>\n",
       "      <td></td>\n",
       "      <td></td>\n",
       "      <td></td>\n",
       "      <td></td>\n",
       "      <td>[{'screen_name': 'btmusaesq', 'name': 'Btm Of ...</td>\n",
       "      <td></td>\n",
       "      <td></td>\n",
       "      <td></td>\n",
       "      <td></td>\n",
       "      <td>Bola Ahmed Tinubu</td>\n",
       "    </tr>\n",
       "    <tr>\n",
       "      <th>4</th>\n",
       "      <td>1598014122331099136</td>\n",
       "      <td>1598014122331099136</td>\n",
       "      <td>1.669831e+12</td>\n",
       "      <td>2022-11-30 19:00:31</td>\n",
       "      <td>+0100</td>\n",
       "      <td></td>\n",
       "      <td>I say make I tell you;  As for me and my house...</td>\n",
       "      <td>en</td>\n",
       "      <td>[]</td>\n",
       "      <td>[]</td>\n",
       "      <td>...</td>\n",
       "      <td></td>\n",
       "      <td></td>\n",
       "      <td></td>\n",
       "      <td></td>\n",
       "      <td>[]</td>\n",
       "      <td></td>\n",
       "      <td></td>\n",
       "      <td></td>\n",
       "      <td></td>\n",
       "      <td>Bola Ahmed Tinubu</td>\n",
       "    </tr>\n",
       "  </tbody>\n",
       "</table>\n",
       "<p>5 rows × 39 columns</p>\n",
       "</div>"
      ],
      "text/plain": [
       "                    id      conversation_id    created_at  \\\n",
       "0  1598080846644547584  1598080846644547584  1.669847e+12   \n",
       "1  1598065873105096704  1598063843158417408  1.669844e+12   \n",
       "2  1598055733685555202  1598055733685555202  1.669841e+12   \n",
       "3  1598054835206914049  1597855388996898816  1.669841e+12   \n",
       "4  1598014122331099136  1598014122331099136  1.669831e+12   \n",
       "\n",
       "                  date timezone place  \\\n",
       "0  2022-11-30 23:25:39    +0100         \n",
       "1  2022-11-30 22:26:09    +0100         \n",
       "2  2022-11-30 21:45:52    +0100         \n",
       "3  2022-11-30 21:42:17    +0100         \n",
       "4  2022-11-30 19:00:31    +0100         \n",
       "\n",
       "                                               tweet language       hashtags  \\\n",
       "0  Nigerians are adorable. 🇳🇬 They know who is wo...       en  [renewedhope]   \n",
       "1  @dipoaina1 @OfficialAPCNg gave SW d chance 2 a...       en             []   \n",
       "2  That is JAGABAN for you. Even his co-contestan...       en             []   \n",
       "3  @btmusaesq @FredrickNwabufo I'm very Proud to ...       en             []   \n",
       "4  I say make I tell you;  As for me and my house...       en             []   \n",
       "\n",
       "  cashtags  ...  source user_rt_id user_rt retweet_id  \\\n",
       "0       []  ...                                         \n",
       "1       []  ...                                         \n",
       "2       []  ...                                         \n",
       "3       []  ...                                         \n",
       "4       []  ...                                         \n",
       "\n",
       "                                            reply_to retweet_date translate  \\\n",
       "0                                                 []                          \n",
       "1  [{'screen_name': 'dipoaina1', 'name': 'Ainà Di...                          \n",
       "2                                                 []                          \n",
       "3  [{'screen_name': 'btmusaesq', 'name': 'Btm Of ...                          \n",
       "4                                                 []                          \n",
       "\n",
       "  trans_src trans_dest         candidates  \n",
       "0                       Bola Ahmed Tinubu  \n",
       "1                       Bola Ahmed Tinubu  \n",
       "2                       Bola Ahmed Tinubu  \n",
       "3                       Bola Ahmed Tinubu  \n",
       "4                       Bola Ahmed Tinubu  \n",
       "\n",
       "[5 rows x 39 columns]"
      ]
     },
     "execution_count": 26,
     "metadata": {},
     "output_type": "execute_result"
    }
   ],
   "source": [
    "candidates_23.head()"
   ]
  },
  {
   "cell_type": "code",
   "execution_count": 27,
   "id": "d82a6908",
   "metadata": {},
   "outputs": [
    {
     "data": {
      "text/plain": [
       "0       Bola Ahmed Tinubu\n",
       "1       Bola Ahmed Tinubu\n",
       "2       Bola Ahmed Tinubu\n",
       "3       Bola Ahmed Tinubu\n",
       "4       Bola Ahmed Tinubu\n",
       "              ...        \n",
       "1000                Atiku\n",
       "1001                Atiku\n",
       "1002                Atiku\n",
       "1003                Atiku\n",
       "1004                Atiku\n",
       "Name: candidates, Length: 1385, dtype: object"
      ]
     },
     "execution_count": 27,
     "metadata": {},
     "output_type": "execute_result"
    }
   ],
   "source": [
    "candidates_23.candidates"
   ]
  },
  {
   "cell_type": "code",
   "execution_count": 29,
   "id": "8482f6c8",
   "metadata": {},
   "outputs": [],
   "source": [
    "# saving my dataset \n",
    "candidates_23.to_csv(\"C:/Users/STUTERN/Desktop/Intermediate_project/week6/tweets.csv\") "
   ]
  },
  {
   "cell_type": "code",
   "execution_count": null,
   "id": "11d36606",
   "metadata": {},
   "outputs": [],
   "source": [
    "C:\\Users\\STUTERN\\Desktop\\Intermediate_project\\week6/tweets.csv"
   ]
  },
  {
   "cell_type": "code",
   "execution_count": 30,
   "id": "3a32b84e",
   "metadata": {},
   "outputs": [
    {
     "data": {
      "text/plain": [
       "Index(['id', 'conversation_id', 'created_at', 'date', 'timezone', 'place',\n",
       "       'tweet', 'language', 'hashtags', 'cashtags', 'user_id', 'user_id_str',\n",
       "       'username', 'name', 'day', 'hour', 'link', 'urls', 'photos', 'video',\n",
       "       'thumbnail', 'retweet', 'nlikes', 'nreplies', 'nretweets', 'quote_url',\n",
       "       'search', 'near', 'geo', 'source', 'user_rt_id', 'user_rt',\n",
       "       'retweet_id', 'reply_to', 'retweet_date', 'translate', 'trans_src',\n",
       "       'trans_dest', 'candidates'],\n",
       "      dtype='object')"
      ]
     },
     "execution_count": 30,
     "metadata": {},
     "output_type": "execute_result"
    }
   ],
   "source": [
    "candidates_23.columns"
   ]
  },
  {
   "cell_type": "code",
   "execution_count": 31,
   "id": "9244bfdd",
   "metadata": {},
   "outputs": [
    {
     "data": {
      "text/plain": [
       "array(['en', 'in', 'tl', 'ro', 'und', 'qme', 'fr', 'qht', 'pt', 'ht'],\n",
       "      dtype=object)"
      ]
     },
     "execution_count": 31,
     "metadata": {},
     "output_type": "execute_result"
    }
   ],
   "source": [
    "candidates_23[\"language\"].unique() # checking if my data has other languages other than English"
   ]
  },
  {
   "cell_type": "code",
   "execution_count": null,
   "id": "dfa73a07",
   "metadata": {},
   "outputs": [],
   "source": []
  },
  {
   "cell_type": "code",
   "execution_count": null,
   "id": "2e3b8370",
   "metadata": {},
   "outputs": [],
   "source": []
  }
 ],
 "metadata": {
  "kernelspec": {
   "display_name": "Python 3 (ipykernel)",
   "language": "python",
   "name": "python3"
  },
  "language_info": {
   "codemirror_mode": {
    "name": "ipython",
    "version": 3
   },
   "file_extension": ".py",
   "mimetype": "text/x-python",
   "name": "python",
   "nbconvert_exporter": "python",
   "pygments_lexer": "ipython3",
   "version": "3.9.12"
  }
 },
 "nbformat": 4,
 "nbformat_minor": 5
}
