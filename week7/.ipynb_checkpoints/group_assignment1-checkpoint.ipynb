{
 "cells": [
  {
   "cell_type": "markdown",
   "id": "7c670fef",
   "metadata": {},
   "source": [
    "In this assigment, we going to scrap a site and draw insights from it \n",
    "\n",
    "* using the url above webscrap the financial website and load it in a pandas Dataframe \n",
    "* load it in df and draw out at least 3 insights from the data "
   ]
  },
  {
   "cell_type": "code",
   "execution_count": 2,
   "id": "e3edc950",
   "metadata": {},
   "outputs": [],
   "source": [
    "import pandas as pd\n",
    "import numpy as np\n",
    "from matplotlib import pyplot as plt\n",
    "import seaborn as sns\n",
    "import requests\n",
    "from bs4 import BeautifulSoup"
   ]
  },
  {
   "cell_type": "code",
   "execution_count": 156,
   "id": "b2cfa4bc",
   "metadata": {},
   "outputs": [],
   "source": [
    "url = \"https://www.worlddata.info/africa/nigeria/inflation-rates.php\"\n",
    "r = requests.get(url)\n",
    "content = BeautifulSoup(r.content, 'html.parser')\n",
    "#content"
   ]
  },
  {
   "cell_type": "code",
   "execution_count": 157,
   "id": "a29cedc2",
   "metadata": {},
   "outputs": [
    {
     "name": "stdout",
     "output_type": "stream",
     "text": [
      "Year\n",
      "Nigeria\n",
      "Ø EU\n",
      "Ø USA\n",
      "Ø World\n"
     ]
    }
   ],
   "source": [
    "for rows in content.find_all('tr')[0]:\n",
    "    print(rows.text)"
   ]
  },
  {
   "cell_type": "code",
   "execution_count": 158,
   "id": "75d504c1",
   "metadata": {},
   "outputs": [],
   "source": [
    "header = []\n",
    "for rows in content.find_all('tr')[0]:\n",
    "    header.append(rows.text)\n",
    "df = pd.DataFrame(columns = header)\n",
    "\n",
    "table_rows = content.find_all('tr')[:1]\n",
    "list_row = []\n",
    "for i in range(3,len(table_rows)):\n",
    "    row_level = table_rows[i]\n",
    "    row_level_list = []\n",
    "    for rows in row_level:\n",
    "        row_level_list.append(rows.text)\n",
    "    list_row.append(row_level_list)\n",
    "for final_row in list_row:\n",
    "    df.loc[:, -1] = final_row\n",
    "    df.iloc[df.shape[0:]] = final_row"
   ]
  },
  {
   "cell_type": "code",
   "execution_count": 159,
   "id": "327f2f36",
   "metadata": {},
   "outputs": [
    {
     "data": {
      "text/html": [
       "<div>\n",
       "<style scoped>\n",
       "    .dataframe tbody tr th:only-of-type {\n",
       "        vertical-align: middle;\n",
       "    }\n",
       "\n",
       "    .dataframe tbody tr th {\n",
       "        vertical-align: top;\n",
       "    }\n",
       "\n",
       "    .dataframe thead th {\n",
       "        text-align: right;\n",
       "    }\n",
       "</style>\n",
       "<table border=\"1\" class=\"dataframe\">\n",
       "  <thead>\n",
       "    <tr style=\"text-align: right;\">\n",
       "      <th></th>\n",
       "      <th>Year</th>\n",
       "      <th>Nigeria</th>\n",
       "      <th>Ø EU</th>\n",
       "      <th>Ø USA</th>\n",
       "      <th>Ø World</th>\n",
       "    </tr>\n",
       "  </thead>\n",
       "  <tbody>\n",
       "  </tbody>\n",
       "</table>\n",
       "</div>"
      ],
      "text/plain": [
       "Empty DataFrame\n",
       "Columns: [Year, Nigeria, Ø EU, Ø USA, Ø World]\n",
       "Index: []"
      ]
     },
     "execution_count": 159,
     "metadata": {},
     "output_type": "execute_result"
    }
   ],
   "source": [
    "df"
   ]
  },
  {
   "cell_type": "code",
   "execution_count": 160,
   "id": "399d797b",
   "metadata": {},
   "outputs": [],
   "source": [
    "list_row = []\n",
    "for header in content.find_all('th'):\n",
    "    list_row.append(header.text)\n",
    "    \n",
    "df = pd.DataFrame(columns= list_row)\n",
    "row_team = []\n",
    "tr = content.find_all('tr')\n",
    "list_of_rows = []\n",
    "for table_row in range(1,len(tr)):\n",
    "    list_for_each_row = []\n",
    "    tr_small = tr[table_row]\n",
    "    for row in tr_small:\n",
    "        list_for_each_row.append(row.text)\n",
    "        list_of_rows.append(list_for_each_row)\n",
    "        \n",
    "for i in list_of_rows:\n",
    "    df.loc[len(df)] = i"
   ]
  },
  {
   "cell_type": "code",
   "execution_count": 161,
   "id": "3598767a",
   "metadata": {},
   "outputs": [
    {
     "data": {
      "text/html": [
       "<div>\n",
       "<style scoped>\n",
       "    .dataframe tbody tr th:only-of-type {\n",
       "        vertical-align: middle;\n",
       "    }\n",
       "\n",
       "    .dataframe tbody tr th {\n",
       "        vertical-align: top;\n",
       "    }\n",
       "\n",
       "    .dataframe thead th {\n",
       "        text-align: right;\n",
       "    }\n",
       "</style>\n",
       "<table border=\"1\" class=\"dataframe\">\n",
       "  <thead>\n",
       "    <tr style=\"text-align: right;\">\n",
       "      <th></th>\n",
       "      <th>Year</th>\n",
       "      <th>Nigeria</th>\n",
       "      <th>Ø EU</th>\n",
       "      <th>Ø USA</th>\n",
       "      <th>Ø World</th>\n",
       "    </tr>\n",
       "  </thead>\n",
       "  <tbody>\n",
       "    <tr>\n",
       "      <th>0</th>\n",
       "      <td>2021</td>\n",
       "      <td>16.95 %</td>\n",
       "      <td>2.55 %</td>\n",
       "      <td>4.70 %</td>\n",
       "      <td>3.42 %</td>\n",
       "    </tr>\n",
       "    <tr>\n",
       "      <th>1</th>\n",
       "      <td>2021</td>\n",
       "      <td>16.95 %</td>\n",
       "      <td>2.55 %</td>\n",
       "      <td>4.70 %</td>\n",
       "      <td>3.42 %</td>\n",
       "    </tr>\n",
       "    <tr>\n",
       "      <th>2</th>\n",
       "      <td>2021</td>\n",
       "      <td>16.95 %</td>\n",
       "      <td>2.55 %</td>\n",
       "      <td>4.70 %</td>\n",
       "      <td>3.42 %</td>\n",
       "    </tr>\n",
       "    <tr>\n",
       "      <th>3</th>\n",
       "      <td>2021</td>\n",
       "      <td>16.95 %</td>\n",
       "      <td>2.55 %</td>\n",
       "      <td>4.70 %</td>\n",
       "      <td>3.42 %</td>\n",
       "    </tr>\n",
       "    <tr>\n",
       "      <th>4</th>\n",
       "      <td>2021</td>\n",
       "      <td>16.95 %</td>\n",
       "      <td>2.55 %</td>\n",
       "      <td>4.70 %</td>\n",
       "      <td>3.42 %</td>\n",
       "    </tr>\n",
       "  </tbody>\n",
       "</table>\n",
       "</div>"
      ],
      "text/plain": [
       "   Year  Nigeria    Ø EU   Ø USA Ø World\n",
       "0  2021  16.95 %  2.55 %  4.70 %  3.42 %\n",
       "1  2021  16.95 %  2.55 %  4.70 %  3.42 %\n",
       "2  2021  16.95 %  2.55 %  4.70 %  3.42 %\n",
       "3  2021  16.95 %  2.55 %  4.70 %  3.42 %\n",
       "4  2021  16.95 %  2.55 %  4.70 %  3.42 %"
      ]
     },
     "execution_count": 161,
     "metadata": {},
     "output_type": "execute_result"
    }
   ],
   "source": [
    "df.head()"
   ]
  },
  {
   "cell_type": "code",
   "execution_count": 162,
   "id": "804e9b94",
   "metadata": {},
   "outputs": [
    {
     "data": {
      "text/plain": [
       "(310, 5)"
      ]
     },
     "execution_count": 162,
     "metadata": {},
     "output_type": "execute_result"
    }
   ],
   "source": [
    "# checking for the shape of my data\n",
    "df.shape"
   ]
  },
  {
   "cell_type": "code",
   "execution_count": 163,
   "id": "73989dec",
   "metadata": {},
   "outputs": [
    {
     "data": {
      "text/plain": [
       "Year       object\n",
       "Nigeria    object\n",
       "Ø EU       object\n",
       "Ø USA      object\n",
       "Ø World    object\n",
       "dtype: object"
      ]
     },
     "execution_count": 163,
     "metadata": {},
     "output_type": "execute_result"
    }
   ],
   "source": [
    "# checking for datatypes\n",
    "df.dtypes"
   ]
  },
  {
   "cell_type": "code",
   "execution_count": 164,
   "id": "a911e233",
   "metadata": {},
   "outputs": [
    {
     "data": {
      "text/plain": [
       "Index(['Year', 'Nigeria', 'Ø EU', 'Ø USA', 'Ø World'], dtype='object')"
      ]
     },
     "execution_count": 164,
     "metadata": {},
     "output_type": "execute_result"
    }
   ],
   "source": [
    "# checking the column\n",
    "df.columns"
   ]
  },
  {
   "cell_type": "code",
   "execution_count": 165,
   "id": "6f7d47c4",
   "metadata": {},
   "outputs": [],
   "source": [
    "# renaming the column name to remove Ø sign\n",
    "df.rename(columns= {'Ø EU': 'EU',\n",
    "                   'Ø USA': 'USA',\n",
    "                  'Ø World': 'World'}, inplace=True)"
   ]
  },
  {
   "cell_type": "code",
   "execution_count": 166,
   "id": "dc5f2fa5",
   "metadata": {
    "scrolled": false
   },
   "outputs": [
    {
     "data": {
      "text/html": [
       "<div>\n",
       "<style scoped>\n",
       "    .dataframe tbody tr th:only-of-type {\n",
       "        vertical-align: middle;\n",
       "    }\n",
       "\n",
       "    .dataframe tbody tr th {\n",
       "        vertical-align: top;\n",
       "    }\n",
       "\n",
       "    .dataframe thead th {\n",
       "        text-align: right;\n",
       "    }\n",
       "</style>\n",
       "<table border=\"1\" class=\"dataframe\">\n",
       "  <thead>\n",
       "    <tr style=\"text-align: right;\">\n",
       "      <th></th>\n",
       "      <th>Year</th>\n",
       "      <th>Nigeria</th>\n",
       "      <th>EU</th>\n",
       "      <th>USA</th>\n",
       "      <th>World</th>\n",
       "    </tr>\n",
       "  </thead>\n",
       "  <tbody>\n",
       "    <tr>\n",
       "      <th>0</th>\n",
       "      <td>2021</td>\n",
       "      <td>16.95 %</td>\n",
       "      <td>2.55 %</td>\n",
       "      <td>4.70 %</td>\n",
       "      <td>3.42 %</td>\n",
       "    </tr>\n",
       "    <tr>\n",
       "      <th>1</th>\n",
       "      <td>2021</td>\n",
       "      <td>16.95 %</td>\n",
       "      <td>2.55 %</td>\n",
       "      <td>4.70 %</td>\n",
       "      <td>3.42 %</td>\n",
       "    </tr>\n",
       "    <tr>\n",
       "      <th>2</th>\n",
       "      <td>2021</td>\n",
       "      <td>16.95 %</td>\n",
       "      <td>2.55 %</td>\n",
       "      <td>4.70 %</td>\n",
       "      <td>3.42 %</td>\n",
       "    </tr>\n",
       "    <tr>\n",
       "      <th>3</th>\n",
       "      <td>2021</td>\n",
       "      <td>16.95 %</td>\n",
       "      <td>2.55 %</td>\n",
       "      <td>4.70 %</td>\n",
       "      <td>3.42 %</td>\n",
       "    </tr>\n",
       "    <tr>\n",
       "      <th>4</th>\n",
       "      <td>2021</td>\n",
       "      <td>16.95 %</td>\n",
       "      <td>2.55 %</td>\n",
       "      <td>4.70 %</td>\n",
       "      <td>3.42 %</td>\n",
       "    </tr>\n",
       "  </tbody>\n",
       "</table>\n",
       "</div>"
      ],
      "text/plain": [
       "   Year  Nigeria      EU     USA   World\n",
       "0  2021  16.95 %  2.55 %  4.70 %  3.42 %\n",
       "1  2021  16.95 %  2.55 %  4.70 %  3.42 %\n",
       "2  2021  16.95 %  2.55 %  4.70 %  3.42 %\n",
       "3  2021  16.95 %  2.55 %  4.70 %  3.42 %\n",
       "4  2021  16.95 %  2.55 %  4.70 %  3.42 %"
      ]
     },
     "execution_count": 166,
     "metadata": {},
     "output_type": "execute_result"
    }
   ],
   "source": [
    "pd.set_option('display.max_rows', None) \n",
    "df.head(5)"
   ]
  },
  {
   "cell_type": "code",
   "execution_count": 167,
   "id": "f0ab0f28",
   "metadata": {},
   "outputs": [
    {
     "data": {
      "text/html": [
       "<div>\n",
       "<style scoped>\n",
       "    .dataframe tbody tr th:only-of-type {\n",
       "        vertical-align: middle;\n",
       "    }\n",
       "\n",
       "    .dataframe tbody tr th {\n",
       "        vertical-align: top;\n",
       "    }\n",
       "\n",
       "    .dataframe thead th {\n",
       "        text-align: right;\n",
       "    }\n",
       "</style>\n",
       "<table border=\"1\" class=\"dataframe\">\n",
       "  <thead>\n",
       "    <tr style=\"text-align: right;\">\n",
       "      <th></th>\n",
       "      <th>Year</th>\n",
       "      <th>Nigeria</th>\n",
       "      <th>EU</th>\n",
       "      <th>USA</th>\n",
       "      <th>World</th>\n",
       "    </tr>\n",
       "  </thead>\n",
       "  <tbody>\n",
       "    <tr>\n",
       "      <th>305</th>\n",
       "      <td>1960</td>\n",
       "      <td>5.44 %</td>\n",
       "      <td>1.74 %</td>\n",
       "      <td>1.46 %</td>\n",
       "      <td>n/a</td>\n",
       "    </tr>\n",
       "    <tr>\n",
       "      <th>306</th>\n",
       "      <td>1960</td>\n",
       "      <td>5.44 %</td>\n",
       "      <td>1.74 %</td>\n",
       "      <td>1.46 %</td>\n",
       "      <td>n/a</td>\n",
       "    </tr>\n",
       "    <tr>\n",
       "      <th>307</th>\n",
       "      <td>1960</td>\n",
       "      <td>5.44 %</td>\n",
       "      <td>1.74 %</td>\n",
       "      <td>1.46 %</td>\n",
       "      <td>n/a</td>\n",
       "    </tr>\n",
       "    <tr>\n",
       "      <th>308</th>\n",
       "      <td>1960</td>\n",
       "      <td>5.44 %</td>\n",
       "      <td>1.74 %</td>\n",
       "      <td>1.46 %</td>\n",
       "      <td>n/a</td>\n",
       "    </tr>\n",
       "    <tr>\n",
       "      <th>309</th>\n",
       "      <td>1960</td>\n",
       "      <td>5.44 %</td>\n",
       "      <td>1.74 %</td>\n",
       "      <td>1.46 %</td>\n",
       "      <td>n/a</td>\n",
       "    </tr>\n",
       "  </tbody>\n",
       "</table>\n",
       "</div>"
      ],
      "text/plain": [
       "     Year Nigeria      EU     USA World\n",
       "305  1960  5.44 %  1.74 %  1.46 %   n/a\n",
       "306  1960  5.44 %  1.74 %  1.46 %   n/a\n",
       "307  1960  5.44 %  1.74 %  1.46 %   n/a\n",
       "308  1960  5.44 %  1.74 %  1.46 %   n/a\n",
       "309  1960  5.44 %  1.74 %  1.46 %   n/a"
      ]
     },
     "execution_count": 167,
     "metadata": {},
     "output_type": "execute_result"
    }
   ],
   "source": [
    "df.tail(5) # there are NA values in the 'World' column"
   ]
  },
  {
   "cell_type": "code",
   "execution_count": 169,
   "id": "5b3af1ac",
   "metadata": {},
   "outputs": [],
   "source": [
    "# saving my dataset \n",
    "df.to_csv(\"C:/Users/STUTERN/Desktop/Intermediate_project/week7/nigeria_inflation_rate.csv\") "
   ]
  },
  {
   "cell_type": "code",
   "execution_count": 170,
   "id": "2d4d7db5",
   "metadata": {},
   "outputs": [
    {
     "data": {
      "text/plain": [
       "n/a       100\n",
       "2.19 %     10\n",
       "4.82 %     10\n",
       "7.15 %      5\n",
       "9.15 %      5\n",
       "Name: World, dtype: int64"
      ]
     },
     "execution_count": 170,
     "metadata": {},
     "output_type": "execute_result"
    }
   ],
   "source": [
    "df.World.value_counts().head()"
   ]
  },
  {
   "cell_type": "code",
   "execution_count": 3,
   "id": "aa7ebc8a",
   "metadata": {},
   "outputs": [],
   "source": [
    "df1 = pd.read_csv(\"C:/Users/STUTERN/Desktop/Intermediate_project/week7/nigeria_inflation_rate.csv\", index_col=0)"
   ]
  },
  {
   "cell_type": "code",
   "execution_count": 4,
   "id": "bade59df",
   "metadata": {},
   "outputs": [
    {
     "data": {
      "text/html": [
       "<div>\n",
       "<style scoped>\n",
       "    .dataframe tbody tr th:only-of-type {\n",
       "        vertical-align: middle;\n",
       "    }\n",
       "\n",
       "    .dataframe tbody tr th {\n",
       "        vertical-align: top;\n",
       "    }\n",
       "\n",
       "    .dataframe thead th {\n",
       "        text-align: right;\n",
       "    }\n",
       "</style>\n",
       "<table border=\"1\" class=\"dataframe\">\n",
       "  <thead>\n",
       "    <tr style=\"text-align: right;\">\n",
       "      <th></th>\n",
       "      <th>Year</th>\n",
       "      <th>Nigeria</th>\n",
       "      <th>EU</th>\n",
       "      <th>USA</th>\n",
       "      <th>World</th>\n",
       "    </tr>\n",
       "  </thead>\n",
       "  <tbody>\n",
       "    <tr>\n",
       "      <th>305</th>\n",
       "      <td>1960</td>\n",
       "      <td>5.44 %</td>\n",
       "      <td>1.74 %</td>\n",
       "      <td>1.46 %</td>\n",
       "      <td>NaN</td>\n",
       "    </tr>\n",
       "    <tr>\n",
       "      <th>306</th>\n",
       "      <td>1960</td>\n",
       "      <td>5.44 %</td>\n",
       "      <td>1.74 %</td>\n",
       "      <td>1.46 %</td>\n",
       "      <td>NaN</td>\n",
       "    </tr>\n",
       "    <tr>\n",
       "      <th>307</th>\n",
       "      <td>1960</td>\n",
       "      <td>5.44 %</td>\n",
       "      <td>1.74 %</td>\n",
       "      <td>1.46 %</td>\n",
       "      <td>NaN</td>\n",
       "    </tr>\n",
       "    <tr>\n",
       "      <th>308</th>\n",
       "      <td>1960</td>\n",
       "      <td>5.44 %</td>\n",
       "      <td>1.74 %</td>\n",
       "      <td>1.46 %</td>\n",
       "      <td>NaN</td>\n",
       "    </tr>\n",
       "    <tr>\n",
       "      <th>309</th>\n",
       "      <td>1960</td>\n",
       "      <td>5.44 %</td>\n",
       "      <td>1.74 %</td>\n",
       "      <td>1.46 %</td>\n",
       "      <td>NaN</td>\n",
       "    </tr>\n",
       "  </tbody>\n",
       "</table>\n",
       "</div>"
      ],
      "text/plain": [
       "     Year Nigeria      EU     USA World\n",
       "305  1960  5.44 %  1.74 %  1.46 %   NaN\n",
       "306  1960  5.44 %  1.74 %  1.46 %   NaN\n",
       "307  1960  5.44 %  1.74 %  1.46 %   NaN\n",
       "308  1960  5.44 %  1.74 %  1.46 %   NaN\n",
       "309  1960  5.44 %  1.74 %  1.46 %   NaN"
      ]
     },
     "execution_count": 4,
     "metadata": {},
     "output_type": "execute_result"
    }
   ],
   "source": [
    "df1.tail(5)"
   ]
  },
  {
   "cell_type": "code",
   "execution_count": 6,
   "id": "9de19289",
   "metadata": {},
   "outputs": [],
   "source": [
    "df1[\"World\"].fillna(\"2.19 %\", inplace = True)"
   ]
  },
  {
   "cell_type": "code",
   "execution_count": 7,
   "id": "f146ad64",
   "metadata": {},
   "outputs": [
    {
     "data": {
      "text/html": [
       "<div>\n",
       "<style scoped>\n",
       "    .dataframe tbody tr th:only-of-type {\n",
       "        vertical-align: middle;\n",
       "    }\n",
       "\n",
       "    .dataframe tbody tr th {\n",
       "        vertical-align: top;\n",
       "    }\n",
       "\n",
       "    .dataframe thead th {\n",
       "        text-align: right;\n",
       "    }\n",
       "</style>\n",
       "<table border=\"1\" class=\"dataframe\">\n",
       "  <thead>\n",
       "    <tr style=\"text-align: right;\">\n",
       "      <th></th>\n",
       "      <th>Year</th>\n",
       "      <th>Nigeria</th>\n",
       "      <th>EU</th>\n",
       "      <th>USA</th>\n",
       "      <th>World</th>\n",
       "    </tr>\n",
       "  </thead>\n",
       "  <tbody>\n",
       "    <tr>\n",
       "      <th>305</th>\n",
       "      <td>1960</td>\n",
       "      <td>5.44 %</td>\n",
       "      <td>1.74 %</td>\n",
       "      <td>1.46 %</td>\n",
       "      <td>2.19 %</td>\n",
       "    </tr>\n",
       "    <tr>\n",
       "      <th>306</th>\n",
       "      <td>1960</td>\n",
       "      <td>5.44 %</td>\n",
       "      <td>1.74 %</td>\n",
       "      <td>1.46 %</td>\n",
       "      <td>2.19 %</td>\n",
       "    </tr>\n",
       "    <tr>\n",
       "      <th>307</th>\n",
       "      <td>1960</td>\n",
       "      <td>5.44 %</td>\n",
       "      <td>1.74 %</td>\n",
       "      <td>1.46 %</td>\n",
       "      <td>2.19 %</td>\n",
       "    </tr>\n",
       "    <tr>\n",
       "      <th>308</th>\n",
       "      <td>1960</td>\n",
       "      <td>5.44 %</td>\n",
       "      <td>1.74 %</td>\n",
       "      <td>1.46 %</td>\n",
       "      <td>2.19 %</td>\n",
       "    </tr>\n",
       "    <tr>\n",
       "      <th>309</th>\n",
       "      <td>1960</td>\n",
       "      <td>5.44 %</td>\n",
       "      <td>1.74 %</td>\n",
       "      <td>1.46 %</td>\n",
       "      <td>2.19 %</td>\n",
       "    </tr>\n",
       "  </tbody>\n",
       "</table>\n",
       "</div>"
      ],
      "text/plain": [
       "     Year Nigeria      EU     USA   World\n",
       "305  1960  5.44 %  1.74 %  1.46 %  2.19 %\n",
       "306  1960  5.44 %  1.74 %  1.46 %  2.19 %\n",
       "307  1960  5.44 %  1.74 %  1.46 %  2.19 %\n",
       "308  1960  5.44 %  1.74 %  1.46 %  2.19 %\n",
       "309  1960  5.44 %  1.74 %  1.46 %  2.19 %"
      ]
     },
     "execution_count": 7,
     "metadata": {},
     "output_type": "execute_result"
    }
   ],
   "source": [
    "df1.tail()"
   ]
  },
  {
   "cell_type": "code",
   "execution_count": 8,
   "id": "80d854ad",
   "metadata": {},
   "outputs": [],
   "source": [
    "#Removing the % sign from the values\n",
    "cols = ['Nigeria','EU','USA','World']\n",
    "df1[cols] = df1[cols].replace({'%':''}, regex=True)"
   ]
  },
  {
   "cell_type": "code",
   "execution_count": 9,
   "id": "f2a92884",
   "metadata": {},
   "outputs": [
    {
     "data": {
      "text/html": [
       "<div>\n",
       "<style scoped>\n",
       "    .dataframe tbody tr th:only-of-type {\n",
       "        vertical-align: middle;\n",
       "    }\n",
       "\n",
       "    .dataframe tbody tr th {\n",
       "        vertical-align: top;\n",
       "    }\n",
       "\n",
       "    .dataframe thead th {\n",
       "        text-align: right;\n",
       "    }\n",
       "</style>\n",
       "<table border=\"1\" class=\"dataframe\">\n",
       "  <thead>\n",
       "    <tr style=\"text-align: right;\">\n",
       "      <th></th>\n",
       "      <th>Year</th>\n",
       "      <th>Nigeria</th>\n",
       "      <th>EU</th>\n",
       "      <th>USA</th>\n",
       "      <th>World</th>\n",
       "    </tr>\n",
       "  </thead>\n",
       "  <tbody>\n",
       "    <tr>\n",
       "      <th>0</th>\n",
       "      <td>2021</td>\n",
       "      <td>16.95</td>\n",
       "      <td>2.55</td>\n",
       "      <td>4.70</td>\n",
       "      <td>3.42</td>\n",
       "    </tr>\n",
       "    <tr>\n",
       "      <th>1</th>\n",
       "      <td>2021</td>\n",
       "      <td>16.95</td>\n",
       "      <td>2.55</td>\n",
       "      <td>4.70</td>\n",
       "      <td>3.42</td>\n",
       "    </tr>\n",
       "    <tr>\n",
       "      <th>2</th>\n",
       "      <td>2021</td>\n",
       "      <td>16.95</td>\n",
       "      <td>2.55</td>\n",
       "      <td>4.70</td>\n",
       "      <td>3.42</td>\n",
       "    </tr>\n",
       "    <tr>\n",
       "      <th>3</th>\n",
       "      <td>2021</td>\n",
       "      <td>16.95</td>\n",
       "      <td>2.55</td>\n",
       "      <td>4.70</td>\n",
       "      <td>3.42</td>\n",
       "    </tr>\n",
       "    <tr>\n",
       "      <th>4</th>\n",
       "      <td>2021</td>\n",
       "      <td>16.95</td>\n",
       "      <td>2.55</td>\n",
       "      <td>4.70</td>\n",
       "      <td>3.42</td>\n",
       "    </tr>\n",
       "  </tbody>\n",
       "</table>\n",
       "</div>"
      ],
      "text/plain": [
       "   Year Nigeria     EU    USA  World\n",
       "0  2021  16.95   2.55   4.70   3.42 \n",
       "1  2021  16.95   2.55   4.70   3.42 \n",
       "2  2021  16.95   2.55   4.70   3.42 \n",
       "3  2021  16.95   2.55   4.70   3.42 \n",
       "4  2021  16.95   2.55   4.70   3.42 "
      ]
     },
     "execution_count": 9,
     "metadata": {},
     "output_type": "execute_result"
    }
   ],
   "source": [
    "df1.head()"
   ]
  },
  {
   "cell_type": "code",
   "execution_count": 10,
   "id": "1ab405ff",
   "metadata": {},
   "outputs": [
    {
     "data": {
      "text/plain": [
       "(310, 5)"
      ]
     },
     "execution_count": 10,
     "metadata": {},
     "output_type": "execute_result"
    }
   ],
   "source": [
    "df1.shape"
   ]
  },
  {
   "cell_type": "code",
   "execution_count": 11,
   "id": "b9507da3",
   "metadata": {},
   "outputs": [
    {
     "data": {
      "text/plain": [
       "248"
      ]
     },
     "execution_count": 11,
     "metadata": {},
     "output_type": "execute_result"
    }
   ],
   "source": [
    "df1.duplicated(keep='first').sum() #the years are duplicated which will affect the insight"
   ]
  },
  {
   "cell_type": "code",
   "execution_count": 12,
   "id": "06605581",
   "metadata": {},
   "outputs": [],
   "source": [
    "df1.drop_duplicates(keep='first', inplace=True)"
   ]
  },
  {
   "cell_type": "code",
   "execution_count": 13,
   "id": "e182c7af",
   "metadata": {},
   "outputs": [
    {
     "data": {
      "text/plain": [
       "(62, 5)"
      ]
     },
     "execution_count": 13,
     "metadata": {},
     "output_type": "execute_result"
    }
   ],
   "source": [
    "df1.shape"
   ]
  },
  {
   "cell_type": "code",
   "execution_count": 15,
   "id": "3c9b77e4",
   "metadata": {},
   "outputs": [],
   "source": [
    "df1= df1.astype(float)"
   ]
  },
  {
   "cell_type": "code",
   "execution_count": 16,
   "id": "b1d2a11f",
   "metadata": {},
   "outputs": [],
   "source": [
    "df1['Year']= df1['Year'].astype(int)"
   ]
  },
  {
   "cell_type": "code",
   "execution_count": 17,
   "id": "006d5779",
   "metadata": {},
   "outputs": [
    {
     "data": {
      "text/plain": [
       "Year         int32\n",
       "Nigeria    float64\n",
       "EU         float64\n",
       "USA        float64\n",
       "World      float64\n",
       "dtype: object"
      ]
     },
     "execution_count": 17,
     "metadata": {},
     "output_type": "execute_result"
    }
   ],
   "source": [
    "df1.dtypes"
   ]
  },
  {
   "cell_type": "markdown",
   "id": "0984ba99",
   "metadata": {},
   "source": [
    "#### Data Exploration\n",
    "###### Draw out five insights from the data\n"
   ]
  },
  {
   "cell_type": "markdown",
   "id": "39ef5c3d",
   "metadata": {},
   "source": [
    "**1. Which year has the highest and lowest inflation rate in Nigeria**"
   ]
  },
  {
   "cell_type": "code",
   "execution_count": 67,
   "id": "fab8f296",
   "metadata": {},
   "outputs": [
    {
     "data": {
      "text/html": [
       "<div>\n",
       "<style scoped>\n",
       "    .dataframe tbody tr th:only-of-type {\n",
       "        vertical-align: middle;\n",
       "    }\n",
       "\n",
       "    .dataframe tbody tr th {\n",
       "        vertical-align: top;\n",
       "    }\n",
       "\n",
       "    .dataframe thead th {\n",
       "        text-align: right;\n",
       "    }\n",
       "</style>\n",
       "<table border=\"1\" class=\"dataframe\">\n",
       "  <thead>\n",
       "    <tr style=\"text-align: right;\">\n",
       "      <th></th>\n",
       "      <th>Year</th>\n",
       "      <th>Nigeria</th>\n",
       "      <th>EU</th>\n",
       "      <th>USA</th>\n",
       "      <th>World</th>\n",
       "    </tr>\n",
       "  </thead>\n",
       "  <tbody>\n",
       "    <tr>\n",
       "      <th>0</th>\n",
       "      <td>2021</td>\n",
       "      <td>16.95</td>\n",
       "      <td>2.55</td>\n",
       "      <td>4.70</td>\n",
       "      <td>3.42</td>\n",
       "    </tr>\n",
       "    <tr>\n",
       "      <th>5</th>\n",
       "      <td>2020</td>\n",
       "      <td>13.25</td>\n",
       "      <td>0.50</td>\n",
       "      <td>1.23</td>\n",
       "      <td>1.92</td>\n",
       "    </tr>\n",
       "    <tr>\n",
       "      <th>10</th>\n",
       "      <td>2019</td>\n",
       "      <td>11.40</td>\n",
       "      <td>1.63</td>\n",
       "      <td>1.81</td>\n",
       "      <td>2.19</td>\n",
       "    </tr>\n",
       "    <tr>\n",
       "      <th>15</th>\n",
       "      <td>2018</td>\n",
       "      <td>12.09</td>\n",
       "      <td>1.74</td>\n",
       "      <td>2.44</td>\n",
       "      <td>2.44</td>\n",
       "    </tr>\n",
       "    <tr>\n",
       "      <th>20</th>\n",
       "      <td>2017</td>\n",
       "      <td>16.52</td>\n",
       "      <td>1.43</td>\n",
       "      <td>2.13</td>\n",
       "      <td>2.19</td>\n",
       "    </tr>\n",
       "    <tr>\n",
       "      <th>25</th>\n",
       "      <td>2016</td>\n",
       "      <td>15.68</td>\n",
       "      <td>0.18</td>\n",
       "      <td>1.26</td>\n",
       "      <td>1.55</td>\n",
       "    </tr>\n",
       "    <tr>\n",
       "      <th>30</th>\n",
       "      <td>2015</td>\n",
       "      <td>9.01</td>\n",
       "      <td>-0.06</td>\n",
       "      <td>0.12</td>\n",
       "      <td>1.43</td>\n",
       "    </tr>\n",
       "    <tr>\n",
       "      <th>35</th>\n",
       "      <td>2014</td>\n",
       "      <td>8.06</td>\n",
       "      <td>0.20</td>\n",
       "      <td>1.62</td>\n",
       "      <td>2.35</td>\n",
       "    </tr>\n",
       "    <tr>\n",
       "      <th>40</th>\n",
       "      <td>2013</td>\n",
       "      <td>8.48</td>\n",
       "      <td>1.22</td>\n",
       "      <td>1.46</td>\n",
       "      <td>2.62</td>\n",
       "    </tr>\n",
       "    <tr>\n",
       "      <th>45</th>\n",
       "      <td>2012</td>\n",
       "      <td>12.22</td>\n",
       "      <td>2.66</td>\n",
       "      <td>2.07</td>\n",
       "      <td>3.73</td>\n",
       "    </tr>\n",
       "    <tr>\n",
       "      <th>50</th>\n",
       "      <td>2011</td>\n",
       "      <td>10.84</td>\n",
       "      <td>3.29</td>\n",
       "      <td>3.16</td>\n",
       "      <td>4.82</td>\n",
       "    </tr>\n",
       "    <tr>\n",
       "      <th>55</th>\n",
       "      <td>2010</td>\n",
       "      <td>13.72</td>\n",
       "      <td>1.53</td>\n",
       "      <td>1.64</td>\n",
       "      <td>3.35</td>\n",
       "    </tr>\n",
       "    <tr>\n",
       "      <th>60</th>\n",
       "      <td>2009</td>\n",
       "      <td>12.55</td>\n",
       "      <td>0.84</td>\n",
       "      <td>-0.36</td>\n",
       "      <td>2.94</td>\n",
       "    </tr>\n",
       "    <tr>\n",
       "      <th>65</th>\n",
       "      <td>2008</td>\n",
       "      <td>11.58</td>\n",
       "      <td>4.16</td>\n",
       "      <td>3.84</td>\n",
       "      <td>8.95</td>\n",
       "    </tr>\n",
       "    <tr>\n",
       "      <th>70</th>\n",
       "      <td>2007</td>\n",
       "      <td>5.39</td>\n",
       "      <td>2.51</td>\n",
       "      <td>2.85</td>\n",
       "      <td>4.82</td>\n",
       "    </tr>\n",
       "    <tr>\n",
       "      <th>75</th>\n",
       "      <td>2006</td>\n",
       "      <td>8.23</td>\n",
       "      <td>2.67</td>\n",
       "      <td>3.23</td>\n",
       "      <td>4.28</td>\n",
       "    </tr>\n",
       "    <tr>\n",
       "      <th>80</th>\n",
       "      <td>2005</td>\n",
       "      <td>17.86</td>\n",
       "      <td>2.49</td>\n",
       "      <td>3.39</td>\n",
       "      <td>4.11</td>\n",
       "    </tr>\n",
       "    <tr>\n",
       "      <th>85</th>\n",
       "      <td>2004</td>\n",
       "      <td>15.00</td>\n",
       "      <td>2.29</td>\n",
       "      <td>2.68</td>\n",
       "      <td>3.38</td>\n",
       "    </tr>\n",
       "    <tr>\n",
       "      <th>90</th>\n",
       "      <td>2003</td>\n",
       "      <td>14.03</td>\n",
       "      <td>2.09</td>\n",
       "      <td>2.27</td>\n",
       "      <td>3.03</td>\n",
       "    </tr>\n",
       "    <tr>\n",
       "      <th>95</th>\n",
       "      <td>2002</td>\n",
       "      <td>12.88</td>\n",
       "      <td>2.42</td>\n",
       "      <td>1.59</td>\n",
       "      <td>2.83</td>\n",
       "    </tr>\n",
       "  </tbody>\n",
       "</table>\n",
       "</div>"
      ],
      "text/plain": [
       "    Year  Nigeria    EU   USA  World\n",
       "0   2021    16.95  2.55  4.70   3.42\n",
       "5   2020    13.25  0.50  1.23   1.92\n",
       "10  2019    11.40  1.63  1.81   2.19\n",
       "15  2018    12.09  1.74  2.44   2.44\n",
       "20  2017    16.52  1.43  2.13   2.19\n",
       "25  2016    15.68  0.18  1.26   1.55\n",
       "30  2015     9.01 -0.06  0.12   1.43\n",
       "35  2014     8.06  0.20  1.62   2.35\n",
       "40  2013     8.48  1.22  1.46   2.62\n",
       "45  2012    12.22  2.66  2.07   3.73\n",
       "50  2011    10.84  3.29  3.16   4.82\n",
       "55  2010    13.72  1.53  1.64   3.35\n",
       "60  2009    12.55  0.84 -0.36   2.94\n",
       "65  2008    11.58  4.16  3.84   8.95\n",
       "70  2007     5.39  2.51  2.85   4.82\n",
       "75  2006     8.23  2.67  3.23   4.28\n",
       "80  2005    17.86  2.49  3.39   4.11\n",
       "85  2004    15.00  2.29  2.68   3.38\n",
       "90  2003    14.03  2.09  2.27   3.03\n",
       "95  2002    12.88  2.42  1.59   2.83"
      ]
     },
     "execution_count": 67,
     "metadata": {},
     "output_type": "execute_result"
    }
   ],
   "source": [
    "df1.head(20)"
   ]
  },
  {
   "cell_type": "code",
   "execution_count": 66,
   "id": "670b9727",
   "metadata": {},
   "outputs": [
    {
     "data": {
      "text/html": [
       "<div>\n",
       "<style scoped>\n",
       "    .dataframe tbody tr th:only-of-type {\n",
       "        vertical-align: middle;\n",
       "    }\n",
       "\n",
       "    .dataframe tbody tr th {\n",
       "        vertical-align: top;\n",
       "    }\n",
       "\n",
       "    .dataframe thead th {\n",
       "        text-align: right;\n",
       "    }\n",
       "</style>\n",
       "<table border=\"1\" class=\"dataframe\">\n",
       "  <thead>\n",
       "    <tr style=\"text-align: right;\">\n",
       "      <th></th>\n",
       "      <th>Year</th>\n",
       "      <th>Nigeria</th>\n",
       "    </tr>\n",
       "  </thead>\n",
       "  <tbody>\n",
       "    <tr>\n",
       "      <th>100</th>\n",
       "      <td>2001</td>\n",
       "      <td>18.87</td>\n",
       "    </tr>\n",
       "    <tr>\n",
       "      <th>105</th>\n",
       "      <td>2000</td>\n",
       "      <td>6.93</td>\n",
       "    </tr>\n",
       "    <tr>\n",
       "      <th>110</th>\n",
       "      <td>1999</td>\n",
       "      <td>6.62</td>\n",
       "    </tr>\n",
       "    <tr>\n",
       "      <th>115</th>\n",
       "      <td>1998</td>\n",
       "      <td>10.00</td>\n",
       "    </tr>\n",
       "    <tr>\n",
       "      <th>120</th>\n",
       "      <td>1997</td>\n",
       "      <td>8.53</td>\n",
       "    </tr>\n",
       "    <tr>\n",
       "      <th>125</th>\n",
       "      <td>1996</td>\n",
       "      <td>29.27</td>\n",
       "    </tr>\n",
       "    <tr>\n",
       "      <th>130</th>\n",
       "      <td>1995</td>\n",
       "      <td>72.84</td>\n",
       "    </tr>\n",
       "    <tr>\n",
       "      <th>135</th>\n",
       "      <td>1994</td>\n",
       "      <td>57.03</td>\n",
       "    </tr>\n",
       "    <tr>\n",
       "      <th>140</th>\n",
       "      <td>1993</td>\n",
       "      <td>57.17</td>\n",
       "    </tr>\n",
       "    <tr>\n",
       "      <th>145</th>\n",
       "      <td>1992</td>\n",
       "      <td>44.59</td>\n",
       "    </tr>\n",
       "  </tbody>\n",
       "</table>\n",
       "</div>"
      ],
      "text/plain": [
       "     Year  Nigeria\n",
       "100  2001    18.87\n",
       "105  2000     6.93\n",
       "110  1999     6.62\n",
       "115  1998    10.00\n",
       "120  1997     8.53\n",
       "125  1996    29.27\n",
       "130  1995    72.84\n",
       "135  1994    57.03\n",
       "140  1993    57.17\n",
       "145  1992    44.59"
      ]
     },
     "execution_count": 66,
     "metadata": {},
     "output_type": "execute_result"
    }
   ],
   "source": [
    "df1[['Year','Nigeria']][20:30]"
   ]
  },
  {
   "cell_type": "code",
   "execution_count": 47,
   "id": "be32643f",
   "metadata": {},
   "outputs": [
    {
     "data": {
      "image/png": "[encoded data removed]",
      "text/plain": [
       "<Figure size 1080x720 with 1 Axes>"
      ]
     },
     "metadata": {},
     "output_type": "display_data"
    }
   ],
   "source": [
    "fig, ax = plt.subplots(figsize=(15, 10))\n",
    "sns.set_style('whitegrid')\n",
    "sns.barplot(x= df1.Year, y= df1['Nigeria'], ci=None, estimator=sum)\n",
    "plt.title('INFLATION RATE IN NIGERIA FROM 1960 TO 2021')\n",
    "plt.xticks(rotation='vertical')\n",
    "plt.show()"
   ]
  },
  {
   "cell_type": "markdown",
   "id": "dfe21f66",
   "metadata": {},
   "source": [
    "1995 had the highest infaltion rate of 72.84%. While 1967 has the lowest rate of -3.73%. "
   ]
  },
  {
   "cell_type": "markdown",
   "id": "989c4fb2",
   "metadata": {},
   "source": [
    "**2. Compare the inflation rate between Nigeria and EU**\n"
   ]
  },
  {
   "cell_type": "code",
   "execution_count": 49,
   "id": "baf7a321",
   "metadata": {},
   "outputs": [
    {
     "data": {
      "image/png": "[encoded data removed]",
      "text/plain": [
       "<Figure size 1080x720 with 1 Axes>"
      ]
     },
     "metadata": {},
     "output_type": "display_data"
    }
   ],
   "source": [
    "fig, ax = plt.subplots(figsize=(15, 10))\n",
    "sns.barplot(data=df1, x='Year', y='Nigeria', color='green')\n",
    "sns.barplot(data=df1, x='Year', y='EU', color='blue')\n",
    "plt.legend(['Nigeria','EU'], loc= 'upper left')\n",
    "plt.title('Comparing The Inflation Rate Between Nigeria And EU')\n",
    "plt.xticks(rotation='vertical')\n",
    "plt.show();"
   ]
  },
  {
   "cell_type": "markdown",
   "id": "4fd78208",
   "metadata": {},
   "source": [
    "It's actually clear that Nigeria has a very high inflation rate compare to EU"
   ]
  },
  {
   "cell_type": "markdown",
   "id": "cb100c6f",
   "metadata": {},
   "source": [
    "**3. Compare the inflation rate between Nigeria and USA**"
   ]
  },
  {
   "cell_type": "code",
   "execution_count": 55,
   "id": "d83e1bb4",
   "metadata": {
    "scrolled": true
   },
   "outputs": [
    {
     "data": {
      "image/png": "[encoded data removed]",
      "text/plain": [
       "<Figure size 1080x720 with 1 Axes>"
      ]
     },
     "metadata": {},
     "output_type": "display_data"
    }
   ],
   "source": [
    "fig, ax = plt.subplots(figsize=(15, 10))\n",
    "sns.barplot(data=df1, x='Year', y='Nigeria', color='green')\n",
    "sns.barplot(data=df1, x='Year', y='USA', color='red')\n",
    "plt.legend(['Nigeria','USA'], loc= 'upper left')\n",
    "plt.title('Comparing The Inflation Rate Between Nigeria And USA')\n",
    "plt.xticks(rotation='vertical')\n",
    "plt.show();"
   ]
  },
  {
   "cell_type": "markdown",
   "id": "22493eba",
   "metadata": {},
   "source": [
    "It's actually clear that Nigeria has a very high inflation rate compare to USA. Though USA was higher in 1963, 1964, 1967, 1968, 1972, 1973, and 1980. "
   ]
  },
  {
   "cell_type": "markdown",
   "id": "beff871e",
   "metadata": {},
   "source": [
    "**4. Compare the inflation rate between Nigeria and World**"
   ]
  },
  {
   "cell_type": "code",
   "execution_count": 54,
   "id": "e48cdd78",
   "metadata": {},
   "outputs": [
    {
     "data": {
      "image/png": "[encoded data removed]",
      "text/plain": [
       "<Figure size 1080x720 with 1 Axes>"
      ]
     },
     "metadata": {},
     "output_type": "display_data"
    }
   ],
   "source": [
    "fig, ax = plt.subplots(figsize=(15, 10))\n",
    "sns.barplot(data=df1, x='Year', y='Nigeria', color='green')\n",
    "sns.barplot(data=df1, x='Year', y='World', color='yellow')\n",
    "plt.legend(['Nigeria','Word'], loc= 'upper left')\n",
    "plt.title('Comparing The Inflation Rate Between Nigeria And Wrold')\n",
    "plt.xticks(rotation='vertical')\n",
    "plt.show();"
   ]
  },
  {
   "cell_type": "markdown",
   "id": "bd1a6eee",
   "metadata": {},
   "source": [
    "It's actually clear that Nigeria has a very high inflation rate compare to World"
   ]
  },
  {
   "cell_type": "markdown",
   "id": "f536a05b",
   "metadata": {},
   "source": [
    "**5. How does historical inflation compare to recent inflation rates**"
   ]
  },
  {
   "cell_type": "code",
   "execution_count": 58,
   "id": "b1ca25e6",
   "metadata": {},
   "outputs": [
    {
     "data": {
      "text/html": [
       "<div>\n",
       "<style scoped>\n",
       "    .dataframe tbody tr th:only-of-type {\n",
       "        vertical-align: middle;\n",
       "    }\n",
       "\n",
       "    .dataframe tbody tr th {\n",
       "        vertical-align: top;\n",
       "    }\n",
       "\n",
       "    .dataframe thead th {\n",
       "        text-align: right;\n",
       "    }\n",
       "</style>\n",
       "<table border=\"1\" class=\"dataframe\">\n",
       "  <thead>\n",
       "    <tr style=\"text-align: right;\">\n",
       "      <th></th>\n",
       "      <th>Year</th>\n",
       "      <th>cols</th>\n",
       "      <th>vals</th>\n",
       "    </tr>\n",
       "  </thead>\n",
       "  <tbody>\n",
       "    <tr>\n",
       "      <th>0</th>\n",
       "      <td>2021</td>\n",
       "      <td>Nigeria</td>\n",
       "      <td>16.95</td>\n",
       "    </tr>\n",
       "    <tr>\n",
       "      <th>1</th>\n",
       "      <td>2020</td>\n",
       "      <td>Nigeria</td>\n",
       "      <td>13.25</td>\n",
       "    </tr>\n",
       "    <tr>\n",
       "      <th>2</th>\n",
       "      <td>2019</td>\n",
       "      <td>Nigeria</td>\n",
       "      <td>11.40</td>\n",
       "    </tr>\n",
       "    <tr>\n",
       "      <th>3</th>\n",
       "      <td>2018</td>\n",
       "      <td>Nigeria</td>\n",
       "      <td>12.09</td>\n",
       "    </tr>\n",
       "    <tr>\n",
       "      <th>4</th>\n",
       "      <td>2017</td>\n",
       "      <td>Nigeria</td>\n",
       "      <td>16.52</td>\n",
       "    </tr>\n",
       "  </tbody>\n",
       "</table>\n",
       "</div>"
      ],
      "text/plain": [
       "   Year     cols   vals\n",
       "0  2021  Nigeria  16.95\n",
       "1  2020  Nigeria  13.25\n",
       "2  2019  Nigeria  11.40\n",
       "3  2018  Nigeria  12.09\n",
       "4  2017  Nigeria  16.52"
      ]
     },
     "execution_count": 58,
     "metadata": {},
     "output_type": "execute_result"
    }
   ],
   "source": [
    "'''convert to long form. Using the melt function to combine 'Nigeria', 'EU', 'USA', and 'World' columns into a variable\n",
    "so I can compare the inflation rate of the columns over the years.\n",
    "\n",
    "using var_name as a variable for the 4columns, and inserting their values as Value_name'''\n",
    "\n",
    "cols = [['Nigeria', 'EU', 'USA', 'World']]\n",
    "df2 = df1.melt('Year', var_name='cols', value_name='vals')\n",
    "\n",
    "df2.head()"
   ]
  },
  {
   "cell_type": "code",
   "execution_count": 56,
   "id": "9f6b7d73",
   "metadata": {},
   "outputs": [
    {
     "data": {
      "image/png": "[encoded data removed]",
      "text/plain": [
       "<Figure size 961.035x595.44 with 1 Axes>"
      ]
     },
     "metadata": {},
     "output_type": "display_data"
    }
   ],
   "source": [
    "sns.catplot(x=\"Year\", y=\"vals\", hue='cols', data=df2, kind='point', height=8.27, aspect=12/8)\n",
    "plt.title('Comparing The Inflation Rate of the Columns over the Years using catplot')\n",
    "plt.xticks(rotation='vertical');"
   ]
  },
  {
   "cell_type": "code",
   "execution_count": 46,
   "id": "b474925f",
   "metadata": {},
   "outputs": [
    {
     "data": {
      "image/png": "[encoded data removed]",
      "text/plain": [
       "<Figure size 1080x576 with 1 Axes>"
      ]
     },
     "metadata": {},
     "output_type": "display_data"
    }
   ],
   "source": [
    "plt.figure(figsize=(15,8))\n",
    "sns.lineplot(x=\"Year\", y=\"vals\", hue='cols', data=df2)\n",
    "plt.title('Comparing The Inflation Rate of the Columns over the Years using lineplot')\n",
    "plt.xticks(rotation='vertical');"
   ]
  },
  {
   "cell_type": "markdown",
   "id": "bffdbd28",
   "metadata": {},
   "source": [
    "#### OBSERVATON\n",
    "These shows that inflation rate in Nigeria is higher than other. And it has especially gone very high in 1995 which is the highest recorded. Though we have recorded a rate below 0 in 1963%, 1967% and 1968% with -2.69%, -3.73%, and -0.48 respectively. \n",
    "The World inflation rate has been stable between 1960 to 179% at 2.19%. Though went up to 13.98% in 1980 which has been the highest recorded. \n",
    "USA has the best control over inflation rate compared to other countries here. Though they were also affected in 1980 when the had their highest inflation rate of 13.55%, which quickly went down to 3.21% in 1983."
   ]
  }
 ],
 "metadata": {
  "kernelspec": {
   "display_name": "Python 3 (ipykernel)",
   "language": "python",
   "name": "python3"
  },
  "language_info": {
   "codemirror_mode": {
    "name": "ipython",
    "version": 3
   },
   "file_extension": ".py",
   "mimetype": "text/x-python",
   "name": "python",
   "nbconvert_exporter": "python",
   "pygments_lexer": "ipython3",
   "version": "3.9.12"
  }
 },
 "nbformat": 4,
 "nbformat_minor": 5
}
