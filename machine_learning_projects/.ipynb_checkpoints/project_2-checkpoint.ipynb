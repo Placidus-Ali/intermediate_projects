{
 "cells": [
  {
   "cell_type": "markdown",
   "id": "b2e31b19",
   "metadata": {},
   "source": [
    "### Project 2\n",
    "This is a Machine Learning project to build a model that will identify if customers are eligible for loan or not."
   ]
  },
  {
   "cell_type": "markdown",
   "id": "2bf5c9dc",
   "metadata": {},
   "source": [
    "**Importing Libraries**"
   ]
  },
  {
   "cell_type": "code",
   "execution_count": 66,
   "id": "3250fb09",
   "metadata": {},
   "outputs": [],
   "source": [
    "import numpy as np\n",
    "import pandas as pd\n",
    "import seaborn as sns\n",
    "from matplotlib import pyplot as plt\n"
   ]
  },
  {
   "cell_type": "markdown",
   "id": "4482aa05",
   "metadata": {},
   "source": [
    "**Read My File**"
   ]
  },
  {
   "cell_type": "code",
   "execution_count": 67,
   "id": "b754d607",
   "metadata": {},
   "outputs": [],
   "source": [
    "df = pd.read_csv(\"C:/Users/STUTERN/Downloads/loan_data_set.csv\")"
   ]
  },
  {
   "cell_type": "code",
   "execution_count": 68,
   "id": "9aaaae07",
   "metadata": {},
   "outputs": [
    {
     "data": {
      "text/html": [
       "<div>\n",
       "<style scoped>\n",
       "    .dataframe tbody tr th:only-of-type {\n",
       "        vertical-align: middle;\n",
       "    }\n",
       "\n",
       "    .dataframe tbody tr th {\n",
       "        vertical-align: top;\n",
       "    }\n",
       "\n",
       "    .dataframe thead th {\n",
       "        text-align: right;\n",
       "    }\n",
       "</style>\n",
       "<table border=\"1\" class=\"dataframe\">\n",
       "  <thead>\n",
       "    <tr style=\"text-align: right;\">\n",
       "      <th></th>\n",
       "      <th>Loan_ID</th>\n",
       "      <th>Gender</th>\n",
       "      <th>Married</th>\n",
       "      <th>Dependents</th>\n",
       "      <th>Education</th>\n",
       "      <th>Self_Employed</th>\n",
       "      <th>ApplicantIncome</th>\n",
       "      <th>CoapplicantIncome</th>\n",
       "      <th>LoanAmount</th>\n",
       "      <th>Loan_Amount_Term</th>\n",
       "      <th>Credit_History</th>\n",
       "      <th>Property_Area</th>\n",
       "      <th>Loan_Status</th>\n",
       "    </tr>\n",
       "  </thead>\n",
       "  <tbody>\n",
       "    <tr>\n",
       "      <th>0</th>\n",
       "      <td>LP001002</td>\n",
       "      <td>Male</td>\n",
       "      <td>No</td>\n",
       "      <td>0</td>\n",
       "      <td>Graduate</td>\n",
       "      <td>No</td>\n",
       "      <td>5849</td>\n",
       "      <td>0.0</td>\n",
       "      <td>NaN</td>\n",
       "      <td>360.0</td>\n",
       "      <td>1.0</td>\n",
       "      <td>Urban</td>\n",
       "      <td>Y</td>\n",
       "    </tr>\n",
       "    <tr>\n",
       "      <th>1</th>\n",
       "      <td>LP001003</td>\n",
       "      <td>Male</td>\n",
       "      <td>Yes</td>\n",
       "      <td>1</td>\n",
       "      <td>Graduate</td>\n",
       "      <td>No</td>\n",
       "      <td>4583</td>\n",
       "      <td>1508.0</td>\n",
       "      <td>128.0</td>\n",
       "      <td>360.0</td>\n",
       "      <td>1.0</td>\n",
       "      <td>Rural</td>\n",
       "      <td>N</td>\n",
       "    </tr>\n",
       "    <tr>\n",
       "      <th>2</th>\n",
       "      <td>LP001005</td>\n",
       "      <td>Male</td>\n",
       "      <td>Yes</td>\n",
       "      <td>0</td>\n",
       "      <td>Graduate</td>\n",
       "      <td>Yes</td>\n",
       "      <td>3000</td>\n",
       "      <td>0.0</td>\n",
       "      <td>66.0</td>\n",
       "      <td>360.0</td>\n",
       "      <td>1.0</td>\n",
       "      <td>Urban</td>\n",
       "      <td>Y</td>\n",
       "    </tr>\n",
       "    <tr>\n",
       "      <th>3</th>\n",
       "      <td>LP001006</td>\n",
       "      <td>Male</td>\n",
       "      <td>Yes</td>\n",
       "      <td>0</td>\n",
       "      <td>Not Graduate</td>\n",
       "      <td>No</td>\n",
       "      <td>2583</td>\n",
       "      <td>2358.0</td>\n",
       "      <td>120.0</td>\n",
       "      <td>360.0</td>\n",
       "      <td>1.0</td>\n",
       "      <td>Urban</td>\n",
       "      <td>Y</td>\n",
       "    </tr>\n",
       "    <tr>\n",
       "      <th>4</th>\n",
       "      <td>LP001008</td>\n",
       "      <td>Male</td>\n",
       "      <td>No</td>\n",
       "      <td>0</td>\n",
       "      <td>Graduate</td>\n",
       "      <td>No</td>\n",
       "      <td>6000</td>\n",
       "      <td>0.0</td>\n",
       "      <td>141.0</td>\n",
       "      <td>360.0</td>\n",
       "      <td>1.0</td>\n",
       "      <td>Urban</td>\n",
       "      <td>Y</td>\n",
       "    </tr>\n",
       "  </tbody>\n",
       "</table>\n",
       "</div>"
      ],
      "text/plain": [
       "    Loan_ID Gender Married Dependents     Education Self_Employed  \\\n",
       "0  LP001002   Male      No          0      Graduate            No   \n",
       "1  LP001003   Male     Yes          1      Graduate            No   \n",
       "2  LP001005   Male     Yes          0      Graduate           Yes   \n",
       "3  LP001006   Male     Yes          0  Not Graduate            No   \n",
       "4  LP001008   Male      No          0      Graduate            No   \n",
       "\n",
       "   ApplicantIncome  CoapplicantIncome  LoanAmount  Loan_Amount_Term  \\\n",
       "0             5849                0.0         NaN             360.0   \n",
       "1             4583             1508.0       128.0             360.0   \n",
       "2             3000                0.0        66.0             360.0   \n",
       "3             2583             2358.0       120.0             360.0   \n",
       "4             6000                0.0       141.0             360.0   \n",
       "\n",
       "   Credit_History Property_Area Loan_Status  \n",
       "0             1.0         Urban           Y  \n",
       "1             1.0         Rural           N  \n",
       "2             1.0         Urban           Y  \n",
       "3             1.0         Urban           Y  \n",
       "4             1.0         Urban           Y  "
      ]
     },
     "execution_count": 68,
     "metadata": {},
     "output_type": "execute_result"
    }
   ],
   "source": [
    "df.head()"
   ]
  },
  {
   "cell_type": "markdown",
   "id": "b415ed04",
   "metadata": {},
   "source": [
    "### Data Clenaing"
   ]
  },
  {
   "cell_type": "code",
   "execution_count": 69,
   "id": "9fce3bb5",
   "metadata": {},
   "outputs": [
    {
     "data": {
      "text/plain": [
       "(614, 13)"
      ]
     },
     "execution_count": 69,
     "metadata": {},
     "output_type": "execute_result"
    }
   ],
   "source": [
    "#checking the shape of the dataset\n",
    "df.shape"
   ]
  },
  {
   "cell_type": "code",
   "execution_count": 70,
   "id": "16702852",
   "metadata": {},
   "outputs": [
    {
     "data": {
      "text/plain": [
       "Index(['Loan_ID', 'Gender', 'Married', 'Dependents', 'Education',\n",
       "       'Self_Employed', 'ApplicantIncome', 'CoapplicantIncome', 'LoanAmount',\n",
       "       'Loan_Amount_Term', 'Credit_History', 'Property_Area', 'Loan_Status'],\n",
       "      dtype='object')"
      ]
     },
     "execution_count": 70,
     "metadata": {},
     "output_type": "execute_result"
    }
   ],
   "source": [
    "#checking the columns if there are properly labelled\n",
    "df.columns"
   ]
  },
  {
   "cell_type": "code",
   "execution_count": 71,
   "id": "c479350d",
   "metadata": {},
   "outputs": [],
   "source": [
    "#Remaing some columns that are not properly named\n",
    "df = df.rename(columns={'ApplicantIncome': 'Applicant_Income', \n",
    "                        'CoapplicantIncome': 'Co_Applicant_Income', \n",
    "                        'LoanAmount': 'Loan_Amount'})"
   ]
  },
  {
   "cell_type": "code",
   "execution_count": 72,
   "id": "9f483816",
   "metadata": {},
   "outputs": [
    {
     "data": {
      "text/plain": [
       "Index(['Loan_ID', 'Gender', 'Married', 'Dependents', 'Education',\n",
       "       'Self_Employed', 'Applicant_Income', 'Co_Applicant_Income',\n",
       "       'Loan_Amount', 'Loan_Amount_Term', 'Credit_History', 'Property_Area',\n",
       "       'Loan_Status'],\n",
       "      dtype='object')"
      ]
     },
     "execution_count": 72,
     "metadata": {},
     "output_type": "execute_result"
    }
   ],
   "source": [
    "df.columns"
   ]
  },
  {
   "cell_type": "code",
   "execution_count": 73,
   "id": "83859506",
   "metadata": {},
   "outputs": [
    {
     "name": "stdout",
     "output_type": "stream",
     "text": [
      "\n",
      "\n",
      "\n",
      "values of Loan_ID\n",
      "LP001002    1\n",
      "LP002328    1\n",
      "LP002305    1\n",
      "LP002308    1\n",
      "LP002314    1\n",
      "           ..\n",
      "LP001692    1\n",
      "LP001693    1\n",
      "LP001698    1\n",
      "LP001699    1\n",
      "LP002990    1\n",
      "Length: 614, dtype: int64\n",
      "\n",
      "\n",
      "\n",
      "values of Gender\n",
      "Male      489\n",
      "Female    112\n",
      "dtype: int64\n",
      "\n",
      "\n",
      "\n",
      "values of Married\n",
      "Yes    398\n",
      "No     213\n",
      "dtype: int64\n",
      "\n",
      "\n",
      "\n",
      "values of Dependents\n",
      "0     345\n",
      "1     102\n",
      "2     101\n",
      "3+     51\n",
      "dtype: int64\n",
      "\n",
      "\n",
      "\n",
      "values of Education\n",
      "Graduate        480\n",
      "Not Graduate    134\n",
      "dtype: int64\n",
      "\n",
      "\n",
      "\n",
      "values of Self_Employed\n",
      "No     500\n",
      "Yes     82\n",
      "dtype: int64\n",
      "\n",
      "\n",
      "\n",
      "values of Applicant_Income\n",
      "2500     9\n",
      "4583     6\n",
      "6000     6\n",
      "2600     6\n",
      "5000     5\n",
      "        ..\n",
      "3250     1\n",
      "3246     1\n",
      "3244     1\n",
      "3237     1\n",
      "81000    1\n",
      "Length: 505, dtype: int64\n",
      "\n",
      "\n",
      "\n",
      "values of Co_Applicant_Income\n",
      "0.0        273\n",
      "2083.0       5\n",
      "2500.0       5\n",
      "1666.0       5\n",
      "1750.0       3\n",
      "          ... \n",
      "1911.0       1\n",
      "1915.0       1\n",
      "1929.0       1\n",
      "1964.0       1\n",
      "41667.0      1\n",
      "Length: 287, dtype: int64\n",
      "\n",
      "\n",
      "\n",
      "values of Loan_Amount\n",
      "120.0    20\n",
      "110.0    17\n",
      "100.0    15\n",
      "160.0    12\n",
      "187.0    12\n",
      "         ..\n",
      "17.0      1\n",
      "146.0     1\n",
      "145.0     1\n",
      "142.0     1\n",
      "700.0     1\n",
      "Length: 203, dtype: int64\n",
      "\n",
      "\n",
      "\n",
      "values of Loan_Amount_Term\n",
      "360.0    512\n",
      "180.0     44\n",
      "480.0     15\n",
      "300.0     13\n",
      "84.0       4\n",
      "240.0      4\n",
      "120.0      3\n",
      "36.0       2\n",
      "60.0       2\n",
      "12.0       1\n",
      "dtype: int64\n",
      "\n",
      "\n",
      "\n",
      "values of Credit_History\n",
      "1.0    475\n",
      "0.0     89\n",
      "dtype: int64\n",
      "\n",
      "\n",
      "\n",
      "values of Property_Area\n",
      "Semiurban    233\n",
      "Urban        202\n",
      "Rural        179\n",
      "dtype: int64\n",
      "\n",
      "\n",
      "\n",
      "values of Loan_Status\n",
      "Y    422\n",
      "N    192\n",
      "dtype: int64\n"
     ]
    }
   ],
   "source": [
    "#creating a function to check the value counts of the columns\n",
    "\n",
    "for i in df.columns:\n",
    "    i = df.value_counts(i)\n",
    "    print(f'\\n\\n\\nvalues of {i}')"
   ]
  },
  {
   "cell_type": "code",
   "execution_count": 74,
   "id": "fea41ad3",
   "metadata": {},
   "outputs": [
    {
     "data": {
      "text/plain": [
       "Credit_History         50\n",
       "Self_Employed          32\n",
       "Loan_Amount            22\n",
       "Dependents             15\n",
       "Loan_Amount_Term       14\n",
       "Gender                 13\n",
       "Married                 3\n",
       "Loan_ID                 0\n",
       "Education               0\n",
       "Applicant_Income        0\n",
       "Co_Applicant_Income     0\n",
       "Property_Area           0\n",
       "Loan_Status             0\n",
       "dtype: int64"
      ]
     },
     "execution_count": 74,
     "metadata": {},
     "output_type": "execute_result"
    }
   ],
   "source": [
    "#checking for missing values in the columns\n",
    "df.isnull().sum().sort_values(ascending=False)"
   ]
  },
  {
   "cell_type": "code",
   "execution_count": 75,
   "id": "6a096fae",
   "metadata": {},
   "outputs": [],
   "source": [
    "#filling the missing values. Since all the columns with missing values are integer, I will fill them with their mode.\n",
    "\n",
    "df['Gender'].fillna(df['Gender'].mode()[0], inplace=True)\n",
    "df['Married'].fillna(df['Married'].mode()[0], inplace=True)\n",
    "df['Dependents'].fillna(df['Dependents'].mode()[0], inplace=True)\n",
    "df['Self_Employed'].fillna(df['Self_Employed'].mode()[0], inplace=True)\n",
    "df['Loan_Amount'].fillna(df['Loan_Amount'].mode()[0], inplace=True)\n",
    "df['Loan_Amount_Term'].fillna(df['Loan_Amount_Term'].mode()[0], inplace=True)\n",
    "df['Credit_History'].fillna(df['Credit_History'].mode()[0], inplace=True)\n"
   ]
  },
  {
   "cell_type": "code",
   "execution_count": 76,
   "id": "23349d38",
   "metadata": {},
   "outputs": [
    {
     "data": {
      "text/plain": [
       "Loan_ID                0\n",
       "Gender                 0\n",
       "Married                0\n",
       "Dependents             0\n",
       "Education              0\n",
       "Self_Employed          0\n",
       "Applicant_Income       0\n",
       "Co_Applicant_Income    0\n",
       "Loan_Amount            0\n",
       "Loan_Amount_Term       0\n",
       "Credit_History         0\n",
       "Property_Area          0\n",
       "Loan_Status            0\n",
       "dtype: int64"
      ]
     },
     "execution_count": 76,
     "metadata": {},
     "output_type": "execute_result"
    }
   ],
   "source": [
    "df.isnull().sum()"
   ]
  },
  {
   "cell_type": "code",
   "execution_count": 77,
   "id": "866193e4",
   "metadata": {
    "scrolled": true
   },
   "outputs": [
    {
     "data": {
      "text/plain": [
       "Loan_ID                False\n",
       "Gender                 False\n",
       "Married                False\n",
       "Dependents             False\n",
       "Education              False\n",
       "Self_Employed          False\n",
       "Applicant_Income       False\n",
       "Co_Applicant_Income    False\n",
       "Loan_Amount            False\n",
       "Loan_Amount_Term       False\n",
       "Credit_History         False\n",
       "Property_Area          False\n",
       "Loan_Status            False\n",
       "dtype: bool"
      ]
     },
     "execution_count": 77,
     "metadata": {},
     "output_type": "execute_result"
    }
   ],
   "source": [
    "#Checking for inconsistencies in the columns\n",
    "(df == '?').any()"
   ]
  },
  {
   "cell_type": "code",
   "execution_count": 78,
   "id": "2ed10281",
   "metadata": {},
   "outputs": [
    {
     "data": {
      "text/plain": [
       "0"
      ]
     },
     "execution_count": 78,
     "metadata": {},
     "output_type": "execute_result"
    }
   ],
   "source": [
    "# checking if there are duplicate rows\n",
    "df.duplicated().sum()"
   ]
  },
  {
   "cell_type": "code",
   "execution_count": 79,
   "id": "b2a33200",
   "metadata": {},
   "outputs": [],
   "source": [
    "df.drop(\"Loan_ID\", axis= 1, inplace = True) # Loan_ID is not necessary so I dropped it"
   ]
  },
  {
   "cell_type": "markdown",
   "id": "e9e82efd",
   "metadata": {},
   "source": [
    "**Observations**\n",
    "\n",
    "This loan dataset has 614 rows and 13 columns. 3 columns were not properly named so I renamed them. We have so many missing values in 7 columns. So I filled them with their modes. There were no inconsistency in the dataset. The Target Variable is \"Loan_Status\" and it is a categorical column, so the model to use will be Supervised Classification Model"
   ]
  },
  {
   "cell_type": "markdown",
   "id": "429c0d2c",
   "metadata": {},
   "source": [
    "### EDA and Data Preprocessing "
   ]
  },
  {
   "cell_type": "code",
   "execution_count": 80,
   "id": "47136b3a",
   "metadata": {},
   "outputs": [
    {
     "data": {
      "text/html": [
       "<div>\n",
       "<style scoped>\n",
       "    .dataframe tbody tr th:only-of-type {\n",
       "        vertical-align: middle;\n",
       "    }\n",
       "\n",
       "    .dataframe tbody tr th {\n",
       "        vertical-align: top;\n",
       "    }\n",
       "\n",
       "    .dataframe thead th {\n",
       "        text-align: right;\n",
       "    }\n",
       "</style>\n",
       "<table border=\"1\" class=\"dataframe\">\n",
       "  <thead>\n",
       "    <tr style=\"text-align: right;\">\n",
       "      <th></th>\n",
       "      <th>Gender</th>\n",
       "      <th>Married</th>\n",
       "      <th>Dependents</th>\n",
       "      <th>Education</th>\n",
       "      <th>Self_Employed</th>\n",
       "      <th>Applicant_Income</th>\n",
       "      <th>Co_Applicant_Income</th>\n",
       "      <th>Loan_Amount</th>\n",
       "      <th>Loan_Amount_Term</th>\n",
       "      <th>Credit_History</th>\n",
       "      <th>Property_Area</th>\n",
       "      <th>Loan_Status</th>\n",
       "    </tr>\n",
       "  </thead>\n",
       "  <tbody>\n",
       "    <tr>\n",
       "      <th>0</th>\n",
       "      <td>Male</td>\n",
       "      <td>No</td>\n",
       "      <td>0</td>\n",
       "      <td>Graduate</td>\n",
       "      <td>No</td>\n",
       "      <td>5849</td>\n",
       "      <td>0.0</td>\n",
       "      <td>120.0</td>\n",
       "      <td>360.0</td>\n",
       "      <td>1.0</td>\n",
       "      <td>Urban</td>\n",
       "      <td>Y</td>\n",
       "    </tr>\n",
       "    <tr>\n",
       "      <th>1</th>\n",
       "      <td>Male</td>\n",
       "      <td>Yes</td>\n",
       "      <td>1</td>\n",
       "      <td>Graduate</td>\n",
       "      <td>No</td>\n",
       "      <td>4583</td>\n",
       "      <td>1508.0</td>\n",
       "      <td>128.0</td>\n",
       "      <td>360.0</td>\n",
       "      <td>1.0</td>\n",
       "      <td>Rural</td>\n",
       "      <td>N</td>\n",
       "    </tr>\n",
       "    <tr>\n",
       "      <th>2</th>\n",
       "      <td>Male</td>\n",
       "      <td>Yes</td>\n",
       "      <td>0</td>\n",
       "      <td>Graduate</td>\n",
       "      <td>Yes</td>\n",
       "      <td>3000</td>\n",
       "      <td>0.0</td>\n",
       "      <td>66.0</td>\n",
       "      <td>360.0</td>\n",
       "      <td>1.0</td>\n",
       "      <td>Urban</td>\n",
       "      <td>Y</td>\n",
       "    </tr>\n",
       "    <tr>\n",
       "      <th>3</th>\n",
       "      <td>Male</td>\n",
       "      <td>Yes</td>\n",
       "      <td>0</td>\n",
       "      <td>Not Graduate</td>\n",
       "      <td>No</td>\n",
       "      <td>2583</td>\n",
       "      <td>2358.0</td>\n",
       "      <td>120.0</td>\n",
       "      <td>360.0</td>\n",
       "      <td>1.0</td>\n",
       "      <td>Urban</td>\n",
       "      <td>Y</td>\n",
       "    </tr>\n",
       "    <tr>\n",
       "      <th>4</th>\n",
       "      <td>Male</td>\n",
       "      <td>No</td>\n",
       "      <td>0</td>\n",
       "      <td>Graduate</td>\n",
       "      <td>No</td>\n",
       "      <td>6000</td>\n",
       "      <td>0.0</td>\n",
       "      <td>141.0</td>\n",
       "      <td>360.0</td>\n",
       "      <td>1.0</td>\n",
       "      <td>Urban</td>\n",
       "      <td>Y</td>\n",
       "    </tr>\n",
       "  </tbody>\n",
       "</table>\n",
       "</div>"
      ],
      "text/plain": [
       "  Gender Married Dependents     Education Self_Employed  Applicant_Income  \\\n",
       "0   Male      No          0      Graduate            No              5849   \n",
       "1   Male     Yes          1      Graduate            No              4583   \n",
       "2   Male     Yes          0      Graduate           Yes              3000   \n",
       "3   Male     Yes          0  Not Graduate            No              2583   \n",
       "4   Male      No          0      Graduate            No              6000   \n",
       "\n",
       "   Co_Applicant_Income  Loan_Amount  Loan_Amount_Term  Credit_History  \\\n",
       "0                  0.0        120.0             360.0             1.0   \n",
       "1               1508.0        128.0             360.0             1.0   \n",
       "2                  0.0         66.0             360.0             1.0   \n",
       "3               2358.0        120.0             360.0             1.0   \n",
       "4                  0.0        141.0             360.0             1.0   \n",
       "\n",
       "  Property_Area Loan_Status  \n",
       "0         Urban           Y  \n",
       "1         Rural           N  \n",
       "2         Urban           Y  \n",
       "3         Urban           Y  \n",
       "4         Urban           Y  "
      ]
     },
     "execution_count": 80,
     "metadata": {},
     "output_type": "execute_result"
    }
   ],
   "source": [
    "df.head()"
   ]
  },
  {
   "cell_type": "code",
   "execution_count": 81,
   "id": "ef29d9ac",
   "metadata": {},
   "outputs": [],
   "source": [
    "#Make a copy of the dataset\n",
    "df_copy =df.copy()"
   ]
  },
  {
   "cell_type": "code",
   "execution_count": 82,
   "id": "bf80d77a",
   "metadata": {},
   "outputs": [
    {
     "data": {
      "text/plain": [
       "Index(['Applicant_Income', 'Co_Applicant_Income', 'Loan_Amount',\n",
       "       'Loan_Amount_Term', 'Credit_History'],\n",
       "      dtype='object')"
      ]
     },
     "execution_count": 82,
     "metadata": {},
     "output_type": "execute_result"
    }
   ],
   "source": [
    "df.select_dtypes(\"number\").columns"
   ]
  },
  {
   "cell_type": "code",
   "execution_count": 83,
   "id": "89ed8a0b",
   "metadata": {},
   "outputs": [
    {
     "data": {
      "text/plain": [
       "Index(['Gender', 'Married', 'Dependents', 'Education', 'Self_Employed',\n",
       "       'Property_Area', 'Loan_Status'],\n",
       "      dtype='object')"
      ]
     },
     "execution_count": 83,
     "metadata": {},
     "output_type": "execute_result"
    }
   ],
   "source": [
    "df.select_dtypes(\"object\").columns"
   ]
  },
  {
   "cell_type": "code",
   "execution_count": 84,
   "id": "4697526f",
   "metadata": {},
   "outputs": [
    {
     "data": {
      "image/png": "[encoded data removed]",
      "text/plain": [
       "<Figure size 1152x720 with 6 Axes>"
      ]
     },
     "metadata": {
      "needs_background": "light"
     },
     "output_type": "display_data"
    }
   ],
   "source": [
    "df.hist(figsize=[16,10]);"
   ]
  },
  {
   "cell_type": "code",
   "execution_count": 88,
   "id": "28dd50cc",
   "metadata": {},
   "outputs": [
    {
     "data": {
      "image/png": "[encoded data removed]",
      "text/plain": [
       "<Figure size 1080x1440 with 12 Axes>"
      ]
     },
     "metadata": {
      "needs_background": "light"
     },
     "output_type": "display_data"
    }
   ],
   "source": [
    "cat = df.columns\n",
    "fig, axes = plt.subplots(nrows=4, ncols=3, figsize=(15, 20))\n",
    "for i, ax in zip(cat[:-1], axes.flatten()):\n",
    "    sns.countplot(x=i, hue='Loan_Status', data=df, palette='deep', ax=ax)\n",
    "    ax.set_xlabel(i, fontsize=14)\n",
    "plt.tight_layout()\n"
   ]
  },
  {
   "cell_type": "code",
   "execution_count": 107,
   "id": "fd7910f1",
   "metadata": {},
   "outputs": [
    {
     "data": {
      "image/png": "[encoded data removed]",
      "text/plain": [
       "<Figure size 1080x1080 with 12 Axes>"
      ]
     },
     "metadata": {
      "needs_background": "light"
     },
     "output_type": "display_data"
    }
   ],
   "source": [
    "cat = df.columns\n",
    "fig, axes = plt.subplots(nrows=4, ncols=3, figsize=(15, 15))\n",
    "for i, ax in zip(cat[:-1], axes.flatten()):\n",
    "    sns.countplot(x=i, hue='Loan_Status', data=df, palette='deep', ax=ax)\n",
    "    ax.set_xlabel(i, fontsize=14)\n",
    "plt.tight_layout()"
   ]
  },
  {
   "cell_type": "markdown",
   "id": "004e01dd",
   "metadata": {},
   "source": [
    "**Transforming the Categorical Columns**"
   ]
  },
  {
   "cell_type": "code",
   "execution_count": 21,
   "id": "da4f8b71",
   "metadata": {},
   "outputs": [],
   "source": [
    "to_numeric = {'Male': 1, 'Female': 2,\n",
    "              'Yes': 1, 'No': 2, \n",
    "              '0' : 0, '1' : 1, '2' : 2, '3+': 3,\n",
    "              'Graduate': 1, 'Not Graduate': 2,\n",
    "              'Urban': 3, 'Semiurban': 2,'Rural': 1,\n",
    "              'Y': 1, 'N': 0,\n",
    "              }\n",
    "#to_numeric"
   ]
  },
  {
   "cell_type": "code",
   "execution_count": 22,
   "id": "1047ace5",
   "metadata": {},
   "outputs": [],
   "source": [
    "df = df.applymap(lambda lable: to_numeric.get(lable) if lable in to_numeric else lable)"
   ]
  },
  {
   "cell_type": "code",
   "execution_count": 23,
   "id": "add8c640",
   "metadata": {},
   "outputs": [
    {
     "data": {
      "text/html": [
       "<div>\n",
       "<style scoped>\n",
       "    .dataframe tbody tr th:only-of-type {\n",
       "        vertical-align: middle;\n",
       "    }\n",
       "\n",
       "    .dataframe tbody tr th {\n",
       "        vertical-align: top;\n",
       "    }\n",
       "\n",
       "    .dataframe thead th {\n",
       "        text-align: right;\n",
       "    }\n",
       "</style>\n",
       "<table border=\"1\" class=\"dataframe\">\n",
       "  <thead>\n",
       "    <tr style=\"text-align: right;\">\n",
       "      <th></th>\n",
       "      <th>Gender</th>\n",
       "      <th>Married</th>\n",
       "      <th>Dependents</th>\n",
       "      <th>Education</th>\n",
       "      <th>Self_Employed</th>\n",
       "      <th>Applicant_Income</th>\n",
       "      <th>Co_Applicant_Income</th>\n",
       "      <th>Loan_Amount</th>\n",
       "      <th>Loan_Amount_Term</th>\n",
       "      <th>Credit_History</th>\n",
       "      <th>Property_Area</th>\n",
       "      <th>Loan_Status</th>\n",
       "    </tr>\n",
       "  </thead>\n",
       "  <tbody>\n",
       "    <tr>\n",
       "      <th>0</th>\n",
       "      <td>1</td>\n",
       "      <td>2</td>\n",
       "      <td>0</td>\n",
       "      <td>1</td>\n",
       "      <td>2</td>\n",
       "      <td>5849</td>\n",
       "      <td>0.0</td>\n",
       "      <td>120.0</td>\n",
       "      <td>360.0</td>\n",
       "      <td>1.0</td>\n",
       "      <td>3</td>\n",
       "      <td>1</td>\n",
       "    </tr>\n",
       "    <tr>\n",
       "      <th>1</th>\n",
       "      <td>1</td>\n",
       "      <td>1</td>\n",
       "      <td>1</td>\n",
       "      <td>1</td>\n",
       "      <td>2</td>\n",
       "      <td>4583</td>\n",
       "      <td>1508.0</td>\n",
       "      <td>128.0</td>\n",
       "      <td>360.0</td>\n",
       "      <td>1.0</td>\n",
       "      <td>1</td>\n",
       "      <td>0</td>\n",
       "    </tr>\n",
       "    <tr>\n",
       "      <th>2</th>\n",
       "      <td>1</td>\n",
       "      <td>1</td>\n",
       "      <td>0</td>\n",
       "      <td>1</td>\n",
       "      <td>1</td>\n",
       "      <td>3000</td>\n",
       "      <td>0.0</td>\n",
       "      <td>66.0</td>\n",
       "      <td>360.0</td>\n",
       "      <td>1.0</td>\n",
       "      <td>3</td>\n",
       "      <td>1</td>\n",
       "    </tr>\n",
       "    <tr>\n",
       "      <th>3</th>\n",
       "      <td>1</td>\n",
       "      <td>1</td>\n",
       "      <td>0</td>\n",
       "      <td>2</td>\n",
       "      <td>2</td>\n",
       "      <td>2583</td>\n",
       "      <td>2358.0</td>\n",
       "      <td>120.0</td>\n",
       "      <td>360.0</td>\n",
       "      <td>1.0</td>\n",
       "      <td>3</td>\n",
       "      <td>1</td>\n",
       "    </tr>\n",
       "    <tr>\n",
       "      <th>4</th>\n",
       "      <td>1</td>\n",
       "      <td>2</td>\n",
       "      <td>0</td>\n",
       "      <td>1</td>\n",
       "      <td>2</td>\n",
       "      <td>6000</td>\n",
       "      <td>0.0</td>\n",
       "      <td>141.0</td>\n",
       "      <td>360.0</td>\n",
       "      <td>1.0</td>\n",
       "      <td>3</td>\n",
       "      <td>1</td>\n",
       "    </tr>\n",
       "    <tr>\n",
       "      <th>...</th>\n",
       "      <td>...</td>\n",
       "      <td>...</td>\n",
       "      <td>...</td>\n",
       "      <td>...</td>\n",
       "      <td>...</td>\n",
       "      <td>...</td>\n",
       "      <td>...</td>\n",
       "      <td>...</td>\n",
       "      <td>...</td>\n",
       "      <td>...</td>\n",
       "      <td>...</td>\n",
       "      <td>...</td>\n",
       "    </tr>\n",
       "    <tr>\n",
       "      <th>609</th>\n",
       "      <td>2</td>\n",
       "      <td>2</td>\n",
       "      <td>0</td>\n",
       "      <td>1</td>\n",
       "      <td>2</td>\n",
       "      <td>2900</td>\n",
       "      <td>0.0</td>\n",
       "      <td>71.0</td>\n",
       "      <td>360.0</td>\n",
       "      <td>1.0</td>\n",
       "      <td>1</td>\n",
       "      <td>1</td>\n",
       "    </tr>\n",
       "    <tr>\n",
       "      <th>610</th>\n",
       "      <td>1</td>\n",
       "      <td>1</td>\n",
       "      <td>3</td>\n",
       "      <td>1</td>\n",
       "      <td>2</td>\n",
       "      <td>4106</td>\n",
       "      <td>0.0</td>\n",
       "      <td>40.0</td>\n",
       "      <td>180.0</td>\n",
       "      <td>1.0</td>\n",
       "      <td>1</td>\n",
       "      <td>1</td>\n",
       "    </tr>\n",
       "    <tr>\n",
       "      <th>611</th>\n",
       "      <td>1</td>\n",
       "      <td>1</td>\n",
       "      <td>1</td>\n",
       "      <td>1</td>\n",
       "      <td>2</td>\n",
       "      <td>8072</td>\n",
       "      <td>240.0</td>\n",
       "      <td>253.0</td>\n",
       "      <td>360.0</td>\n",
       "      <td>1.0</td>\n",
       "      <td>3</td>\n",
       "      <td>1</td>\n",
       "    </tr>\n",
       "    <tr>\n",
       "      <th>612</th>\n",
       "      <td>1</td>\n",
       "      <td>1</td>\n",
       "      <td>2</td>\n",
       "      <td>1</td>\n",
       "      <td>2</td>\n",
       "      <td>7583</td>\n",
       "      <td>0.0</td>\n",
       "      <td>187.0</td>\n",
       "      <td>360.0</td>\n",
       "      <td>1.0</td>\n",
       "      <td>3</td>\n",
       "      <td>1</td>\n",
       "    </tr>\n",
       "    <tr>\n",
       "      <th>613</th>\n",
       "      <td>2</td>\n",
       "      <td>2</td>\n",
       "      <td>0</td>\n",
       "      <td>1</td>\n",
       "      <td>1</td>\n",
       "      <td>4583</td>\n",
       "      <td>0.0</td>\n",
       "      <td>133.0</td>\n",
       "      <td>360.0</td>\n",
       "      <td>0.0</td>\n",
       "      <td>2</td>\n",
       "      <td>0</td>\n",
       "    </tr>\n",
       "  </tbody>\n",
       "</table>\n",
       "<p>614 rows × 12 columns</p>\n",
       "</div>"
      ],
      "text/plain": [
       "     Gender  Married  Dependents  Education  Self_Employed  Applicant_Income  \\\n",
       "0         1        2           0          1              2              5849   \n",
       "1         1        1           1          1              2              4583   \n",
       "2         1        1           0          1              1              3000   \n",
       "3         1        1           0          2              2              2583   \n",
       "4         1        2           0          1              2              6000   \n",
       "..      ...      ...         ...        ...            ...               ...   \n",
       "609       2        2           0          1              2              2900   \n",
       "610       1        1           3          1              2              4106   \n",
       "611       1        1           1          1              2              8072   \n",
       "612       1        1           2          1              2              7583   \n",
       "613       2        2           0          1              1              4583   \n",
       "\n",
       "     Co_Applicant_Income  Loan_Amount  Loan_Amount_Term  Credit_History  \\\n",
       "0                    0.0        120.0             360.0             1.0   \n",
       "1                 1508.0        128.0             360.0             1.0   \n",
       "2                    0.0         66.0             360.0             1.0   \n",
       "3                 2358.0        120.0             360.0             1.0   \n",
       "4                    0.0        141.0             360.0             1.0   \n",
       "..                   ...          ...               ...             ...   \n",
       "609                  0.0         71.0             360.0             1.0   \n",
       "610                  0.0         40.0             180.0             1.0   \n",
       "611                240.0        253.0             360.0             1.0   \n",
       "612                  0.0        187.0             360.0             1.0   \n",
       "613                  0.0        133.0             360.0             0.0   \n",
       "\n",
       "     Property_Area  Loan_Status  \n",
       "0                3            1  \n",
       "1                1            0  \n",
       "2                3            1  \n",
       "3                3            1  \n",
       "4                3            1  \n",
       "..             ...          ...  \n",
       "609              1            1  \n",
       "610              1            1  \n",
       "611              3            1  \n",
       "612              3            1  \n",
       "613              2            0  \n",
       "\n",
       "[614 rows x 12 columns]"
      ]
     },
     "execution_count": 23,
     "metadata": {},
     "output_type": "execute_result"
    }
   ],
   "source": [
    "df"
   ]
  },
  {
   "cell_type": "code",
   "execution_count": 24,
   "id": "44499896",
   "metadata": {},
   "outputs": [
    {
     "data": {
      "text/html": [
       "<div>\n",
       "<style scoped>\n",
       "    .dataframe tbody tr th:only-of-type {\n",
       "        vertical-align: middle;\n",
       "    }\n",
       "\n",
       "    .dataframe tbody tr th {\n",
       "        vertical-align: top;\n",
       "    }\n",
       "\n",
       "    .dataframe thead th {\n",
       "        text-align: right;\n",
       "    }\n",
       "</style>\n",
       "<table border=\"1\" class=\"dataframe\">\n",
       "  <thead>\n",
       "    <tr style=\"text-align: right;\">\n",
       "      <th></th>\n",
       "      <th>Gender</th>\n",
       "      <th>Married</th>\n",
       "      <th>Dependents</th>\n",
       "      <th>Education</th>\n",
       "      <th>Self_Employed</th>\n",
       "      <th>Applicant_Income</th>\n",
       "      <th>Co_Applicant_Income</th>\n",
       "      <th>Loan_Amount</th>\n",
       "      <th>Loan_Amount_Term</th>\n",
       "      <th>Credit_History</th>\n",
       "      <th>Property_Area</th>\n",
       "      <th>Loan_Status</th>\n",
       "    </tr>\n",
       "  </thead>\n",
       "  <tbody>\n",
       "    <tr>\n",
       "      <th>Gender</th>\n",
       "      <td>1.000000</td>\n",
       "      <td>0.364569</td>\n",
       "      <td>-0.172914</td>\n",
       "      <td>-0.045364</td>\n",
       "      <td>-0.000525</td>\n",
       "      <td>-0.058809</td>\n",
       "      <td>-0.082912</td>\n",
       "      <td>-0.106404</td>\n",
       "      <td>0.074030</td>\n",
       "      <td>-0.009170</td>\n",
       "      <td>0.025752</td>\n",
       "      <td>-0.017987</td>\n",
       "    </tr>\n",
       "    <tr>\n",
       "      <th>Married</th>\n",
       "      <td>0.364569</td>\n",
       "      <td>1.000000</td>\n",
       "      <td>-0.334216</td>\n",
       "      <td>-0.012304</td>\n",
       "      <td>0.004489</td>\n",
       "      <td>-0.051708</td>\n",
       "      <td>-0.075948</td>\n",
       "      <td>-0.146212</td>\n",
       "      <td>0.100912</td>\n",
       "      <td>-0.010938</td>\n",
       "      <td>-0.004257</td>\n",
       "      <td>-0.091478</td>\n",
       "    </tr>\n",
       "    <tr>\n",
       "      <th>Dependents</th>\n",
       "      <td>-0.172914</td>\n",
       "      <td>-0.334216</td>\n",
       "      <td>1.000000</td>\n",
       "      <td>0.055752</td>\n",
       "      <td>-0.056798</td>\n",
       "      <td>0.118202</td>\n",
       "      <td>0.030430</td>\n",
       "      <td>0.163017</td>\n",
       "      <td>-0.103864</td>\n",
       "      <td>-0.040160</td>\n",
       "      <td>-0.000244</td>\n",
       "      <td>0.010118</td>\n",
       "    </tr>\n",
       "    <tr>\n",
       "      <th>Education</th>\n",
       "      <td>-0.045364</td>\n",
       "      <td>-0.012304</td>\n",
       "      <td>0.055752</td>\n",
       "      <td>1.000000</td>\n",
       "      <td>0.010383</td>\n",
       "      <td>-0.140760</td>\n",
       "      <td>-0.062290</td>\n",
       "      <td>-0.169436</td>\n",
       "      <td>-0.073928</td>\n",
       "      <td>-0.073658</td>\n",
       "      <td>-0.065243</td>\n",
       "      <td>-0.085884</td>\n",
       "    </tr>\n",
       "    <tr>\n",
       "      <th>Self_Employed</th>\n",
       "      <td>-0.000525</td>\n",
       "      <td>0.004489</td>\n",
       "      <td>-0.056798</td>\n",
       "      <td>0.010383</td>\n",
       "      <td>1.000000</td>\n",
       "      <td>-0.127180</td>\n",
       "      <td>0.016100</td>\n",
       "      <td>-0.114971</td>\n",
       "      <td>0.033739</td>\n",
       "      <td>0.001550</td>\n",
       "      <td>0.030860</td>\n",
       "      <td>0.003700</td>\n",
       "    </tr>\n",
       "    <tr>\n",
       "      <th>Applicant_Income</th>\n",
       "      <td>-0.058809</td>\n",
       "      <td>-0.051708</td>\n",
       "      <td>0.118202</td>\n",
       "      <td>-0.140760</td>\n",
       "      <td>-0.127180</td>\n",
       "      <td>1.000000</td>\n",
       "      <td>-0.116605</td>\n",
       "      <td>0.564698</td>\n",
       "      <td>-0.046531</td>\n",
       "      <td>-0.018615</td>\n",
       "      <td>-0.009500</td>\n",
       "      <td>-0.004710</td>\n",
       "    </tr>\n",
       "    <tr>\n",
       "      <th>Co_Applicant_Income</th>\n",
       "      <td>-0.082912</td>\n",
       "      <td>-0.075948</td>\n",
       "      <td>0.030430</td>\n",
       "      <td>-0.062290</td>\n",
       "      <td>0.016100</td>\n",
       "      <td>-0.116605</td>\n",
       "      <td>1.000000</td>\n",
       "      <td>0.189723</td>\n",
       "      <td>-0.059383</td>\n",
       "      <td>0.011134</td>\n",
       "      <td>0.010522</td>\n",
       "      <td>-0.059187</td>\n",
       "    </tr>\n",
       "    <tr>\n",
       "      <th>Loan_Amount</th>\n",
       "      <td>-0.106404</td>\n",
       "      <td>-0.146212</td>\n",
       "      <td>0.163017</td>\n",
       "      <td>-0.169436</td>\n",
       "      <td>-0.114971</td>\n",
       "      <td>0.564698</td>\n",
       "      <td>0.189723</td>\n",
       "      <td>1.000000</td>\n",
       "      <td>0.037152</td>\n",
       "      <td>-0.000250</td>\n",
       "      <td>-0.047414</td>\n",
       "      <td>-0.031808</td>\n",
       "    </tr>\n",
       "    <tr>\n",
       "      <th>Loan_Amount_Term</th>\n",
       "      <td>0.074030</td>\n",
       "      <td>0.100912</td>\n",
       "      <td>-0.103864</td>\n",
       "      <td>-0.073928</td>\n",
       "      <td>0.033739</td>\n",
       "      <td>-0.046531</td>\n",
       "      <td>-0.059383</td>\n",
       "      <td>0.037152</td>\n",
       "      <td>1.000000</td>\n",
       "      <td>-0.004705</td>\n",
       "      <td>-0.076120</td>\n",
       "      <td>-0.022549</td>\n",
       "    </tr>\n",
       "    <tr>\n",
       "      <th>Credit_History</th>\n",
       "      <td>-0.009170</td>\n",
       "      <td>-0.010938</td>\n",
       "      <td>-0.040160</td>\n",
       "      <td>-0.073658</td>\n",
       "      <td>0.001550</td>\n",
       "      <td>-0.018615</td>\n",
       "      <td>0.011134</td>\n",
       "      <td>-0.000250</td>\n",
       "      <td>-0.004705</td>\n",
       "      <td>1.000000</td>\n",
       "      <td>0.001963</td>\n",
       "      <td>0.540556</td>\n",
       "    </tr>\n",
       "    <tr>\n",
       "      <th>Property_Area</th>\n",
       "      <td>0.025752</td>\n",
       "      <td>-0.004257</td>\n",
       "      <td>-0.000244</td>\n",
       "      <td>-0.065243</td>\n",
       "      <td>0.030860</td>\n",
       "      <td>-0.009500</td>\n",
       "      <td>0.010522</td>\n",
       "      <td>-0.047414</td>\n",
       "      <td>-0.076120</td>\n",
       "      <td>0.001963</td>\n",
       "      <td>1.000000</td>\n",
       "      <td>0.032112</td>\n",
       "    </tr>\n",
       "    <tr>\n",
       "      <th>Loan_Status</th>\n",
       "      <td>-0.017987</td>\n",
       "      <td>-0.091478</td>\n",
       "      <td>0.010118</td>\n",
       "      <td>-0.085884</td>\n",
       "      <td>0.003700</td>\n",
       "      <td>-0.004710</td>\n",
       "      <td>-0.059187</td>\n",
       "      <td>-0.031808</td>\n",
       "      <td>-0.022549</td>\n",
       "      <td>0.540556</td>\n",
       "      <td>0.032112</td>\n",
       "      <td>1.000000</td>\n",
       "    </tr>\n",
       "  </tbody>\n",
       "</table>\n",
       "</div>"
      ],
      "text/plain": [
       "                       Gender   Married  Dependents  Education  Self_Employed  \\\n",
       "Gender               1.000000  0.364569   -0.172914  -0.045364      -0.000525   \n",
       "Married              0.364569  1.000000   -0.334216  -0.012304       0.004489   \n",
       "Dependents          -0.172914 -0.334216    1.000000   0.055752      -0.056798   \n",
       "Education           -0.045364 -0.012304    0.055752   1.000000       0.010383   \n",
       "Self_Employed       -0.000525  0.004489   -0.056798   0.010383       1.000000   \n",
       "Applicant_Income    -0.058809 -0.051708    0.118202  -0.140760      -0.127180   \n",
       "Co_Applicant_Income -0.082912 -0.075948    0.030430  -0.062290       0.016100   \n",
       "Loan_Amount         -0.106404 -0.146212    0.163017  -0.169436      -0.114971   \n",
       "Loan_Amount_Term     0.074030  0.100912   -0.103864  -0.073928       0.033739   \n",
       "Credit_History      -0.009170 -0.010938   -0.040160  -0.073658       0.001550   \n",
       "Property_Area        0.025752 -0.004257   -0.000244  -0.065243       0.030860   \n",
       "Loan_Status         -0.017987 -0.091478    0.010118  -0.085884       0.003700   \n",
       "\n",
       "                     Applicant_Income  Co_Applicant_Income  Loan_Amount  \\\n",
       "Gender                      -0.058809            -0.082912    -0.106404   \n",
       "Married                     -0.051708            -0.075948    -0.146212   \n",
       "Dependents                   0.118202             0.030430     0.163017   \n",
       "Education                   -0.140760            -0.062290    -0.169436   \n",
       "Self_Employed               -0.127180             0.016100    -0.114971   \n",
       "Applicant_Income             1.000000            -0.116605     0.564698   \n",
       "Co_Applicant_Income         -0.116605             1.000000     0.189723   \n",
       "Loan_Amount                  0.564698             0.189723     1.000000   \n",
       "Loan_Amount_Term            -0.046531            -0.059383     0.037152   \n",
       "Credit_History              -0.018615             0.011134    -0.000250   \n",
       "Property_Area               -0.009500             0.010522    -0.047414   \n",
       "Loan_Status                 -0.004710            -0.059187    -0.031808   \n",
       "\n",
       "                     Loan_Amount_Term  Credit_History  Property_Area  \\\n",
       "Gender                       0.074030       -0.009170       0.025752   \n",
       "Married                      0.100912       -0.010938      -0.004257   \n",
       "Dependents                  -0.103864       -0.040160      -0.000244   \n",
       "Education                   -0.073928       -0.073658      -0.065243   \n",
       "Self_Employed                0.033739        0.001550       0.030860   \n",
       "Applicant_Income            -0.046531       -0.018615      -0.009500   \n",
       "Co_Applicant_Income         -0.059383        0.011134       0.010522   \n",
       "Loan_Amount                  0.037152       -0.000250      -0.047414   \n",
       "Loan_Amount_Term             1.000000       -0.004705      -0.076120   \n",
       "Credit_History              -0.004705        1.000000       0.001963   \n",
       "Property_Area               -0.076120        0.001963       1.000000   \n",
       "Loan_Status                 -0.022549        0.540556       0.032112   \n",
       "\n",
       "                     Loan_Status  \n",
       "Gender                 -0.017987  \n",
       "Married                -0.091478  \n",
       "Dependents              0.010118  \n",
       "Education              -0.085884  \n",
       "Self_Employed           0.003700  \n",
       "Applicant_Income       -0.004710  \n",
       "Co_Applicant_Income    -0.059187  \n",
       "Loan_Amount            -0.031808  \n",
       "Loan_Amount_Term       -0.022549  \n",
       "Credit_History          0.540556  \n",
       "Property_Area           0.032112  \n",
       "Loan_Status             1.000000  "
      ]
     },
     "execution_count": 24,
     "metadata": {},
     "output_type": "execute_result"
    }
   ],
   "source": [
    "df.corr()\n"
   ]
  },
  {
   "cell_type": "code",
   "execution_count": 25,
   "id": "72a0dc80",
   "metadata": {},
   "outputs": [
    {
     "data": {
      "image/png": "[encoded data removed]",
      "text/plain": [
       "<Figure size 864x576 with 2 Axes>"
      ]
     },
     "metadata": {
      "needs_background": "light"
     },
     "output_type": "display_data"
    }
   ],
   "source": [
    "plt.figure(figsize=(12,8))\n",
    "# using the upper triangle matrix as mask \n",
    "matrix = np.triu(df.corr())\n",
    "\n",
    "sns.heatmap(df.corr(), cmap =\"coolwarm\", annot=True, mask=matrix);"
   ]
  },
  {
   "cell_type": "code",
   "execution_count": 26,
   "id": "b060f078",
   "metadata": {},
   "outputs": [
    {
     "ename": "NameError",
     "evalue": "name 'df1' is not defined",
     "output_type": "error",
     "traceback": [
      "\u001b[1;31m---------------------------------------------------------------------------\u001b[0m",
      "\u001b[1;31mNameError\u001b[0m                                 Traceback (most recent call last)",
      "Input \u001b[1;32mIn [26]\u001b[0m, in \u001b[0;36m<cell line: 1>\u001b[1;34m()\u001b[0m\n\u001b[1;32m----> 1\u001b[0m \u001b[43mdf1\u001b[49m\u001b[38;5;241m.\u001b[39mcorr()[\u001b[38;5;124m\"\u001b[39m\u001b[38;5;124mLoan_Status\u001b[39m\u001b[38;5;124m\"\u001b[39m]\u001b[38;5;241m.\u001b[39msort_values(ascending \u001b[38;5;241m=\u001b[39m \u001b[38;5;28;01mFalse\u001b[39;00m)\u001b[38;5;241m.\u001b[39mindex\n",
      "\u001b[1;31mNameError\u001b[0m: name 'df1' is not defined"
     ]
    }
   ],
   "source": [
    "df1.corr()[\"Loan_Status\"].sort_values(ascending = False).index"
   ]
  },
  {
   "cell_type": "code",
   "execution_count": 27,
   "id": "8f2aeffa",
   "metadata": {},
   "outputs": [
    {
     "data": {
      "image/png": "[encoded data removed]",
      "text/plain": [
       "<Figure size 1152x720 with 12 Axes>"
      ]
     },
     "metadata": {
      "needs_background": "light"
     },
     "output_type": "display_data"
    }
   ],
   "source": [
    "df.hist(figsize=[16,10]);"
   ]
  },
  {
   "cell_type": "markdown",
   "id": "1f638aaf",
   "metadata": {},
   "source": [
    "**Checking the columns skewness**"
   ]
  },
  {
   "cell_type": "code",
   "execution_count": 28,
   "id": "b2f6ba51",
   "metadata": {},
   "outputs": [
    {
     "data": {
      "text/plain": [
       "Gender                 1.648795\n",
       "Married                0.644850\n",
       "Dependents             1.015551\n",
       "Education              1.367622\n",
       "Self_Employed         -2.159796\n",
       "Applicant_Income       6.539513\n",
       "Co_Applicant_Income    7.491531\n",
       "Loan_Amount            2.745407\n",
       "Loan_Amount_Term      -2.402112\n",
       "Credit_History        -2.021971\n",
       "Property_Area         -0.066196\n",
       "Loan_Status           -0.809998\n",
       "dtype: float64"
      ]
     },
     "execution_count": 28,
     "metadata": {},
     "output_type": "execute_result"
    }
   ],
   "source": [
    "df.skew(axis = 0, skipna = True)"
   ]
  },
  {
   "cell_type": "markdown",
   "id": "dda6794c",
   "metadata": {},
   "source": [
    "The dataset has numerical and categorical columns, so I transformed the categorical columns manually to numerical so i can draw proper insight from the data and it's skewness. The columns don't really have strong correlations, only the Credit_History has a strong correlation with Loan_Status. The columns doesn't have high skewness so there's no point to treat skewness."
   ]
  },
  {
   "cell_type": "markdown",
   "id": "3e97a8cd",
   "metadata": {},
   "source": [
    "**Dropping the target variable**"
   ]
  },
  {
   "cell_type": "code",
   "execution_count": 29,
   "id": "111a0e7f",
   "metadata": {},
   "outputs": [],
   "source": [
    "raw_df = df[\"Loan_Status\"]\n",
    "df1 = df.copy()\n",
    "df.drop(\"Loan_Status\" , axis = 1, inplace = True)"
   ]
  },
  {
   "cell_type": "code",
   "execution_count": 30,
   "id": "03580c70",
   "metadata": {},
   "outputs": [
    {
     "data": {
      "text/html": [
       "<div>\n",
       "<style scoped>\n",
       "    .dataframe tbody tr th:only-of-type {\n",
       "        vertical-align: middle;\n",
       "    }\n",
       "\n",
       "    .dataframe tbody tr th {\n",
       "        vertical-align: top;\n",
       "    }\n",
       "\n",
       "    .dataframe thead th {\n",
       "        text-align: right;\n",
       "    }\n",
       "</style>\n",
       "<table border=\"1\" class=\"dataframe\">\n",
       "  <thead>\n",
       "    <tr style=\"text-align: right;\">\n",
       "      <th></th>\n",
       "      <th>Gender</th>\n",
       "      <th>Married</th>\n",
       "      <th>Dependents</th>\n",
       "      <th>Education</th>\n",
       "      <th>Self_Employed</th>\n",
       "      <th>Applicant_Income</th>\n",
       "      <th>Co_Applicant_Income</th>\n",
       "      <th>Loan_Amount</th>\n",
       "      <th>Loan_Amount_Term</th>\n",
       "      <th>Credit_History</th>\n",
       "      <th>Property_Area</th>\n",
       "    </tr>\n",
       "  </thead>\n",
       "  <tbody>\n",
       "    <tr>\n",
       "      <th>0</th>\n",
       "      <td>1</td>\n",
       "      <td>2</td>\n",
       "      <td>0</td>\n",
       "      <td>1</td>\n",
       "      <td>2</td>\n",
       "      <td>5849</td>\n",
       "      <td>0.0</td>\n",
       "      <td>120.0</td>\n",
       "      <td>360.0</td>\n",
       "      <td>1.0</td>\n",
       "      <td>3</td>\n",
       "    </tr>\n",
       "    <tr>\n",
       "      <th>1</th>\n",
       "      <td>1</td>\n",
       "      <td>1</td>\n",
       "      <td>1</td>\n",
       "      <td>1</td>\n",
       "      <td>2</td>\n",
       "      <td>4583</td>\n",
       "      <td>1508.0</td>\n",
       "      <td>128.0</td>\n",
       "      <td>360.0</td>\n",
       "      <td>1.0</td>\n",
       "      <td>1</td>\n",
       "    </tr>\n",
       "    <tr>\n",
       "      <th>2</th>\n",
       "      <td>1</td>\n",
       "      <td>1</td>\n",
       "      <td>0</td>\n",
       "      <td>1</td>\n",
       "      <td>1</td>\n",
       "      <td>3000</td>\n",
       "      <td>0.0</td>\n",
       "      <td>66.0</td>\n",
       "      <td>360.0</td>\n",
       "      <td>1.0</td>\n",
       "      <td>3</td>\n",
       "    </tr>\n",
       "    <tr>\n",
       "      <th>3</th>\n",
       "      <td>1</td>\n",
       "      <td>1</td>\n",
       "      <td>0</td>\n",
       "      <td>2</td>\n",
       "      <td>2</td>\n",
       "      <td>2583</td>\n",
       "      <td>2358.0</td>\n",
       "      <td>120.0</td>\n",
       "      <td>360.0</td>\n",
       "      <td>1.0</td>\n",
       "      <td>3</td>\n",
       "    </tr>\n",
       "    <tr>\n",
       "      <th>4</th>\n",
       "      <td>1</td>\n",
       "      <td>2</td>\n",
       "      <td>0</td>\n",
       "      <td>1</td>\n",
       "      <td>2</td>\n",
       "      <td>6000</td>\n",
       "      <td>0.0</td>\n",
       "      <td>141.0</td>\n",
       "      <td>360.0</td>\n",
       "      <td>1.0</td>\n",
       "      <td>3</td>\n",
       "    </tr>\n",
       "  </tbody>\n",
       "</table>\n",
       "</div>"
      ],
      "text/plain": [
       "   Gender  Married  Dependents  Education  Self_Employed  Applicant_Income  \\\n",
       "0       1        2           0          1              2              5849   \n",
       "1       1        1           1          1              2              4583   \n",
       "2       1        1           0          1              1              3000   \n",
       "3       1        1           0          2              2              2583   \n",
       "4       1        2           0          1              2              6000   \n",
       "\n",
       "   Co_Applicant_Income  Loan_Amount  Loan_Amount_Term  Credit_History  \\\n",
       "0                  0.0        120.0             360.0             1.0   \n",
       "1               1508.0        128.0             360.0             1.0   \n",
       "2                  0.0         66.0             360.0             1.0   \n",
       "3               2358.0        120.0             360.0             1.0   \n",
       "4                  0.0        141.0             360.0             1.0   \n",
       "\n",
       "   Property_Area  \n",
       "0              3  \n",
       "1              1  \n",
       "2              3  \n",
       "3              3  \n",
       "4              3  "
      ]
     },
     "execution_count": 30,
     "metadata": {},
     "output_type": "execute_result"
    }
   ],
   "source": [
    "df.head()"
   ]
  },
  {
   "cell_type": "code",
   "execution_count": 31,
   "id": "39add7c1",
   "metadata": {},
   "outputs": [
    {
     "data": {
      "text/html": [
       "<div>\n",
       "<style scoped>\n",
       "    .dataframe tbody tr th:only-of-type {\n",
       "        vertical-align: middle;\n",
       "    }\n",
       "\n",
       "    .dataframe tbody tr th {\n",
       "        vertical-align: top;\n",
       "    }\n",
       "\n",
       "    .dataframe thead th {\n",
       "        text-align: right;\n",
       "    }\n",
       "</style>\n",
       "<table border=\"1\" class=\"dataframe\">\n",
       "  <thead>\n",
       "    <tr style=\"text-align: right;\">\n",
       "      <th></th>\n",
       "      <th>Gender</th>\n",
       "      <th>Married</th>\n",
       "      <th>Dependents</th>\n",
       "      <th>Education</th>\n",
       "      <th>Self_Employed</th>\n",
       "      <th>Applicant_Income</th>\n",
       "      <th>Co_Applicant_Income</th>\n",
       "      <th>Loan_Amount</th>\n",
       "      <th>Loan_Amount_Term</th>\n",
       "      <th>Credit_History</th>\n",
       "      <th>Property_Area</th>\n",
       "      <th>Loan_Status</th>\n",
       "    </tr>\n",
       "  </thead>\n",
       "  <tbody>\n",
       "    <tr>\n",
       "      <th>0</th>\n",
       "      <td>1</td>\n",
       "      <td>2</td>\n",
       "      <td>0</td>\n",
       "      <td>1</td>\n",
       "      <td>2</td>\n",
       "      <td>5849</td>\n",
       "      <td>0.0</td>\n",
       "      <td>120.0</td>\n",
       "      <td>360.0</td>\n",
       "      <td>1.0</td>\n",
       "      <td>3</td>\n",
       "      <td>1</td>\n",
       "    </tr>\n",
       "    <tr>\n",
       "      <th>1</th>\n",
       "      <td>1</td>\n",
       "      <td>1</td>\n",
       "      <td>1</td>\n",
       "      <td>1</td>\n",
       "      <td>2</td>\n",
       "      <td>4583</td>\n",
       "      <td>1508.0</td>\n",
       "      <td>128.0</td>\n",
       "      <td>360.0</td>\n",
       "      <td>1.0</td>\n",
       "      <td>1</td>\n",
       "      <td>0</td>\n",
       "    </tr>\n",
       "    <tr>\n",
       "      <th>2</th>\n",
       "      <td>1</td>\n",
       "      <td>1</td>\n",
       "      <td>0</td>\n",
       "      <td>1</td>\n",
       "      <td>1</td>\n",
       "      <td>3000</td>\n",
       "      <td>0.0</td>\n",
       "      <td>66.0</td>\n",
       "      <td>360.0</td>\n",
       "      <td>1.0</td>\n",
       "      <td>3</td>\n",
       "      <td>1</td>\n",
       "    </tr>\n",
       "    <tr>\n",
       "      <th>3</th>\n",
       "      <td>1</td>\n",
       "      <td>1</td>\n",
       "      <td>0</td>\n",
       "      <td>2</td>\n",
       "      <td>2</td>\n",
       "      <td>2583</td>\n",
       "      <td>2358.0</td>\n",
       "      <td>120.0</td>\n",
       "      <td>360.0</td>\n",
       "      <td>1.0</td>\n",
       "      <td>3</td>\n",
       "      <td>1</td>\n",
       "    </tr>\n",
       "    <tr>\n",
       "      <th>4</th>\n",
       "      <td>1</td>\n",
       "      <td>2</td>\n",
       "      <td>0</td>\n",
       "      <td>1</td>\n",
       "      <td>2</td>\n",
       "      <td>6000</td>\n",
       "      <td>0.0</td>\n",
       "      <td>141.0</td>\n",
       "      <td>360.0</td>\n",
       "      <td>1.0</td>\n",
       "      <td>3</td>\n",
       "      <td>1</td>\n",
       "    </tr>\n",
       "  </tbody>\n",
       "</table>\n",
       "</div>"
      ],
      "text/plain": [
       "   Gender  Married  Dependents  Education  Self_Employed  Applicant_Income  \\\n",
       "0       1        2           0          1              2              5849   \n",
       "1       1        1           1          1              2              4583   \n",
       "2       1        1           0          1              1              3000   \n",
       "3       1        1           0          2              2              2583   \n",
       "4       1        2           0          1              2              6000   \n",
       "\n",
       "   Co_Applicant_Income  Loan_Amount  Loan_Amount_Term  Credit_History  \\\n",
       "0                  0.0        120.0             360.0             1.0   \n",
       "1               1508.0        128.0             360.0             1.0   \n",
       "2                  0.0         66.0             360.0             1.0   \n",
       "3               2358.0        120.0             360.0             1.0   \n",
       "4                  0.0        141.0             360.0             1.0   \n",
       "\n",
       "   Property_Area  Loan_Status  \n",
       "0              3            1  \n",
       "1              1            0  \n",
       "2              3            1  \n",
       "3              3            1  \n",
       "4              3            1  "
      ]
     },
     "execution_count": 31,
     "metadata": {},
     "output_type": "execute_result"
    }
   ],
   "source": [
    "df1.head()"
   ]
  },
  {
   "cell_type": "markdown",
   "id": "109f016d",
   "metadata": {},
   "source": [
    "**Import Libraries to build Model**"
   ]
  },
  {
   "cell_type": "code",
   "execution_count": 62,
   "id": "00b1d759",
   "metadata": {},
   "outputs": [],
   "source": [
    "from sklearn import tree\n",
    "from sklearn.model_selection import train_test_split\n",
    "from sklearn.tree import DecisionTreeClassifier\n",
    "from sklearn.ensemble import RandomForestClassifier\n",
    "from sklearn.linear_model import LogisticRegression\n",
    "from sklearn.model_selection import train_test_split, GridSearchCV\n",
    "import sklearn.metrics as metrics\n",
    "from sklearn.metrics import accuracy_score, f1_score, confusion_matrix, roc_auc_score, roc_curve, recall_score, precision_score, classification_report\n",
    "from sklearn.svm import SVC\n",
    "\n",
    "from sklearn.pipeline import Pipeline, make_pipeline"
   ]
  },
  {
   "cell_type": "markdown",
   "id": "28dd16f5",
   "metadata": {},
   "source": [
    "**Splitting Data Into Training And Testing**"
   ]
  },
  {
   "cell_type": "code",
   "execution_count": 33,
   "id": "bf07c580",
   "metadata": {},
   "outputs": [],
   "source": [
    "x_train, x_test, y_train, y_test = train_test_split(df, raw_df, test_size = .2)"
   ]
  },
  {
   "cell_type": "code",
   "execution_count": 34,
   "id": "7210f8cb",
   "metadata": {},
   "outputs": [
    {
     "data": {
      "text/plain": [
       "(491, 11)"
      ]
     },
     "execution_count": 34,
     "metadata": {},
     "output_type": "execute_result"
    }
   ],
   "source": [
    "x_train.shape"
   ]
  },
  {
   "cell_type": "code",
   "execution_count": 35,
   "id": "0ec646e5",
   "metadata": {},
   "outputs": [
    {
     "data": {
      "text/plain": [
       "(123, 11)"
      ]
     },
     "execution_count": 35,
     "metadata": {},
     "output_type": "execute_result"
    }
   ],
   "source": [
    "x_test.shape"
   ]
  },
  {
   "cell_type": "markdown",
   "id": "f52caddc",
   "metadata": {},
   "source": [
    "**Using DecisionTreeClassifier**"
   ]
  },
  {
   "cell_type": "code",
   "execution_count": 39,
   "id": "1a6f9a5c",
   "metadata": {
    "scrolled": false
   },
   "outputs": [
    {
     "name": "stdout",
     "output_type": "stream",
     "text": [
      "The model has an accuracy score  of 1.0 on training and 0.7154471544715447 on testing \n"
     ]
    }
   ],
   "source": [
    "DT_Model = DecisionTreeClassifier()\n",
    "DT_Model.fit(x_train, y_train)\n",
    "\n",
    "Model_predict_train = DT_Model.predict(x_train)\n",
    "Model_predict_test = DT_Model.predict(x_test)\n",
    "\n",
    "accuracy_score_train = accuracy_score(Model_predict_train, y_train)\n",
    "accuracy_score_test = accuracy_score(Model_predict_test, y_test)\n",
    "       \n",
    "print (f\"The model has an accuracy score  of {accuracy_score_train} on training and {accuracy_score_test} on testing \")"
   ]
  },
  {
   "cell_type": "code",
   "execution_count": 57,
   "id": "8989966d",
   "metadata": {},
   "outputs": [
    {
     "name": "stdout",
     "output_type": "stream",
     "text": [
      "Precision Score is: 0.784314\n",
      "Recall score is: 0.952381\n",
      "F1 score is: 0.860215\n",
      "[[17 22]\n",
      " [ 4 80]]\n"
     ]
    }
   ],
   "source": [
    "\"\"\"Checking for precision_score\"\"\"\n",
    "# precision tp / (tp + fp)\n",
    "precision = precision_score(y_test, Model_predict_test)\n",
    "print('Precision Score is: %f' % precision)\n",
    "\n",
    "\"\"\"checking for recall score\"\"\"\n",
    "# recall: tp / (tp + fn)\n",
    "recall = recall_score(y_test, Model_predict_test)\n",
    "print('Recall score is: %f' % recall)\n",
    "\n",
    "\"\"\"Checking for f1_score\"\"\"\n",
    "# f1: 2 tp / (2 tp + fp + fn)\n",
    "f1 = f1_score(y_test, Model_predict_test)\n",
    "print('F1 score is: %f' % f1)\n",
    "\n",
    "\"\"\"Checking for confusion_matrix\"\"\"\n",
    "# confusion matrix\n",
    "matrix = confusion_matrix(y_test, Model_predict_test)\n",
    "print(matrix)"
   ]
  },
  {
   "cell_type": "code",
   "execution_count": 262,
   "id": "8fe120d4",
   "metadata": {},
   "outputs": [],
   "source": [
    "Decision_Tree_Result = pd.DataFrame({'y_test':y_test,'prediction':y_predict})\n",
    "Decision_Tree_Result.to_csv(\"Decision_Tree_Result.csv\")"
   ]
  },
  {
   "cell_type": "markdown",
   "id": "739b8aa5",
   "metadata": {},
   "source": [
    "**Checking the Precision, F1 Score, and Recall, and confusion matrix of the Decision Tress Model**\n",
    "\n",
    "The precision score is 0.784314, which means that out of all the samples predicted as positive, 78.43% of them are actually positive.\n",
    "\n",
    "The recall score is 0.952381, which means that out of all the actual positive samples, 95.24% of them were correctly identified as positive by the model.\n",
    "\n",
    "The F1 score is 0.860215, which indicates a good balance between precision and recall.\n",
    "\n",
    "The confusion Metrix shows that there were 17 true negatives (samples that are actually negative and were correctly predicted as negative), 80 true positives (samples that are actually positive and were correctly predicted as positive), 22 false positives (samples that are actually negative but were incorrectly predicted as positive), and 4 false negatives (samples that are actually positive but were incorrectly predicted as negative)."
   ]
  },
  {
   "cell_type": "markdown",
   "id": "e4d360d3",
   "metadata": {},
   "source": [
    "**Using RandomForestClassifier**"
   ]
  },
  {
   "cell_type": "code",
   "execution_count": 50,
   "id": "94994019",
   "metadata": {},
   "outputs": [
    {
     "name": "stdout",
     "output_type": "stream",
     "text": [
      "The model has an accuracy score  of 1.0 on training and 0.7886178861788617 on testing \n"
     ]
    }
   ],
   "source": [
    "RF_Model = RandomForestClassifier()\n",
    "RF_Model.fit(x_train, y_train)\n",
    "\n",
    "Model_predict_train = RF_Model.predict(x_train)\n",
    "Model_predict_test = RF_Model.predict(x_test)\n",
    "\n",
    "accuracy_score_train = accuracy_score(Model_predict_train, y_train)\n",
    "accuracy_score_test = accuracy_score(Model_predict_test, y_test)\n",
    "       \n",
    "print (f\"The model has an accuracy score  of {accuracy_score_train} on training and {accuracy_score_test} on testing \")"
   ]
  },
  {
   "cell_type": "code",
   "execution_count": 58,
   "id": "57b81f44",
   "metadata": {},
   "outputs": [
    {
     "name": "stdout",
     "output_type": "stream",
     "text": [
      "Precision Score is: 0.784314\n",
      "Recall score is: 0.952381\n",
      "F1 score is: 0.860215\n",
      "[[17 22]\n",
      " [ 4 80]]\n"
     ]
    }
   ],
   "source": [
    "\"\"\"Checking for precision_score\"\"\"\n",
    "# precision tp / (tp + fp)\n",
    "precision = precision_score(y_test, Model_predict_test)\n",
    "print('Precision Score is: %f' % precision)\n",
    "\n",
    "\"\"\"checking for recall score\"\"\"\n",
    "# recall: tp / (tp + fn)\n",
    "recall = recall_score(y_test, Model_predict_test)\n",
    "print('Recall score is: %f' % recall)\n",
    "\n",
    "\"\"\"Checking for f1_score\"\"\"\n",
    "# f1: 2 tp / (2 tp + fp + fn)\n",
    "f1 = f1_score(y_test, Model_predict_test)\n",
    "print('F1 score is: %f' % f1)\n",
    "\n",
    "\"\"\"Checking for confusion_matrix\"\"\"\n",
    "# confusion matrix\n",
    "matrix = confusion_matrix(y_test, Model_predict_test)\n",
    "print(matrix)"
   ]
  },
  {
   "cell_type": "markdown",
   "id": "75001f71",
   "metadata": {},
   "source": [
    "**Checking the Precision, F1 Score, and Recall, and confusion matrix of the Random Forest Model**\n",
    "\n",
    "The precision score is 0.784314, which means that out of all the samples predicted as positive, 78.43% of them are actually positive.\n",
    "\n",
    "The recall score is 0.952381, which means that out of all the actual positive samples, 95.24% of them were correctly identified as positive by the model.\n",
    "\n",
    "The F1 score is 0.860215, which indicates a good balance between precision and recall.\n",
    "\n",
    "The confusion Metrix shows that there were 17 true negatives (samples that are actually negative and were correctly predicted as negative), 80 true positives (samples that are actually positive and were correctly predicted as positive), 22 false positives (samples that are actually negative but were incorrectly predicted as positive), and 4 false negatives (samples that are actually positive but were incorrectly predicted as negative)."
   ]
  },
  {
   "cell_type": "code",
   "execution_count": 264,
   "id": "08fc2287",
   "metadata": {},
   "outputs": [],
   "source": [
    "Random_Forest_Result = pd.DataFrame({'y_test':y_test,'prediction':y_predict})\n",
    "Random_Forest_Result.to_csv(\"Random_Forest_Result.csv\")"
   ]
  },
  {
   "cell_type": "markdown",
   "id": "31b3441d",
   "metadata": {},
   "source": [
    "**Using LogisticRegression**"
   ]
  },
  {
   "cell_type": "code",
   "execution_count": 59,
   "id": "1858da1d",
   "metadata": {},
   "outputs": [
    {
     "name": "stdout",
     "output_type": "stream",
     "text": [
      "The model has an accuracy score  of 0.8187372708757638 on training and 0.7886178861788617 on testing \n"
     ]
    }
   ],
   "source": [
    "LG_Model = LogisticRegression()\n",
    "LG_Model.fit(x_train, y_train)\n",
    "\n",
    "Model_predict_train = LG_Model.predict(x_train)\n",
    "Model_predict_test = LG_Model.predict(x_test)\n",
    "\n",
    "accuracy_score_train = accuracy_score(Model_predict_train, y_train)\n",
    "accuracy_score_test = accuracy_score(Model_predict_test, y_test)\n",
    "       \n",
    "print (f\"The model has an accuracy score  of {accuracy_score_train} on training and {accuracy_score_test} on testing \");"
   ]
  },
  {
   "cell_type": "code",
   "execution_count": 60,
   "id": "edd7eda0",
   "metadata": {},
   "outputs": [
    {
     "name": "stdout",
     "output_type": "stream",
     "text": [
      "Precision Score is: 0.773585\n",
      "Recall score is: 0.976190\n",
      "F1 score is: 0.863158\n",
      "[[15 24]\n",
      " [ 2 82]]\n"
     ]
    }
   ],
   "source": [
    "\"\"\"Checking for precision_score\"\"\"\n",
    "# precision tp / (tp + fp)\n",
    "precision = precision_score(y_test, Model_predict_test)\n",
    "print('Precision Score is: %f' % precision)\n",
    "\n",
    "\"\"\"checking for recall score\"\"\"\n",
    "# recall: tp / (tp + fn)\n",
    "recall = recall_score(y_test, Model_predict_test)\n",
    "print('Recall score is: %f' % recall)\n",
    "\n",
    "\"\"\"Checking for f1_score\"\"\"\n",
    "# f1: 2 tp / (2 tp + fp + fn)\n",
    "f1 = f1_score(y_test, Model_predict_test)\n",
    "print('F1 score is: %f' % f1)\n",
    "\n",
    "\"\"\"Checking for confusion_matrix\"\"\"\n",
    "# confusion matrix\n",
    "matrix = confusion_matrix(y_test, Model_predict_test)\n",
    "print(matrix)"
   ]
  },
  {
   "cell_type": "markdown",
   "id": "638d6f06",
   "metadata": {},
   "source": [
    "**Checking the Precision, F1 Score, and Recall, and confusion matrix of the Logistic Regression Model**\n",
    "\n",
    "The precision score is 0.773585, which means that out of all the samples predicted as positive, 77.36% of them are actually positive.\n",
    "\n",
    "The recall score is 0.976190, which means that out of all the actual positive samples, 97.62% of them were correctly identified as positive by the model.\n",
    "\n",
    "The F1 score is 0.863158, which indicates a good balance between precision and recall.\n",
    "\n",
    "The confusion Metrix shows that there were 15 true negatives (samples that are actually negative and were correctly predicted as negative), 82 true positives (samples that are actually positive and were correctly predicted as positive), 24 false positives (samples that are actually negative but were incorrectly predicted as positive), and 2 false negatives (samples that are actually positive but were incorrectly predicted as negative).\n",
    "\n",
    "I think this model has a good performance as evidenced by the high F1 score, high recall score and moderate precision score. However, as suggested my the confusion matrix, I will try to improve the model, particularly in reducing the number of false positives."
   ]
  },
  {
   "cell_type": "code",
   "execution_count": 266,
   "id": "f73c330e",
   "metadata": {},
   "outputs": [],
   "source": [
    "Logistic_Regression_Result = pd.DataFrame({'y_test':y_test,'prediction':y_predict})\n",
    "Logistic_Regression_Result.to_csv(\"Logistic_Regression_Result.csv\")"
   ]
  },
  {
   "cell_type": "markdown",
   "id": "9fd7fc8d",
   "metadata": {},
   "source": [
    "**Checking the Classification Report**"
   ]
  },
  {
   "cell_type": "code",
   "execution_count": 64,
   "id": "fba756c6",
   "metadata": {},
   "outputs": [
    {
     "name": "stdout",
     "output_type": "stream",
     "text": [
      "              precision    recall  f1-score   support\n",
      "\n",
      "           0       0.88      0.38      0.54        39\n",
      "           1       0.77      0.98      0.86        84\n",
      "\n",
      "    accuracy                           0.79       123\n",
      "   macro avg       0.83      0.68      0.70       123\n",
      "weighted avg       0.81      0.79      0.76       123\n",
      "\n"
     ]
    }
   ],
   "source": [
    "print(classification_report(y_test, Model_predict_test))"
   ]
  },
  {
   "cell_type": "markdown",
   "id": "a3df9ca6",
   "metadata": {},
   "source": [
    "Using the Classification Report to summarize the overal performance of a model. This report is based on several performance metrics that are computed for each class (0 and 1).\n",
    "\n",
    "**In Precision Metrics**: for the precision score for class 0 is 0.88, meaning that 88% of the samples that were predicted as positive for class 0 were actually positive. The precision score for class 1 is 0.77, meaning that 77% of the samples that were predicted as positive for class 1 were actually positive.\n",
    "\n",
    "**In Recall Metrics**: the recall score for class 0 is 0.38, meaning that only 38% of the actual positive samples for class 0 were identified as such. The recall score for class 1 is 0.98, meaning that 98% of the actual positive samples for class 1 were identified as such.\n",
    "\n",
    "**In F1-score**: the F1-score for class 0 is 0.54, and the F1-score for class 1 is 0.86.\n",
    "\n",
    "**Support**: This metric represents the number of samples in each class.\n",
    "\n",
    "**In Accuracy**: the accuracy of the model is 0.79, which means that 79% of the samples were correctly classified.\n",
    "\n",
    "**Macro avg**: This is the average of the precision, recall and f1-score across the two classes, weighted equally. In this report, the macro average for precision, recall and f1-score is 0.83, 0.68 and 0.70 respectively.\n",
    "\n",
    "**Weighted avg**: This is the weighted average of the precision, recall and f1-score across the two classes, weighted by the number of samples in each class. In this report, the weighted average for precision, recall and f1-score is 0.81, 0.79 and 0.76 respectively.\n"
   ]
  },
  {
   "cell_type": "markdown",
   "id": "39079edd",
   "metadata": {},
   "source": [
    "#### Conclusion\n",
    "\n",
    "After training and testing the dataset on 3 different Models (DecisionTreeClassifier, RandomForestClassifier, and LogisticRegression). I found out that LogisticRegression has the best accuracy 81.2% on training and 81.3% on testing. \n",
    "\n",
    "Overall, the model appears to have a higher performance for class 1 than class 0. The precision and recall scores for class 1 are high, indicating that the model performs well in identifying positive samples for class 1. However, the model performs poorly in identifying positive samples for class 0. The F1-score, which is a harmonic mean of precision and recall, is higher for class 1, indicating that the model performs better overall for class 1. The weighted average for precision, recall and f1-score indicates that the model has higher precision than recall and the overall performance is moderate."
   ]
  },
  {
   "cell_type": "code",
   "execution_count": null,
   "id": "01fdb0e3",
   "metadata": {},
   "outputs": [],
   "source": []
  },
  {
   "cell_type": "code",
   "execution_count": null,
   "id": "df184dd8",
   "metadata": {},
   "outputs": [],
   "source": []
  }
 ],
 "metadata": {
  "kernelspec": {
   "display_name": "Python 3 (ipykernel)",
   "language": "python",
   "name": "python3"
  },
  "language_info": {
   "codemirror_mode": {
    "name": "ipython",
    "version": 3
   },
   "file_extension": ".py",
   "mimetype": "text/x-python",
   "name": "python",
   "nbconvert_exporter": "python",
   "pygments_lexer": "ipython3",
   "version": "3.9.12"
  }
 },
 "nbformat": 4,
 "nbformat_minor": 5
}
